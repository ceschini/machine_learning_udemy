{
 "cells": [
  {
   "cell_type": "markdown",
   "metadata": {},
   "source": [
    "### Sobre Plotly"
   ]
  },
  {
   "cell_type": "markdown",
   "metadata": {},
   "source": [
    "- Plotly é uma biblioteca de visualização de dados interativa.\n",
    "- Te dá mais poder de interpretação de dados.\n",
    "- É preciso instalar antes de usar"
   ]
  },
  {
   "cell_type": "markdown",
   "metadata": {},
   "source": [
    "Para instalar é preciso rodar cmd e colocar **pip install plotly** e **pip install cufflinks**"
   ]
  },
  {
   "cell_type": "code",
   "execution_count": 18,
   "metadata": {},
   "outputs": [],
   "source": [
    "import pandas as pd\n",
    "import numpy as np\n",
    "import matplotlib.pyplot as plt\n",
    "#matplotlib inline"
   ]
  },
  {
   "cell_type": "code",
   "execution_count": 19,
   "metadata": {},
   "outputs": [],
   "source": [
    "from plotly import __version__"
   ]
  },
  {
   "cell_type": "code",
   "execution_count": 20,
   "metadata": {},
   "outputs": [
    {
     "name": "stdout",
     "output_type": "stream",
     "text": [
      "4.14.1\n"
     ]
    }
   ],
   "source": [
    "print(__version__)"
   ]
  },
  {
   "cell_type": "code",
   "execution_count": 21,
   "metadata": {},
   "outputs": [],
   "source": [
    "# importando bibliotecas free e offline, plotly tem pago e na nuvem tbm\n",
    "from plotly.offline import download_plotlyjs, init_notebook_mode, plot, iplot"
   ]
  },
  {
   "cell_type": "code",
   "execution_count": 22,
   "metadata": {},
   "outputs": [],
   "source": [
    "import cufflinks as cf"
   ]
  },
  {
   "cell_type": "code",
   "execution_count": 23,
   "metadata": {},
   "outputs": [
    {
     "data": {
      "text/html": [
       "        <script type=\"text/javascript\">\n",
       "        window.PlotlyConfig = {MathJaxConfig: 'local'};\n",
       "        if (window.MathJax) {MathJax.Hub.Config({SVG: {font: \"STIX-Web\"}});}\n",
       "        if (typeof require !== 'undefined') {\n",
       "        require.undef(\"plotly\");\n",
       "        requirejs.config({\n",
       "            paths: {\n",
       "                'plotly': ['https://cdn.plot.ly/plotly-latest.min']\n",
       "            }\n",
       "        });\n",
       "        require(['plotly'], function(Plotly) {\n",
       "            window._Plotly = Plotly;\n",
       "        });\n",
       "        }\n",
       "        </script>\n",
       "        "
      ]
     },
     "metadata": {},
     "output_type": "display_data"
    }
   ],
   "source": [
    "# iniciando modo jupyter notebook\n",
    "init_notebook_mode(connected=True)"
   ]
  },
  {
   "cell_type": "code",
   "execution_count": 24,
   "metadata": {},
   "outputs": [
    {
     "data": {
      "text/html": [
       "        <script type=\"text/javascript\">\n",
       "        window.PlotlyConfig = {MathJaxConfig: 'local'};\n",
       "        if (window.MathJax) {MathJax.Hub.Config({SVG: {font: \"STIX-Web\"}});}\n",
       "        if (typeof require !== 'undefined') {\n",
       "        require.undef(\"plotly\");\n",
       "        requirejs.config({\n",
       "            paths: {\n",
       "                'plotly': ['https://cdn.plot.ly/plotly-latest.min']\n",
       "            }\n",
       "        });\n",
       "        require(['plotly'], function(Plotly) {\n",
       "            window._Plotly = Plotly;\n",
       "        });\n",
       "        }\n",
       "        </script>\n",
       "        "
      ]
     },
     "metadata": {},
     "output_type": "display_data"
    }
   ],
   "source": [
    "cf.go_offline()"
   ]
  },
  {
   "cell_type": "code",
   "execution_count": 25,
   "metadata": {},
   "outputs": [],
   "source": [
    "df = pd.DataFrame(np.random.randn(100, 4), columns='A B C D'.split())"
   ]
  },
  {
   "cell_type": "code",
   "execution_count": 26,
   "metadata": {},
   "outputs": [],
   "source": [
    "df2 = pd.DataFrame({'Categoria':['A', 'B', 'C'], 'Valores':[32, 43, 50]})"
   ]
  },
  {
   "cell_type": "code",
   "execution_count": 27,
   "metadata": {},
   "outputs": [
    {
     "data": {
      "text/html": [
       "<div>\n",
       "<style scoped>\n",
       "    .dataframe tbody tr th:only-of-type {\n",
       "        vertical-align: middle;\n",
       "    }\n",
       "\n",
       "    .dataframe tbody tr th {\n",
       "        vertical-align: top;\n",
       "    }\n",
       "\n",
       "    .dataframe thead th {\n",
       "        text-align: right;\n",
       "    }\n",
       "</style>\n",
       "<table border=\"1\" class=\"dataframe\">\n",
       "  <thead>\n",
       "    <tr style=\"text-align: right;\">\n",
       "      <th></th>\n",
       "      <th>Categoria</th>\n",
       "      <th>Valores</th>\n",
       "    </tr>\n",
       "  </thead>\n",
       "  <tbody>\n",
       "    <tr>\n",
       "      <td>0</td>\n",
       "      <td>A</td>\n",
       "      <td>32</td>\n",
       "    </tr>\n",
       "    <tr>\n",
       "      <td>1</td>\n",
       "      <td>B</td>\n",
       "      <td>43</td>\n",
       "    </tr>\n",
       "    <tr>\n",
       "      <td>2</td>\n",
       "      <td>C</td>\n",
       "      <td>50</td>\n",
       "    </tr>\n",
       "  </tbody>\n",
       "</table>\n",
       "</div>"
      ],
      "text/plain": [
       "  Categoria  Valores\n",
       "0         A       32\n",
       "1         B       43\n",
       "2         C       50"
      ]
     },
     "execution_count": 27,
     "metadata": {},
     "output_type": "execute_result"
    }
   ],
   "source": [
    "df2.head()"
   ]
  },
  {
   "cell_type": "code",
   "execution_count": 28,
   "metadata": {},
   "outputs": [
    {
     "data": {
      "text/plain": [
       "<matplotlib.axes._subplots.AxesSubplot at 0x1c8feebbdc8>"
      ]
     },
     "execution_count": 28,
     "metadata": {},
     "output_type": "execute_result"
    },
    {
     "data": {
      "image/png": "[encoded data removed]",
      "text/plain": [
       "<Figure size 432x288 with 1 Axes>"
      ]
     },
     "metadata": {
      "needs_background": "light"
     },
     "output_type": "display_data"
    }
   ],
   "source": [
    "df.plot(kind='scatter', x='A', y='B')"
   ]
  },
  {
   "cell_type": "code",
   "execution_count": 31,
   "metadata": {},
   "outputs": [
    {
     "data": {
      "application/vnd.plotly.v1+json": {
       "config": {
        "linkText": "Export to plot.ly",
        "plotlyServerURL": "https://plot.ly",
        "showLink": true
       },
       "data": [
        {
         "line": {
          "color": "rgba(255, 153, 51, 1.0)",
          "dash": "solid",
          "shape": "linear",
          "width": 1.3
         },
         "marker": {
          "size": 12,
          "symbol": "circle"
         },
         "mode": "markers",
         "name": "B",
         "text": "",
         "type": "scatter",
         "x": [
          -0.08246222777140658,
          0.7173230319183161,
          -1.4831462800247348,
          0.6007188011403605,
          1.289075599445904,
          0.4686184185783867,
          0.9861225102722071,
          -0.46912667007143066,
          1.7361292929950078,
          0.04365889119250256,
          1.2341316458674847,
          0.821179261753058,
          0.510361491783725,
          -0.16508037667801448,
          0.7577534273104339,
          -0.8667901941733359,
          1.3594944902287593,
          -1.1685993739916176,
          1.1105441176779236,
          2.179116305512871,
          -1.0669303473380523,
          -0.4865054709776041,
          2.123010480961304,
          1.122915995141616,
          0.8927499392112277,
          -0.10340193631007873,
          0.40433819829483225,
          1.2572964981158954,
          0.11700900125746119,
          -0.7026845863976289,
          0.44657856814521074,
          -1.1023149498936338,
          -0.14181716320340942,
          -2.203822075626207,
          2.1060253516626544,
          0.16448217726557168,
          -0.6887885110479985,
          -1.5297766193899487,
          0.7306152486007272,
          0.5582213127690169,
          0.7805847071266674,
          -0.4138262329473763,
          0.43877421762173396,
          -0.17113281260598195,
          -0.7723643087741576,
          -0.44972702786652147,
          -0.295278673235866,
          0.17472053263719536,
          -0.07084006961141828,
          0.5598408246345813,
          -0.26184496480996333,
          0.15783441901398237,
          0.31583156191644834,
          0.45716192750797735,
          -1.0532192491323207,
          -0.1131779568506202,
          2.5616936250228277,
          0.19009419833845465,
          -0.5984275457623431,
          0.4745933715997644,
          0.6960874097842701,
          0.626694260308462,
          1.4892579489991618,
          -0.05117752075617346,
          0.4250907181303993,
          0.9739273103422872,
          0.6362806675655954,
          -1.0162423232433264,
          0.9066631371828433,
          -1.679535026651661,
          0.9869659281108462,
          1.3453703943728241,
          0.343490665154001,
          -0.2853841697384442,
          1.6779939042723648,
          -1.4846430813013987,
          1.5382370758376722,
          -0.9330596295665243,
          -1.9920517428997413,
          -0.9116729322213409,
          2.049708236088764,
          0.35325947359296905,
          -1.035379152347821,
          -0.13083975048816482,
          0.691709526438699,
          0.5417778168132682,
          -0.804558538375137,
          -0.08890127612875974,
          0.07238988424715156,
          -1.4480553614844163,
          1.6305803770755345,
          0.23771832739327292,
          -0.24686337911028947,
          0.5418021381378408,
          -0.29289376146775437,
          0.5140535966322717,
          -1.0431412319656117,
          0.9133882773462815,
          1.0012785109207942,
          -0.49528847444847685
         ],
         "y": [
          1.1111034473072832,
          -0.1448844431557348,
          1.1571344678825692,
          -0.10626240679408508,
          1.385864733511222,
          0.7149762195031321,
          -1.0573758968740425,
          1.0574539487727026,
          -2.222754474072913,
          2.4284696770821985,
          1.0720742151354865,
          -0.5569630085600444,
          1.1459078255247408,
          0.5671801108564223,
          0.33437965352964705,
          1.6800543056523491,
          0.8130184539498939,
          0.3923791895424591,
          -0.1478109051442373,
          -0.27264250534607903,
          -2.3603070752410926,
          -0.09465056399925209,
          -0.16768695429951153,
          0.6005046467753621,
          -1.4606720388756242,
          0.020805750462041604,
          1.2075459416868073,
          -0.6242906813930785,
          -0.7358803768729599,
          0.9017616150351392,
          -0.3991437537388995,
          -0.32776950291835794,
          -0.22438021907887182,
          0.6232918558085496,
          1.6581071653903812,
          0.221658524428475,
          0.5054802729992948,
          0.3924249214397845,
          -0.3834916104630957,
          0.8210281067635286,
          -0.6795537047745717,
          0.689084330009526,
          -0.3509889870700068,
          -0.13067820982899972,
          1.0079417817210266,
          1.5822871581780307,
          0.03648810084486005,
          -0.20144946009057205,
          -0.46530592982664754,
          0.9674486407095345,
          -0.6335301718013872,
          -1.3456873791964161,
          1.1446356475185844,
          -0.2728030861444642,
          -1.1462958571876427,
          0.25835325051020475,
          -1.7296771839161211,
          1.4594852118097237,
          0.1915054550087883,
          -1.356662720698125,
          0.2542237467222372,
          -0.09915143340273849,
          0.03812311596193516,
          0.5187740918912463,
          1.9633476519853126,
          1.2259258782036178,
          0.18579717883455807,
          -1.030735908284299,
          -0.7834159013284216,
          0.5652342883426867,
          -1.1402671924265346,
          0.0638021052533395,
          0.536016427642085,
          0.07407370527854598,
          0.3807947892202538,
          0.3204141169258202,
          -0.4004880397199586,
          0.0520054083184649,
          0.8087043708456557,
          -0.8048160281300628,
          0.442047115569308,
          -0.0437189083464173,
          -0.02075425165300876,
          1.2997816110422071,
          -2.059560329775203,
          -1.6002365963146876,
          -1.004666964491864,
          -1.0399111841009054,
          -0.6201334882012222,
          -1.1035481454325704,
          1.0076635158357001,
          -0.27211120070119027,
          1.3233615878152796,
          0.49207215645485736,
          -0.6231562460016906,
          -2.157366560133454,
          0.31259998818320933,
          1.316311665618152,
          -0.1643111499978162,
          0.47819803208043254
         ]
        }
       ],
       "layout": {
        "legend": {
         "bgcolor": "#F5F6F9",
         "font": {
          "color": "#4D5663"
         }
        },
        "paper_bgcolor": "#F5F6F9",
        "plot_bgcolor": "#F5F6F9",
        "template": {
         "data": {
          "bar": [
           {
            "error_x": {
             "color": "#2a3f5f"
            },
            "error_y": {
             "color": "#2a3f5f"
            },
            "marker": {
             "line": {
              "color": "#E5ECF6",
              "width": 0.5
             }
            },
            "type": "bar"
           }
          ],
          "barpolar": [
           {
            "marker": {
             "line": {
              "color": "#E5ECF6",
              "width": 0.5
             }
            },
            "type": "barpolar"
           }
          ],
          "carpet": [
           {
            "aaxis": {
             "endlinecolor": "#2a3f5f",
             "gridcolor": "white",
             "linecolor": "white",
             "minorgridcolor": "white",
             "startlinecolor": "#2a3f5f"
            },
            "baxis": {
             "endlinecolor": "#2a3f5f",
             "gridcolor": "white",
             "linecolor": "white",
             "minorgridcolor": "white",
             "startlinecolor": "#2a3f5f"
            },
            "type": "carpet"
           }
          ],
          "choropleth": [
           {
            "colorbar": {
             "outlinewidth": 0,
             "ticks": ""
            },
            "type": "choropleth"
           }
          ],
          "contour": [
           {
            "colorbar": {
             "outlinewidth": 0,
             "ticks": ""
            },
            "colorscale": [
             [
              0,
              "#0d0887"
             ],
             [
              0.1111111111111111,
              "#46039f"
             ],
             [
              0.2222222222222222,
              "#7201a8"
             ],
             [
              0.3333333333333333,
              "#9c179e"
             ],
             [
              0.4444444444444444,
              "#bd3786"
             ],
             [
              0.5555555555555556,
              "#d8576b"
             ],
             [
              0.6666666666666666,
              "#ed7953"
             ],
             [
              0.7777777777777778,
              "#fb9f3a"
             ],
             [
              0.8888888888888888,
              "#fdca26"
             ],
             [
              1,
              "#f0f921"
             ]
            ],
            "type": "contour"
           }
          ],
          "contourcarpet": [
           {
            "colorbar": {
             "outlinewidth": 0,
             "ticks": ""
            },
            "type": "contourcarpet"
           }
          ],
          "heatmap": [
           {
            "colorbar": {
             "outlinewidth": 0,
             "ticks": ""
            },
            "colorscale": [
             [
              0,
              "#0d0887"
             ],
             [
              0.1111111111111111,
              "#46039f"
             ],
             [
              0.2222222222222222,
              "#7201a8"
             ],
             [
              0.3333333333333333,
              "#9c179e"
             ],
             [
              0.4444444444444444,
              "#bd3786"
             ],
             [
              0.5555555555555556,
              "#d8576b"
             ],
             [
              0.6666666666666666,
              "#ed7953"
             ],
             [
              0.7777777777777778,
              "#fb9f3a"
             ],
             [
              0.8888888888888888,
              "#fdca26"
             ],
             [
              1,
              "#f0f921"
             ]
            ],
            "type": "heatmap"
           }
          ],
          "heatmapgl": [
           {
            "colorbar": {
             "outlinewidth": 0,
             "ticks": ""
            },
            "colorscale": [
             [
              0,
              "#0d0887"
             ],
             [
              0.1111111111111111,
              "#46039f"
             ],
             [
              0.2222222222222222,
              "#7201a8"
             ],
             [
              0.3333333333333333,
              "#9c179e"
             ],
             [
              0.4444444444444444,
              "#bd3786"
             ],
             [
              0.5555555555555556,
              "#d8576b"
             ],
             [
              0.6666666666666666,
              "#ed7953"
             ],
             [
              0.7777777777777778,
              "#fb9f3a"
             ],
             [
              0.8888888888888888,
              "#fdca26"
             ],
             [
              1,
              "#f0f921"
             ]
            ],
            "type": "heatmapgl"
           }
          ],
          "histogram": [
           {
            "marker": {
             "colorbar": {
              "outlinewidth": 0,
              "ticks": ""
             }
            },
            "type": "histogram"
           }
          ],
          "histogram2d": [
           {
            "colorbar": {
             "outlinewidth": 0,
             "ticks": ""
            },
            "colorscale": [
             [
              0,
              "#0d0887"
             ],
             [
              0.1111111111111111,
              "#46039f"
             ],
             [
              0.2222222222222222,
              "#7201a8"
             ],
             [
              0.3333333333333333,
              "#9c179e"
             ],
             [
              0.4444444444444444,
              "#bd3786"
             ],
             [
              0.5555555555555556,
              "#d8576b"
             ],
             [
              0.6666666666666666,
              "#ed7953"
             ],
             [
              0.7777777777777778,
              "#fb9f3a"
             ],
             [
              0.8888888888888888,
              "#fdca26"
             ],
             [
              1,
              "#f0f921"
             ]
            ],
            "type": "histogram2d"
           }
          ],
          "histogram2dcontour": [
           {
            "colorbar": {
             "outlinewidth": 0,
             "ticks": ""
            },
            "colorscale": [
             [
              0,
              "#0d0887"
             ],
             [
              0.1111111111111111,
              "#46039f"
             ],
             [
              0.2222222222222222,
              "#7201a8"
             ],
             [
              0.3333333333333333,
              "#9c179e"
             ],
             [
              0.4444444444444444,
              "#bd3786"
             ],
             [
              0.5555555555555556,
              "#d8576b"
             ],
             [
              0.6666666666666666,
              "#ed7953"
             ],
             [
              0.7777777777777778,
              "#fb9f3a"
             ],
             [
              0.8888888888888888,
              "#fdca26"
             ],
             [
              1,
              "#f0f921"
             ]
            ],
            "type": "histogram2dcontour"
           }
          ],
          "mesh3d": [
           {
            "colorbar": {
             "outlinewidth": 0,
             "ticks": ""
            },
            "type": "mesh3d"
           }
          ],
          "parcoords": [
           {
            "line": {
             "colorbar": {
              "outlinewidth": 0,
              "ticks": ""
             }
            },
            "type": "parcoords"
           }
          ],
          "pie": [
           {
            "automargin": true,
            "type": "pie"
           }
          ],
          "scatter": [
           {
            "marker": {
             "colorbar": {
              "outlinewidth": 0,
              "ticks": ""
             }
            },
            "type": "scatter"
           }
          ],
          "scatter3d": [
           {
            "line": {
             "colorbar": {
              "outlinewidth": 0,
              "ticks": ""
             }
            },
            "marker": {
             "colorbar": {
              "outlinewidth": 0,
              "ticks": ""
             }
            },
            "type": "scatter3d"
           }
          ],
          "scattercarpet": [
           {
            "marker": {
             "colorbar": {
              "outlinewidth": 0,
              "ticks": ""
             }
            },
            "type": "scattercarpet"
           }
          ],
          "scattergeo": [
           {
            "marker": {
             "colorbar": {
              "outlinewidth": 0,
              "ticks": ""
             }
            },
            "type": "scattergeo"
           }
          ],
          "scattergl": [
           {
            "marker": {
             "colorbar": {
              "outlinewidth": 0,
              "ticks": ""
             }
            },
            "type": "scattergl"
           }
          ],
          "scattermapbox": [
           {
            "marker": {
             "colorbar": {
              "outlinewidth": 0,
              "ticks": ""
             }
            },
            "type": "scattermapbox"
           }
          ],
          "scatterpolar": [
           {
            "marker": {
             "colorbar": {
              "outlinewidth": 0,
              "ticks": ""
             }
            },
            "type": "scatterpolar"
           }
          ],
          "scatterpolargl": [
           {
            "marker": {
             "colorbar": {
              "outlinewidth": 0,
              "ticks": ""
             }
            },
            "type": "scatterpolargl"
           }
          ],
          "scatterternary": [
           {
            "marker": {
             "colorbar": {
              "outlinewidth": 0,
              "ticks": ""
             }
            },
            "type": "scatterternary"
           }
          ],
          "surface": [
           {
            "colorbar": {
             "outlinewidth": 0,
             "ticks": ""
            },
            "colorscale": [
             [
              0,
              "#0d0887"
             ],
             [
              0.1111111111111111,
              "#46039f"
             ],
             [
              0.2222222222222222,
              "#7201a8"
             ],
             [
              0.3333333333333333,
              "#9c179e"
             ],
             [
              0.4444444444444444,
              "#bd3786"
             ],
             [
              0.5555555555555556,
              "#d8576b"
             ],
             [
              0.6666666666666666,
              "#ed7953"
             ],
             [
              0.7777777777777778,
              "#fb9f3a"
             ],
             [
              0.8888888888888888,
              "#fdca26"
             ],
             [
              1,
              "#f0f921"
             ]
            ],
            "type": "surface"
           }
          ],
          "table": [
           {
            "cells": {
             "fill": {
              "color": "#EBF0F8"
             },
             "line": {
              "color": "white"
             }
            },
            "header": {
             "fill": {
              "color": "#C8D4E3"
             },
             "line": {
              "color": "white"
             }
            },
            "type": "table"
           }
          ]
         },
         "layout": {
          "annotationdefaults": {
           "arrowcolor": "#2a3f5f",
           "arrowhead": 0,
           "arrowwidth": 1
          },
          "autotypenumbers": "strict",
          "coloraxis": {
           "colorbar": {
            "outlinewidth": 0,
            "ticks": ""
           }
          },
          "colorscale": {
           "diverging": [
            [
             0,
             "#8e0152"
            ],
            [
             0.1,
             "#c51b7d"
            ],
            [
             0.2,
             "#de77ae"
            ],
            [
             0.3,
             "#f1b6da"
            ],
            [
             0.4,
             "#fde0ef"
            ],
            [
             0.5,
             "#f7f7f7"
            ],
            [
             0.6,
             "#e6f5d0"
            ],
            [
             0.7,
             "#b8e186"
            ],
            [
             0.8,
             "#7fbc41"
            ],
            [
             0.9,
             "#4d9221"
            ],
            [
             1,
             "#276419"
            ]
           ],
           "sequential": [
            [
             0,
             "#0d0887"
            ],
            [
             0.1111111111111111,
             "#46039f"
            ],
            [
             0.2222222222222222,
             "#7201a8"
            ],
            [
             0.3333333333333333,
             "#9c179e"
            ],
            [
             0.4444444444444444,
             "#bd3786"
            ],
            [
             0.5555555555555556,
             "#d8576b"
            ],
            [
             0.6666666666666666,
             "#ed7953"
            ],
            [
             0.7777777777777778,
             "#fb9f3a"
            ],
            [
             0.8888888888888888,
             "#fdca26"
            ],
            [
             1,
             "#f0f921"
            ]
           ],
           "sequentialminus": [
            [
             0,
             "#0d0887"
            ],
            [
             0.1111111111111111,
             "#46039f"
            ],
            [
             0.2222222222222222,
             "#7201a8"
            ],
            [
             0.3333333333333333,
             "#9c179e"
            ],
            [
             0.4444444444444444,
             "#bd3786"
            ],
            [
             0.5555555555555556,
             "#d8576b"
            ],
            [
             0.6666666666666666,
             "#ed7953"
            ],
            [
             0.7777777777777778,
             "#fb9f3a"
            ],
            [
             0.8888888888888888,
             "#fdca26"
            ],
            [
             1,
             "#f0f921"
            ]
           ]
          },
          "colorway": [
           "#636efa",
           "#EF553B",
           "#00cc96",
           "#ab63fa",
           "#FFA15A",
           "#19d3f3",
           "#FF6692",
           "#B6E880",
           "#FF97FF",
           "#FECB52"
          ],
          "font": {
           "color": "#2a3f5f"
          },
          "geo": {
           "bgcolor": "white",
           "lakecolor": "white",
           "landcolor": "#E5ECF6",
           "showlakes": true,
           "showland": true,
           "subunitcolor": "white"
          },
          "hoverlabel": {
           "align": "left"
          },
          "hovermode": "closest",
          "mapbox": {
           "style": "light"
          },
          "paper_bgcolor": "white",
          "plot_bgcolor": "#E5ECF6",
          "polar": {
           "angularaxis": {
            "gridcolor": "white",
            "linecolor": "white",
            "ticks": ""
           },
           "bgcolor": "#E5ECF6",
           "radialaxis": {
            "gridcolor": "white",
            "linecolor": "white",
            "ticks": ""
           }
          },
          "scene": {
           "xaxis": {
            "backgroundcolor": "#E5ECF6",
            "gridcolor": "white",
            "gridwidth": 2,
            "linecolor": "white",
            "showbackground": true,
            "ticks": "",
            "zerolinecolor": "white"
           },
           "yaxis": {
            "backgroundcolor": "#E5ECF6",
            "gridcolor": "white",
            "gridwidth": 2,
            "linecolor": "white",
            "showbackground": true,
            "ticks": "",
            "zerolinecolor": "white"
           },
           "zaxis": {
            "backgroundcolor": "#E5ECF6",
            "gridcolor": "white",
            "gridwidth": 2,
            "linecolor": "white",
            "showbackground": true,
            "ticks": "",
            "zerolinecolor": "white"
           }
          },
          "shapedefaults": {
           "line": {
            "color": "#2a3f5f"
           }
          },
          "ternary": {
           "aaxis": {
            "gridcolor": "white",
            "linecolor": "white",
            "ticks": ""
           },
           "baxis": {
            "gridcolor": "white",
            "linecolor": "white",
            "ticks": ""
           },
           "bgcolor": "#E5ECF6",
           "caxis": {
            "gridcolor": "white",
            "linecolor": "white",
            "ticks": ""
           }
          },
          "title": {
           "x": 0.05
          },
          "xaxis": {
           "automargin": true,
           "gridcolor": "white",
           "linecolor": "white",
           "ticks": "",
           "title": {
            "standoff": 15
           },
           "zerolinecolor": "white",
           "zerolinewidth": 2
          },
          "yaxis": {
           "automargin": true,
           "gridcolor": "white",
           "linecolor": "white",
           "ticks": "",
           "title": {
            "standoff": 15
           },
           "zerolinecolor": "white",
           "zerolinewidth": 2
          }
         }
        },
        "title": {
         "font": {
          "color": "#4D5663"
         }
        },
        "xaxis": {
         "gridcolor": "#E1E5ED",
         "showgrid": true,
         "tickfont": {
          "color": "#4D5663"
         },
         "title": {
          "font": {
           "color": "#4D5663"
          },
          "text": ""
         },
         "zerolinecolor": "#E1E5ED"
        },
        "yaxis": {
         "gridcolor": "#E1E5ED",
         "showgrid": true,
         "tickfont": {
          "color": "#4D5663"
         },
         "title": {
          "font": {
           "color": "#4D5663"
          },
          "text": ""
         },
         "zerolinecolor": "#E1E5ED"
        }
       }
      },
      "text/html": [
       "<div>                            <div id=\"240ec560-b4c9-4dee-a066-0420ce0d5f39\" class=\"plotly-graph-div\" style=\"height:525px; width:100%;\"></div>            <script type=\"text/javascript\">                require([\"plotly\"], function(Plotly) {                    window.PLOTLYENV=window.PLOTLYENV || {};\n",
       "                    window.PLOTLYENV.BASE_URL='https://plot.ly';                                    if (document.getElementById(\"240ec560-b4c9-4dee-a066-0420ce0d5f39\")) {                    Plotly.newPlot(                        \"240ec560-b4c9-4dee-a066-0420ce0d5f39\",                        [{\"line\": {\"color\": \"rgba(255, 153, 51, 1.0)\", \"dash\": \"solid\", \"shape\": \"linear\", \"width\": 1.3}, \"marker\": {\"size\": 12, \"symbol\": \"circle\"}, \"mode\": \"markers\", \"name\": \"B\", \"text\": \"\", \"type\": \"scatter\", \"x\": [-0.08246222777140658, 0.7173230319183161, -1.4831462800247348, 0.6007188011403605, 1.289075599445904, 0.4686184185783867, 0.9861225102722071, -0.46912667007143066, 1.7361292929950078, 0.04365889119250256, 1.2341316458674847, 0.821179261753058, 0.510361491783725, -0.16508037667801448, 0.7577534273104339, -0.8667901941733359, 1.3594944902287593, -1.1685993739916176, 1.1105441176779236, 2.179116305512871, -1.0669303473380523, -0.4865054709776041, 2.123010480961304, 1.122915995141616, 0.8927499392112277, -0.10340193631007873, 0.40433819829483225, 1.2572964981158954, 0.11700900125746119, -0.7026845863976289, 0.44657856814521074, -1.1023149498936338, -0.14181716320340942, -2.203822075626207, 2.1060253516626544, 0.16448217726557168, -0.6887885110479985, -1.5297766193899487, 0.7306152486007272, 0.5582213127690169, 0.7805847071266674, -0.4138262329473763, 0.43877421762173396, -0.17113281260598195, -0.7723643087741576, -0.44972702786652147, -0.295278673235866, 0.17472053263719536, -0.07084006961141828, 0.5598408246345813, -0.26184496480996333, 0.15783441901398237, 0.31583156191644834, 0.45716192750797735, -1.0532192491323207, -0.1131779568506202, 2.5616936250228277, 0.19009419833845465, -0.5984275457623431, 0.4745933715997644, 0.6960874097842701, 0.626694260308462, 1.4892579489991618, -0.05117752075617346, 0.4250907181303993, 0.9739273103422872, 0.6362806675655954, -1.0162423232433264, 0.9066631371828433, -1.679535026651661, 0.9869659281108462, 1.3453703943728241, 0.343490665154001, -0.2853841697384442, 1.6779939042723648, -1.4846430813013987, 1.5382370758376722, -0.9330596295665243, -1.9920517428997413, -0.9116729322213409, 2.049708236088764, 0.35325947359296905, -1.035379152347821, -0.13083975048816482, 0.691709526438699, 0.5417778168132682, -0.804558538375137, -0.08890127612875974, 0.07238988424715156, -1.4480553614844163, 1.6305803770755345, 0.23771832739327292, -0.24686337911028947, 0.5418021381378408, -0.29289376146775437, 0.5140535966322717, -1.0431412319656117, 0.9133882773462815, 1.0012785109207942, -0.49528847444847685], \"y\": [1.1111034473072832, -0.1448844431557348, 1.1571344678825692, -0.10626240679408508, 1.385864733511222, 0.7149762195031321, -1.0573758968740425, 1.0574539487727026, -2.222754474072913, 2.4284696770821985, 1.0720742151354865, -0.5569630085600444, 1.1459078255247408, 0.5671801108564223, 0.33437965352964705, 1.6800543056523491, 0.8130184539498939, 0.3923791895424591, -0.1478109051442373, -0.27264250534607903, -2.3603070752410926, -0.09465056399925209, -0.16768695429951153, 0.6005046467753621, -1.4606720388756242, 0.020805750462041604, 1.2075459416868073, -0.6242906813930785, -0.7358803768729599, 0.9017616150351392, -0.3991437537388995, -0.32776950291835794, -0.22438021907887182, 0.6232918558085496, 1.6581071653903812, 0.221658524428475, 0.5054802729992948, 0.3924249214397845, -0.3834916104630957, 0.8210281067635286, -0.6795537047745717, 0.689084330009526, -0.3509889870700068, -0.13067820982899972, 1.0079417817210266, 1.5822871581780307, 0.03648810084486005, -0.20144946009057205, -0.46530592982664754, 0.9674486407095345, -0.6335301718013872, -1.3456873791964161, 1.1446356475185844, -0.2728030861444642, -1.1462958571876427, 0.25835325051020475, -1.7296771839161211, 1.4594852118097237, 0.1915054550087883, -1.356662720698125, 0.2542237467222372, -0.09915143340273849, 0.03812311596193516, 0.5187740918912463, 1.9633476519853126, 1.2259258782036178, 0.18579717883455807, -1.030735908284299, -0.7834159013284216, 0.5652342883426867, -1.1402671924265346, 0.0638021052533395, 0.536016427642085, 0.07407370527854598, 0.3807947892202538, 0.3204141169258202, -0.4004880397199586, 0.0520054083184649, 0.8087043708456557, -0.8048160281300628, 0.442047115569308, -0.0437189083464173, -0.02075425165300876, 1.2997816110422071, -2.059560329775203, -1.6002365963146876, -1.004666964491864, -1.0399111841009054, -0.6201334882012222, -1.1035481454325704, 1.0076635158357001, -0.27211120070119027, 1.3233615878152796, 0.49207215645485736, -0.6231562460016906, -2.157366560133454, 0.31259998818320933, 1.316311665618152, -0.1643111499978162, 0.47819803208043254]}],                        {\"legend\": {\"bgcolor\": \"#F5F6F9\", \"font\": {\"color\": \"#4D5663\"}}, \"paper_bgcolor\": \"#F5F6F9\", \"plot_bgcolor\": \"#F5F6F9\", \"template\": {\"data\": {\"bar\": [{\"error_x\": {\"color\": \"#2a3f5f\"}, \"error_y\": {\"color\": \"#2a3f5f\"}, \"marker\": {\"line\": {\"color\": \"#E5ECF6\", \"width\": 0.5}}, \"type\": \"bar\"}], \"barpolar\": [{\"marker\": {\"line\": {\"color\": \"#E5ECF6\", \"width\": 0.5}}, \"type\": \"barpolar\"}], \"carpet\": [{\"aaxis\": {\"endlinecolor\": \"#2a3f5f\", \"gridcolor\": \"white\", \"linecolor\": \"white\", \"minorgridcolor\": \"white\", \"startlinecolor\": \"#2a3f5f\"}, \"baxis\": {\"endlinecolor\": \"#2a3f5f\", \"gridcolor\": \"white\", \"linecolor\": \"white\", \"minorgridcolor\": \"white\", \"startlinecolor\": \"#2a3f5f\"}, \"type\": \"carpet\"}], \"choropleth\": [{\"colorbar\": {\"outlinewidth\": 0, \"ticks\": \"\"}, \"type\": \"choropleth\"}], \"contour\": [{\"colorbar\": {\"outlinewidth\": 0, \"ticks\": \"\"}, \"colorscale\": [[0.0, \"#0d0887\"], [0.1111111111111111, \"#46039f\"], [0.2222222222222222, \"#7201a8\"], [0.3333333333333333, \"#9c179e\"], [0.4444444444444444, \"#bd3786\"], [0.5555555555555556, \"#d8576b\"], [0.6666666666666666, \"#ed7953\"], [0.7777777777777778, \"#fb9f3a\"], [0.8888888888888888, \"#fdca26\"], [1.0, \"#f0f921\"]], \"type\": \"contour\"}], \"contourcarpet\": [{\"colorbar\": {\"outlinewidth\": 0, \"ticks\": \"\"}, \"type\": \"contourcarpet\"}], \"heatmap\": [{\"colorbar\": {\"outlinewidth\": 0, \"ticks\": \"\"}, \"colorscale\": [[0.0, \"#0d0887\"], [0.1111111111111111, \"#46039f\"], [0.2222222222222222, \"#7201a8\"], [0.3333333333333333, \"#9c179e\"], [0.4444444444444444, \"#bd3786\"], [0.5555555555555556, \"#d8576b\"], [0.6666666666666666, \"#ed7953\"], [0.7777777777777778, \"#fb9f3a\"], [0.8888888888888888, \"#fdca26\"], [1.0, \"#f0f921\"]], \"type\": \"heatmap\"}], \"heatmapgl\": [{\"colorbar\": {\"outlinewidth\": 0, \"ticks\": \"\"}, \"colorscale\": [[0.0, \"#0d0887\"], [0.1111111111111111, \"#46039f\"], [0.2222222222222222, \"#7201a8\"], [0.3333333333333333, \"#9c179e\"], [0.4444444444444444, \"#bd3786\"], [0.5555555555555556, \"#d8576b\"], [0.6666666666666666, \"#ed7953\"], [0.7777777777777778, \"#fb9f3a\"], [0.8888888888888888, \"#fdca26\"], [1.0, \"#f0f921\"]], \"type\": \"heatmapgl\"}], \"histogram\": [{\"marker\": {\"colorbar\": {\"outlinewidth\": 0, \"ticks\": \"\"}}, \"type\": \"histogram\"}], \"histogram2d\": [{\"colorbar\": {\"outlinewidth\": 0, \"ticks\": \"\"}, \"colorscale\": [[0.0, \"#0d0887\"], [0.1111111111111111, \"#46039f\"], [0.2222222222222222, \"#7201a8\"], [0.3333333333333333, \"#9c179e\"], [0.4444444444444444, \"#bd3786\"], [0.5555555555555556, \"#d8576b\"], [0.6666666666666666, \"#ed7953\"], [0.7777777777777778, \"#fb9f3a\"], [0.8888888888888888, \"#fdca26\"], [1.0, \"#f0f921\"]], \"type\": \"histogram2d\"}], \"histogram2dcontour\": [{\"colorbar\": {\"outlinewidth\": 0, \"ticks\": \"\"}, \"colorscale\": [[0.0, \"#0d0887\"], [0.1111111111111111, \"#46039f\"], [0.2222222222222222, \"#7201a8\"], [0.3333333333333333, \"#9c179e\"], [0.4444444444444444, \"#bd3786\"], [0.5555555555555556, \"#d8576b\"], [0.6666666666666666, \"#ed7953\"], [0.7777777777777778, \"#fb9f3a\"], [0.8888888888888888, \"#fdca26\"], [1.0, \"#f0f921\"]], \"type\": \"histogram2dcontour\"}], \"mesh3d\": [{\"colorbar\": {\"outlinewidth\": 0, \"ticks\": \"\"}, \"type\": \"mesh3d\"}], \"parcoords\": [{\"line\": {\"colorbar\": {\"outlinewidth\": 0, \"ticks\": \"\"}}, \"type\": \"parcoords\"}], \"pie\": [{\"automargin\": true, \"type\": \"pie\"}], \"scatter\": [{\"marker\": {\"colorbar\": {\"outlinewidth\": 0, \"ticks\": \"\"}}, \"type\": \"scatter\"}], \"scatter3d\": [{\"line\": {\"colorbar\": {\"outlinewidth\": 0, \"ticks\": \"\"}}, \"marker\": {\"colorbar\": {\"outlinewidth\": 0, \"ticks\": \"\"}}, \"type\": \"scatter3d\"}], \"scattercarpet\": [{\"marker\": {\"colorbar\": {\"outlinewidth\": 0, \"ticks\": \"\"}}, \"type\": \"scattercarpet\"}], \"scattergeo\": [{\"marker\": {\"colorbar\": {\"outlinewidth\": 0, \"ticks\": \"\"}}, \"type\": \"scattergeo\"}], \"scattergl\": [{\"marker\": {\"colorbar\": {\"outlinewidth\": 0, \"ticks\": \"\"}}, \"type\": \"scattergl\"}], \"scattermapbox\": [{\"marker\": {\"colorbar\": {\"outlinewidth\": 0, \"ticks\": \"\"}}, \"type\": \"scattermapbox\"}], \"scatterpolar\": [{\"marker\": {\"colorbar\": {\"outlinewidth\": 0, \"ticks\": \"\"}}, \"type\": \"scatterpolar\"}], \"scatterpolargl\": [{\"marker\": {\"colorbar\": {\"outlinewidth\": 0, \"ticks\": \"\"}}, \"type\": \"scatterpolargl\"}], \"scatterternary\": [{\"marker\": {\"colorbar\": {\"outlinewidth\": 0, \"ticks\": \"\"}}, \"type\": \"scatterternary\"}], \"surface\": [{\"colorbar\": {\"outlinewidth\": 0, \"ticks\": \"\"}, \"colorscale\": [[0.0, \"#0d0887\"], [0.1111111111111111, \"#46039f\"], [0.2222222222222222, \"#7201a8\"], [0.3333333333333333, \"#9c179e\"], [0.4444444444444444, \"#bd3786\"], [0.5555555555555556, \"#d8576b\"], [0.6666666666666666, \"#ed7953\"], [0.7777777777777778, \"#fb9f3a\"], [0.8888888888888888, \"#fdca26\"], [1.0, \"#f0f921\"]], \"type\": \"surface\"}], \"table\": [{\"cells\": {\"fill\": {\"color\": \"#EBF0F8\"}, \"line\": {\"color\": \"white\"}}, \"header\": {\"fill\": {\"color\": \"#C8D4E3\"}, \"line\": {\"color\": \"white\"}}, \"type\": \"table\"}]}, \"layout\": {\"annotationdefaults\": {\"arrowcolor\": \"#2a3f5f\", \"arrowhead\": 0, \"arrowwidth\": 1}, \"autotypenumbers\": \"strict\", \"coloraxis\": {\"colorbar\": {\"outlinewidth\": 0, \"ticks\": \"\"}}, \"colorscale\": {\"diverging\": [[0, \"#8e0152\"], [0.1, \"#c51b7d\"], [0.2, \"#de77ae\"], [0.3, \"#f1b6da\"], [0.4, \"#fde0ef\"], [0.5, \"#f7f7f7\"], [0.6, \"#e6f5d0\"], [0.7, \"#b8e186\"], [0.8, \"#7fbc41\"], [0.9, \"#4d9221\"], [1, \"#276419\"]], \"sequential\": [[0.0, \"#0d0887\"], [0.1111111111111111, \"#46039f\"], [0.2222222222222222, \"#7201a8\"], [0.3333333333333333, \"#9c179e\"], [0.4444444444444444, \"#bd3786\"], [0.5555555555555556, \"#d8576b\"], [0.6666666666666666, \"#ed7953\"], [0.7777777777777778, \"#fb9f3a\"], [0.8888888888888888, \"#fdca26\"], [1.0, \"#f0f921\"]], \"sequentialminus\": [[0.0, \"#0d0887\"], [0.1111111111111111, \"#46039f\"], [0.2222222222222222, \"#7201a8\"], [0.3333333333333333, \"#9c179e\"], [0.4444444444444444, \"#bd3786\"], [0.5555555555555556, \"#d8576b\"], [0.6666666666666666, \"#ed7953\"], [0.7777777777777778, \"#fb9f3a\"], [0.8888888888888888, \"#fdca26\"], [1.0, \"#f0f921\"]]}, \"colorway\": [\"#636efa\", \"#EF553B\", \"#00cc96\", \"#ab63fa\", \"#FFA15A\", \"#19d3f3\", \"#FF6692\", \"#B6E880\", \"#FF97FF\", \"#FECB52\"], \"font\": {\"color\": \"#2a3f5f\"}, \"geo\": {\"bgcolor\": \"white\", \"lakecolor\": \"white\", \"landcolor\": \"#E5ECF6\", \"showlakes\": true, \"showland\": true, \"subunitcolor\": \"white\"}, \"hoverlabel\": {\"align\": \"left\"}, \"hovermode\": \"closest\", \"mapbox\": {\"style\": \"light\"}, \"paper_bgcolor\": \"white\", \"plot_bgcolor\": \"#E5ECF6\", \"polar\": {\"angularaxis\": {\"gridcolor\": \"white\", \"linecolor\": \"white\", \"ticks\": \"\"}, \"bgcolor\": \"#E5ECF6\", \"radialaxis\": {\"gridcolor\": \"white\", \"linecolor\": \"white\", \"ticks\": \"\"}}, \"scene\": {\"xaxis\": {\"backgroundcolor\": \"#E5ECF6\", \"gridcolor\": \"white\", \"gridwidth\": 2, \"linecolor\": \"white\", \"showbackground\": true, \"ticks\": \"\", \"zerolinecolor\": \"white\"}, \"yaxis\": {\"backgroundcolor\": \"#E5ECF6\", \"gridcolor\": \"white\", \"gridwidth\": 2, \"linecolor\": \"white\", \"showbackground\": true, \"ticks\": \"\", \"zerolinecolor\": \"white\"}, \"zaxis\": {\"backgroundcolor\": \"#E5ECF6\", \"gridcolor\": \"white\", \"gridwidth\": 2, \"linecolor\": \"white\", \"showbackground\": true, \"ticks\": \"\", \"zerolinecolor\": \"white\"}}, \"shapedefaults\": {\"line\": {\"color\": \"#2a3f5f\"}}, \"ternary\": {\"aaxis\": {\"gridcolor\": \"white\", \"linecolor\": \"white\", \"ticks\": \"\"}, \"baxis\": {\"gridcolor\": \"white\", \"linecolor\": \"white\", \"ticks\": \"\"}, \"bgcolor\": \"#E5ECF6\", \"caxis\": {\"gridcolor\": \"white\", \"linecolor\": \"white\", \"ticks\": \"\"}}, \"title\": {\"x\": 0.05}, \"xaxis\": {\"automargin\": true, \"gridcolor\": \"white\", \"linecolor\": \"white\", \"ticks\": \"\", \"title\": {\"standoff\": 15}, \"zerolinecolor\": \"white\", \"zerolinewidth\": 2}, \"yaxis\": {\"automargin\": true, \"gridcolor\": \"white\", \"linecolor\": \"white\", \"ticks\": \"\", \"title\": {\"standoff\": 15}, \"zerolinecolor\": \"white\", \"zerolinewidth\": 2}}}, \"title\": {\"font\": {\"color\": \"#4D5663\"}}, \"xaxis\": {\"gridcolor\": \"#E1E5ED\", \"showgrid\": true, \"tickfont\": {\"color\": \"#4D5663\"}, \"title\": {\"font\": {\"color\": \"#4D5663\"}, \"text\": \"\"}, \"zerolinecolor\": \"#E1E5ED\"}, \"yaxis\": {\"gridcolor\": \"#E1E5ED\", \"showgrid\": true, \"tickfont\": {\"color\": \"#4D5663\"}, \"title\": {\"font\": {\"color\": \"#4D5663\"}, \"text\": \"\"}, \"zerolinecolor\": \"#E1E5ED\"}},                        {\"showLink\": true, \"linkText\": \"Export to plot.ly\", \"plotlyServerURL\": \"https://plot.ly\", \"responsive\": true}                    ).then(function(){\n",
       "                            \n",
       "var gd = document.getElementById('240ec560-b4c9-4dee-a066-0420ce0d5f39');\n",
       "var x = new MutationObserver(function (mutations, observer) {{\n",
       "        var display = window.getComputedStyle(gd).display;\n",
       "        if (!display || display === 'none') {{\n",
       "            console.log([gd, 'removed!']);\n",
       "            Plotly.purge(gd);\n",
       "            observer.disconnect();\n",
       "        }}\n",
       "}});\n",
       "\n",
       "// Listen for the removal of the full notebook cells\n",
       "var notebookContainer = gd.closest('#notebook-container');\n",
       "if (notebookContainer) {{\n",
       "    x.observe(notebookContainer, {childList: true});\n",
       "}}\n",
       "\n",
       "// Listen for the clearing of the current output cell\n",
       "var outputEl = gd.closest('.output');\n",
       "if (outputEl) {{\n",
       "    x.observe(outputEl, {childList: true});\n",
       "}}\n",
       "\n",
       "                        })                };                });            </script>        </div>"
      ]
     },
     "metadata": {},
     "output_type": "display_data"
    }
   ],
   "source": [
    "df.iplot(kind='scatter', x='A', y='B', mode='markers')"
   ]
  },
  {
   "cell_type": "code",
   "execution_count": 32,
   "metadata": {},
   "outputs": [
    {
     "data": {
      "application/vnd.plotly.v1+json": {
       "config": {
        "linkText": "Export to plot.ly",
        "plotlyServerURL": "https://plot.ly",
        "showLink": true
       },
       "data": [
        {
         "marker": {
          "color": "rgba(255, 153, 51, 0.6)",
          "line": {
           "color": "rgba(255, 153, 51, 1.0)",
           "width": 1
          }
         },
         "name": "Valores",
         "orientation": "v",
         "text": "",
         "type": "bar",
         "x": [
          "A",
          "B",
          "C"
         ],
         "y": [
          32,
          43,
          50
         ]
        }
       ],
       "layout": {
        "legend": {
         "bgcolor": "#F5F6F9",
         "font": {
          "color": "#4D5663"
         }
        },
        "paper_bgcolor": "#F5F6F9",
        "plot_bgcolor": "#F5F6F9",
        "template": {
         "data": {
          "bar": [
           {
            "error_x": {
             "color": "#2a3f5f"
            },
            "error_y": {
             "color": "#2a3f5f"
            },
            "marker": {
             "line": {
              "color": "#E5ECF6",
              "width": 0.5
             }
            },
            "type": "bar"
           }
          ],
          "barpolar": [
           {
            "marker": {
             "line": {
              "color": "#E5ECF6",
              "width": 0.5
             }
            },
            "type": "barpolar"
           }
          ],
          "carpet": [
           {
            "aaxis": {
             "endlinecolor": "#2a3f5f",
             "gridcolor": "white",
             "linecolor": "white",
             "minorgridcolor": "white",
             "startlinecolor": "#2a3f5f"
            },
            "baxis": {
             "endlinecolor": "#2a3f5f",
             "gridcolor": "white",
             "linecolor": "white",
             "minorgridcolor": "white",
             "startlinecolor": "#2a3f5f"
            },
            "type": "carpet"
           }
          ],
          "choropleth": [
           {
            "colorbar": {
             "outlinewidth": 0,
             "ticks": ""
            },
            "type": "choropleth"
           }
          ],
          "contour": [
           {
            "colorbar": {
             "outlinewidth": 0,
             "ticks": ""
            },
            "colorscale": [
             [
              0,
              "#0d0887"
             ],
             [
              0.1111111111111111,
              "#46039f"
             ],
             [
              0.2222222222222222,
              "#7201a8"
             ],
             [
              0.3333333333333333,
              "#9c179e"
             ],
             [
              0.4444444444444444,
              "#bd3786"
             ],
             [
              0.5555555555555556,
              "#d8576b"
             ],
             [
              0.6666666666666666,
              "#ed7953"
             ],
             [
              0.7777777777777778,
              "#fb9f3a"
             ],
             [
              0.8888888888888888,
              "#fdca26"
             ],
             [
              1,
              "#f0f921"
             ]
            ],
            "type": "contour"
           }
          ],
          "contourcarpet": [
           {
            "colorbar": {
             "outlinewidth": 0,
             "ticks": ""
            },
            "type": "contourcarpet"
           }
          ],
          "heatmap": [
           {
            "colorbar": {
             "outlinewidth": 0,
             "ticks": ""
            },
            "colorscale": [
             [
              0,
              "#0d0887"
             ],
             [
              0.1111111111111111,
              "#46039f"
             ],
             [
              0.2222222222222222,
              "#7201a8"
             ],
             [
              0.3333333333333333,
              "#9c179e"
             ],
             [
              0.4444444444444444,
              "#bd3786"
             ],
             [
              0.5555555555555556,
              "#d8576b"
             ],
             [
              0.6666666666666666,
              "#ed7953"
             ],
             [
              0.7777777777777778,
              "#fb9f3a"
             ],
             [
              0.8888888888888888,
              "#fdca26"
             ],
             [
              1,
              "#f0f921"
             ]
            ],
            "type": "heatmap"
           }
          ],
          "heatmapgl": [
           {
            "colorbar": {
             "outlinewidth": 0,
             "ticks": ""
            },
            "colorscale": [
             [
              0,
              "#0d0887"
             ],
             [
              0.1111111111111111,
              "#46039f"
             ],
             [
              0.2222222222222222,
              "#7201a8"
             ],
             [
              0.3333333333333333,
              "#9c179e"
             ],
             [
              0.4444444444444444,
              "#bd3786"
             ],
             [
              0.5555555555555556,
              "#d8576b"
             ],
             [
              0.6666666666666666,
              "#ed7953"
             ],
             [
              0.7777777777777778,
              "#fb9f3a"
             ],
             [
              0.8888888888888888,
              "#fdca26"
             ],
             [
              1,
              "#f0f921"
             ]
            ],
            "type": "heatmapgl"
           }
          ],
          "histogram": [
           {
            "marker": {
             "colorbar": {
              "outlinewidth": 0,
              "ticks": ""
             }
            },
            "type": "histogram"
           }
          ],
          "histogram2d": [
           {
            "colorbar": {
             "outlinewidth": 0,
             "ticks": ""
            },
            "colorscale": [
             [
              0,
              "#0d0887"
             ],
             [
              0.1111111111111111,
              "#46039f"
             ],
             [
              0.2222222222222222,
              "#7201a8"
             ],
             [
              0.3333333333333333,
              "#9c179e"
             ],
             [
              0.4444444444444444,
              "#bd3786"
             ],
             [
              0.5555555555555556,
              "#d8576b"
             ],
             [
              0.6666666666666666,
              "#ed7953"
             ],
             [
              0.7777777777777778,
              "#fb9f3a"
             ],
             [
              0.8888888888888888,
              "#fdca26"
             ],
             [
              1,
              "#f0f921"
             ]
            ],
            "type": "histogram2d"
           }
          ],
          "histogram2dcontour": [
           {
            "colorbar": {
             "outlinewidth": 0,
             "ticks": ""
            },
            "colorscale": [
             [
              0,
              "#0d0887"
             ],
             [
              0.1111111111111111,
              "#46039f"
             ],
             [
              0.2222222222222222,
              "#7201a8"
             ],
             [
              0.3333333333333333,
              "#9c179e"
             ],
             [
              0.4444444444444444,
              "#bd3786"
             ],
             [
              0.5555555555555556,
              "#d8576b"
             ],
             [
              0.6666666666666666,
              "#ed7953"
             ],
             [
              0.7777777777777778,
              "#fb9f3a"
             ],
             [
              0.8888888888888888,
              "#fdca26"
             ],
             [
              1,
              "#f0f921"
             ]
            ],
            "type": "histogram2dcontour"
           }
          ],
          "mesh3d": [
           {
            "colorbar": {
             "outlinewidth": 0,
             "ticks": ""
            },
            "type": "mesh3d"
           }
          ],
          "parcoords": [
           {
            "line": {
             "colorbar": {
              "outlinewidth": 0,
              "ticks": ""
             }
            },
            "type": "parcoords"
           }
          ],
          "pie": [
           {
            "automargin": true,
            "type": "pie"
           }
          ],
          "scatter": [
           {
            "marker": {
             "colorbar": {
              "outlinewidth": 0,
              "ticks": ""
             }
            },
            "type": "scatter"
           }
          ],
          "scatter3d": [
           {
            "line": {
             "colorbar": {
              "outlinewidth": 0,
              "ticks": ""
             }
            },
            "marker": {
             "colorbar": {
              "outlinewidth": 0,
              "ticks": ""
             }
            },
            "type": "scatter3d"
           }
          ],
          "scattercarpet": [
           {
            "marker": {
             "colorbar": {
              "outlinewidth": 0,
              "ticks": ""
             }
            },
            "type": "scattercarpet"
           }
          ],
          "scattergeo": [
           {
            "marker": {
             "colorbar": {
              "outlinewidth": 0,
              "ticks": ""
             }
            },
            "type": "scattergeo"
           }
          ],
          "scattergl": [
           {
            "marker": {
             "colorbar": {
              "outlinewidth": 0,
              "ticks": ""
             }
            },
            "type": "scattergl"
           }
          ],
          "scattermapbox": [
           {
            "marker": {
             "colorbar": {
              "outlinewidth": 0,
              "ticks": ""
             }
            },
            "type": "scattermapbox"
           }
          ],
          "scatterpolar": [
           {
            "marker": {
             "colorbar": {
              "outlinewidth": 0,
              "ticks": ""
             }
            },
            "type": "scatterpolar"
           }
          ],
          "scatterpolargl": [
           {
            "marker": {
             "colorbar": {
              "outlinewidth": 0,
              "ticks": ""
             }
            },
            "type": "scatterpolargl"
           }
          ],
          "scatterternary": [
           {
            "marker": {
             "colorbar": {
              "outlinewidth": 0,
              "ticks": ""
             }
            },
            "type": "scatterternary"
           }
          ],
          "surface": [
           {
            "colorbar": {
             "outlinewidth": 0,
             "ticks": ""
            },
            "colorscale": [
             [
              0,
              "#0d0887"
             ],
             [
              0.1111111111111111,
              "#46039f"
             ],
             [
              0.2222222222222222,
              "#7201a8"
             ],
             [
              0.3333333333333333,
              "#9c179e"
             ],
             [
              0.4444444444444444,
              "#bd3786"
             ],
             [
              0.5555555555555556,
              "#d8576b"
             ],
             [
              0.6666666666666666,
              "#ed7953"
             ],
             [
              0.7777777777777778,
              "#fb9f3a"
             ],
             [
              0.8888888888888888,
              "#fdca26"
             ],
             [
              1,
              "#f0f921"
             ]
            ],
            "type": "surface"
           }
          ],
          "table": [
           {
            "cells": {
             "fill": {
              "color": "#EBF0F8"
             },
             "line": {
              "color": "white"
             }
            },
            "header": {
             "fill": {
              "color": "#C8D4E3"
             },
             "line": {
              "color": "white"
             }
            },
            "type": "table"
           }
          ]
         },
         "layout": {
          "annotationdefaults": {
           "arrowcolor": "#2a3f5f",
           "arrowhead": 0,
           "arrowwidth": 1
          },
          "autotypenumbers": "strict",
          "coloraxis": {
           "colorbar": {
            "outlinewidth": 0,
            "ticks": ""
           }
          },
          "colorscale": {
           "diverging": [
            [
             0,
             "#8e0152"
            ],
            [
             0.1,
             "#c51b7d"
            ],
            [
             0.2,
             "#de77ae"
            ],
            [
             0.3,
             "#f1b6da"
            ],
            [
             0.4,
             "#fde0ef"
            ],
            [
             0.5,
             "#f7f7f7"
            ],
            [
             0.6,
             "#e6f5d0"
            ],
            [
             0.7,
             "#b8e186"
            ],
            [
             0.8,
             "#7fbc41"
            ],
            [
             0.9,
             "#4d9221"
            ],
            [
             1,
             "#276419"
            ]
           ],
           "sequential": [
            [
             0,
             "#0d0887"
            ],
            [
             0.1111111111111111,
             "#46039f"
            ],
            [
             0.2222222222222222,
             "#7201a8"
            ],
            [
             0.3333333333333333,
             "#9c179e"
            ],
            [
             0.4444444444444444,
             "#bd3786"
            ],
            [
             0.5555555555555556,
             "#d8576b"
            ],
            [
             0.6666666666666666,
             "#ed7953"
            ],
            [
             0.7777777777777778,
             "#fb9f3a"
            ],
            [
             0.8888888888888888,
             "#fdca26"
            ],
            [
             1,
             "#f0f921"
            ]
           ],
           "sequentialminus": [
            [
             0,
             "#0d0887"
            ],
            [
             0.1111111111111111,
             "#46039f"
            ],
            [
             0.2222222222222222,
             "#7201a8"
            ],
            [
             0.3333333333333333,
             "#9c179e"
            ],
            [
             0.4444444444444444,
             "#bd3786"
            ],
            [
             0.5555555555555556,
             "#d8576b"
            ],
            [
             0.6666666666666666,
             "#ed7953"
            ],
            [
             0.7777777777777778,
             "#fb9f3a"
            ],
            [
             0.8888888888888888,
             "#fdca26"
            ],
            [
             1,
             "#f0f921"
            ]
           ]
          },
          "colorway": [
           "#636efa",
           "#EF553B",
           "#00cc96",
           "#ab63fa",
           "#FFA15A",
           "#19d3f3",
           "#FF6692",
           "#B6E880",
           "#FF97FF",
           "#FECB52"
          ],
          "font": {
           "color": "#2a3f5f"
          },
          "geo": {
           "bgcolor": "white",
           "lakecolor": "white",
           "landcolor": "#E5ECF6",
           "showlakes": true,
           "showland": true,
           "subunitcolor": "white"
          },
          "hoverlabel": {
           "align": "left"
          },
          "hovermode": "closest",
          "mapbox": {
           "style": "light"
          },
          "paper_bgcolor": "white",
          "plot_bgcolor": "#E5ECF6",
          "polar": {
           "angularaxis": {
            "gridcolor": "white",
            "linecolor": "white",
            "ticks": ""
           },
           "bgcolor": "#E5ECF6",
           "radialaxis": {
            "gridcolor": "white",
            "linecolor": "white",
            "ticks": ""
           }
          },
          "scene": {
           "xaxis": {
            "backgroundcolor": "#E5ECF6",
            "gridcolor": "white",
            "gridwidth": 2,
            "linecolor": "white",
            "showbackground": true,
            "ticks": "",
            "zerolinecolor": "white"
           },
           "yaxis": {
            "backgroundcolor": "#E5ECF6",
            "gridcolor": "white",
            "gridwidth": 2,
            "linecolor": "white",
            "showbackground": true,
            "ticks": "",
            "zerolinecolor": "white"
           },
           "zaxis": {
            "backgroundcolor": "#E5ECF6",
            "gridcolor": "white",
            "gridwidth": 2,
            "linecolor": "white",
            "showbackground": true,
            "ticks": "",
            "zerolinecolor": "white"
           }
          },
          "shapedefaults": {
           "line": {
            "color": "#2a3f5f"
           }
          },
          "ternary": {
           "aaxis": {
            "gridcolor": "white",
            "linecolor": "white",
            "ticks": ""
           },
           "baxis": {
            "gridcolor": "white",
            "linecolor": "white",
            "ticks": ""
           },
           "bgcolor": "#E5ECF6",
           "caxis": {
            "gridcolor": "white",
            "linecolor": "white",
            "ticks": ""
           }
          },
          "title": {
           "x": 0.05
          },
          "xaxis": {
           "automargin": true,
           "gridcolor": "white",
           "linecolor": "white",
           "ticks": "",
           "title": {
            "standoff": 15
           },
           "zerolinecolor": "white",
           "zerolinewidth": 2
          },
          "yaxis": {
           "automargin": true,
           "gridcolor": "white",
           "linecolor": "white",
           "ticks": "",
           "title": {
            "standoff": 15
           },
           "zerolinecolor": "white",
           "zerolinewidth": 2
          }
         }
        },
        "title": {
         "font": {
          "color": "#4D5663"
         }
        },
        "xaxis": {
         "gridcolor": "#E1E5ED",
         "showgrid": true,
         "tickfont": {
          "color": "#4D5663"
         },
         "title": {
          "font": {
           "color": "#4D5663"
          },
          "text": ""
         },
         "zerolinecolor": "#E1E5ED"
        },
        "yaxis": {
         "gridcolor": "#E1E5ED",
         "showgrid": true,
         "tickfont": {
          "color": "#4D5663"
         },
         "title": {
          "font": {
           "color": "#4D5663"
          },
          "text": ""
         },
         "zerolinecolor": "#E1E5ED"
        }
       }
      },
      "text/html": [
       "<div>                            <div id=\"e191cde4-6ebc-476f-a2bd-ac793d77561e\" class=\"plotly-graph-div\" style=\"height:525px; width:100%;\"></div>            <script type=\"text/javascript\">                require([\"plotly\"], function(Plotly) {                    window.PLOTLYENV=window.PLOTLYENV || {};\n",
       "                    window.PLOTLYENV.BASE_URL='https://plot.ly';                                    if (document.getElementById(\"e191cde4-6ebc-476f-a2bd-ac793d77561e\")) {                    Plotly.newPlot(                        \"e191cde4-6ebc-476f-a2bd-ac793d77561e\",                        [{\"marker\": {\"color\": \"rgba(255, 153, 51, 0.6)\", \"line\": {\"color\": \"rgba(255, 153, 51, 1.0)\", \"width\": 1}}, \"name\": \"Valores\", \"orientation\": \"v\", \"text\": \"\", \"type\": \"bar\", \"x\": [\"A\", \"B\", \"C\"], \"y\": [32, 43, 50]}],                        {\"legend\": {\"bgcolor\": \"#F5F6F9\", \"font\": {\"color\": \"#4D5663\"}}, \"paper_bgcolor\": \"#F5F6F9\", \"plot_bgcolor\": \"#F5F6F9\", \"template\": {\"data\": {\"bar\": [{\"error_x\": {\"color\": \"#2a3f5f\"}, \"error_y\": {\"color\": \"#2a3f5f\"}, \"marker\": {\"line\": {\"color\": \"#E5ECF6\", \"width\": 0.5}}, \"type\": \"bar\"}], \"barpolar\": [{\"marker\": {\"line\": {\"color\": \"#E5ECF6\", \"width\": 0.5}}, \"type\": \"barpolar\"}], \"carpet\": [{\"aaxis\": {\"endlinecolor\": \"#2a3f5f\", \"gridcolor\": \"white\", \"linecolor\": \"white\", \"minorgridcolor\": \"white\", \"startlinecolor\": \"#2a3f5f\"}, \"baxis\": {\"endlinecolor\": \"#2a3f5f\", \"gridcolor\": \"white\", \"linecolor\": \"white\", \"minorgridcolor\": \"white\", \"startlinecolor\": \"#2a3f5f\"}, \"type\": \"carpet\"}], \"choropleth\": [{\"colorbar\": {\"outlinewidth\": 0, \"ticks\": \"\"}, \"type\": \"choropleth\"}], \"contour\": [{\"colorbar\": {\"outlinewidth\": 0, \"ticks\": \"\"}, \"colorscale\": [[0.0, \"#0d0887\"], [0.1111111111111111, \"#46039f\"], [0.2222222222222222, \"#7201a8\"], [0.3333333333333333, \"#9c179e\"], [0.4444444444444444, \"#bd3786\"], [0.5555555555555556, \"#d8576b\"], [0.6666666666666666, \"#ed7953\"], [0.7777777777777778, \"#fb9f3a\"], [0.8888888888888888, \"#fdca26\"], [1.0, \"#f0f921\"]], \"type\": \"contour\"}], \"contourcarpet\": [{\"colorbar\": {\"outlinewidth\": 0, \"ticks\": \"\"}, \"type\": \"contourcarpet\"}], \"heatmap\": [{\"colorbar\": {\"outlinewidth\": 0, \"ticks\": \"\"}, \"colorscale\": [[0.0, \"#0d0887\"], [0.1111111111111111, \"#46039f\"], [0.2222222222222222, \"#7201a8\"], [0.3333333333333333, \"#9c179e\"], [0.4444444444444444, \"#bd3786\"], [0.5555555555555556, \"#d8576b\"], [0.6666666666666666, \"#ed7953\"], [0.7777777777777778, \"#fb9f3a\"], [0.8888888888888888, \"#fdca26\"], [1.0, \"#f0f921\"]], \"type\": \"heatmap\"}], \"heatmapgl\": [{\"colorbar\": {\"outlinewidth\": 0, \"ticks\": \"\"}, \"colorscale\": [[0.0, \"#0d0887\"], [0.1111111111111111, \"#46039f\"], [0.2222222222222222, \"#7201a8\"], [0.3333333333333333, \"#9c179e\"], [0.4444444444444444, \"#bd3786\"], [0.5555555555555556, \"#d8576b\"], [0.6666666666666666, \"#ed7953\"], [0.7777777777777778, \"#fb9f3a\"], [0.8888888888888888, \"#fdca26\"], [1.0, \"#f0f921\"]], \"type\": \"heatmapgl\"}], \"histogram\": [{\"marker\": {\"colorbar\": {\"outlinewidth\": 0, \"ticks\": \"\"}}, \"type\": \"histogram\"}], \"histogram2d\": [{\"colorbar\": {\"outlinewidth\": 0, \"ticks\": \"\"}, \"colorscale\": [[0.0, \"#0d0887\"], [0.1111111111111111, \"#46039f\"], [0.2222222222222222, \"#7201a8\"], [0.3333333333333333, \"#9c179e\"], [0.4444444444444444, \"#bd3786\"], [0.5555555555555556, \"#d8576b\"], [0.6666666666666666, \"#ed7953\"], [0.7777777777777778, \"#fb9f3a\"], [0.8888888888888888, \"#fdca26\"], [1.0, \"#f0f921\"]], \"type\": \"histogram2d\"}], \"histogram2dcontour\": [{\"colorbar\": {\"outlinewidth\": 0, \"ticks\": \"\"}, \"colorscale\": [[0.0, \"#0d0887\"], [0.1111111111111111, \"#46039f\"], [0.2222222222222222, \"#7201a8\"], [0.3333333333333333, \"#9c179e\"], [0.4444444444444444, \"#bd3786\"], [0.5555555555555556, \"#d8576b\"], [0.6666666666666666, \"#ed7953\"], [0.7777777777777778, \"#fb9f3a\"], [0.8888888888888888, \"#fdca26\"], [1.0, \"#f0f921\"]], \"type\": \"histogram2dcontour\"}], \"mesh3d\": [{\"colorbar\": {\"outlinewidth\": 0, \"ticks\": \"\"}, \"type\": \"mesh3d\"}], \"parcoords\": [{\"line\": {\"colorbar\": {\"outlinewidth\": 0, \"ticks\": \"\"}}, \"type\": \"parcoords\"}], \"pie\": [{\"automargin\": true, \"type\": \"pie\"}], \"scatter\": [{\"marker\": {\"colorbar\": {\"outlinewidth\": 0, \"ticks\": \"\"}}, \"type\": \"scatter\"}], \"scatter3d\": [{\"line\": {\"colorbar\": {\"outlinewidth\": 0, \"ticks\": \"\"}}, \"marker\": {\"colorbar\": {\"outlinewidth\": 0, \"ticks\": \"\"}}, \"type\": \"scatter3d\"}], \"scattercarpet\": [{\"marker\": {\"colorbar\": {\"outlinewidth\": 0, \"ticks\": \"\"}}, \"type\": \"scattercarpet\"}], \"scattergeo\": [{\"marker\": {\"colorbar\": {\"outlinewidth\": 0, \"ticks\": \"\"}}, \"type\": \"scattergeo\"}], \"scattergl\": [{\"marker\": {\"colorbar\": {\"outlinewidth\": 0, \"ticks\": \"\"}}, \"type\": \"scattergl\"}], \"scattermapbox\": [{\"marker\": {\"colorbar\": {\"outlinewidth\": 0, \"ticks\": \"\"}}, \"type\": \"scattermapbox\"}], \"scatterpolar\": [{\"marker\": {\"colorbar\": {\"outlinewidth\": 0, \"ticks\": \"\"}}, \"type\": \"scatterpolar\"}], \"scatterpolargl\": [{\"marker\": {\"colorbar\": {\"outlinewidth\": 0, \"ticks\": \"\"}}, \"type\": \"scatterpolargl\"}], \"scatterternary\": [{\"marker\": {\"colorbar\": {\"outlinewidth\": 0, \"ticks\": \"\"}}, \"type\": \"scatterternary\"}], \"surface\": [{\"colorbar\": {\"outlinewidth\": 0, \"ticks\": \"\"}, \"colorscale\": [[0.0, \"#0d0887\"], [0.1111111111111111, \"#46039f\"], [0.2222222222222222, \"#7201a8\"], [0.3333333333333333, \"#9c179e\"], [0.4444444444444444, \"#bd3786\"], [0.5555555555555556, \"#d8576b\"], [0.6666666666666666, \"#ed7953\"], [0.7777777777777778, \"#fb9f3a\"], [0.8888888888888888, \"#fdca26\"], [1.0, \"#f0f921\"]], \"type\": \"surface\"}], \"table\": [{\"cells\": {\"fill\": {\"color\": \"#EBF0F8\"}, \"line\": {\"color\": \"white\"}}, \"header\": {\"fill\": {\"color\": \"#C8D4E3\"}, \"line\": {\"color\": \"white\"}}, \"type\": \"table\"}]}, \"layout\": {\"annotationdefaults\": {\"arrowcolor\": \"#2a3f5f\", \"arrowhead\": 0, \"arrowwidth\": 1}, \"autotypenumbers\": \"strict\", \"coloraxis\": {\"colorbar\": {\"outlinewidth\": 0, \"ticks\": \"\"}}, \"colorscale\": {\"diverging\": [[0, \"#8e0152\"], [0.1, \"#c51b7d\"], [0.2, \"#de77ae\"], [0.3, \"#f1b6da\"], [0.4, \"#fde0ef\"], [0.5, \"#f7f7f7\"], [0.6, \"#e6f5d0\"], [0.7, \"#b8e186\"], [0.8, \"#7fbc41\"], [0.9, \"#4d9221\"], [1, \"#276419\"]], \"sequential\": [[0.0, \"#0d0887\"], [0.1111111111111111, \"#46039f\"], [0.2222222222222222, \"#7201a8\"], [0.3333333333333333, \"#9c179e\"], [0.4444444444444444, \"#bd3786\"], [0.5555555555555556, \"#d8576b\"], [0.6666666666666666, \"#ed7953\"], [0.7777777777777778, \"#fb9f3a\"], [0.8888888888888888, \"#fdca26\"], [1.0, \"#f0f921\"]], \"sequentialminus\": [[0.0, \"#0d0887\"], [0.1111111111111111, \"#46039f\"], [0.2222222222222222, \"#7201a8\"], [0.3333333333333333, \"#9c179e\"], [0.4444444444444444, \"#bd3786\"], [0.5555555555555556, \"#d8576b\"], [0.6666666666666666, \"#ed7953\"], [0.7777777777777778, \"#fb9f3a\"], [0.8888888888888888, \"#fdca26\"], [1.0, \"#f0f921\"]]}, \"colorway\": [\"#636efa\", \"#EF553B\", \"#00cc96\", \"#ab63fa\", \"#FFA15A\", \"#19d3f3\", \"#FF6692\", \"#B6E880\", \"#FF97FF\", \"#FECB52\"], \"font\": {\"color\": \"#2a3f5f\"}, \"geo\": {\"bgcolor\": \"white\", \"lakecolor\": \"white\", \"landcolor\": \"#E5ECF6\", \"showlakes\": true, \"showland\": true, \"subunitcolor\": \"white\"}, \"hoverlabel\": {\"align\": \"left\"}, \"hovermode\": \"closest\", \"mapbox\": {\"style\": \"light\"}, \"paper_bgcolor\": \"white\", \"plot_bgcolor\": \"#E5ECF6\", \"polar\": {\"angularaxis\": {\"gridcolor\": \"white\", \"linecolor\": \"white\", \"ticks\": \"\"}, \"bgcolor\": \"#E5ECF6\", \"radialaxis\": {\"gridcolor\": \"white\", \"linecolor\": \"white\", \"ticks\": \"\"}}, \"scene\": {\"xaxis\": {\"backgroundcolor\": \"#E5ECF6\", \"gridcolor\": \"white\", \"gridwidth\": 2, \"linecolor\": \"white\", \"showbackground\": true, \"ticks\": \"\", \"zerolinecolor\": \"white\"}, \"yaxis\": {\"backgroundcolor\": \"#E5ECF6\", \"gridcolor\": \"white\", \"gridwidth\": 2, \"linecolor\": \"white\", \"showbackground\": true, \"ticks\": \"\", \"zerolinecolor\": \"white\"}, \"zaxis\": {\"backgroundcolor\": \"#E5ECF6\", \"gridcolor\": \"white\", \"gridwidth\": 2, \"linecolor\": \"white\", \"showbackground\": true, \"ticks\": \"\", \"zerolinecolor\": \"white\"}}, \"shapedefaults\": {\"line\": {\"color\": \"#2a3f5f\"}}, \"ternary\": {\"aaxis\": {\"gridcolor\": \"white\", \"linecolor\": \"white\", \"ticks\": \"\"}, \"baxis\": {\"gridcolor\": \"white\", \"linecolor\": \"white\", \"ticks\": \"\"}, \"bgcolor\": \"#E5ECF6\", \"caxis\": {\"gridcolor\": \"white\", \"linecolor\": \"white\", \"ticks\": \"\"}}, \"title\": {\"x\": 0.05}, \"xaxis\": {\"automargin\": true, \"gridcolor\": \"white\", \"linecolor\": \"white\", \"ticks\": \"\", \"title\": {\"standoff\": 15}, \"zerolinecolor\": \"white\", \"zerolinewidth\": 2}, \"yaxis\": {\"automargin\": true, \"gridcolor\": \"white\", \"linecolor\": \"white\", \"ticks\": \"\", \"title\": {\"standoff\": 15}, \"zerolinecolor\": \"white\", \"zerolinewidth\": 2}}}, \"title\": {\"font\": {\"color\": \"#4D5663\"}}, \"xaxis\": {\"gridcolor\": \"#E1E5ED\", \"showgrid\": true, \"tickfont\": {\"color\": \"#4D5663\"}, \"title\": {\"font\": {\"color\": \"#4D5663\"}, \"text\": \"\"}, \"zerolinecolor\": \"#E1E5ED\"}, \"yaxis\": {\"gridcolor\": \"#E1E5ED\", \"showgrid\": true, \"tickfont\": {\"color\": \"#4D5663\"}, \"title\": {\"font\": {\"color\": \"#4D5663\"}, \"text\": \"\"}, \"zerolinecolor\": \"#E1E5ED\"}},                        {\"showLink\": true, \"linkText\": \"Export to plot.ly\", \"plotlyServerURL\": \"https://plot.ly\", \"responsive\": true}                    ).then(function(){\n",
       "                            \n",
       "var gd = document.getElementById('e191cde4-6ebc-476f-a2bd-ac793d77561e');\n",
       "var x = new MutationObserver(function (mutations, observer) {{\n",
       "        var display = window.getComputedStyle(gd).display;\n",
       "        if (!display || display === 'none') {{\n",
       "            console.log([gd, 'removed!']);\n",
       "            Plotly.purge(gd);\n",
       "            observer.disconnect();\n",
       "        }}\n",
       "}});\n",
       "\n",
       "// Listen for the removal of the full notebook cells\n",
       "var notebookContainer = gd.closest('#notebook-container');\n",
       "if (notebookContainer) {{\n",
       "    x.observe(notebookContainer, {childList: true});\n",
       "}}\n",
       "\n",
       "// Listen for the clearing of the current output cell\n",
       "var outputEl = gd.closest('.output');\n",
       "if (outputEl) {{\n",
       "    x.observe(outputEl, {childList: true});\n",
       "}}\n",
       "\n",
       "                        })                };                });            </script>        </div>"
      ]
     },
     "metadata": {},
     "output_type": "display_data"
    }
   ],
   "source": [
    "df2.iplot(kind='bar', x='Categoria', y='Valores')"
   ]
  },
  {
   "cell_type": "code",
   "execution_count": 36,
   "metadata": {},
   "outputs": [
    {
     "data": {
      "application/vnd.plotly.v1+json": {
       "config": {
        "linkText": "Export to plot.ly",
        "plotlyServerURL": "https://plot.ly",
        "showLink": true
       },
       "data": [
        {
         "marker": {
          "color": "rgba(255, 153, 51, 0.6)",
          "line": {
           "color": "rgba(255, 153, 51, 1.0)",
           "width": 1
          }
         },
         "name": "None",
         "orientation": "v",
         "text": "",
         "type": "bar",
         "x": [
          "A",
          "B",
          "C",
          "D"
         ],
         "y": [
          100,
          100,
          100,
          100
         ]
        }
       ],
       "layout": {
        "legend": {
         "bgcolor": "#F5F6F9",
         "font": {
          "color": "#4D5663"
         }
        },
        "paper_bgcolor": "#F5F6F9",
        "plot_bgcolor": "#F5F6F9",
        "template": {
         "data": {
          "bar": [
           {
            "error_x": {
             "color": "#2a3f5f"
            },
            "error_y": {
             "color": "#2a3f5f"
            },
            "marker": {
             "line": {
              "color": "#E5ECF6",
              "width": 0.5
             }
            },
            "type": "bar"
           }
          ],
          "barpolar": [
           {
            "marker": {
             "line": {
              "color": "#E5ECF6",
              "width": 0.5
             }
            },
            "type": "barpolar"
           }
          ],
          "carpet": [
           {
            "aaxis": {
             "endlinecolor": "#2a3f5f",
             "gridcolor": "white",
             "linecolor": "white",
             "minorgridcolor": "white",
             "startlinecolor": "#2a3f5f"
            },
            "baxis": {
             "endlinecolor": "#2a3f5f",
             "gridcolor": "white",
             "linecolor": "white",
             "minorgridcolor": "white",
             "startlinecolor": "#2a3f5f"
            },
            "type": "carpet"
           }
          ],
          "choropleth": [
           {
            "colorbar": {
             "outlinewidth": 0,
             "ticks": ""
            },
            "type": "choropleth"
           }
          ],
          "contour": [
           {
            "colorbar": {
             "outlinewidth": 0,
             "ticks": ""
            },
            "colorscale": [
             [
              0,
              "#0d0887"
             ],
             [
              0.1111111111111111,
              "#46039f"
             ],
             [
              0.2222222222222222,
              "#7201a8"
             ],
             [
              0.3333333333333333,
              "#9c179e"
             ],
             [
              0.4444444444444444,
              "#bd3786"
             ],
             [
              0.5555555555555556,
              "#d8576b"
             ],
             [
              0.6666666666666666,
              "#ed7953"
             ],
             [
              0.7777777777777778,
              "#fb9f3a"
             ],
             [
              0.8888888888888888,
              "#fdca26"
             ],
             [
              1,
              "#f0f921"
             ]
            ],
            "type": "contour"
           }
          ],
          "contourcarpet": [
           {
            "colorbar": {
             "outlinewidth": 0,
             "ticks": ""
            },
            "type": "contourcarpet"
           }
          ],
          "heatmap": [
           {
            "colorbar": {
             "outlinewidth": 0,
             "ticks": ""
            },
            "colorscale": [
             [
              0,
              "#0d0887"
             ],
             [
              0.1111111111111111,
              "#46039f"
             ],
             [
              0.2222222222222222,
              "#7201a8"
             ],
             [
              0.3333333333333333,
              "#9c179e"
             ],
             [
              0.4444444444444444,
              "#bd3786"
             ],
             [
              0.5555555555555556,
              "#d8576b"
             ],
             [
              0.6666666666666666,
              "#ed7953"
             ],
             [
              0.7777777777777778,
              "#fb9f3a"
             ],
             [
              0.8888888888888888,
              "#fdca26"
             ],
             [
              1,
              "#f0f921"
             ]
            ],
            "type": "heatmap"
           }
          ],
          "heatmapgl": [
           {
            "colorbar": {
             "outlinewidth": 0,
             "ticks": ""
            },
            "colorscale": [
             [
              0,
              "#0d0887"
             ],
             [
              0.1111111111111111,
              "#46039f"
             ],
             [
              0.2222222222222222,
              "#7201a8"
             ],
             [
              0.3333333333333333,
              "#9c179e"
             ],
             [
              0.4444444444444444,
              "#bd3786"
             ],
             [
              0.5555555555555556,
              "#d8576b"
             ],
             [
              0.6666666666666666,
              "#ed7953"
             ],
             [
              0.7777777777777778,
              "#fb9f3a"
             ],
             [
              0.8888888888888888,
              "#fdca26"
             ],
             [
              1,
              "#f0f921"
             ]
            ],
            "type": "heatmapgl"
           }
          ],
          "histogram": [
           {
            "marker": {
             "colorbar": {
              "outlinewidth": 0,
              "ticks": ""
             }
            },
            "type": "histogram"
           }
          ],
          "histogram2d": [
           {
            "colorbar": {
             "outlinewidth": 0,
             "ticks": ""
            },
            "colorscale": [
             [
              0,
              "#0d0887"
             ],
             [
              0.1111111111111111,
              "#46039f"
             ],
             [
              0.2222222222222222,
              "#7201a8"
             ],
             [
              0.3333333333333333,
              "#9c179e"
             ],
             [
              0.4444444444444444,
              "#bd3786"
             ],
             [
              0.5555555555555556,
              "#d8576b"
             ],
             [
              0.6666666666666666,
              "#ed7953"
             ],
             [
              0.7777777777777778,
              "#fb9f3a"
             ],
             [
              0.8888888888888888,
              "#fdca26"
             ],
             [
              1,
              "#f0f921"
             ]
            ],
            "type": "histogram2d"
           }
          ],
          "histogram2dcontour": [
           {
            "colorbar": {
             "outlinewidth": 0,
             "ticks": ""
            },
            "colorscale": [
             [
              0,
              "#0d0887"
             ],
             [
              0.1111111111111111,
              "#46039f"
             ],
             [
              0.2222222222222222,
              "#7201a8"
             ],
             [
              0.3333333333333333,
              "#9c179e"
             ],
             [
              0.4444444444444444,
              "#bd3786"
             ],
             [
              0.5555555555555556,
              "#d8576b"
             ],
             [
              0.6666666666666666,
              "#ed7953"
             ],
             [
              0.7777777777777778,
              "#fb9f3a"
             ],
             [
              0.8888888888888888,
              "#fdca26"
             ],
             [
              1,
              "#f0f921"
             ]
            ],
            "type": "histogram2dcontour"
           }
          ],
          "mesh3d": [
           {
            "colorbar": {
             "outlinewidth": 0,
             "ticks": ""
            },
            "type": "mesh3d"
           }
          ],
          "parcoords": [
           {
            "line": {
             "colorbar": {
              "outlinewidth": 0,
              "ticks": ""
             }
            },
            "type": "parcoords"
           }
          ],
          "pie": [
           {
            "automargin": true,
            "type": "pie"
           }
          ],
          "scatter": [
           {
            "marker": {
             "colorbar": {
              "outlinewidth": 0,
              "ticks": ""
             }
            },
            "type": "scatter"
           }
          ],
          "scatter3d": [
           {
            "line": {
             "colorbar": {
              "outlinewidth": 0,
              "ticks": ""
             }
            },
            "marker": {
             "colorbar": {
              "outlinewidth": 0,
              "ticks": ""
             }
            },
            "type": "scatter3d"
           }
          ],
          "scattercarpet": [
           {
            "marker": {
             "colorbar": {
              "outlinewidth": 0,
              "ticks": ""
             }
            },
            "type": "scattercarpet"
           }
          ],
          "scattergeo": [
           {
            "marker": {
             "colorbar": {
              "outlinewidth": 0,
              "ticks": ""
             }
            },
            "type": "scattergeo"
           }
          ],
          "scattergl": [
           {
            "marker": {
             "colorbar": {
              "outlinewidth": 0,
              "ticks": ""
             }
            },
            "type": "scattergl"
           }
          ],
          "scattermapbox": [
           {
            "marker": {
             "colorbar": {
              "outlinewidth": 0,
              "ticks": ""
             }
            },
            "type": "scattermapbox"
           }
          ],
          "scatterpolar": [
           {
            "marker": {
             "colorbar": {
              "outlinewidth": 0,
              "ticks": ""
             }
            },
            "type": "scatterpolar"
           }
          ],
          "scatterpolargl": [
           {
            "marker": {
             "colorbar": {
              "outlinewidth": 0,
              "ticks": ""
             }
            },
            "type": "scatterpolargl"
           }
          ],
          "scatterternary": [
           {
            "marker": {
             "colorbar": {
              "outlinewidth": 0,
              "ticks": ""
             }
            },
            "type": "scatterternary"
           }
          ],
          "surface": [
           {
            "colorbar": {
             "outlinewidth": 0,
             "ticks": ""
            },
            "colorscale": [
             [
              0,
              "#0d0887"
             ],
             [
              0.1111111111111111,
              "#46039f"
             ],
             [
              0.2222222222222222,
              "#7201a8"
             ],
             [
              0.3333333333333333,
              "#9c179e"
             ],
             [
              0.4444444444444444,
              "#bd3786"
             ],
             [
              0.5555555555555556,
              "#d8576b"
             ],
             [
              0.6666666666666666,
              "#ed7953"
             ],
             [
              0.7777777777777778,
              "#fb9f3a"
             ],
             [
              0.8888888888888888,
              "#fdca26"
             ],
             [
              1,
              "#f0f921"
             ]
            ],
            "type": "surface"
           }
          ],
          "table": [
           {
            "cells": {
             "fill": {
              "color": "#EBF0F8"
             },
             "line": {
              "color": "white"
             }
            },
            "header": {
             "fill": {
              "color": "#C8D4E3"
             },
             "line": {
              "color": "white"
             }
            },
            "type": "table"
           }
          ]
         },
         "layout": {
          "annotationdefaults": {
           "arrowcolor": "#2a3f5f",
           "arrowhead": 0,
           "arrowwidth": 1
          },
          "autotypenumbers": "strict",
          "coloraxis": {
           "colorbar": {
            "outlinewidth": 0,
            "ticks": ""
           }
          },
          "colorscale": {
           "diverging": [
            [
             0,
             "#8e0152"
            ],
            [
             0.1,
             "#c51b7d"
            ],
            [
             0.2,
             "#de77ae"
            ],
            [
             0.3,
             "#f1b6da"
            ],
            [
             0.4,
             "#fde0ef"
            ],
            [
             0.5,
             "#f7f7f7"
            ],
            [
             0.6,
             "#e6f5d0"
            ],
            [
             0.7,
             "#b8e186"
            ],
            [
             0.8,
             "#7fbc41"
            ],
            [
             0.9,
             "#4d9221"
            ],
            [
             1,
             "#276419"
            ]
           ],
           "sequential": [
            [
             0,
             "#0d0887"
            ],
            [
             0.1111111111111111,
             "#46039f"
            ],
            [
             0.2222222222222222,
             "#7201a8"
            ],
            [
             0.3333333333333333,
             "#9c179e"
            ],
            [
             0.4444444444444444,
             "#bd3786"
            ],
            [
             0.5555555555555556,
             "#d8576b"
            ],
            [
             0.6666666666666666,
             "#ed7953"
            ],
            [
             0.7777777777777778,
             "#fb9f3a"
            ],
            [
             0.8888888888888888,
             "#fdca26"
            ],
            [
             1,
             "#f0f921"
            ]
           ],
           "sequentialminus": [
            [
             0,
             "#0d0887"
            ],
            [
             0.1111111111111111,
             "#46039f"
            ],
            [
             0.2222222222222222,
             "#7201a8"
            ],
            [
             0.3333333333333333,
             "#9c179e"
            ],
            [
             0.4444444444444444,
             "#bd3786"
            ],
            [
             0.5555555555555556,
             "#d8576b"
            ],
            [
             0.6666666666666666,
             "#ed7953"
            ],
            [
             0.7777777777777778,
             "#fb9f3a"
            ],
            [
             0.8888888888888888,
             "#fdca26"
            ],
            [
             1,
             "#f0f921"
            ]
           ]
          },
          "colorway": [
           "#636efa",
           "#EF553B",
           "#00cc96",
           "#ab63fa",
           "#FFA15A",
           "#19d3f3",
           "#FF6692",
           "#B6E880",
           "#FF97FF",
           "#FECB52"
          ],
          "font": {
           "color": "#2a3f5f"
          },
          "geo": {
           "bgcolor": "white",
           "lakecolor": "white",
           "landcolor": "#E5ECF6",
           "showlakes": true,
           "showland": true,
           "subunitcolor": "white"
          },
          "hoverlabel": {
           "align": "left"
          },
          "hovermode": "closest",
          "mapbox": {
           "style": "light"
          },
          "paper_bgcolor": "white",
          "plot_bgcolor": "#E5ECF6",
          "polar": {
           "angularaxis": {
            "gridcolor": "white",
            "linecolor": "white",
            "ticks": ""
           },
           "bgcolor": "#E5ECF6",
           "radialaxis": {
            "gridcolor": "white",
            "linecolor": "white",
            "ticks": ""
           }
          },
          "scene": {
           "xaxis": {
            "backgroundcolor": "#E5ECF6",
            "gridcolor": "white",
            "gridwidth": 2,
            "linecolor": "white",
            "showbackground": true,
            "ticks": "",
            "zerolinecolor": "white"
           },
           "yaxis": {
            "backgroundcolor": "#E5ECF6",
            "gridcolor": "white",
            "gridwidth": 2,
            "linecolor": "white",
            "showbackground": true,
            "ticks": "",
            "zerolinecolor": "white"
           },
           "zaxis": {
            "backgroundcolor": "#E5ECF6",
            "gridcolor": "white",
            "gridwidth": 2,
            "linecolor": "white",
            "showbackground": true,
            "ticks": "",
            "zerolinecolor": "white"
           }
          },
          "shapedefaults": {
           "line": {
            "color": "#2a3f5f"
           }
          },
          "ternary": {
           "aaxis": {
            "gridcolor": "white",
            "linecolor": "white",
            "ticks": ""
           },
           "baxis": {
            "gridcolor": "white",
            "linecolor": "white",
            "ticks": ""
           },
           "bgcolor": "#E5ECF6",
           "caxis": {
            "gridcolor": "white",
            "linecolor": "white",
            "ticks": ""
           }
          },
          "title": {
           "x": 0.05
          },
          "xaxis": {
           "automargin": true,
           "gridcolor": "white",
           "linecolor": "white",
           "ticks": "",
           "title": {
            "standoff": 15
           },
           "zerolinecolor": "white",
           "zerolinewidth": 2
          },
          "yaxis": {
           "automargin": true,
           "gridcolor": "white",
           "linecolor": "white",
           "ticks": "",
           "title": {
            "standoff": 15
           },
           "zerolinecolor": "white",
           "zerolinewidth": 2
          }
         }
        },
        "title": {
         "font": {
          "color": "#4D5663"
         }
        },
        "xaxis": {
         "gridcolor": "#E1E5ED",
         "showgrid": true,
         "tickfont": {
          "color": "#4D5663"
         },
         "title": {
          "font": {
           "color": "#4D5663"
          },
          "text": ""
         },
         "zerolinecolor": "#E1E5ED"
        },
        "yaxis": {
         "gridcolor": "#E1E5ED",
         "showgrid": true,
         "tickfont": {
          "color": "#4D5663"
         },
         "title": {
          "font": {
           "color": "#4D5663"
          },
          "text": ""
         },
         "zerolinecolor": "#E1E5ED"
        }
       }
      },
      "text/html": [
       "<div>                            <div id=\"cbad485d-72b8-4e14-b7e7-8fb8f8a5e465\" class=\"plotly-graph-div\" style=\"height:525px; width:100%;\"></div>            <script type=\"text/javascript\">                require([\"plotly\"], function(Plotly) {                    window.PLOTLYENV=window.PLOTLYENV || {};\n",
       "                    window.PLOTLYENV.BASE_URL='https://plot.ly';                                    if (document.getElementById(\"cbad485d-72b8-4e14-b7e7-8fb8f8a5e465\")) {                    Plotly.newPlot(                        \"cbad485d-72b8-4e14-b7e7-8fb8f8a5e465\",                        [{\"marker\": {\"color\": \"rgba(255, 153, 51, 0.6)\", \"line\": {\"color\": \"rgba(255, 153, 51, 1.0)\", \"width\": 1}}, \"name\": \"None\", \"orientation\": \"v\", \"text\": \"\", \"type\": \"bar\", \"x\": [\"A\", \"B\", \"C\", \"D\"], \"y\": [100, 100, 100, 100]}],                        {\"legend\": {\"bgcolor\": \"#F5F6F9\", \"font\": {\"color\": \"#4D5663\"}}, \"paper_bgcolor\": \"#F5F6F9\", \"plot_bgcolor\": \"#F5F6F9\", \"template\": {\"data\": {\"bar\": [{\"error_x\": {\"color\": \"#2a3f5f\"}, \"error_y\": {\"color\": \"#2a3f5f\"}, \"marker\": {\"line\": {\"color\": \"#E5ECF6\", \"width\": 0.5}}, \"type\": \"bar\"}], \"barpolar\": [{\"marker\": {\"line\": {\"color\": \"#E5ECF6\", \"width\": 0.5}}, \"type\": \"barpolar\"}], \"carpet\": [{\"aaxis\": {\"endlinecolor\": \"#2a3f5f\", \"gridcolor\": \"white\", \"linecolor\": \"white\", \"minorgridcolor\": \"white\", \"startlinecolor\": \"#2a3f5f\"}, \"baxis\": {\"endlinecolor\": \"#2a3f5f\", \"gridcolor\": \"white\", \"linecolor\": \"white\", \"minorgridcolor\": \"white\", \"startlinecolor\": \"#2a3f5f\"}, \"type\": \"carpet\"}], \"choropleth\": [{\"colorbar\": {\"outlinewidth\": 0, \"ticks\": \"\"}, \"type\": \"choropleth\"}], \"contour\": [{\"colorbar\": {\"outlinewidth\": 0, \"ticks\": \"\"}, \"colorscale\": [[0.0, \"#0d0887\"], [0.1111111111111111, \"#46039f\"], [0.2222222222222222, \"#7201a8\"], [0.3333333333333333, \"#9c179e\"], [0.4444444444444444, \"#bd3786\"], [0.5555555555555556, \"#d8576b\"], [0.6666666666666666, \"#ed7953\"], [0.7777777777777778, \"#fb9f3a\"], [0.8888888888888888, \"#fdca26\"], [1.0, \"#f0f921\"]], \"type\": \"contour\"}], \"contourcarpet\": [{\"colorbar\": {\"outlinewidth\": 0, \"ticks\": \"\"}, \"type\": \"contourcarpet\"}], \"heatmap\": [{\"colorbar\": {\"outlinewidth\": 0, \"ticks\": \"\"}, \"colorscale\": [[0.0, \"#0d0887\"], [0.1111111111111111, \"#46039f\"], [0.2222222222222222, \"#7201a8\"], [0.3333333333333333, \"#9c179e\"], [0.4444444444444444, \"#bd3786\"], [0.5555555555555556, \"#d8576b\"], [0.6666666666666666, \"#ed7953\"], [0.7777777777777778, \"#fb9f3a\"], [0.8888888888888888, \"#fdca26\"], [1.0, \"#f0f921\"]], \"type\": \"heatmap\"}], \"heatmapgl\": [{\"colorbar\": {\"outlinewidth\": 0, \"ticks\": \"\"}, \"colorscale\": [[0.0, \"#0d0887\"], [0.1111111111111111, \"#46039f\"], [0.2222222222222222, \"#7201a8\"], [0.3333333333333333, \"#9c179e\"], [0.4444444444444444, \"#bd3786\"], [0.5555555555555556, \"#d8576b\"], [0.6666666666666666, \"#ed7953\"], [0.7777777777777778, \"#fb9f3a\"], [0.8888888888888888, \"#fdca26\"], [1.0, \"#f0f921\"]], \"type\": \"heatmapgl\"}], \"histogram\": [{\"marker\": {\"colorbar\": {\"outlinewidth\": 0, \"ticks\": \"\"}}, \"type\": \"histogram\"}], \"histogram2d\": [{\"colorbar\": {\"outlinewidth\": 0, \"ticks\": \"\"}, \"colorscale\": [[0.0, \"#0d0887\"], [0.1111111111111111, \"#46039f\"], [0.2222222222222222, \"#7201a8\"], [0.3333333333333333, \"#9c179e\"], [0.4444444444444444, \"#bd3786\"], [0.5555555555555556, \"#d8576b\"], [0.6666666666666666, \"#ed7953\"], [0.7777777777777778, \"#fb9f3a\"], [0.8888888888888888, \"#fdca26\"], [1.0, \"#f0f921\"]], \"type\": \"histogram2d\"}], \"histogram2dcontour\": [{\"colorbar\": {\"outlinewidth\": 0, \"ticks\": \"\"}, \"colorscale\": [[0.0, \"#0d0887\"], [0.1111111111111111, \"#46039f\"], [0.2222222222222222, \"#7201a8\"], [0.3333333333333333, \"#9c179e\"], [0.4444444444444444, \"#bd3786\"], [0.5555555555555556, \"#d8576b\"], [0.6666666666666666, \"#ed7953\"], [0.7777777777777778, \"#fb9f3a\"], [0.8888888888888888, \"#fdca26\"], [1.0, \"#f0f921\"]], \"type\": \"histogram2dcontour\"}], \"mesh3d\": [{\"colorbar\": {\"outlinewidth\": 0, \"ticks\": \"\"}, \"type\": \"mesh3d\"}], \"parcoords\": [{\"line\": {\"colorbar\": {\"outlinewidth\": 0, \"ticks\": \"\"}}, \"type\": \"parcoords\"}], \"pie\": [{\"automargin\": true, \"type\": \"pie\"}], \"scatter\": [{\"marker\": {\"colorbar\": {\"outlinewidth\": 0, \"ticks\": \"\"}}, \"type\": \"scatter\"}], \"scatter3d\": [{\"line\": {\"colorbar\": {\"outlinewidth\": 0, \"ticks\": \"\"}}, \"marker\": {\"colorbar\": {\"outlinewidth\": 0, \"ticks\": \"\"}}, \"type\": \"scatter3d\"}], \"scattercarpet\": [{\"marker\": {\"colorbar\": {\"outlinewidth\": 0, \"ticks\": \"\"}}, \"type\": \"scattercarpet\"}], \"scattergeo\": [{\"marker\": {\"colorbar\": {\"outlinewidth\": 0, \"ticks\": \"\"}}, \"type\": \"scattergeo\"}], \"scattergl\": [{\"marker\": {\"colorbar\": {\"outlinewidth\": 0, \"ticks\": \"\"}}, \"type\": \"scattergl\"}], \"scattermapbox\": [{\"marker\": {\"colorbar\": {\"outlinewidth\": 0, \"ticks\": \"\"}}, \"type\": \"scattermapbox\"}], \"scatterpolar\": [{\"marker\": {\"colorbar\": {\"outlinewidth\": 0, \"ticks\": \"\"}}, \"type\": \"scatterpolar\"}], \"scatterpolargl\": [{\"marker\": {\"colorbar\": {\"outlinewidth\": 0, \"ticks\": \"\"}}, \"type\": \"scatterpolargl\"}], \"scatterternary\": [{\"marker\": {\"colorbar\": {\"outlinewidth\": 0, \"ticks\": \"\"}}, \"type\": \"scatterternary\"}], \"surface\": [{\"colorbar\": {\"outlinewidth\": 0, \"ticks\": \"\"}, \"colorscale\": [[0.0, \"#0d0887\"], [0.1111111111111111, \"#46039f\"], [0.2222222222222222, \"#7201a8\"], [0.3333333333333333, \"#9c179e\"], [0.4444444444444444, \"#bd3786\"], [0.5555555555555556, \"#d8576b\"], [0.6666666666666666, \"#ed7953\"], [0.7777777777777778, \"#fb9f3a\"], [0.8888888888888888, \"#fdca26\"], [1.0, \"#f0f921\"]], \"type\": \"surface\"}], \"table\": [{\"cells\": {\"fill\": {\"color\": \"#EBF0F8\"}, \"line\": {\"color\": \"white\"}}, \"header\": {\"fill\": {\"color\": \"#C8D4E3\"}, \"line\": {\"color\": \"white\"}}, \"type\": \"table\"}]}, \"layout\": {\"annotationdefaults\": {\"arrowcolor\": \"#2a3f5f\", \"arrowhead\": 0, \"arrowwidth\": 1}, \"autotypenumbers\": \"strict\", \"coloraxis\": {\"colorbar\": {\"outlinewidth\": 0, \"ticks\": \"\"}}, \"colorscale\": {\"diverging\": [[0, \"#8e0152\"], [0.1, \"#c51b7d\"], [0.2, \"#de77ae\"], [0.3, \"#f1b6da\"], [0.4, \"#fde0ef\"], [0.5, \"#f7f7f7\"], [0.6, \"#e6f5d0\"], [0.7, \"#b8e186\"], [0.8, \"#7fbc41\"], [0.9, \"#4d9221\"], [1, \"#276419\"]], \"sequential\": [[0.0, \"#0d0887\"], [0.1111111111111111, \"#46039f\"], [0.2222222222222222, \"#7201a8\"], [0.3333333333333333, \"#9c179e\"], [0.4444444444444444, \"#bd3786\"], [0.5555555555555556, \"#d8576b\"], [0.6666666666666666, \"#ed7953\"], [0.7777777777777778, \"#fb9f3a\"], [0.8888888888888888, \"#fdca26\"], [1.0, \"#f0f921\"]], \"sequentialminus\": [[0.0, \"#0d0887\"], [0.1111111111111111, \"#46039f\"], [0.2222222222222222, \"#7201a8\"], [0.3333333333333333, \"#9c179e\"], [0.4444444444444444, \"#bd3786\"], [0.5555555555555556, \"#d8576b\"], [0.6666666666666666, \"#ed7953\"], [0.7777777777777778, \"#fb9f3a\"], [0.8888888888888888, \"#fdca26\"], [1.0, \"#f0f921\"]]}, \"colorway\": [\"#636efa\", \"#EF553B\", \"#00cc96\", \"#ab63fa\", \"#FFA15A\", \"#19d3f3\", \"#FF6692\", \"#B6E880\", \"#FF97FF\", \"#FECB52\"], \"font\": {\"color\": \"#2a3f5f\"}, \"geo\": {\"bgcolor\": \"white\", \"lakecolor\": \"white\", \"landcolor\": \"#E5ECF6\", \"showlakes\": true, \"showland\": true, \"subunitcolor\": \"white\"}, \"hoverlabel\": {\"align\": \"left\"}, \"hovermode\": \"closest\", \"mapbox\": {\"style\": \"light\"}, \"paper_bgcolor\": \"white\", \"plot_bgcolor\": \"#E5ECF6\", \"polar\": {\"angularaxis\": {\"gridcolor\": \"white\", \"linecolor\": \"white\", \"ticks\": \"\"}, \"bgcolor\": \"#E5ECF6\", \"radialaxis\": {\"gridcolor\": \"white\", \"linecolor\": \"white\", \"ticks\": \"\"}}, \"scene\": {\"xaxis\": {\"backgroundcolor\": \"#E5ECF6\", \"gridcolor\": \"white\", \"gridwidth\": 2, \"linecolor\": \"white\", \"showbackground\": true, \"ticks\": \"\", \"zerolinecolor\": \"white\"}, \"yaxis\": {\"backgroundcolor\": \"#E5ECF6\", \"gridcolor\": \"white\", \"gridwidth\": 2, \"linecolor\": \"white\", \"showbackground\": true, \"ticks\": \"\", \"zerolinecolor\": \"white\"}, \"zaxis\": {\"backgroundcolor\": \"#E5ECF6\", \"gridcolor\": \"white\", \"gridwidth\": 2, \"linecolor\": \"white\", \"showbackground\": true, \"ticks\": \"\", \"zerolinecolor\": \"white\"}}, \"shapedefaults\": {\"line\": {\"color\": \"#2a3f5f\"}}, \"ternary\": {\"aaxis\": {\"gridcolor\": \"white\", \"linecolor\": \"white\", \"ticks\": \"\"}, \"baxis\": {\"gridcolor\": \"white\", \"linecolor\": \"white\", \"ticks\": \"\"}, \"bgcolor\": \"#E5ECF6\", \"caxis\": {\"gridcolor\": \"white\", \"linecolor\": \"white\", \"ticks\": \"\"}}, \"title\": {\"x\": 0.05}, \"xaxis\": {\"automargin\": true, \"gridcolor\": \"white\", \"linecolor\": \"white\", \"ticks\": \"\", \"title\": {\"standoff\": 15}, \"zerolinecolor\": \"white\", \"zerolinewidth\": 2}, \"yaxis\": {\"automargin\": true, \"gridcolor\": \"white\", \"linecolor\": \"white\", \"ticks\": \"\", \"title\": {\"standoff\": 15}, \"zerolinecolor\": \"white\", \"zerolinewidth\": 2}}}, \"title\": {\"font\": {\"color\": \"#4D5663\"}}, \"xaxis\": {\"gridcolor\": \"#E1E5ED\", \"showgrid\": true, \"tickfont\": {\"color\": \"#4D5663\"}, \"title\": {\"font\": {\"color\": \"#4D5663\"}, \"text\": \"\"}, \"zerolinecolor\": \"#E1E5ED\"}, \"yaxis\": {\"gridcolor\": \"#E1E5ED\", \"showgrid\": true, \"tickfont\": {\"color\": \"#4D5663\"}, \"title\": {\"font\": {\"color\": \"#4D5663\"}, \"text\": \"\"}, \"zerolinecolor\": \"#E1E5ED\"}},                        {\"showLink\": true, \"linkText\": \"Export to plot.ly\", \"plotlyServerURL\": \"https://plot.ly\", \"responsive\": true}                    ).then(function(){\n",
       "                            \n",
       "var gd = document.getElementById('cbad485d-72b8-4e14-b7e7-8fb8f8a5e465');\n",
       "var x = new MutationObserver(function (mutations, observer) {{\n",
       "        var display = window.getComputedStyle(gd).display;\n",
       "        if (!display || display === 'none') {{\n",
       "            console.log([gd, 'removed!']);\n",
       "            Plotly.purge(gd);\n",
       "            observer.disconnect();\n",
       "        }}\n",
       "}});\n",
       "\n",
       "// Listen for the removal of the full notebook cells\n",
       "var notebookContainer = gd.closest('#notebook-container');\n",
       "if (notebookContainer) {{\n",
       "    x.observe(notebookContainer, {childList: true});\n",
       "}}\n",
       "\n",
       "// Listen for the clearing of the current output cell\n",
       "var outputEl = gd.closest('.output');\n",
       "if (outputEl) {{\n",
       "    x.observe(outputEl, {childList: true});\n",
       "}}\n",
       "\n",
       "                        })                };                });            </script>        </div>"
      ]
     },
     "metadata": {},
     "output_type": "display_data"
    }
   ],
   "source": [
    "df.count().iplot(kind='bar')"
   ]
  },
  {
   "cell_type": "code",
   "execution_count": 37,
   "metadata": {},
   "outputs": [
    {
     "data": {
      "application/vnd.plotly.v1+json": {
       "config": {
        "linkText": "Export to plot.ly",
        "plotlyServerURL": "https://plot.ly",
        "showLink": true
       },
       "data": [
        {
         "boxpoints": false,
         "line": {
          "width": 1.3
         },
         "marker": {
          "color": "rgba(255, 153, 51, 1.0)"
         },
         "name": "A",
         "orientation": "v",
         "type": "box",
         "y": [
          -0.08246222777140658,
          0.7173230319183161,
          -1.4831462800247348,
          0.6007188011403605,
          1.289075599445904,
          0.4686184185783867,
          0.9861225102722071,
          -0.46912667007143066,
          1.7361292929950078,
          0.04365889119250256,
          1.2341316458674847,
          0.821179261753058,
          0.510361491783725,
          -0.16508037667801448,
          0.7577534273104339,
          -0.8667901941733359,
          1.3594944902287593,
          -1.1685993739916176,
          1.1105441176779236,
          2.179116305512871,
          -1.0669303473380523,
          -0.4865054709776041,
          2.123010480961304,
          1.122915995141616,
          0.8927499392112277,
          -0.10340193631007873,
          0.40433819829483225,
          1.2572964981158954,
          0.11700900125746119,
          -0.7026845863976289,
          0.44657856814521074,
          -1.1023149498936338,
          -0.14181716320340942,
          -2.203822075626207,
          2.1060253516626544,
          0.16448217726557168,
          -0.6887885110479985,
          -1.5297766193899487,
          0.7306152486007272,
          0.5582213127690169,
          0.7805847071266674,
          -0.4138262329473763,
          0.43877421762173396,
          -0.17113281260598195,
          -0.7723643087741576,
          -0.44972702786652147,
          -0.295278673235866,
          0.17472053263719536,
          -0.07084006961141828,
          0.5598408246345813,
          -0.26184496480996333,
          0.15783441901398237,
          0.31583156191644834,
          0.45716192750797735,
          -1.0532192491323207,
          -0.1131779568506202,
          2.5616936250228277,
          0.19009419833845465,
          -0.5984275457623431,
          0.4745933715997644,
          0.6960874097842701,
          0.626694260308462,
          1.4892579489991618,
          -0.05117752075617346,
          0.4250907181303993,
          0.9739273103422872,
          0.6362806675655954,
          -1.0162423232433264,
          0.9066631371828433,
          -1.679535026651661,
          0.9869659281108462,
          1.3453703943728241,
          0.343490665154001,
          -0.2853841697384442,
          1.6779939042723648,
          -1.4846430813013987,
          1.5382370758376722,
          -0.9330596295665243,
          -1.9920517428997413,
          -0.9116729322213409,
          2.049708236088764,
          0.35325947359296905,
          -1.035379152347821,
          -0.13083975048816482,
          0.691709526438699,
          0.5417778168132682,
          -0.804558538375137,
          -0.08890127612875974,
          0.07238988424715156,
          -1.4480553614844163,
          1.6305803770755345,
          0.23771832739327292,
          -0.24686337911028947,
          0.5418021381378408,
          -0.29289376146775437,
          0.5140535966322717,
          -1.0431412319656117,
          0.9133882773462815,
          1.0012785109207942,
          -0.49528847444847685
         ]
        },
        {
         "boxpoints": false,
         "line": {
          "width": 1.3
         },
         "marker": {
          "color": "rgba(55, 128, 191, 1.0)"
         },
         "name": "B",
         "orientation": "v",
         "type": "box",
         "y": [
          1.1111034473072832,
          -0.1448844431557348,
          1.1571344678825692,
          -0.10626240679408508,
          1.385864733511222,
          0.7149762195031321,
          -1.0573758968740425,
          1.0574539487727026,
          -2.222754474072913,
          2.4284696770821985,
          1.0720742151354865,
          -0.5569630085600444,
          1.1459078255247408,
          0.5671801108564223,
          0.33437965352964705,
          1.6800543056523491,
          0.8130184539498939,
          0.3923791895424591,
          -0.1478109051442373,
          -0.27264250534607903,
          -2.3603070752410926,
          -0.09465056399925209,
          -0.16768695429951153,
          0.6005046467753621,
          -1.4606720388756242,
          0.020805750462041604,
          1.2075459416868073,
          -0.6242906813930785,
          -0.7358803768729599,
          0.9017616150351392,
          -0.3991437537388995,
          -0.32776950291835794,
          -0.22438021907887182,
          0.6232918558085496,
          1.6581071653903812,
          0.221658524428475,
          0.5054802729992948,
          0.3924249214397845,
          -0.3834916104630957,
          0.8210281067635286,
          -0.6795537047745717,
          0.689084330009526,
          -0.3509889870700068,
          -0.13067820982899972,
          1.0079417817210266,
          1.5822871581780307,
          0.03648810084486005,
          -0.20144946009057205,
          -0.46530592982664754,
          0.9674486407095345,
          -0.6335301718013872,
          -1.3456873791964161,
          1.1446356475185844,
          -0.2728030861444642,
          -1.1462958571876427,
          0.25835325051020475,
          -1.7296771839161211,
          1.4594852118097237,
          0.1915054550087883,
          -1.356662720698125,
          0.2542237467222372,
          -0.09915143340273849,
          0.03812311596193516,
          0.5187740918912463,
          1.9633476519853126,
          1.2259258782036178,
          0.18579717883455807,
          -1.030735908284299,
          -0.7834159013284216,
          0.5652342883426867,
          -1.1402671924265346,
          0.0638021052533395,
          0.536016427642085,
          0.07407370527854598,
          0.3807947892202538,
          0.3204141169258202,
          -0.4004880397199586,
          0.0520054083184649,
          0.8087043708456557,
          -0.8048160281300628,
          0.442047115569308,
          -0.0437189083464173,
          -0.02075425165300876,
          1.2997816110422071,
          -2.059560329775203,
          -1.6002365963146876,
          -1.004666964491864,
          -1.0399111841009054,
          -0.6201334882012222,
          -1.1035481454325704,
          1.0076635158357001,
          -0.27211120070119027,
          1.3233615878152796,
          0.49207215645485736,
          -0.6231562460016906,
          -2.157366560133454,
          0.31259998818320933,
          1.316311665618152,
          -0.1643111499978162,
          0.47819803208043254
         ]
        },
        {
         "boxpoints": false,
         "line": {
          "width": 1.3
         },
         "marker": {
          "color": "rgba(50, 171, 96, 1.0)"
         },
         "name": "C",
         "orientation": "v",
         "type": "box",
         "y": [
          -0.040721755590267625,
          0.4845141078568383,
          0.5552865204452764,
          0.9894307742262647,
          -2.0905541525014075,
          0.5307941490125307,
          -0.017570997133324374,
          -2.2627308003070796,
          -0.1374052764526477,
          -0.8828442616004598,
          0.49694631927718247,
          0.9277362048260372,
          -1.6122633618108535,
          -0.24078759359434268,
          -0.7179782433046924,
          -1.2035624756547316,
          1.1705828461614898,
          -1.781460868686437,
          1.4602509670087895,
          0.9595348366810558,
          -0.4878818104702032,
          0.05668394756523284,
          0.25050102327780377,
          1.1256494378007131,
          -1.737428170361979,
          -1.941193704069804,
          -0.3495901857266525,
          -0.3670591970577454,
          0.23938375271249307,
          -1.871945296898776,
          0.03442507030246463,
          -0.9317620374287533,
          -0.15566872544649396,
          -0.910405984156538,
          0.13926839875980687,
          -0.1415354359893636,
          -0.36607615729278936,
          -1.7933891102681134,
          -0.9093873562543733,
          -0.38743230819428426,
          0.19200855279259407,
          0.6834369507348941,
          0.10709815058062394,
          1.1713809096279486,
          -2.251623623728285,
          -1.722464994585591,
          1.249237806539529,
          -0.033637926895588595,
          -0.07834586686128041,
          -1.1503478012738484,
          0.4502187187758,
          -0.13018697405443186,
          -0.9799098291087905,
          -0.8031150350232693,
          2.1354275216358594,
          0.026737097406338943,
          0.6661586297256185,
          -2.5238276959178876,
          0.10873699221215909,
          1.7110852575489799,
          -0.13830138999521324,
          1.4324385555449606,
          0.9456261856347842,
          1.998793269243896,
          0.6055018707891223,
          0.5121343441097476,
          0.5697006829514698,
          -0.405202704358376,
          -1.3871725574937979,
          1.20188846104042,
          -0.12384142363187112,
          0.027535394475638332,
          -0.6589856088323701,
          -1.0376982233410539,
          0.800481905525968,
          -0.13716365692928184,
          2.0326240292311106,
          0.2398312754412681,
          0.762097334950555,
          1.9906582255488978,
          -0.11104118046803331,
          -2.354491237143944,
          2.43428933342693,
          0.4284846800935323,
          0.13641677019091114,
          1.5000310075196113,
          -0.813017243679552,
          -0.41384018368479075,
          0.08833905550302587,
          -0.9494763494057143,
          -0.9013313316938716,
          0.5968161745025338,
          -0.039600246063192984,
          0.42546249578022644,
          -0.4602347022596428,
          0.5943026124417444,
          -0.11024284676490688,
          2.0503169539927213,
          -1.0543468988419165,
          -0.42533381032547174
         ]
        },
        {
         "boxpoints": false,
         "line": {
          "width": 1.3
         },
         "marker": {
          "color": "rgba(128, 0, 128, 1.0)"
         },
         "name": "D",
         "orientation": "v",
         "type": "box",
         "y": [
          -1.3822368504999412,
          1.1868921380110964,
          3.074761922057887,
          0.6540470561513829,
          -1.791791593655064,
          0.560742603250269,
          -1.4192752050961865,
          -0.07356911786947963,
          0.8560868506281443,
          0.40268234637334405,
          0.2579031984268933,
          -1.1014982965828208,
          0.4997557701926453,
          0.41841755514124523,
          -0.19761611341064317,
          0.46471581313170546,
          0.34097916455729455,
          -1.1173191126252282,
          1.441133067744915,
          0.4660328484069177,
          0.35593492154998285,
          0.610117909111755,
          1.0268496129800764,
          -2.9227928066592384,
          -0.5967255509752472,
          1.0342804210809968,
          -0.4369280226100989,
          -1.2991911538445367,
          -1.1876670300330503,
          -0.1835734359135624,
          0.3258136874027073,
          0.7111705737861701,
          1.0081355334655215,
          -1.091077015455357,
          -0.9084221800041059,
          -0.39580505017480055,
          0.9669185555538452,
          -0.8834410349699046,
          2.58778499239981,
          -2.4851983097159387,
          -2.08849700135936,
          1.5950602841576778,
          -2.320627232160421,
          0.630804084149663,
          -1.3019168885464065,
          1.3570017649169208,
          0.11129458404963655,
          1.5658311472324207,
          -0.8574692603698083,
          -0.2643829163575508,
          0.8103650456969996,
          -0.9868405385838823,
          1.6215543514643018,
          0.014887673144812354,
          -1.9679798218578608,
          -1.0776880417529018,
          -0.9319694113611366,
          -0.6172828302871782,
          0.8073887199728892,
          0.7617046149941203,
          0.7529700251474125,
          -1.75765858663306,
          -0.642874697054324,
          1.201995473158109,
          -0.5776229530465018,
          -1.9176814261321877,
          0.7956223680538879,
          -0.41222793316853795,
          -0.3352847562532673,
          1.187230576748085,
          0.5431470299260086,
          1.0559384588551326,
          -1.5345436818328146,
          1.2408082317346376,
          -0.7559510230912563,
          -0.7854321827995201,
          -2.4466752084523407,
          0.7414199574973891,
          0.5570636845652269,
          -0.3859514970677254,
          -0.7904716621009474,
          1.9900732220256936,
          1.215862391756408,
          0.5575457528024911,
          -0.37361692195887153,
          -0.41199029195145637,
          0.5460412202751002,
          -0.9316380331023384,
          -1.48471169031649,
          1.6334663040131474,
          1.0759191036963602,
          -1.5351979025198073,
          -0.8057809769713714,
          0.6833694199645926,
          0.5388580292449436,
          -0.11306345005345213,
          -0.0832325570929657,
          1.0000639539599987,
          -0.2937640023000087,
          0.4564399782737193
         ]
        }
       ],
       "layout": {
        "legend": {
         "bgcolor": "#F5F6F9",
         "font": {
          "color": "#4D5663"
         }
        },
        "paper_bgcolor": "#F5F6F9",
        "plot_bgcolor": "#F5F6F9",
        "template": {
         "data": {
          "bar": [
           {
            "error_x": {
             "color": "#2a3f5f"
            },
            "error_y": {
             "color": "#2a3f5f"
            },
            "marker": {
             "line": {
              "color": "#E5ECF6",
              "width": 0.5
             }
            },
            "type": "bar"
           }
          ],
          "barpolar": [
           {
            "marker": {
             "line": {
              "color": "#E5ECF6",
              "width": 0.5
             }
            },
            "type": "barpolar"
           }
          ],
          "carpet": [
           {
            "aaxis": {
             "endlinecolor": "#2a3f5f",
             "gridcolor": "white",
             "linecolor": "white",
             "minorgridcolor": "white",
             "startlinecolor": "#2a3f5f"
            },
            "baxis": {
             "endlinecolor": "#2a3f5f",
             "gridcolor": "white",
             "linecolor": "white",
             "minorgridcolor": "white",
             "startlinecolor": "#2a3f5f"
            },
            "type": "carpet"
           }
          ],
          "choropleth": [
           {
            "colorbar": {
             "outlinewidth": 0,
             "ticks": ""
            },
            "type": "choropleth"
           }
          ],
          "contour": [
           {
            "colorbar": {
             "outlinewidth": 0,
             "ticks": ""
            },
            "colorscale": [
             [
              0,
              "#0d0887"
             ],
             [
              0.1111111111111111,
              "#46039f"
             ],
             [
              0.2222222222222222,
              "#7201a8"
             ],
             [
              0.3333333333333333,
              "#9c179e"
             ],
             [
              0.4444444444444444,
              "#bd3786"
             ],
             [
              0.5555555555555556,
              "#d8576b"
             ],
             [
              0.6666666666666666,
              "#ed7953"
             ],
             [
              0.7777777777777778,
              "#fb9f3a"
             ],
             [
              0.8888888888888888,
              "#fdca26"
             ],
             [
              1,
              "#f0f921"
             ]
            ],
            "type": "contour"
           }
          ],
          "contourcarpet": [
           {
            "colorbar": {
             "outlinewidth": 0,
             "ticks": ""
            },
            "type": "contourcarpet"
           }
          ],
          "heatmap": [
           {
            "colorbar": {
             "outlinewidth": 0,
             "ticks": ""
            },
            "colorscale": [
             [
              0,
              "#0d0887"
             ],
             [
              0.1111111111111111,
              "#46039f"
             ],
             [
              0.2222222222222222,
              "#7201a8"
             ],
             [
              0.3333333333333333,
              "#9c179e"
             ],
             [
              0.4444444444444444,
              "#bd3786"
             ],
             [
              0.5555555555555556,
              "#d8576b"
             ],
             [
              0.6666666666666666,
              "#ed7953"
             ],
             [
              0.7777777777777778,
              "#fb9f3a"
             ],
             [
              0.8888888888888888,
              "#fdca26"
             ],
             [
              1,
              "#f0f921"
             ]
            ],
            "type": "heatmap"
           }
          ],
          "heatmapgl": [
           {
            "colorbar": {
             "outlinewidth": 0,
             "ticks": ""
            },
            "colorscale": [
             [
              0,
              "#0d0887"
             ],
             [
              0.1111111111111111,
              "#46039f"
             ],
             [
              0.2222222222222222,
              "#7201a8"
             ],
             [
              0.3333333333333333,
              "#9c179e"
             ],
             [
              0.4444444444444444,
              "#bd3786"
             ],
             [
              0.5555555555555556,
              "#d8576b"
             ],
             [
              0.6666666666666666,
              "#ed7953"
             ],
             [
              0.7777777777777778,
              "#fb9f3a"
             ],
             [
              0.8888888888888888,
              "#fdca26"
             ],
             [
              1,
              "#f0f921"
             ]
            ],
            "type": "heatmapgl"
           }
          ],
          "histogram": [
           {
            "marker": {
             "colorbar": {
              "outlinewidth": 0,
              "ticks": ""
             }
            },
            "type": "histogram"
           }
          ],
          "histogram2d": [
           {
            "colorbar": {
             "outlinewidth": 0,
             "ticks": ""
            },
            "colorscale": [
             [
              0,
              "#0d0887"
             ],
             [
              0.1111111111111111,
              "#46039f"
             ],
             [
              0.2222222222222222,
              "#7201a8"
             ],
             [
              0.3333333333333333,
              "#9c179e"
             ],
             [
              0.4444444444444444,
              "#bd3786"
             ],
             [
              0.5555555555555556,
              "#d8576b"
             ],
             [
              0.6666666666666666,
              "#ed7953"
             ],
             [
              0.7777777777777778,
              "#fb9f3a"
             ],
             [
              0.8888888888888888,
              "#fdca26"
             ],
             [
              1,
              "#f0f921"
             ]
            ],
            "type": "histogram2d"
           }
          ],
          "histogram2dcontour": [
           {
            "colorbar": {
             "outlinewidth": 0,
             "ticks": ""
            },
            "colorscale": [
             [
              0,
              "#0d0887"
             ],
             [
              0.1111111111111111,
              "#46039f"
             ],
             [
              0.2222222222222222,
              "#7201a8"
             ],
             [
              0.3333333333333333,
              "#9c179e"
             ],
             [
              0.4444444444444444,
              "#bd3786"
             ],
             [
              0.5555555555555556,
              "#d8576b"
             ],
             [
              0.6666666666666666,
              "#ed7953"
             ],
             [
              0.7777777777777778,
              "#fb9f3a"
             ],
             [
              0.8888888888888888,
              "#fdca26"
             ],
             [
              1,
              "#f0f921"
             ]
            ],
            "type": "histogram2dcontour"
           }
          ],
          "mesh3d": [
           {
            "colorbar": {
             "outlinewidth": 0,
             "ticks": ""
            },
            "type": "mesh3d"
           }
          ],
          "parcoords": [
           {
            "line": {
             "colorbar": {
              "outlinewidth": 0,
              "ticks": ""
             }
            },
            "type": "parcoords"
           }
          ],
          "pie": [
           {
            "automargin": true,
            "type": "pie"
           }
          ],
          "scatter": [
           {
            "marker": {
             "colorbar": {
              "outlinewidth": 0,
              "ticks": ""
             }
            },
            "type": "scatter"
           }
          ],
          "scatter3d": [
           {
            "line": {
             "colorbar": {
              "outlinewidth": 0,
              "ticks": ""
             }
            },
            "marker": {
             "colorbar": {
              "outlinewidth": 0,
              "ticks": ""
             }
            },
            "type": "scatter3d"
           }
          ],
          "scattercarpet": [
           {
            "marker": {
             "colorbar": {
              "outlinewidth": 0,
              "ticks": ""
             }
            },
            "type": "scattercarpet"
           }
          ],
          "scattergeo": [
           {
            "marker": {
             "colorbar": {
              "outlinewidth": 0,
              "ticks": ""
             }
            },
            "type": "scattergeo"
           }
          ],
          "scattergl": [
           {
            "marker": {
             "colorbar": {
              "outlinewidth": 0,
              "ticks": ""
             }
            },
            "type": "scattergl"
           }
          ],
          "scattermapbox": [
           {
            "marker": {
             "colorbar": {
              "outlinewidth": 0,
              "ticks": ""
             }
            },
            "type": "scattermapbox"
           }
          ],
          "scatterpolar": [
           {
            "marker": {
             "colorbar": {
              "outlinewidth": 0,
              "ticks": ""
             }
            },
            "type": "scatterpolar"
           }
          ],
          "scatterpolargl": [
           {
            "marker": {
             "colorbar": {
              "outlinewidth": 0,
              "ticks": ""
             }
            },
            "type": "scatterpolargl"
           }
          ],
          "scatterternary": [
           {
            "marker": {
             "colorbar": {
              "outlinewidth": 0,
              "ticks": ""
             }
            },
            "type": "scatterternary"
           }
          ],
          "surface": [
           {
            "colorbar": {
             "outlinewidth": 0,
             "ticks": ""
            },
            "colorscale": [
             [
              0,
              "#0d0887"
             ],
             [
              0.1111111111111111,
              "#46039f"
             ],
             [
              0.2222222222222222,
              "#7201a8"
             ],
             [
              0.3333333333333333,
              "#9c179e"
             ],
             [
              0.4444444444444444,
              "#bd3786"
             ],
             [
              0.5555555555555556,
              "#d8576b"
             ],
             [
              0.6666666666666666,
              "#ed7953"
             ],
             [
              0.7777777777777778,
              "#fb9f3a"
             ],
             [
              0.8888888888888888,
              "#fdca26"
             ],
             [
              1,
              "#f0f921"
             ]
            ],
            "type": "surface"
           }
          ],
          "table": [
           {
            "cells": {
             "fill": {
              "color": "#EBF0F8"
             },
             "line": {
              "color": "white"
             }
            },
            "header": {
             "fill": {
              "color": "#C8D4E3"
             },
             "line": {
              "color": "white"
             }
            },
            "type": "table"
           }
          ]
         },
         "layout": {
          "annotationdefaults": {
           "arrowcolor": "#2a3f5f",
           "arrowhead": 0,
           "arrowwidth": 1
          },
          "autotypenumbers": "strict",
          "coloraxis": {
           "colorbar": {
            "outlinewidth": 0,
            "ticks": ""
           }
          },
          "colorscale": {
           "diverging": [
            [
             0,
             "#8e0152"
            ],
            [
             0.1,
             "#c51b7d"
            ],
            [
             0.2,
             "#de77ae"
            ],
            [
             0.3,
             "#f1b6da"
            ],
            [
             0.4,
             "#fde0ef"
            ],
            [
             0.5,
             "#f7f7f7"
            ],
            [
             0.6,
             "#e6f5d0"
            ],
            [
             0.7,
             "#b8e186"
            ],
            [
             0.8,
             "#7fbc41"
            ],
            [
             0.9,
             "#4d9221"
            ],
            [
             1,
             "#276419"
            ]
           ],
           "sequential": [
            [
             0,
             "#0d0887"
            ],
            [
             0.1111111111111111,
             "#46039f"
            ],
            [
             0.2222222222222222,
             "#7201a8"
            ],
            [
             0.3333333333333333,
             "#9c179e"
            ],
            [
             0.4444444444444444,
             "#bd3786"
            ],
            [
             0.5555555555555556,
             "#d8576b"
            ],
            [
             0.6666666666666666,
             "#ed7953"
            ],
            [
             0.7777777777777778,
             "#fb9f3a"
            ],
            [
             0.8888888888888888,
             "#fdca26"
            ],
            [
             1,
             "#f0f921"
            ]
           ],
           "sequentialminus": [
            [
             0,
             "#0d0887"
            ],
            [
             0.1111111111111111,
             "#46039f"
            ],
            [
             0.2222222222222222,
             "#7201a8"
            ],
            [
             0.3333333333333333,
             "#9c179e"
            ],
            [
             0.4444444444444444,
             "#bd3786"
            ],
            [
             0.5555555555555556,
             "#d8576b"
            ],
            [
             0.6666666666666666,
             "#ed7953"
            ],
            [
             0.7777777777777778,
             "#fb9f3a"
            ],
            [
             0.8888888888888888,
             "#fdca26"
            ],
            [
             1,
             "#f0f921"
            ]
           ]
          },
          "colorway": [
           "#636efa",
           "#EF553B",
           "#00cc96",
           "#ab63fa",
           "#FFA15A",
           "#19d3f3",
           "#FF6692",
           "#B6E880",
           "#FF97FF",
           "#FECB52"
          ],
          "font": {
           "color": "#2a3f5f"
          },
          "geo": {
           "bgcolor": "white",
           "lakecolor": "white",
           "landcolor": "#E5ECF6",
           "showlakes": true,
           "showland": true,
           "subunitcolor": "white"
          },
          "hoverlabel": {
           "align": "left"
          },
          "hovermode": "closest",
          "mapbox": {
           "style": "light"
          },
          "paper_bgcolor": "white",
          "plot_bgcolor": "#E5ECF6",
          "polar": {
           "angularaxis": {
            "gridcolor": "white",
            "linecolor": "white",
            "ticks": ""
           },
           "bgcolor": "#E5ECF6",
           "radialaxis": {
            "gridcolor": "white",
            "linecolor": "white",
            "ticks": ""
           }
          },
          "scene": {
           "xaxis": {
            "backgroundcolor": "#E5ECF6",
            "gridcolor": "white",
            "gridwidth": 2,
            "linecolor": "white",
            "showbackground": true,
            "ticks": "",
            "zerolinecolor": "white"
           },
           "yaxis": {
            "backgroundcolor": "#E5ECF6",
            "gridcolor": "white",
            "gridwidth": 2,
            "linecolor": "white",
            "showbackground": true,
            "ticks": "",
            "zerolinecolor": "white"
           },
           "zaxis": {
            "backgroundcolor": "#E5ECF6",
            "gridcolor": "white",
            "gridwidth": 2,
            "linecolor": "white",
            "showbackground": true,
            "ticks": "",
            "zerolinecolor": "white"
           }
          },
          "shapedefaults": {
           "line": {
            "color": "#2a3f5f"
           }
          },
          "ternary": {
           "aaxis": {
            "gridcolor": "white",
            "linecolor": "white",
            "ticks": ""
           },
           "baxis": {
            "gridcolor": "white",
            "linecolor": "white",
            "ticks": ""
           },
           "bgcolor": "#E5ECF6",
           "caxis": {
            "gridcolor": "white",
            "linecolor": "white",
            "ticks": ""
           }
          },
          "title": {
           "x": 0.05
          },
          "xaxis": {
           "automargin": true,
           "gridcolor": "white",
           "linecolor": "white",
           "ticks": "",
           "title": {
            "standoff": 15
           },
           "zerolinecolor": "white",
           "zerolinewidth": 2
          },
          "yaxis": {
           "automargin": true,
           "gridcolor": "white",
           "linecolor": "white",
           "ticks": "",
           "title": {
            "standoff": 15
           },
           "zerolinecolor": "white",
           "zerolinewidth": 2
          }
         }
        },
        "title": {
         "font": {
          "color": "#4D5663"
         }
        },
        "xaxis": {
         "gridcolor": "#E1E5ED",
         "showgrid": true,
         "tickfont": {
          "color": "#4D5663"
         },
         "title": {
          "font": {
           "color": "#4D5663"
          },
          "text": ""
         },
         "zerolinecolor": "#E1E5ED"
        },
        "yaxis": {
         "gridcolor": "#E1E5ED",
         "showgrid": true,
         "tickfont": {
          "color": "#4D5663"
         },
         "title": {
          "font": {
           "color": "#4D5663"
          },
          "text": ""
         },
         "zerolinecolor": "#E1E5ED"
        }
       }
      },
      "text/html": [
       "<div>                            <div id=\"da768109-9657-4fbf-816b-9bd369732236\" class=\"plotly-graph-div\" style=\"height:525px; width:100%;\"></div>            <script type=\"text/javascript\">                require([\"plotly\"], function(Plotly) {                    window.PLOTLYENV=window.PLOTLYENV || {};\n",
       "                    window.PLOTLYENV.BASE_URL='https://plot.ly';                                    if (document.getElementById(\"da768109-9657-4fbf-816b-9bd369732236\")) {                    Plotly.newPlot(                        \"da768109-9657-4fbf-816b-9bd369732236\",                        [{\"boxpoints\": false, \"line\": {\"width\": 1.3}, \"marker\": {\"color\": \"rgba(255, 153, 51, 1.0)\"}, \"name\": \"A\", \"orientation\": \"v\", \"type\": \"box\", \"y\": [-0.08246222777140658, 0.7173230319183161, -1.4831462800247348, 0.6007188011403605, 1.289075599445904, 0.4686184185783867, 0.9861225102722071, -0.46912667007143066, 1.7361292929950078, 0.04365889119250256, 1.2341316458674847, 0.821179261753058, 0.510361491783725, -0.16508037667801448, 0.7577534273104339, -0.8667901941733359, 1.3594944902287593, -1.1685993739916176, 1.1105441176779236, 2.179116305512871, -1.0669303473380523, -0.4865054709776041, 2.123010480961304, 1.122915995141616, 0.8927499392112277, -0.10340193631007873, 0.40433819829483225, 1.2572964981158954, 0.11700900125746119, -0.7026845863976289, 0.44657856814521074, -1.1023149498936338, -0.14181716320340942, -2.203822075626207, 2.1060253516626544, 0.16448217726557168, -0.6887885110479985, -1.5297766193899487, 0.7306152486007272, 0.5582213127690169, 0.7805847071266674, -0.4138262329473763, 0.43877421762173396, -0.17113281260598195, -0.7723643087741576, -0.44972702786652147, -0.295278673235866, 0.17472053263719536, -0.07084006961141828, 0.5598408246345813, -0.26184496480996333, 0.15783441901398237, 0.31583156191644834, 0.45716192750797735, -1.0532192491323207, -0.1131779568506202, 2.5616936250228277, 0.19009419833845465, -0.5984275457623431, 0.4745933715997644, 0.6960874097842701, 0.626694260308462, 1.4892579489991618, -0.05117752075617346, 0.4250907181303993, 0.9739273103422872, 0.6362806675655954, -1.0162423232433264, 0.9066631371828433, -1.679535026651661, 0.9869659281108462, 1.3453703943728241, 0.343490665154001, -0.2853841697384442, 1.6779939042723648, -1.4846430813013987, 1.5382370758376722, -0.9330596295665243, -1.9920517428997413, -0.9116729322213409, 2.049708236088764, 0.35325947359296905, -1.035379152347821, -0.13083975048816482, 0.691709526438699, 0.5417778168132682, -0.804558538375137, -0.08890127612875974, 0.07238988424715156, -1.4480553614844163, 1.6305803770755345, 0.23771832739327292, -0.24686337911028947, 0.5418021381378408, -0.29289376146775437, 0.5140535966322717, -1.0431412319656117, 0.9133882773462815, 1.0012785109207942, -0.49528847444847685]}, {\"boxpoints\": false, \"line\": {\"width\": 1.3}, \"marker\": {\"color\": \"rgba(55, 128, 191, 1.0)\"}, \"name\": \"B\", \"orientation\": \"v\", \"type\": \"box\", \"y\": [1.1111034473072832, -0.1448844431557348, 1.1571344678825692, -0.10626240679408508, 1.385864733511222, 0.7149762195031321, -1.0573758968740425, 1.0574539487727026, -2.222754474072913, 2.4284696770821985, 1.0720742151354865, -0.5569630085600444, 1.1459078255247408, 0.5671801108564223, 0.33437965352964705, 1.6800543056523491, 0.8130184539498939, 0.3923791895424591, -0.1478109051442373, -0.27264250534607903, -2.3603070752410926, -0.09465056399925209, -0.16768695429951153, 0.6005046467753621, -1.4606720388756242, 0.020805750462041604, 1.2075459416868073, -0.6242906813930785, -0.7358803768729599, 0.9017616150351392, -0.3991437537388995, -0.32776950291835794, -0.22438021907887182, 0.6232918558085496, 1.6581071653903812, 0.221658524428475, 0.5054802729992948, 0.3924249214397845, -0.3834916104630957, 0.8210281067635286, -0.6795537047745717, 0.689084330009526, -0.3509889870700068, -0.13067820982899972, 1.0079417817210266, 1.5822871581780307, 0.03648810084486005, -0.20144946009057205, -0.46530592982664754, 0.9674486407095345, -0.6335301718013872, -1.3456873791964161, 1.1446356475185844, -0.2728030861444642, -1.1462958571876427, 0.25835325051020475, -1.7296771839161211, 1.4594852118097237, 0.1915054550087883, -1.356662720698125, 0.2542237467222372, -0.09915143340273849, 0.03812311596193516, 0.5187740918912463, 1.9633476519853126, 1.2259258782036178, 0.18579717883455807, -1.030735908284299, -0.7834159013284216, 0.5652342883426867, -1.1402671924265346, 0.0638021052533395, 0.536016427642085, 0.07407370527854598, 0.3807947892202538, 0.3204141169258202, -0.4004880397199586, 0.0520054083184649, 0.8087043708456557, -0.8048160281300628, 0.442047115569308, -0.0437189083464173, -0.02075425165300876, 1.2997816110422071, -2.059560329775203, -1.6002365963146876, -1.004666964491864, -1.0399111841009054, -0.6201334882012222, -1.1035481454325704, 1.0076635158357001, -0.27211120070119027, 1.3233615878152796, 0.49207215645485736, -0.6231562460016906, -2.157366560133454, 0.31259998818320933, 1.316311665618152, -0.1643111499978162, 0.47819803208043254]}, {\"boxpoints\": false, \"line\": {\"width\": 1.3}, \"marker\": {\"color\": \"rgba(50, 171, 96, 1.0)\"}, \"name\": \"C\", \"orientation\": \"v\", \"type\": \"box\", \"y\": [-0.040721755590267625, 0.4845141078568383, 0.5552865204452764, 0.9894307742262647, -2.0905541525014075, 0.5307941490125307, -0.017570997133324374, -2.2627308003070796, -0.1374052764526477, -0.8828442616004598, 0.49694631927718247, 0.9277362048260372, -1.6122633618108535, -0.24078759359434268, -0.7179782433046924, -1.2035624756547316, 1.1705828461614898, -1.781460868686437, 1.4602509670087895, 0.9595348366810558, -0.4878818104702032, 0.05668394756523284, 0.25050102327780377, 1.1256494378007131, -1.737428170361979, -1.941193704069804, -0.3495901857266525, -0.3670591970577454, 0.23938375271249307, -1.871945296898776, 0.03442507030246463, -0.9317620374287533, -0.15566872544649396, -0.910405984156538, 0.13926839875980687, -0.1415354359893636, -0.36607615729278936, -1.7933891102681134, -0.9093873562543733, -0.38743230819428426, 0.19200855279259407, 0.6834369507348941, 0.10709815058062394, 1.1713809096279486, -2.251623623728285, -1.722464994585591, 1.249237806539529, -0.033637926895588595, -0.07834586686128041, -1.1503478012738484, 0.4502187187758, -0.13018697405443186, -0.9799098291087905, -0.8031150350232693, 2.1354275216358594, 0.026737097406338943, 0.6661586297256185, -2.5238276959178876, 0.10873699221215909, 1.7110852575489799, -0.13830138999521324, 1.4324385555449606, 0.9456261856347842, 1.998793269243896, 0.6055018707891223, 0.5121343441097476, 0.5697006829514698, -0.405202704358376, -1.3871725574937979, 1.20188846104042, -0.12384142363187112, 0.027535394475638332, -0.6589856088323701, -1.0376982233410539, 0.800481905525968, -0.13716365692928184, 2.0326240292311106, 0.2398312754412681, 0.762097334950555, 1.9906582255488978, -0.11104118046803331, -2.354491237143944, 2.43428933342693, 0.4284846800935323, 0.13641677019091114, 1.5000310075196113, -0.813017243679552, -0.41384018368479075, 0.08833905550302587, -0.9494763494057143, -0.9013313316938716, 0.5968161745025338, -0.039600246063192984, 0.42546249578022644, -0.4602347022596428, 0.5943026124417444, -0.11024284676490688, 2.0503169539927213, -1.0543468988419165, -0.42533381032547174]}, {\"boxpoints\": false, \"line\": {\"width\": 1.3}, \"marker\": {\"color\": \"rgba(128, 0, 128, 1.0)\"}, \"name\": \"D\", \"orientation\": \"v\", \"type\": \"box\", \"y\": [-1.3822368504999412, 1.1868921380110964, 3.074761922057887, 0.6540470561513829, -1.791791593655064, 0.560742603250269, -1.4192752050961865, -0.07356911786947963, 0.8560868506281443, 0.40268234637334405, 0.2579031984268933, -1.1014982965828208, 0.4997557701926453, 0.41841755514124523, -0.19761611341064317, 0.46471581313170546, 0.34097916455729455, -1.1173191126252282, 1.441133067744915, 0.4660328484069177, 0.35593492154998285, 0.610117909111755, 1.0268496129800764, -2.9227928066592384, -0.5967255509752472, 1.0342804210809968, -0.4369280226100989, -1.2991911538445367, -1.1876670300330503, -0.1835734359135624, 0.3258136874027073, 0.7111705737861701, 1.0081355334655215, -1.091077015455357, -0.9084221800041059, -0.39580505017480055, 0.9669185555538452, -0.8834410349699046, 2.58778499239981, -2.4851983097159387, -2.08849700135936, 1.5950602841576778, -2.320627232160421, 0.630804084149663, -1.3019168885464065, 1.3570017649169208, 0.11129458404963655, 1.5658311472324207, -0.8574692603698083, -0.2643829163575508, 0.8103650456969996, -0.9868405385838823, 1.6215543514643018, 0.014887673144812354, -1.9679798218578608, -1.0776880417529018, -0.9319694113611366, -0.6172828302871782, 0.8073887199728892, 0.7617046149941203, 0.7529700251474125, -1.75765858663306, -0.642874697054324, 1.201995473158109, -0.5776229530465018, -1.9176814261321877, 0.7956223680538879, -0.41222793316853795, -0.3352847562532673, 1.187230576748085, 0.5431470299260086, 1.0559384588551326, -1.5345436818328146, 1.2408082317346376, -0.7559510230912563, -0.7854321827995201, -2.4466752084523407, 0.7414199574973891, 0.5570636845652269, -0.3859514970677254, -0.7904716621009474, 1.9900732220256936, 1.215862391756408, 0.5575457528024911, -0.37361692195887153, -0.41199029195145637, 0.5460412202751002, -0.9316380331023384, -1.48471169031649, 1.6334663040131474, 1.0759191036963602, -1.5351979025198073, -0.8057809769713714, 0.6833694199645926, 0.5388580292449436, -0.11306345005345213, -0.0832325570929657, 1.0000639539599987, -0.2937640023000087, 0.4564399782737193]}],                        {\"legend\": {\"bgcolor\": \"#F5F6F9\", \"font\": {\"color\": \"#4D5663\"}}, \"paper_bgcolor\": \"#F5F6F9\", \"plot_bgcolor\": \"#F5F6F9\", \"template\": {\"data\": {\"bar\": [{\"error_x\": {\"color\": \"#2a3f5f\"}, \"error_y\": {\"color\": \"#2a3f5f\"}, \"marker\": {\"line\": {\"color\": \"#E5ECF6\", \"width\": 0.5}}, \"type\": \"bar\"}], \"barpolar\": [{\"marker\": {\"line\": {\"color\": \"#E5ECF6\", \"width\": 0.5}}, \"type\": \"barpolar\"}], \"carpet\": [{\"aaxis\": {\"endlinecolor\": \"#2a3f5f\", \"gridcolor\": \"white\", \"linecolor\": \"white\", \"minorgridcolor\": \"white\", \"startlinecolor\": \"#2a3f5f\"}, \"baxis\": {\"endlinecolor\": \"#2a3f5f\", \"gridcolor\": \"white\", \"linecolor\": \"white\", \"minorgridcolor\": \"white\", \"startlinecolor\": \"#2a3f5f\"}, \"type\": \"carpet\"}], \"choropleth\": [{\"colorbar\": {\"outlinewidth\": 0, \"ticks\": \"\"}, \"type\": \"choropleth\"}], \"contour\": [{\"colorbar\": {\"outlinewidth\": 0, \"ticks\": \"\"}, \"colorscale\": [[0.0, \"#0d0887\"], [0.1111111111111111, \"#46039f\"], [0.2222222222222222, \"#7201a8\"], [0.3333333333333333, \"#9c179e\"], [0.4444444444444444, \"#bd3786\"], [0.5555555555555556, \"#d8576b\"], [0.6666666666666666, \"#ed7953\"], [0.7777777777777778, \"#fb9f3a\"], [0.8888888888888888, \"#fdca26\"], [1.0, \"#f0f921\"]], \"type\": \"contour\"}], \"contourcarpet\": [{\"colorbar\": {\"outlinewidth\": 0, \"ticks\": \"\"}, \"type\": \"contourcarpet\"}], \"heatmap\": [{\"colorbar\": {\"outlinewidth\": 0, \"ticks\": \"\"}, \"colorscale\": [[0.0, \"#0d0887\"], [0.1111111111111111, \"#46039f\"], [0.2222222222222222, \"#7201a8\"], [0.3333333333333333, \"#9c179e\"], [0.4444444444444444, \"#bd3786\"], [0.5555555555555556, \"#d8576b\"], [0.6666666666666666, \"#ed7953\"], [0.7777777777777778, \"#fb9f3a\"], [0.8888888888888888, \"#fdca26\"], [1.0, \"#f0f921\"]], \"type\": \"heatmap\"}], \"heatmapgl\": [{\"colorbar\": {\"outlinewidth\": 0, \"ticks\": \"\"}, \"colorscale\": [[0.0, \"#0d0887\"], [0.1111111111111111, \"#46039f\"], [0.2222222222222222, \"#7201a8\"], [0.3333333333333333, \"#9c179e\"], [0.4444444444444444, \"#bd3786\"], [0.5555555555555556, \"#d8576b\"], [0.6666666666666666, \"#ed7953\"], [0.7777777777777778, \"#fb9f3a\"], [0.8888888888888888, \"#fdca26\"], [1.0, \"#f0f921\"]], \"type\": \"heatmapgl\"}], \"histogram\": [{\"marker\": {\"colorbar\": {\"outlinewidth\": 0, \"ticks\": \"\"}}, \"type\": \"histogram\"}], \"histogram2d\": [{\"colorbar\": {\"outlinewidth\": 0, \"ticks\": \"\"}, \"colorscale\": [[0.0, \"#0d0887\"], [0.1111111111111111, \"#46039f\"], [0.2222222222222222, \"#7201a8\"], [0.3333333333333333, \"#9c179e\"], [0.4444444444444444, \"#bd3786\"], [0.5555555555555556, \"#d8576b\"], [0.6666666666666666, \"#ed7953\"], [0.7777777777777778, \"#fb9f3a\"], [0.8888888888888888, \"#fdca26\"], [1.0, \"#f0f921\"]], \"type\": \"histogram2d\"}], \"histogram2dcontour\": [{\"colorbar\": {\"outlinewidth\": 0, \"ticks\": \"\"}, \"colorscale\": [[0.0, \"#0d0887\"], [0.1111111111111111, \"#46039f\"], [0.2222222222222222, \"#7201a8\"], [0.3333333333333333, \"#9c179e\"], [0.4444444444444444, \"#bd3786\"], [0.5555555555555556, \"#d8576b\"], [0.6666666666666666, \"#ed7953\"], [0.7777777777777778, \"#fb9f3a\"], [0.8888888888888888, \"#fdca26\"], [1.0, \"#f0f921\"]], \"type\": \"histogram2dcontour\"}], \"mesh3d\": [{\"colorbar\": {\"outlinewidth\": 0, \"ticks\": \"\"}, \"type\": \"mesh3d\"}], \"parcoords\": [{\"line\": {\"colorbar\": {\"outlinewidth\": 0, \"ticks\": \"\"}}, \"type\": \"parcoords\"}], \"pie\": [{\"automargin\": true, \"type\": \"pie\"}], \"scatter\": [{\"marker\": {\"colorbar\": {\"outlinewidth\": 0, \"ticks\": \"\"}}, \"type\": \"scatter\"}], \"scatter3d\": [{\"line\": {\"colorbar\": {\"outlinewidth\": 0, \"ticks\": \"\"}}, \"marker\": {\"colorbar\": {\"outlinewidth\": 0, \"ticks\": \"\"}}, \"type\": \"scatter3d\"}], \"scattercarpet\": [{\"marker\": {\"colorbar\": {\"outlinewidth\": 0, \"ticks\": \"\"}}, \"type\": \"scattercarpet\"}], \"scattergeo\": [{\"marker\": {\"colorbar\": {\"outlinewidth\": 0, \"ticks\": \"\"}}, \"type\": \"scattergeo\"}], \"scattergl\": [{\"marker\": {\"colorbar\": {\"outlinewidth\": 0, \"ticks\": \"\"}}, \"type\": \"scattergl\"}], \"scattermapbox\": [{\"marker\": {\"colorbar\": {\"outlinewidth\": 0, \"ticks\": \"\"}}, \"type\": \"scattermapbox\"}], \"scatterpolar\": [{\"marker\": {\"colorbar\": {\"outlinewidth\": 0, \"ticks\": \"\"}}, \"type\": \"scatterpolar\"}], \"scatterpolargl\": [{\"marker\": {\"colorbar\": {\"outlinewidth\": 0, \"ticks\": \"\"}}, \"type\": \"scatterpolargl\"}], \"scatterternary\": [{\"marker\": {\"colorbar\": {\"outlinewidth\": 0, \"ticks\": \"\"}}, \"type\": \"scatterternary\"}], \"surface\": [{\"colorbar\": {\"outlinewidth\": 0, \"ticks\": \"\"}, \"colorscale\": [[0.0, \"#0d0887\"], [0.1111111111111111, \"#46039f\"], [0.2222222222222222, \"#7201a8\"], [0.3333333333333333, \"#9c179e\"], [0.4444444444444444, \"#bd3786\"], [0.5555555555555556, \"#d8576b\"], [0.6666666666666666, \"#ed7953\"], [0.7777777777777778, \"#fb9f3a\"], [0.8888888888888888, \"#fdca26\"], [1.0, \"#f0f921\"]], \"type\": \"surface\"}], \"table\": [{\"cells\": {\"fill\": {\"color\": \"#EBF0F8\"}, \"line\": {\"color\": \"white\"}}, \"header\": {\"fill\": {\"color\": \"#C8D4E3\"}, \"line\": {\"color\": \"white\"}}, \"type\": \"table\"}]}, \"layout\": {\"annotationdefaults\": {\"arrowcolor\": \"#2a3f5f\", \"arrowhead\": 0, \"arrowwidth\": 1}, \"autotypenumbers\": \"strict\", \"coloraxis\": {\"colorbar\": {\"outlinewidth\": 0, \"ticks\": \"\"}}, \"colorscale\": {\"diverging\": [[0, \"#8e0152\"], [0.1, \"#c51b7d\"], [0.2, \"#de77ae\"], [0.3, \"#f1b6da\"], [0.4, \"#fde0ef\"], [0.5, \"#f7f7f7\"], [0.6, \"#e6f5d0\"], [0.7, \"#b8e186\"], [0.8, \"#7fbc41\"], [0.9, \"#4d9221\"], [1, \"#276419\"]], \"sequential\": [[0.0, \"#0d0887\"], [0.1111111111111111, \"#46039f\"], [0.2222222222222222, \"#7201a8\"], [0.3333333333333333, \"#9c179e\"], [0.4444444444444444, \"#bd3786\"], [0.5555555555555556, \"#d8576b\"], [0.6666666666666666, \"#ed7953\"], [0.7777777777777778, \"#fb9f3a\"], [0.8888888888888888, \"#fdca26\"], [1.0, \"#f0f921\"]], \"sequentialminus\": [[0.0, \"#0d0887\"], [0.1111111111111111, \"#46039f\"], [0.2222222222222222, \"#7201a8\"], [0.3333333333333333, \"#9c179e\"], [0.4444444444444444, \"#bd3786\"], [0.5555555555555556, \"#d8576b\"], [0.6666666666666666, \"#ed7953\"], [0.7777777777777778, \"#fb9f3a\"], [0.8888888888888888, \"#fdca26\"], [1.0, \"#f0f921\"]]}, \"colorway\": [\"#636efa\", \"#EF553B\", \"#00cc96\", \"#ab63fa\", \"#FFA15A\", \"#19d3f3\", \"#FF6692\", \"#B6E880\", \"#FF97FF\", \"#FECB52\"], \"font\": {\"color\": \"#2a3f5f\"}, \"geo\": {\"bgcolor\": \"white\", \"lakecolor\": \"white\", \"landcolor\": \"#E5ECF6\", \"showlakes\": true, \"showland\": true, \"subunitcolor\": \"white\"}, \"hoverlabel\": {\"align\": \"left\"}, \"hovermode\": \"closest\", \"mapbox\": {\"style\": \"light\"}, \"paper_bgcolor\": \"white\", \"plot_bgcolor\": \"#E5ECF6\", \"polar\": {\"angularaxis\": {\"gridcolor\": \"white\", \"linecolor\": \"white\", \"ticks\": \"\"}, \"bgcolor\": \"#E5ECF6\", \"radialaxis\": {\"gridcolor\": \"white\", \"linecolor\": \"white\", \"ticks\": \"\"}}, \"scene\": {\"xaxis\": {\"backgroundcolor\": \"#E5ECF6\", \"gridcolor\": \"white\", \"gridwidth\": 2, \"linecolor\": \"white\", \"showbackground\": true, \"ticks\": \"\", \"zerolinecolor\": \"white\"}, \"yaxis\": {\"backgroundcolor\": \"#E5ECF6\", \"gridcolor\": \"white\", \"gridwidth\": 2, \"linecolor\": \"white\", \"showbackground\": true, \"ticks\": \"\", \"zerolinecolor\": \"white\"}, \"zaxis\": {\"backgroundcolor\": \"#E5ECF6\", \"gridcolor\": \"white\", \"gridwidth\": 2, \"linecolor\": \"white\", \"showbackground\": true, \"ticks\": \"\", \"zerolinecolor\": \"white\"}}, \"shapedefaults\": {\"line\": {\"color\": \"#2a3f5f\"}}, \"ternary\": {\"aaxis\": {\"gridcolor\": \"white\", \"linecolor\": \"white\", \"ticks\": \"\"}, \"baxis\": {\"gridcolor\": \"white\", \"linecolor\": \"white\", \"ticks\": \"\"}, \"bgcolor\": \"#E5ECF6\", \"caxis\": {\"gridcolor\": \"white\", \"linecolor\": \"white\", \"ticks\": \"\"}}, \"title\": {\"x\": 0.05}, \"xaxis\": {\"automargin\": true, \"gridcolor\": \"white\", \"linecolor\": \"white\", \"ticks\": \"\", \"title\": {\"standoff\": 15}, \"zerolinecolor\": \"white\", \"zerolinewidth\": 2}, \"yaxis\": {\"automargin\": true, \"gridcolor\": \"white\", \"linecolor\": \"white\", \"ticks\": \"\", \"title\": {\"standoff\": 15}, \"zerolinecolor\": \"white\", \"zerolinewidth\": 2}}}, \"title\": {\"font\": {\"color\": \"#4D5663\"}}, \"xaxis\": {\"gridcolor\": \"#E1E5ED\", \"showgrid\": true, \"tickfont\": {\"color\": \"#4D5663\"}, \"title\": {\"font\": {\"color\": \"#4D5663\"}, \"text\": \"\"}, \"zerolinecolor\": \"#E1E5ED\"}, \"yaxis\": {\"gridcolor\": \"#E1E5ED\", \"showgrid\": true, \"tickfont\": {\"color\": \"#4D5663\"}, \"title\": {\"font\": {\"color\": \"#4D5663\"}, \"text\": \"\"}, \"zerolinecolor\": \"#E1E5ED\"}},                        {\"showLink\": true, \"linkText\": \"Export to plot.ly\", \"plotlyServerURL\": \"https://plot.ly\", \"responsive\": true}                    ).then(function(){\n",
       "                            \n",
       "var gd = document.getElementById('da768109-9657-4fbf-816b-9bd369732236');\n",
       "var x = new MutationObserver(function (mutations, observer) {{\n",
       "        var display = window.getComputedStyle(gd).display;\n",
       "        if (!display || display === 'none') {{\n",
       "            console.log([gd, 'removed!']);\n",
       "            Plotly.purge(gd);\n",
       "            observer.disconnect();\n",
       "        }}\n",
       "}});\n",
       "\n",
       "// Listen for the removal of the full notebook cells\n",
       "var notebookContainer = gd.closest('#notebook-container');\n",
       "if (notebookContainer) {{\n",
       "    x.observe(notebookContainer, {childList: true});\n",
       "}}\n",
       "\n",
       "// Listen for the clearing of the current output cell\n",
       "var outputEl = gd.closest('.output');\n",
       "if (outputEl) {{\n",
       "    x.observe(outputEl, {childList: true});\n",
       "}}\n",
       "\n",
       "                        })                };                });            </script>        </div>"
      ]
     },
     "metadata": {},
     "output_type": "display_data"
    }
   ],
   "source": [
    "df.iplot(kind='box')"
   ]
  },
  {
   "cell_type": "code",
   "execution_count": 38,
   "metadata": {},
   "outputs": [],
   "source": [
    "df3 = pd.DataFrame({'x':[1,2,3,4,5], 'y':[10,20,30,40,50], 'z':[5,4,3,2,1]})"
   ]
  },
  {
   "cell_type": "code",
   "execution_count": 39,
   "metadata": {},
   "outputs": [
    {
     "data": {
      "text/html": [
       "<div>\n",
       "<style scoped>\n",
       "    .dataframe tbody tr th:only-of-type {\n",
       "        vertical-align: middle;\n",
       "    }\n",
       "\n",
       "    .dataframe tbody tr th {\n",
       "        vertical-align: top;\n",
       "    }\n",
       "\n",
       "    .dataframe thead th {\n",
       "        text-align: right;\n",
       "    }\n",
       "</style>\n",
       "<table border=\"1\" class=\"dataframe\">\n",
       "  <thead>\n",
       "    <tr style=\"text-align: right;\">\n",
       "      <th></th>\n",
       "      <th>x</th>\n",
       "      <th>y</th>\n",
       "      <th>z</th>\n",
       "    </tr>\n",
       "  </thead>\n",
       "  <tbody>\n",
       "    <tr>\n",
       "      <td>0</td>\n",
       "      <td>1</td>\n",
       "      <td>10</td>\n",
       "      <td>5</td>\n",
       "    </tr>\n",
       "    <tr>\n",
       "      <td>1</td>\n",
       "      <td>2</td>\n",
       "      <td>20</td>\n",
       "      <td>4</td>\n",
       "    </tr>\n",
       "    <tr>\n",
       "      <td>2</td>\n",
       "      <td>3</td>\n",
       "      <td>30</td>\n",
       "      <td>3</td>\n",
       "    </tr>\n",
       "    <tr>\n",
       "      <td>3</td>\n",
       "      <td>4</td>\n",
       "      <td>40</td>\n",
       "      <td>2</td>\n",
       "    </tr>\n",
       "    <tr>\n",
       "      <td>4</td>\n",
       "      <td>5</td>\n",
       "      <td>50</td>\n",
       "      <td>1</td>\n",
       "    </tr>\n",
       "  </tbody>\n",
       "</table>\n",
       "</div>"
      ],
      "text/plain": [
       "   x   y  z\n",
       "0  1  10  5\n",
       "1  2  20  4\n",
       "2  3  30  3\n",
       "3  4  40  2\n",
       "4  5  50  1"
      ]
     },
     "execution_count": 39,
     "metadata": {},
     "output_type": "execute_result"
    }
   ],
   "source": [
    "df3"
   ]
  },
  {
   "cell_type": "code",
   "execution_count": 42,
   "metadata": {},
   "outputs": [
    {
     "data": {
      "application/vnd.plotly.v1+json": {
       "config": {
        "linkText": "Export to plot.ly",
        "plotlyServerURL": "https://plot.ly",
        "showLink": true
       },
       "data": [
        {
         "colorscale": [
          [
           0,
           "rgb(165,0,38)"
          ],
          [
           0.1,
           "rgb(215,48,39)"
          ],
          [
           0.2,
           "rgb(244,109,67)"
          ],
          [
           0.3,
           "rgb(253,174,97)"
          ],
          [
           0.4,
           "rgb(254,224,144)"
          ],
          [
           0.5,
           "rgb(255,255,191)"
          ],
          [
           0.6,
           "rgb(224,243,248)"
          ],
          [
           0.7,
           "rgb(171,217,233)"
          ],
          [
           0.8,
           "rgb(116,173,209)"
          ],
          [
           0.9,
           "rgb(69,117,180)"
          ],
          [
           1,
           "rgb(49,54,149)"
          ]
         ],
         "type": "surface",
         "x": [
          0,
          1,
          2,
          3,
          4
         ],
         "y": [
          "x",
          "y",
          "z"
         ],
         "z": [
          [
           1,
           2,
           3,
           4,
           5
          ],
          [
           10,
           20,
           30,
           40,
           50
          ],
          [
           5,
           4,
           3,
           2,
           1
          ]
         ]
        }
       ],
       "layout": {
        "legend": {
         "bgcolor": "#F5F6F9",
         "font": {
          "color": "#4D5663"
         }
        },
        "paper_bgcolor": "#F5F6F9",
        "plot_bgcolor": "#F5F6F9",
        "template": {
         "data": {
          "bar": [
           {
            "error_x": {
             "color": "#2a3f5f"
            },
            "error_y": {
             "color": "#2a3f5f"
            },
            "marker": {
             "line": {
              "color": "#E5ECF6",
              "width": 0.5
             }
            },
            "type": "bar"
           }
          ],
          "barpolar": [
           {
            "marker": {
             "line": {
              "color": "#E5ECF6",
              "width": 0.5
             }
            },
            "type": "barpolar"
           }
          ],
          "carpet": [
           {
            "aaxis": {
             "endlinecolor": "#2a3f5f",
             "gridcolor": "white",
             "linecolor": "white",
             "minorgridcolor": "white",
             "startlinecolor": "#2a3f5f"
            },
            "baxis": {
             "endlinecolor": "#2a3f5f",
             "gridcolor": "white",
             "linecolor": "white",
             "minorgridcolor": "white",
             "startlinecolor": "#2a3f5f"
            },
            "type": "carpet"
           }
          ],
          "choropleth": [
           {
            "colorbar": {
             "outlinewidth": 0,
             "ticks": ""
            },
            "type": "choropleth"
           }
          ],
          "contour": [
           {
            "colorbar": {
             "outlinewidth": 0,
             "ticks": ""
            },
            "colorscale": [
             [
              0,
              "#0d0887"
             ],
             [
              0.1111111111111111,
              "#46039f"
             ],
             [
              0.2222222222222222,
              "#7201a8"
             ],
             [
              0.3333333333333333,
              "#9c179e"
             ],
             [
              0.4444444444444444,
              "#bd3786"
             ],
             [
              0.5555555555555556,
              "#d8576b"
             ],
             [
              0.6666666666666666,
              "#ed7953"
             ],
             [
              0.7777777777777778,
              "#fb9f3a"
             ],
             [
              0.8888888888888888,
              "#fdca26"
             ],
             [
              1,
              "#f0f921"
             ]
            ],
            "type": "contour"
           }
          ],
          "contourcarpet": [
           {
            "colorbar": {
             "outlinewidth": 0,
             "ticks": ""
            },
            "type": "contourcarpet"
           }
          ],
          "heatmap": [
           {
            "colorbar": {
             "outlinewidth": 0,
             "ticks": ""
            },
            "colorscale": [
             [
              0,
              "#0d0887"
             ],
             [
              0.1111111111111111,
              "#46039f"
             ],
             [
              0.2222222222222222,
              "#7201a8"
             ],
             [
              0.3333333333333333,
              "#9c179e"
             ],
             [
              0.4444444444444444,
              "#bd3786"
             ],
             [
              0.5555555555555556,
              "#d8576b"
             ],
             [
              0.6666666666666666,
              "#ed7953"
             ],
             [
              0.7777777777777778,
              "#fb9f3a"
             ],
             [
              0.8888888888888888,
              "#fdca26"
             ],
             [
              1,
              "#f0f921"
             ]
            ],
            "type": "heatmap"
           }
          ],
          "heatmapgl": [
           {
            "colorbar": {
             "outlinewidth": 0,
             "ticks": ""
            },
            "colorscale": [
             [
              0,
              "#0d0887"
             ],
             [
              0.1111111111111111,
              "#46039f"
             ],
             [
              0.2222222222222222,
              "#7201a8"
             ],
             [
              0.3333333333333333,
              "#9c179e"
             ],
             [
              0.4444444444444444,
              "#bd3786"
             ],
             [
              0.5555555555555556,
              "#d8576b"
             ],
             [
              0.6666666666666666,
              "#ed7953"
             ],
             [
              0.7777777777777778,
              "#fb9f3a"
             ],
             [
              0.8888888888888888,
              "#fdca26"
             ],
             [
              1,
              "#f0f921"
             ]
            ],
            "type": "heatmapgl"
           }
          ],
          "histogram": [
           {
            "marker": {
             "colorbar": {
              "outlinewidth": 0,
              "ticks": ""
             }
            },
            "type": "histogram"
           }
          ],
          "histogram2d": [
           {
            "colorbar": {
             "outlinewidth": 0,
             "ticks": ""
            },
            "colorscale": [
             [
              0,
              "#0d0887"
             ],
             [
              0.1111111111111111,
              "#46039f"
             ],
             [
              0.2222222222222222,
              "#7201a8"
             ],
             [
              0.3333333333333333,
              "#9c179e"
             ],
             [
              0.4444444444444444,
              "#bd3786"
             ],
             [
              0.5555555555555556,
              "#d8576b"
             ],
             [
              0.6666666666666666,
              "#ed7953"
             ],
             [
              0.7777777777777778,
              "#fb9f3a"
             ],
             [
              0.8888888888888888,
              "#fdca26"
             ],
             [
              1,
              "#f0f921"
             ]
            ],
            "type": "histogram2d"
           }
          ],
          "histogram2dcontour": [
           {
            "colorbar": {
             "outlinewidth": 0,
             "ticks": ""
            },
            "colorscale": [
             [
              0,
              "#0d0887"
             ],
             [
              0.1111111111111111,
              "#46039f"
             ],
             [
              0.2222222222222222,
              "#7201a8"
             ],
             [
              0.3333333333333333,
              "#9c179e"
             ],
             [
              0.4444444444444444,
              "#bd3786"
             ],
             [
              0.5555555555555556,
              "#d8576b"
             ],
             [
              0.6666666666666666,
              "#ed7953"
             ],
             [
              0.7777777777777778,
              "#fb9f3a"
             ],
             [
              0.8888888888888888,
              "#fdca26"
             ],
             [
              1,
              "#f0f921"
             ]
            ],
            "type": "histogram2dcontour"
           }
          ],
          "mesh3d": [
           {
            "colorbar": {
             "outlinewidth": 0,
             "ticks": ""
            },
            "type": "mesh3d"
           }
          ],
          "parcoords": [
           {
            "line": {
             "colorbar": {
              "outlinewidth": 0,
              "ticks": ""
             }
            },
            "type": "parcoords"
           }
          ],
          "pie": [
           {
            "automargin": true,
            "type": "pie"
           }
          ],
          "scatter": [
           {
            "marker": {
             "colorbar": {
              "outlinewidth": 0,
              "ticks": ""
             }
            },
            "type": "scatter"
           }
          ],
          "scatter3d": [
           {
            "line": {
             "colorbar": {
              "outlinewidth": 0,
              "ticks": ""
             }
            },
            "marker": {
             "colorbar": {
              "outlinewidth": 0,
              "ticks": ""
             }
            },
            "type": "scatter3d"
           }
          ],
          "scattercarpet": [
           {
            "marker": {
             "colorbar": {
              "outlinewidth": 0,
              "ticks": ""
             }
            },
            "type": "scattercarpet"
           }
          ],
          "scattergeo": [
           {
            "marker": {
             "colorbar": {
              "outlinewidth": 0,
              "ticks": ""
             }
            },
            "type": "scattergeo"
           }
          ],
          "scattergl": [
           {
            "marker": {
             "colorbar": {
              "outlinewidth": 0,
              "ticks": ""
             }
            },
            "type": "scattergl"
           }
          ],
          "scattermapbox": [
           {
            "marker": {
             "colorbar": {
              "outlinewidth": 0,
              "ticks": ""
             }
            },
            "type": "scattermapbox"
           }
          ],
          "scatterpolar": [
           {
            "marker": {
             "colorbar": {
              "outlinewidth": 0,
              "ticks": ""
             }
            },
            "type": "scatterpolar"
           }
          ],
          "scatterpolargl": [
           {
            "marker": {
             "colorbar": {
              "outlinewidth": 0,
              "ticks": ""
             }
            },
            "type": "scatterpolargl"
           }
          ],
          "scatterternary": [
           {
            "marker": {
             "colorbar": {
              "outlinewidth": 0,
              "ticks": ""
             }
            },
            "type": "scatterternary"
           }
          ],
          "surface": [
           {
            "colorbar": {
             "outlinewidth": 0,
             "ticks": ""
            },
            "colorscale": [
             [
              0,
              "#0d0887"
             ],
             [
              0.1111111111111111,
              "#46039f"
             ],
             [
              0.2222222222222222,
              "#7201a8"
             ],
             [
              0.3333333333333333,
              "#9c179e"
             ],
             [
              0.4444444444444444,
              "#bd3786"
             ],
             [
              0.5555555555555556,
              "#d8576b"
             ],
             [
              0.6666666666666666,
              "#ed7953"
             ],
             [
              0.7777777777777778,
              "#fb9f3a"
             ],
             [
              0.8888888888888888,
              "#fdca26"
             ],
             [
              1,
              "#f0f921"
             ]
            ],
            "type": "surface"
           }
          ],
          "table": [
           {
            "cells": {
             "fill": {
              "color": "#EBF0F8"
             },
             "line": {
              "color": "white"
             }
            },
            "header": {
             "fill": {
              "color": "#C8D4E3"
             },
             "line": {
              "color": "white"
             }
            },
            "type": "table"
           }
          ]
         },
         "layout": {
          "annotationdefaults": {
           "arrowcolor": "#2a3f5f",
           "arrowhead": 0,
           "arrowwidth": 1
          },
          "autotypenumbers": "strict",
          "coloraxis": {
           "colorbar": {
            "outlinewidth": 0,
            "ticks": ""
           }
          },
          "colorscale": {
           "diverging": [
            [
             0,
             "#8e0152"
            ],
            [
             0.1,
             "#c51b7d"
            ],
            [
             0.2,
             "#de77ae"
            ],
            [
             0.3,
             "#f1b6da"
            ],
            [
             0.4,
             "#fde0ef"
            ],
            [
             0.5,
             "#f7f7f7"
            ],
            [
             0.6,
             "#e6f5d0"
            ],
            [
             0.7,
             "#b8e186"
            ],
            [
             0.8,
             "#7fbc41"
            ],
            [
             0.9,
             "#4d9221"
            ],
            [
             1,
             "#276419"
            ]
           ],
           "sequential": [
            [
             0,
             "#0d0887"
            ],
            [
             0.1111111111111111,
             "#46039f"
            ],
            [
             0.2222222222222222,
             "#7201a8"
            ],
            [
             0.3333333333333333,
             "#9c179e"
            ],
            [
             0.4444444444444444,
             "#bd3786"
            ],
            [
             0.5555555555555556,
             "#d8576b"
            ],
            [
             0.6666666666666666,
             "#ed7953"
            ],
            [
             0.7777777777777778,
             "#fb9f3a"
            ],
            [
             0.8888888888888888,
             "#fdca26"
            ],
            [
             1,
             "#f0f921"
            ]
           ],
           "sequentialminus": [
            [
             0,
             "#0d0887"
            ],
            [
             0.1111111111111111,
             "#46039f"
            ],
            [
             0.2222222222222222,
             "#7201a8"
            ],
            [
             0.3333333333333333,
             "#9c179e"
            ],
            [
             0.4444444444444444,
             "#bd3786"
            ],
            [
             0.5555555555555556,
             "#d8576b"
            ],
            [
             0.6666666666666666,
             "#ed7953"
            ],
            [
             0.7777777777777778,
             "#fb9f3a"
            ],
            [
             0.8888888888888888,
             "#fdca26"
            ],
            [
             1,
             "#f0f921"
            ]
           ]
          },
          "colorway": [
           "#636efa",
           "#EF553B",
           "#00cc96",
           "#ab63fa",
           "#FFA15A",
           "#19d3f3",
           "#FF6692",
           "#B6E880",
           "#FF97FF",
           "#FECB52"
          ],
          "font": {
           "color": "#2a3f5f"
          },
          "geo": {
           "bgcolor": "white",
           "lakecolor": "white",
           "landcolor": "#E5ECF6",
           "showlakes": true,
           "showland": true,
           "subunitcolor": "white"
          },
          "hoverlabel": {
           "align": "left"
          },
          "hovermode": "closest",
          "mapbox": {
           "style": "light"
          },
          "paper_bgcolor": "white",
          "plot_bgcolor": "#E5ECF6",
          "polar": {
           "angularaxis": {
            "gridcolor": "white",
            "linecolor": "white",
            "ticks": ""
           },
           "bgcolor": "#E5ECF6",
           "radialaxis": {
            "gridcolor": "white",
            "linecolor": "white",
            "ticks": ""
           }
          },
          "scene": {
           "xaxis": {
            "backgroundcolor": "#E5ECF6",
            "gridcolor": "white",
            "gridwidth": 2,
            "linecolor": "white",
            "showbackground": true,
            "ticks": "",
            "zerolinecolor": "white"
           },
           "yaxis": {
            "backgroundcolor": "#E5ECF6",
            "gridcolor": "white",
            "gridwidth": 2,
            "linecolor": "white",
            "showbackground": true,
            "ticks": "",
            "zerolinecolor": "white"
           },
           "zaxis": {
            "backgroundcolor": "#E5ECF6",
            "gridcolor": "white",
            "gridwidth": 2,
            "linecolor": "white",
            "showbackground": true,
            "ticks": "",
            "zerolinecolor": "white"
           }
          },
          "shapedefaults": {
           "line": {
            "color": "#2a3f5f"
           }
          },
          "ternary": {
           "aaxis": {
            "gridcolor": "white",
            "linecolor": "white",
            "ticks": ""
           },
           "baxis": {
            "gridcolor": "white",
            "linecolor": "white",
            "ticks": ""
           },
           "bgcolor": "#E5ECF6",
           "caxis": {
            "gridcolor": "white",
            "linecolor": "white",
            "ticks": ""
           }
          },
          "title": {
           "x": 0.05
          },
          "xaxis": {
           "automargin": true,
           "gridcolor": "white",
           "linecolor": "white",
           "ticks": "",
           "title": {
            "standoff": 15
           },
           "zerolinecolor": "white",
           "zerolinewidth": 2
          },
          "yaxis": {
           "automargin": true,
           "gridcolor": "white",
           "linecolor": "white",
           "ticks": "",
           "title": {
            "standoff": 15
           },
           "zerolinecolor": "white",
           "zerolinewidth": 2
          }
         }
        },
        "title": {
         "font": {
          "color": "#4D5663"
         }
        },
        "xaxis": {
         "gridcolor": "#E1E5ED",
         "showgrid": true,
         "tickfont": {
          "color": "#4D5663"
         },
         "title": {
          "font": {
           "color": "#4D5663"
          },
          "text": ""
         },
         "zerolinecolor": "#E1E5ED"
        },
        "yaxis": {
         "gridcolor": "#E1E5ED",
         "showgrid": true,
         "tickfont": {
          "color": "#4D5663"
         },
         "title": {
          "font": {
           "color": "#4D5663"
          },
          "text": ""
         },
         "zerolinecolor": "#E1E5ED"
        }
       }
      },
      "text/html": [
       "<div>                            <div id=\"d4a991f6-95bb-4d71-9da8-35ae7a738bb5\" class=\"plotly-graph-div\" style=\"height:525px; width:100%;\"></div>            <script type=\"text/javascript\">                require([\"plotly\"], function(Plotly) {                    window.PLOTLYENV=window.PLOTLYENV || {};\n",
       "                    window.PLOTLYENV.BASE_URL='https://plot.ly';                                    if (document.getElementById(\"d4a991f6-95bb-4d71-9da8-35ae7a738bb5\")) {                    Plotly.newPlot(                        \"d4a991f6-95bb-4d71-9da8-35ae7a738bb5\",                        [{\"colorscale\": [[0.0, \"rgb(165,0,38)\"], [0.1, \"rgb(215,48,39)\"], [0.2, \"rgb(244,109,67)\"], [0.3, \"rgb(253,174,97)\"], [0.4, \"rgb(254,224,144)\"], [0.5, \"rgb(255,255,191)\"], [0.6, \"rgb(224,243,248)\"], [0.7, \"rgb(171,217,233)\"], [0.8, \"rgb(116,173,209)\"], [0.9, \"rgb(69,117,180)\"], [1.0, \"rgb(49,54,149)\"]], \"type\": \"surface\", \"x\": [0, 1, 2, 3, 4], \"y\": [\"x\", \"y\", \"z\"], \"z\": [[1, 2, 3, 4, 5], [10, 20, 30, 40, 50], [5, 4, 3, 2, 1]]}],                        {\"legend\": {\"bgcolor\": \"#F5F6F9\", \"font\": {\"color\": \"#4D5663\"}}, \"paper_bgcolor\": \"#F5F6F9\", \"plot_bgcolor\": \"#F5F6F9\", \"template\": {\"data\": {\"bar\": [{\"error_x\": {\"color\": \"#2a3f5f\"}, \"error_y\": {\"color\": \"#2a3f5f\"}, \"marker\": {\"line\": {\"color\": \"#E5ECF6\", \"width\": 0.5}}, \"type\": \"bar\"}], \"barpolar\": [{\"marker\": {\"line\": {\"color\": \"#E5ECF6\", \"width\": 0.5}}, \"type\": \"barpolar\"}], \"carpet\": [{\"aaxis\": {\"endlinecolor\": \"#2a3f5f\", \"gridcolor\": \"white\", \"linecolor\": \"white\", \"minorgridcolor\": \"white\", \"startlinecolor\": \"#2a3f5f\"}, \"baxis\": {\"endlinecolor\": \"#2a3f5f\", \"gridcolor\": \"white\", \"linecolor\": \"white\", \"minorgridcolor\": \"white\", \"startlinecolor\": \"#2a3f5f\"}, \"type\": \"carpet\"}], \"choropleth\": [{\"colorbar\": {\"outlinewidth\": 0, \"ticks\": \"\"}, \"type\": \"choropleth\"}], \"contour\": [{\"colorbar\": {\"outlinewidth\": 0, \"ticks\": \"\"}, \"colorscale\": [[0.0, \"#0d0887\"], [0.1111111111111111, \"#46039f\"], [0.2222222222222222, \"#7201a8\"], [0.3333333333333333, \"#9c179e\"], [0.4444444444444444, \"#bd3786\"], [0.5555555555555556, \"#d8576b\"], [0.6666666666666666, \"#ed7953\"], [0.7777777777777778, \"#fb9f3a\"], [0.8888888888888888, \"#fdca26\"], [1.0, \"#f0f921\"]], \"type\": \"contour\"}], \"contourcarpet\": [{\"colorbar\": {\"outlinewidth\": 0, \"ticks\": \"\"}, \"type\": \"contourcarpet\"}], \"heatmap\": [{\"colorbar\": {\"outlinewidth\": 0, \"ticks\": \"\"}, \"colorscale\": [[0.0, \"#0d0887\"], [0.1111111111111111, \"#46039f\"], [0.2222222222222222, \"#7201a8\"], [0.3333333333333333, \"#9c179e\"], [0.4444444444444444, \"#bd3786\"], [0.5555555555555556, \"#d8576b\"], [0.6666666666666666, \"#ed7953\"], [0.7777777777777778, \"#fb9f3a\"], [0.8888888888888888, \"#fdca26\"], [1.0, \"#f0f921\"]], \"type\": \"heatmap\"}], \"heatmapgl\": [{\"colorbar\": {\"outlinewidth\": 0, \"ticks\": \"\"}, \"colorscale\": [[0.0, \"#0d0887\"], [0.1111111111111111, \"#46039f\"], [0.2222222222222222, \"#7201a8\"], [0.3333333333333333, \"#9c179e\"], [0.4444444444444444, \"#bd3786\"], [0.5555555555555556, \"#d8576b\"], [0.6666666666666666, \"#ed7953\"], [0.7777777777777778, \"#fb9f3a\"], [0.8888888888888888, \"#fdca26\"], [1.0, \"#f0f921\"]], \"type\": \"heatmapgl\"}], \"histogram\": [{\"marker\": {\"colorbar\": {\"outlinewidth\": 0, \"ticks\": \"\"}}, \"type\": \"histogram\"}], \"histogram2d\": [{\"colorbar\": {\"outlinewidth\": 0, \"ticks\": \"\"}, \"colorscale\": [[0.0, \"#0d0887\"], [0.1111111111111111, \"#46039f\"], [0.2222222222222222, \"#7201a8\"], [0.3333333333333333, \"#9c179e\"], [0.4444444444444444, \"#bd3786\"], [0.5555555555555556, \"#d8576b\"], [0.6666666666666666, \"#ed7953\"], [0.7777777777777778, \"#fb9f3a\"], [0.8888888888888888, \"#fdca26\"], [1.0, \"#f0f921\"]], \"type\": \"histogram2d\"}], \"histogram2dcontour\": [{\"colorbar\": {\"outlinewidth\": 0, \"ticks\": \"\"}, \"colorscale\": [[0.0, \"#0d0887\"], [0.1111111111111111, \"#46039f\"], [0.2222222222222222, \"#7201a8\"], [0.3333333333333333, \"#9c179e\"], [0.4444444444444444, \"#bd3786\"], [0.5555555555555556, \"#d8576b\"], [0.6666666666666666, \"#ed7953\"], [0.7777777777777778, \"#fb9f3a\"], [0.8888888888888888, \"#fdca26\"], [1.0, \"#f0f921\"]], \"type\": \"histogram2dcontour\"}], \"mesh3d\": [{\"colorbar\": {\"outlinewidth\": 0, \"ticks\": \"\"}, \"type\": \"mesh3d\"}], \"parcoords\": [{\"line\": {\"colorbar\": {\"outlinewidth\": 0, \"ticks\": \"\"}}, \"type\": \"parcoords\"}], \"pie\": [{\"automargin\": true, \"type\": \"pie\"}], \"scatter\": [{\"marker\": {\"colorbar\": {\"outlinewidth\": 0, \"ticks\": \"\"}}, \"type\": \"scatter\"}], \"scatter3d\": [{\"line\": {\"colorbar\": {\"outlinewidth\": 0, \"ticks\": \"\"}}, \"marker\": {\"colorbar\": {\"outlinewidth\": 0, \"ticks\": \"\"}}, \"type\": \"scatter3d\"}], \"scattercarpet\": [{\"marker\": {\"colorbar\": {\"outlinewidth\": 0, \"ticks\": \"\"}}, \"type\": \"scattercarpet\"}], \"scattergeo\": [{\"marker\": {\"colorbar\": {\"outlinewidth\": 0, \"ticks\": \"\"}}, \"type\": \"scattergeo\"}], \"scattergl\": [{\"marker\": {\"colorbar\": {\"outlinewidth\": 0, \"ticks\": \"\"}}, \"type\": \"scattergl\"}], \"scattermapbox\": [{\"marker\": {\"colorbar\": {\"outlinewidth\": 0, \"ticks\": \"\"}}, \"type\": \"scattermapbox\"}], \"scatterpolar\": [{\"marker\": {\"colorbar\": {\"outlinewidth\": 0, \"ticks\": \"\"}}, \"type\": \"scatterpolar\"}], \"scatterpolargl\": [{\"marker\": {\"colorbar\": {\"outlinewidth\": 0, \"ticks\": \"\"}}, \"type\": \"scatterpolargl\"}], \"scatterternary\": [{\"marker\": {\"colorbar\": {\"outlinewidth\": 0, \"ticks\": \"\"}}, \"type\": \"scatterternary\"}], \"surface\": [{\"colorbar\": {\"outlinewidth\": 0, \"ticks\": \"\"}, \"colorscale\": [[0.0, \"#0d0887\"], [0.1111111111111111, \"#46039f\"], [0.2222222222222222, \"#7201a8\"], [0.3333333333333333, \"#9c179e\"], [0.4444444444444444, \"#bd3786\"], [0.5555555555555556, \"#d8576b\"], [0.6666666666666666, \"#ed7953\"], [0.7777777777777778, \"#fb9f3a\"], [0.8888888888888888, \"#fdca26\"], [1.0, \"#f0f921\"]], \"type\": \"surface\"}], \"table\": [{\"cells\": {\"fill\": {\"color\": \"#EBF0F8\"}, \"line\": {\"color\": \"white\"}}, \"header\": {\"fill\": {\"color\": \"#C8D4E3\"}, \"line\": {\"color\": \"white\"}}, \"type\": \"table\"}]}, \"layout\": {\"annotationdefaults\": {\"arrowcolor\": \"#2a3f5f\", \"arrowhead\": 0, \"arrowwidth\": 1}, \"autotypenumbers\": \"strict\", \"coloraxis\": {\"colorbar\": {\"outlinewidth\": 0, \"ticks\": \"\"}}, \"colorscale\": {\"diverging\": [[0, \"#8e0152\"], [0.1, \"#c51b7d\"], [0.2, \"#de77ae\"], [0.3, \"#f1b6da\"], [0.4, \"#fde0ef\"], [0.5, \"#f7f7f7\"], [0.6, \"#e6f5d0\"], [0.7, \"#b8e186\"], [0.8, \"#7fbc41\"], [0.9, \"#4d9221\"], [1, \"#276419\"]], \"sequential\": [[0.0, \"#0d0887\"], [0.1111111111111111, \"#46039f\"], [0.2222222222222222, \"#7201a8\"], [0.3333333333333333, \"#9c179e\"], [0.4444444444444444, \"#bd3786\"], [0.5555555555555556, \"#d8576b\"], [0.6666666666666666, \"#ed7953\"], [0.7777777777777778, \"#fb9f3a\"], [0.8888888888888888, \"#fdca26\"], [1.0, \"#f0f921\"]], \"sequentialminus\": [[0.0, \"#0d0887\"], [0.1111111111111111, \"#46039f\"], [0.2222222222222222, \"#7201a8\"], [0.3333333333333333, \"#9c179e\"], [0.4444444444444444, \"#bd3786\"], [0.5555555555555556, \"#d8576b\"], [0.6666666666666666, \"#ed7953\"], [0.7777777777777778, \"#fb9f3a\"], [0.8888888888888888, \"#fdca26\"], [1.0, \"#f0f921\"]]}, \"colorway\": [\"#636efa\", \"#EF553B\", \"#00cc96\", \"#ab63fa\", \"#FFA15A\", \"#19d3f3\", \"#FF6692\", \"#B6E880\", \"#FF97FF\", \"#FECB52\"], \"font\": {\"color\": \"#2a3f5f\"}, \"geo\": {\"bgcolor\": \"white\", \"lakecolor\": \"white\", \"landcolor\": \"#E5ECF6\", \"showlakes\": true, \"showland\": true, \"subunitcolor\": \"white\"}, \"hoverlabel\": {\"align\": \"left\"}, \"hovermode\": \"closest\", \"mapbox\": {\"style\": \"light\"}, \"paper_bgcolor\": \"white\", \"plot_bgcolor\": \"#E5ECF6\", \"polar\": {\"angularaxis\": {\"gridcolor\": \"white\", \"linecolor\": \"white\", \"ticks\": \"\"}, \"bgcolor\": \"#E5ECF6\", \"radialaxis\": {\"gridcolor\": \"white\", \"linecolor\": \"white\", \"ticks\": \"\"}}, \"scene\": {\"xaxis\": {\"backgroundcolor\": \"#E5ECF6\", \"gridcolor\": \"white\", \"gridwidth\": 2, \"linecolor\": \"white\", \"showbackground\": true, \"ticks\": \"\", \"zerolinecolor\": \"white\"}, \"yaxis\": {\"backgroundcolor\": \"#E5ECF6\", \"gridcolor\": \"white\", \"gridwidth\": 2, \"linecolor\": \"white\", \"showbackground\": true, \"ticks\": \"\", \"zerolinecolor\": \"white\"}, \"zaxis\": {\"backgroundcolor\": \"#E5ECF6\", \"gridcolor\": \"white\", \"gridwidth\": 2, \"linecolor\": \"white\", \"showbackground\": true, \"ticks\": \"\", \"zerolinecolor\": \"white\"}}, \"shapedefaults\": {\"line\": {\"color\": \"#2a3f5f\"}}, \"ternary\": {\"aaxis\": {\"gridcolor\": \"white\", \"linecolor\": \"white\", \"ticks\": \"\"}, \"baxis\": {\"gridcolor\": \"white\", \"linecolor\": \"white\", \"ticks\": \"\"}, \"bgcolor\": \"#E5ECF6\", \"caxis\": {\"gridcolor\": \"white\", \"linecolor\": \"white\", \"ticks\": \"\"}}, \"title\": {\"x\": 0.05}, \"xaxis\": {\"automargin\": true, \"gridcolor\": \"white\", \"linecolor\": \"white\", \"ticks\": \"\", \"title\": {\"standoff\": 15}, \"zerolinecolor\": \"white\", \"zerolinewidth\": 2}, \"yaxis\": {\"automargin\": true, \"gridcolor\": \"white\", \"linecolor\": \"white\", \"ticks\": \"\", \"title\": {\"standoff\": 15}, \"zerolinecolor\": \"white\", \"zerolinewidth\": 2}}}, \"title\": {\"font\": {\"color\": \"#4D5663\"}}, \"xaxis\": {\"gridcolor\": \"#E1E5ED\", \"showgrid\": true, \"tickfont\": {\"color\": \"#4D5663\"}, \"title\": {\"font\": {\"color\": \"#4D5663\"}, \"text\": \"\"}, \"zerolinecolor\": \"#E1E5ED\"}, \"yaxis\": {\"gridcolor\": \"#E1E5ED\", \"showgrid\": true, \"tickfont\": {\"color\": \"#4D5663\"}, \"title\": {\"font\": {\"color\": \"#4D5663\"}, \"text\": \"\"}, \"zerolinecolor\": \"#E1E5ED\"}},                        {\"showLink\": true, \"linkText\": \"Export to plot.ly\", \"plotlyServerURL\": \"https://plot.ly\", \"responsive\": true}                    ).then(function(){\n",
       "                            \n",
       "var gd = document.getElementById('d4a991f6-95bb-4d71-9da8-35ae7a738bb5');\n",
       "var x = new MutationObserver(function (mutations, observer) {{\n",
       "        var display = window.getComputedStyle(gd).display;\n",
       "        if (!display || display === 'none') {{\n",
       "            console.log([gd, 'removed!']);\n",
       "            Plotly.purge(gd);\n",
       "            observer.disconnect();\n",
       "        }}\n",
       "}});\n",
       "\n",
       "// Listen for the removal of the full notebook cells\n",
       "var notebookContainer = gd.closest('#notebook-container');\n",
       "if (notebookContainer) {{\n",
       "    x.observe(notebookContainer, {childList: true});\n",
       "}}\n",
       "\n",
       "// Listen for the clearing of the current output cell\n",
       "var outputEl = gd.closest('.output');\n",
       "if (outputEl) {{\n",
       "    x.observe(outputEl, {childList: true});\n",
       "}}\n",
       "\n",
       "                        })                };                });            </script>        </div>"
      ]
     },
     "metadata": {},
     "output_type": "display_data"
    }
   ],
   "source": [
    "# Grafico 3D\n",
    "df3.iplot(kind='surface', colorscale='rdylbu')"
   ]
  },
  {
   "cell_type": "code",
   "execution_count": 43,
   "metadata": {},
   "outputs": [
    {
     "data": {
      "application/vnd.plotly.v1+json": {
       "config": {
        "linkText": "Export to plot.ly",
        "plotlyServerURL": "https://plot.ly",
        "showLink": true
       },
       "data": [
        {
         "line": {
          "color": "rgba(255, 153, 51, 1.0)",
          "dash": "solid",
          "shape": "linear",
          "width": 1.3
         },
         "mode": "lines",
         "name": "A",
         "text": "",
         "type": "scatter",
         "x": [
          0,
          1,
          2,
          3,
          4,
          5,
          6,
          7,
          8,
          9,
          10,
          11,
          12,
          13,
          14,
          15,
          16,
          17,
          18,
          19,
          20,
          21,
          22,
          23,
          24,
          25,
          26,
          27,
          28,
          29,
          30,
          31,
          32,
          33,
          34,
          35,
          36,
          37,
          38,
          39,
          40,
          41,
          42,
          43,
          44,
          45,
          46,
          47,
          48,
          49,
          50,
          51,
          52,
          53,
          54,
          55,
          56,
          57,
          58,
          59,
          60,
          61,
          62,
          63,
          64,
          65,
          66,
          67,
          68,
          69,
          70,
          71,
          72,
          73,
          74,
          75,
          76,
          77,
          78,
          79,
          80,
          81,
          82,
          83,
          84,
          85,
          86,
          87,
          88,
          89,
          90,
          91,
          92,
          93,
          94,
          95,
          96,
          97,
          98,
          99
         ],
         "y": [
          -0.08246222777140658,
          0.7173230319183161,
          -1.4831462800247348,
          0.6007188011403605,
          1.289075599445904,
          0.4686184185783867,
          0.9861225102722071,
          -0.46912667007143066,
          1.7361292929950078,
          0.04365889119250256,
          1.2341316458674847,
          0.821179261753058,
          0.510361491783725,
          -0.16508037667801448,
          0.7577534273104339,
          -0.8667901941733359,
          1.3594944902287593,
          -1.1685993739916176,
          1.1105441176779236,
          2.179116305512871,
          -1.0669303473380523,
          -0.4865054709776041,
          2.123010480961304,
          1.122915995141616,
          0.8927499392112277,
          -0.10340193631007873,
          0.40433819829483225,
          1.2572964981158954,
          0.11700900125746119,
          -0.7026845863976289,
          0.44657856814521074,
          -1.1023149498936338,
          -0.14181716320340942,
          -2.203822075626207,
          2.1060253516626544,
          0.16448217726557168,
          -0.6887885110479985,
          -1.5297766193899487,
          0.7306152486007272,
          0.5582213127690169,
          0.7805847071266674,
          -0.4138262329473763,
          0.43877421762173396,
          -0.17113281260598195,
          -0.7723643087741576,
          -0.44972702786652147,
          -0.295278673235866,
          0.17472053263719536,
          -0.07084006961141828,
          0.5598408246345813,
          -0.26184496480996333,
          0.15783441901398237,
          0.31583156191644834,
          0.45716192750797735,
          -1.0532192491323207,
          -0.1131779568506202,
          2.5616936250228277,
          0.19009419833845465,
          -0.5984275457623431,
          0.4745933715997644,
          0.6960874097842701,
          0.626694260308462,
          1.4892579489991618,
          -0.05117752075617346,
          0.4250907181303993,
          0.9739273103422872,
          0.6362806675655954,
          -1.0162423232433264,
          0.9066631371828433,
          -1.679535026651661,
          0.9869659281108462,
          1.3453703943728241,
          0.343490665154001,
          -0.2853841697384442,
          1.6779939042723648,
          -1.4846430813013987,
          1.5382370758376722,
          -0.9330596295665243,
          -1.9920517428997413,
          -0.9116729322213409,
          2.049708236088764,
          0.35325947359296905,
          -1.035379152347821,
          -0.13083975048816482,
          0.691709526438699,
          0.5417778168132682,
          -0.804558538375137,
          -0.08890127612875974,
          0.07238988424715156,
          -1.4480553614844163,
          1.6305803770755345,
          0.23771832739327292,
          -0.24686337911028947,
          0.5418021381378408,
          -0.29289376146775437,
          0.5140535966322717,
          -1.0431412319656117,
          0.9133882773462815,
          1.0012785109207942,
          -0.49528847444847685
         ]
        },
        {
         "line": {
          "color": "rgba(55, 128, 191, 1.0)",
          "dash": "solid",
          "shape": "linear",
          "width": 1.3
         },
         "mode": "lines",
         "name": "B",
         "text": "",
         "type": "scatter",
         "x": [
          0,
          1,
          2,
          3,
          4,
          5,
          6,
          7,
          8,
          9,
          10,
          11,
          12,
          13,
          14,
          15,
          16,
          17,
          18,
          19,
          20,
          21,
          22,
          23,
          24,
          25,
          26,
          27,
          28,
          29,
          30,
          31,
          32,
          33,
          34,
          35,
          36,
          37,
          38,
          39,
          40,
          41,
          42,
          43,
          44,
          45,
          46,
          47,
          48,
          49,
          50,
          51,
          52,
          53,
          54,
          55,
          56,
          57,
          58,
          59,
          60,
          61,
          62,
          63,
          64,
          65,
          66,
          67,
          68,
          69,
          70,
          71,
          72,
          73,
          74,
          75,
          76,
          77,
          78,
          79,
          80,
          81,
          82,
          83,
          84,
          85,
          86,
          87,
          88,
          89,
          90,
          91,
          92,
          93,
          94,
          95,
          96,
          97,
          98,
          99
         ],
         "y": [
          1.1111034473072832,
          -0.1448844431557348,
          1.1571344678825692,
          -0.10626240679408508,
          1.385864733511222,
          0.7149762195031321,
          -1.0573758968740425,
          1.0574539487727026,
          -2.222754474072913,
          2.4284696770821985,
          1.0720742151354865,
          -0.5569630085600444,
          1.1459078255247408,
          0.5671801108564223,
          0.33437965352964705,
          1.6800543056523491,
          0.8130184539498939,
          0.3923791895424591,
          -0.1478109051442373,
          -0.27264250534607903,
          -2.3603070752410926,
          -0.09465056399925209,
          -0.16768695429951153,
          0.6005046467753621,
          -1.4606720388756242,
          0.020805750462041604,
          1.2075459416868073,
          -0.6242906813930785,
          -0.7358803768729599,
          0.9017616150351392,
          -0.3991437537388995,
          -0.32776950291835794,
          -0.22438021907887182,
          0.6232918558085496,
          1.6581071653903812,
          0.221658524428475,
          0.5054802729992948,
          0.3924249214397845,
          -0.3834916104630957,
          0.8210281067635286,
          -0.6795537047745717,
          0.689084330009526,
          -0.3509889870700068,
          -0.13067820982899972,
          1.0079417817210266,
          1.5822871581780307,
          0.03648810084486005,
          -0.20144946009057205,
          -0.46530592982664754,
          0.9674486407095345,
          -0.6335301718013872,
          -1.3456873791964161,
          1.1446356475185844,
          -0.2728030861444642,
          -1.1462958571876427,
          0.25835325051020475,
          -1.7296771839161211,
          1.4594852118097237,
          0.1915054550087883,
          -1.356662720698125,
          0.2542237467222372,
          -0.09915143340273849,
          0.03812311596193516,
          0.5187740918912463,
          1.9633476519853126,
          1.2259258782036178,
          0.18579717883455807,
          -1.030735908284299,
          -0.7834159013284216,
          0.5652342883426867,
          -1.1402671924265346,
          0.0638021052533395,
          0.536016427642085,
          0.07407370527854598,
          0.3807947892202538,
          0.3204141169258202,
          -0.4004880397199586,
          0.0520054083184649,
          0.8087043708456557,
          -0.8048160281300628,
          0.442047115569308,
          -0.0437189083464173,
          -0.02075425165300876,
          1.2997816110422071,
          -2.059560329775203,
          -1.6002365963146876,
          -1.004666964491864,
          -1.0399111841009054,
          -0.6201334882012222,
          -1.1035481454325704,
          1.0076635158357001,
          -0.27211120070119027,
          1.3233615878152796,
          0.49207215645485736,
          -0.6231562460016906,
          -2.157366560133454,
          0.31259998818320933,
          1.316311665618152,
          -0.1643111499978162,
          0.47819803208043254
         ]
        },
        {
         "connectgaps": false,
         "fill": "tozeroy",
         "line": {
          "color": "green",
          "dash": "solid",
          "shape": "linear",
          "width": 0.5
         },
         "mode": "lines",
         "name": "Spread",
         "showlegend": false,
         "type": "scatter",
         "x": [
          0,
          1,
          2,
          3,
          4,
          5,
          6,
          7,
          8,
          9,
          10,
          11,
          12,
          13,
          14,
          15,
          16,
          17,
          18,
          19,
          20,
          21,
          22,
          23,
          24,
          25,
          26,
          27,
          28,
          29,
          30,
          31,
          32,
          33,
          34,
          35,
          36,
          37,
          38,
          39,
          40,
          41,
          42,
          43,
          44,
          45,
          46,
          47,
          48,
          49,
          50,
          51,
          52,
          53,
          54,
          55,
          56,
          57,
          58,
          59,
          60,
          61,
          62,
          63,
          64,
          65,
          66,
          67,
          68,
          69,
          70,
          71,
          72,
          73,
          74,
          75,
          76,
          77,
          78,
          79,
          80,
          81,
          82,
          83,
          84,
          85,
          86,
          87,
          88,
          89,
          90,
          91,
          92,
          93,
          94,
          95,
          96,
          97,
          98,
          99
         ],
         "xaxis": "x2",
         "y": [
          "",
          0.8622074750740509,
          "",
          0.7069812079344455,
          "",
          "",
          2.0434984071462496,
          "",
          3.958883767067921,
          "",
          0.1620574307319982,
          1.3781422703131025,
          "",
          "",
          0.4233737737807869,
          "",
          0.5464760362788654,
          "",
          1.258355022822161,
          2.45175881085895,
          1.2933767279030404,
          "",
          2.2906974352608156,
          0.522411348366254,
          2.353421978086852,
          "",
          "",
          1.881587179508974,
          0.8528893781304211,
          "",
          0.8457223218841102,
          "",
          0.0825630558754624,
          "",
          0.4479181862722732,
          "",
          "",
          "",
          1.114106859063823,
          "",
          1.460138411901239,
          "",
          0.7897632046917408,
          "",
          "",
          "",
          "",
          0.3761699927277674,
          0.3944658602152292,
          "",
          0.3716852069914238,
          1.5035217982103986,
          "",
          0.7299650136524416,
          0.09307660805532203,
          "",
          4.291370808938948,
          "",
          "",
          1.8312560922978893,
          0.4418636630620329,
          0.7258456937112004,
          1.4511348330372267,
          "",
          "",
          "",
          0.4504834887310374,
          0.014493585040972645,
          1.690079038511265,
          "",
          2.127233120537381,
          1.2815682891194846,
          "",
          "",
          1.297199115052111,
          "",
          1.9387251155576308,
          "",
          "",
          "",
          1.607661120519456,
          0.39697838193938634,
          "",
          "",
          2.751269856213902,
          2.142014413127956,
          0.20010842611672697,
          0.9510099079721457,
          0.6925233724483737,
          "",
          0.6229168612398344,
          0.5098295280944631,
          "",
          0.04972998168298348,
          0.33026248453393625,
          2.6714201567657256,
          "",
          "",
          1.1655896609186105,
          ""
         ],
         "yaxis": "y2"
        },
        {
         "connectgaps": false,
         "fill": "tozeroy",
         "line": {
          "color": "red",
          "dash": "solid",
          "shape": "linear",
          "width": 0.5
         },
         "mode": "lines",
         "name": "Spread",
         "showlegend": false,
         "type": "scatter",
         "x": [
          0,
          1,
          2,
          3,
          4,
          5,
          6,
          7,
          8,
          9,
          10,
          11,
          12,
          13,
          14,
          15,
          16,
          17,
          18,
          19,
          20,
          21,
          22,
          23,
          24,
          25,
          26,
          27,
          28,
          29,
          30,
          31,
          32,
          33,
          34,
          35,
          36,
          37,
          38,
          39,
          40,
          41,
          42,
          43,
          44,
          45,
          46,
          47,
          48,
          49,
          50,
          51,
          52,
          53,
          54,
          55,
          56,
          57,
          58,
          59,
          60,
          61,
          62,
          63,
          64,
          65,
          66,
          67,
          68,
          69,
          70,
          71,
          72,
          73,
          74,
          75,
          76,
          77,
          78,
          79,
          80,
          81,
          82,
          83,
          84,
          85,
          86,
          87,
          88,
          89,
          90,
          91,
          92,
          93,
          94,
          95,
          96,
          97,
          98,
          99
         ],
         "xaxis": "x2",
         "y": [
          -1.1935656750786898,
          "",
          -2.640280747907304,
          "",
          -0.09678913406531797,
          -0.24635780092474535,
          "",
          -1.5265806188441333,
          "",
          -2.384810785889696,
          "",
          "",
          -0.6355463337410158,
          -0.7322604875344367,
          "",
          -2.546844499825685,
          "",
          -1.5609785635340767,
          "",
          "",
          "",
          -0.391854906978352,
          "",
          "",
          "",
          -0.12420768677212032,
          -0.8032077433919751,
          "",
          "",
          -1.604446201432768,
          "",
          -0.7745454469752758,
          "",
          -2.8271139314347566,
          "",
          -0.05717634716290332,
          -1.1942687840472934,
          -1.9222015408297333,
          "",
          -0.2628067939945117,
          "",
          -1.1029105629569023,
          "",
          -0.040454602776982235,
          -1.7803060904951842,
          -2.032014186044552,
          -0.331766774080726,
          "",
          "",
          -0.4076078160749532,
          "",
          "",
          -0.828804085602136,
          "",
          "",
          -0.37153120736082496,
          "",
          -1.2693910134712691,
          -0.7899330007711314,
          "",
          "",
          "",
          "",
          -0.5699516126474198,
          -1.5382569338549132,
          -0.25199856786133057,
          "",
          "",
          "",
          -2.2447693149943477,
          "",
          "",
          -0.192525762488084,
          -0.3594578750169902,
          "",
          -1.8050571982272188,
          "",
          -0.9850650378849892,
          -2.800756113745397,
          -0.10685690409127813,
          "",
          "",
          -1.0146249006948123,
          -1.430621361530372,
          "",
          "",
          "",
          "",
          "",
          -0.34450721605184587,
          "",
          "",
          -1.570224966925569,
          "",
          "",
          "",
          -1.355741220148821,
          -0.40292338827187046,
          "",
          -0.9734865065289093
         ],
         "yaxis": "y2"
        }
       ],
       "layout": {
        "hovermode": "x",
        "legend": {
         "bgcolor": "#F5F6F9",
         "font": {
          "color": "#4D5663"
         }
        },
        "paper_bgcolor": "#F5F6F9",
        "plot_bgcolor": "#F5F6F9",
        "template": {
         "data": {
          "bar": [
           {
            "error_x": {
             "color": "#2a3f5f"
            },
            "error_y": {
             "color": "#2a3f5f"
            },
            "marker": {
             "line": {
              "color": "#E5ECF6",
              "width": 0.5
             }
            },
            "type": "bar"
           }
          ],
          "barpolar": [
           {
            "marker": {
             "line": {
              "color": "#E5ECF6",
              "width": 0.5
             }
            },
            "type": "barpolar"
           }
          ],
          "carpet": [
           {
            "aaxis": {
             "endlinecolor": "#2a3f5f",
             "gridcolor": "white",
             "linecolor": "white",
             "minorgridcolor": "white",
             "startlinecolor": "#2a3f5f"
            },
            "baxis": {
             "endlinecolor": "#2a3f5f",
             "gridcolor": "white",
             "linecolor": "white",
             "minorgridcolor": "white",
             "startlinecolor": "#2a3f5f"
            },
            "type": "carpet"
           }
          ],
          "choropleth": [
           {
            "colorbar": {
             "outlinewidth": 0,
             "ticks": ""
            },
            "type": "choropleth"
           }
          ],
          "contour": [
           {
            "colorbar": {
             "outlinewidth": 0,
             "ticks": ""
            },
            "colorscale": [
             [
              0,
              "#0d0887"
             ],
             [
              0.1111111111111111,
              "#46039f"
             ],
             [
              0.2222222222222222,
              "#7201a8"
             ],
             [
              0.3333333333333333,
              "#9c179e"
             ],
             [
              0.4444444444444444,
              "#bd3786"
             ],
             [
              0.5555555555555556,
              "#d8576b"
             ],
             [
              0.6666666666666666,
              "#ed7953"
             ],
             [
              0.7777777777777778,
              "#fb9f3a"
             ],
             [
              0.8888888888888888,
              "#fdca26"
             ],
             [
              1,
              "#f0f921"
             ]
            ],
            "type": "contour"
           }
          ],
          "contourcarpet": [
           {
            "colorbar": {
             "outlinewidth": 0,
             "ticks": ""
            },
            "type": "contourcarpet"
           }
          ],
          "heatmap": [
           {
            "colorbar": {
             "outlinewidth": 0,
             "ticks": ""
            },
            "colorscale": [
             [
              0,
              "#0d0887"
             ],
             [
              0.1111111111111111,
              "#46039f"
             ],
             [
              0.2222222222222222,
              "#7201a8"
             ],
             [
              0.3333333333333333,
              "#9c179e"
             ],
             [
              0.4444444444444444,
              "#bd3786"
             ],
             [
              0.5555555555555556,
              "#d8576b"
             ],
             [
              0.6666666666666666,
              "#ed7953"
             ],
             [
              0.7777777777777778,
              "#fb9f3a"
             ],
             [
              0.8888888888888888,
              "#fdca26"
             ],
             [
              1,
              "#f0f921"
             ]
            ],
            "type": "heatmap"
           }
          ],
          "heatmapgl": [
           {
            "colorbar": {
             "outlinewidth": 0,
             "ticks": ""
            },
            "colorscale": [
             [
              0,
              "#0d0887"
             ],
             [
              0.1111111111111111,
              "#46039f"
             ],
             [
              0.2222222222222222,
              "#7201a8"
             ],
             [
              0.3333333333333333,
              "#9c179e"
             ],
             [
              0.4444444444444444,
              "#bd3786"
             ],
             [
              0.5555555555555556,
              "#d8576b"
             ],
             [
              0.6666666666666666,
              "#ed7953"
             ],
             [
              0.7777777777777778,
              "#fb9f3a"
             ],
             [
              0.8888888888888888,
              "#fdca26"
             ],
             [
              1,
              "#f0f921"
             ]
            ],
            "type": "heatmapgl"
           }
          ],
          "histogram": [
           {
            "marker": {
             "colorbar": {
              "outlinewidth": 0,
              "ticks": ""
             }
            },
            "type": "histogram"
           }
          ],
          "histogram2d": [
           {
            "colorbar": {
             "outlinewidth": 0,
             "ticks": ""
            },
            "colorscale": [
             [
              0,
              "#0d0887"
             ],
             [
              0.1111111111111111,
              "#46039f"
             ],
             [
              0.2222222222222222,
              "#7201a8"
             ],
             [
              0.3333333333333333,
              "#9c179e"
             ],
             [
              0.4444444444444444,
              "#bd3786"
             ],
             [
              0.5555555555555556,
              "#d8576b"
             ],
             [
              0.6666666666666666,
              "#ed7953"
             ],
             [
              0.7777777777777778,
              "#fb9f3a"
             ],
             [
              0.8888888888888888,
              "#fdca26"
             ],
             [
              1,
              "#f0f921"
             ]
            ],
            "type": "histogram2d"
           }
          ],
          "histogram2dcontour": [
           {
            "colorbar": {
             "outlinewidth": 0,
             "ticks": ""
            },
            "colorscale": [
             [
              0,
              "#0d0887"
             ],
             [
              0.1111111111111111,
              "#46039f"
             ],
             [
              0.2222222222222222,
              "#7201a8"
             ],
             [
              0.3333333333333333,
              "#9c179e"
             ],
             [
              0.4444444444444444,
              "#bd3786"
             ],
             [
              0.5555555555555556,
              "#d8576b"
             ],
             [
              0.6666666666666666,
              "#ed7953"
             ],
             [
              0.7777777777777778,
              "#fb9f3a"
             ],
             [
              0.8888888888888888,
              "#fdca26"
             ],
             [
              1,
              "#f0f921"
             ]
            ],
            "type": "histogram2dcontour"
           }
          ],
          "mesh3d": [
           {
            "colorbar": {
             "outlinewidth": 0,
             "ticks": ""
            },
            "type": "mesh3d"
           }
          ],
          "parcoords": [
           {
            "line": {
             "colorbar": {
              "outlinewidth": 0,
              "ticks": ""
             }
            },
            "type": "parcoords"
           }
          ],
          "pie": [
           {
            "automargin": true,
            "type": "pie"
           }
          ],
          "scatter": [
           {
            "marker": {
             "colorbar": {
              "outlinewidth": 0,
              "ticks": ""
             }
            },
            "type": "scatter"
           }
          ],
          "scatter3d": [
           {
            "line": {
             "colorbar": {
              "outlinewidth": 0,
              "ticks": ""
             }
            },
            "marker": {
             "colorbar": {
              "outlinewidth": 0,
              "ticks": ""
             }
            },
            "type": "scatter3d"
           }
          ],
          "scattercarpet": [
           {
            "marker": {
             "colorbar": {
              "outlinewidth": 0,
              "ticks": ""
             }
            },
            "type": "scattercarpet"
           }
          ],
          "scattergeo": [
           {
            "marker": {
             "colorbar": {
              "outlinewidth": 0,
              "ticks": ""
             }
            },
            "type": "scattergeo"
           }
          ],
          "scattergl": [
           {
            "marker": {
             "colorbar": {
              "outlinewidth": 0,
              "ticks": ""
             }
            },
            "type": "scattergl"
           }
          ],
          "scattermapbox": [
           {
            "marker": {
             "colorbar": {
              "outlinewidth": 0,
              "ticks": ""
             }
            },
            "type": "scattermapbox"
           }
          ],
          "scatterpolar": [
           {
            "marker": {
             "colorbar": {
              "outlinewidth": 0,
              "ticks": ""
             }
            },
            "type": "scatterpolar"
           }
          ],
          "scatterpolargl": [
           {
            "marker": {
             "colorbar": {
              "outlinewidth": 0,
              "ticks": ""
             }
            },
            "type": "scatterpolargl"
           }
          ],
          "scatterternary": [
           {
            "marker": {
             "colorbar": {
              "outlinewidth": 0,
              "ticks": ""
             }
            },
            "type": "scatterternary"
           }
          ],
          "surface": [
           {
            "colorbar": {
             "outlinewidth": 0,
             "ticks": ""
            },
            "colorscale": [
             [
              0,
              "#0d0887"
             ],
             [
              0.1111111111111111,
              "#46039f"
             ],
             [
              0.2222222222222222,
              "#7201a8"
             ],
             [
              0.3333333333333333,
              "#9c179e"
             ],
             [
              0.4444444444444444,
              "#bd3786"
             ],
             [
              0.5555555555555556,
              "#d8576b"
             ],
             [
              0.6666666666666666,
              "#ed7953"
             ],
             [
              0.7777777777777778,
              "#fb9f3a"
             ],
             [
              0.8888888888888888,
              "#fdca26"
             ],
             [
              1,
              "#f0f921"
             ]
            ],
            "type": "surface"
           }
          ],
          "table": [
           {
            "cells": {
             "fill": {
              "color": "#EBF0F8"
             },
             "line": {
              "color": "white"
             }
            },
            "header": {
             "fill": {
              "color": "#C8D4E3"
             },
             "line": {
              "color": "white"
             }
            },
            "type": "table"
           }
          ]
         },
         "layout": {
          "annotationdefaults": {
           "arrowcolor": "#2a3f5f",
           "arrowhead": 0,
           "arrowwidth": 1
          },
          "autotypenumbers": "strict",
          "coloraxis": {
           "colorbar": {
            "outlinewidth": 0,
            "ticks": ""
           }
          },
          "colorscale": {
           "diverging": [
            [
             0,
             "#8e0152"
            ],
            [
             0.1,
             "#c51b7d"
            ],
            [
             0.2,
             "#de77ae"
            ],
            [
             0.3,
             "#f1b6da"
            ],
            [
             0.4,
             "#fde0ef"
            ],
            [
             0.5,
             "#f7f7f7"
            ],
            [
             0.6,
             "#e6f5d0"
            ],
            [
             0.7,
             "#b8e186"
            ],
            [
             0.8,
             "#7fbc41"
            ],
            [
             0.9,
             "#4d9221"
            ],
            [
             1,
             "#276419"
            ]
           ],
           "sequential": [
            [
             0,
             "#0d0887"
            ],
            [
             0.1111111111111111,
             "#46039f"
            ],
            [
             0.2222222222222222,
             "#7201a8"
            ],
            [
             0.3333333333333333,
             "#9c179e"
            ],
            [
             0.4444444444444444,
             "#bd3786"
            ],
            [
             0.5555555555555556,
             "#d8576b"
            ],
            [
             0.6666666666666666,
             "#ed7953"
            ],
            [
             0.7777777777777778,
             "#fb9f3a"
            ],
            [
             0.8888888888888888,
             "#fdca26"
            ],
            [
             1,
             "#f0f921"
            ]
           ],
           "sequentialminus": [
            [
             0,
             "#0d0887"
            ],
            [
             0.1111111111111111,
             "#46039f"
            ],
            [
             0.2222222222222222,
             "#7201a8"
            ],
            [
             0.3333333333333333,
             "#9c179e"
            ],
            [
             0.4444444444444444,
             "#bd3786"
            ],
            [
             0.5555555555555556,
             "#d8576b"
            ],
            [
             0.6666666666666666,
             "#ed7953"
            ],
            [
             0.7777777777777778,
             "#fb9f3a"
            ],
            [
             0.8888888888888888,
             "#fdca26"
            ],
            [
             1,
             "#f0f921"
            ]
           ]
          },
          "colorway": [
           "#636efa",
           "#EF553B",
           "#00cc96",
           "#ab63fa",
           "#FFA15A",
           "#19d3f3",
           "#FF6692",
           "#B6E880",
           "#FF97FF",
           "#FECB52"
          ],
          "font": {
           "color": "#2a3f5f"
          },
          "geo": {
           "bgcolor": "white",
           "lakecolor": "white",
           "landcolor": "#E5ECF6",
           "showlakes": true,
           "showland": true,
           "subunitcolor": "white"
          },
          "hoverlabel": {
           "align": "left"
          },
          "hovermode": "closest",
          "mapbox": {
           "style": "light"
          },
          "paper_bgcolor": "white",
          "plot_bgcolor": "#E5ECF6",
          "polar": {
           "angularaxis": {
            "gridcolor": "white",
            "linecolor": "white",
            "ticks": ""
           },
           "bgcolor": "#E5ECF6",
           "radialaxis": {
            "gridcolor": "white",
            "linecolor": "white",
            "ticks": ""
           }
          },
          "scene": {
           "xaxis": {
            "backgroundcolor": "#E5ECF6",
            "gridcolor": "white",
            "gridwidth": 2,
            "linecolor": "white",
            "showbackground": true,
            "ticks": "",
            "zerolinecolor": "white"
           },
           "yaxis": {
            "backgroundcolor": "#E5ECF6",
            "gridcolor": "white",
            "gridwidth": 2,
            "linecolor": "white",
            "showbackground": true,
            "ticks": "",
            "zerolinecolor": "white"
           },
           "zaxis": {
            "backgroundcolor": "#E5ECF6",
            "gridcolor": "white",
            "gridwidth": 2,
            "linecolor": "white",
            "showbackground": true,
            "ticks": "",
            "zerolinecolor": "white"
           }
          },
          "shapedefaults": {
           "line": {
            "color": "#2a3f5f"
           }
          },
          "ternary": {
           "aaxis": {
            "gridcolor": "white",
            "linecolor": "white",
            "ticks": ""
           },
           "baxis": {
            "gridcolor": "white",
            "linecolor": "white",
            "ticks": ""
           },
           "bgcolor": "#E5ECF6",
           "caxis": {
            "gridcolor": "white",
            "linecolor": "white",
            "ticks": ""
           }
          },
          "title": {
           "x": 0.05
          },
          "xaxis": {
           "automargin": true,
           "gridcolor": "white",
           "linecolor": "white",
           "ticks": "",
           "title": {
            "standoff": 15
           },
           "zerolinecolor": "white",
           "zerolinewidth": 2
          },
          "yaxis": {
           "automargin": true,
           "gridcolor": "white",
           "linecolor": "white",
           "ticks": "",
           "title": {
            "standoff": 15
           },
           "zerolinecolor": "white",
           "zerolinewidth": 2
          }
         }
        },
        "title": {
         "font": {
          "color": "#4D5663"
         }
        },
        "xaxis": {
         "gridcolor": "#E1E5ED",
         "showgrid": true,
         "tickfont": {
          "color": "#4D5663"
         },
         "title": {
          "font": {
           "color": "#4D5663"
          },
          "text": ""
         },
         "zerolinecolor": "#E1E5ED"
        },
        "xaxis2": {
         "anchor": "y2",
         "gridcolor": "#E1E5ED",
         "showgrid": true,
         "showticklabels": false,
         "tickfont": {
          "color": "#4D5663"
         },
         "title": {
          "font": {
           "color": "#4D5663"
          },
          "text": ""
         },
         "zerolinecolor": "#E1E5ED"
        },
        "yaxis": {
         "domain": [
          0.3,
          1
         ],
         "gridcolor": "#E1E5ED",
         "showgrid": true,
         "tickfont": {
          "color": "#4D5663"
         },
         "title": {
          "font": {
           "color": "#4D5663"
          },
          "text": ""
         },
         "zerolinecolor": "#E1E5ED"
        },
        "yaxis2": {
         "domain": [
          0,
          0.25
         ],
         "gridcolor": "#E1E5ED",
         "showgrid": true,
         "tickfont": {
          "color": "#4D5663"
         },
         "title": {
          "font": {
           "color": "#4D5663"
          },
          "text": "Spread"
         },
         "zerolinecolor": "#E1E5ED"
        }
       }
      },
      "text/html": [
       "<div>                            <div id=\"7025de52-3dac-40b6-89ca-2e5ada7d2bcf\" class=\"plotly-graph-div\" style=\"height:525px; width:100%;\"></div>            <script type=\"text/javascript\">                require([\"plotly\"], function(Plotly) {                    window.PLOTLYENV=window.PLOTLYENV || {};\n",
       "                    window.PLOTLYENV.BASE_URL='https://plot.ly';                                    if (document.getElementById(\"7025de52-3dac-40b6-89ca-2e5ada7d2bcf\")) {                    Plotly.newPlot(                        \"7025de52-3dac-40b6-89ca-2e5ada7d2bcf\",                        [{\"line\": {\"color\": \"rgba(255, 153, 51, 1.0)\", \"dash\": \"solid\", \"shape\": \"linear\", \"width\": 1.3}, \"mode\": \"lines\", \"name\": \"A\", \"text\": \"\", \"type\": \"scatter\", \"x\": [0, 1, 2, 3, 4, 5, 6, 7, 8, 9, 10, 11, 12, 13, 14, 15, 16, 17, 18, 19, 20, 21, 22, 23, 24, 25, 26, 27, 28, 29, 30, 31, 32, 33, 34, 35, 36, 37, 38, 39, 40, 41, 42, 43, 44, 45, 46, 47, 48, 49, 50, 51, 52, 53, 54, 55, 56, 57, 58, 59, 60, 61, 62, 63, 64, 65, 66, 67, 68, 69, 70, 71, 72, 73, 74, 75, 76, 77, 78, 79, 80, 81, 82, 83, 84, 85, 86, 87, 88, 89, 90, 91, 92, 93, 94, 95, 96, 97, 98, 99], \"y\": [-0.08246222777140658, 0.7173230319183161, -1.4831462800247348, 0.6007188011403605, 1.289075599445904, 0.4686184185783867, 0.9861225102722071, -0.46912667007143066, 1.7361292929950078, 0.04365889119250256, 1.2341316458674847, 0.821179261753058, 0.510361491783725, -0.16508037667801448, 0.7577534273104339, -0.8667901941733359, 1.3594944902287593, -1.1685993739916176, 1.1105441176779236, 2.179116305512871, -1.0669303473380523, -0.4865054709776041, 2.123010480961304, 1.122915995141616, 0.8927499392112277, -0.10340193631007873, 0.40433819829483225, 1.2572964981158954, 0.11700900125746119, -0.7026845863976289, 0.44657856814521074, -1.1023149498936338, -0.14181716320340942, -2.203822075626207, 2.1060253516626544, 0.16448217726557168, -0.6887885110479985, -1.5297766193899487, 0.7306152486007272, 0.5582213127690169, 0.7805847071266674, -0.4138262329473763, 0.43877421762173396, -0.17113281260598195, -0.7723643087741576, -0.44972702786652147, -0.295278673235866, 0.17472053263719536, -0.07084006961141828, 0.5598408246345813, -0.26184496480996333, 0.15783441901398237, 0.31583156191644834, 0.45716192750797735, -1.0532192491323207, -0.1131779568506202, 2.5616936250228277, 0.19009419833845465, -0.5984275457623431, 0.4745933715997644, 0.6960874097842701, 0.626694260308462, 1.4892579489991618, -0.05117752075617346, 0.4250907181303993, 0.9739273103422872, 0.6362806675655954, -1.0162423232433264, 0.9066631371828433, -1.679535026651661, 0.9869659281108462, 1.3453703943728241, 0.343490665154001, -0.2853841697384442, 1.6779939042723648, -1.4846430813013987, 1.5382370758376722, -0.9330596295665243, -1.9920517428997413, -0.9116729322213409, 2.049708236088764, 0.35325947359296905, -1.035379152347821, -0.13083975048816482, 0.691709526438699, 0.5417778168132682, -0.804558538375137, -0.08890127612875974, 0.07238988424715156, -1.4480553614844163, 1.6305803770755345, 0.23771832739327292, -0.24686337911028947, 0.5418021381378408, -0.29289376146775437, 0.5140535966322717, -1.0431412319656117, 0.9133882773462815, 1.0012785109207942, -0.49528847444847685]}, {\"line\": {\"color\": \"rgba(55, 128, 191, 1.0)\", \"dash\": \"solid\", \"shape\": \"linear\", \"width\": 1.3}, \"mode\": \"lines\", \"name\": \"B\", \"text\": \"\", \"type\": \"scatter\", \"x\": [0, 1, 2, 3, 4, 5, 6, 7, 8, 9, 10, 11, 12, 13, 14, 15, 16, 17, 18, 19, 20, 21, 22, 23, 24, 25, 26, 27, 28, 29, 30, 31, 32, 33, 34, 35, 36, 37, 38, 39, 40, 41, 42, 43, 44, 45, 46, 47, 48, 49, 50, 51, 52, 53, 54, 55, 56, 57, 58, 59, 60, 61, 62, 63, 64, 65, 66, 67, 68, 69, 70, 71, 72, 73, 74, 75, 76, 77, 78, 79, 80, 81, 82, 83, 84, 85, 86, 87, 88, 89, 90, 91, 92, 93, 94, 95, 96, 97, 98, 99], \"y\": [1.1111034473072832, -0.1448844431557348, 1.1571344678825692, -0.10626240679408508, 1.385864733511222, 0.7149762195031321, -1.0573758968740425, 1.0574539487727026, -2.222754474072913, 2.4284696770821985, 1.0720742151354865, -0.5569630085600444, 1.1459078255247408, 0.5671801108564223, 0.33437965352964705, 1.6800543056523491, 0.8130184539498939, 0.3923791895424591, -0.1478109051442373, -0.27264250534607903, -2.3603070752410926, -0.09465056399925209, -0.16768695429951153, 0.6005046467753621, -1.4606720388756242, 0.020805750462041604, 1.2075459416868073, -0.6242906813930785, -0.7358803768729599, 0.9017616150351392, -0.3991437537388995, -0.32776950291835794, -0.22438021907887182, 0.6232918558085496, 1.6581071653903812, 0.221658524428475, 0.5054802729992948, 0.3924249214397845, -0.3834916104630957, 0.8210281067635286, -0.6795537047745717, 0.689084330009526, -0.3509889870700068, -0.13067820982899972, 1.0079417817210266, 1.5822871581780307, 0.03648810084486005, -0.20144946009057205, -0.46530592982664754, 0.9674486407095345, -0.6335301718013872, -1.3456873791964161, 1.1446356475185844, -0.2728030861444642, -1.1462958571876427, 0.25835325051020475, -1.7296771839161211, 1.4594852118097237, 0.1915054550087883, -1.356662720698125, 0.2542237467222372, -0.09915143340273849, 0.03812311596193516, 0.5187740918912463, 1.9633476519853126, 1.2259258782036178, 0.18579717883455807, -1.030735908284299, -0.7834159013284216, 0.5652342883426867, -1.1402671924265346, 0.0638021052533395, 0.536016427642085, 0.07407370527854598, 0.3807947892202538, 0.3204141169258202, -0.4004880397199586, 0.0520054083184649, 0.8087043708456557, -0.8048160281300628, 0.442047115569308, -0.0437189083464173, -0.02075425165300876, 1.2997816110422071, -2.059560329775203, -1.6002365963146876, -1.004666964491864, -1.0399111841009054, -0.6201334882012222, -1.1035481454325704, 1.0076635158357001, -0.27211120070119027, 1.3233615878152796, 0.49207215645485736, -0.6231562460016906, -2.157366560133454, 0.31259998818320933, 1.316311665618152, -0.1643111499978162, 0.47819803208043254]}, {\"connectgaps\": false, \"fill\": \"tozeroy\", \"line\": {\"color\": \"green\", \"dash\": \"solid\", \"shape\": \"linear\", \"width\": 0.5}, \"mode\": \"lines\", \"name\": \"Spread\", \"showlegend\": false, \"type\": \"scatter\", \"x\": [0, 1, 2, 3, 4, 5, 6, 7, 8, 9, 10, 11, 12, 13, 14, 15, 16, 17, 18, 19, 20, 21, 22, 23, 24, 25, 26, 27, 28, 29, 30, 31, 32, 33, 34, 35, 36, 37, 38, 39, 40, 41, 42, 43, 44, 45, 46, 47, 48, 49, 50, 51, 52, 53, 54, 55, 56, 57, 58, 59, 60, 61, 62, 63, 64, 65, 66, 67, 68, 69, 70, 71, 72, 73, 74, 75, 76, 77, 78, 79, 80, 81, 82, 83, 84, 85, 86, 87, 88, 89, 90, 91, 92, 93, 94, 95, 96, 97, 98, 99], \"xaxis\": \"x2\", \"y\": [\"\", 0.8622074750740509, \"\", 0.7069812079344455, \"\", \"\", 2.0434984071462496, \"\", 3.958883767067921, \"\", 0.1620574307319982, 1.3781422703131025, \"\", \"\", 0.4233737737807869, \"\", 0.5464760362788654, \"\", 1.258355022822161, 2.45175881085895, 1.2933767279030404, \"\", 2.2906974352608156, 0.522411348366254, 2.353421978086852, \"\", \"\", 1.881587179508974, 0.8528893781304211, \"\", 0.8457223218841102, \"\", 0.0825630558754624, \"\", 0.4479181862722732, \"\", \"\", \"\", 1.114106859063823, \"\", 1.460138411901239, \"\", 0.7897632046917408, \"\", \"\", \"\", \"\", 0.3761699927277674, 0.3944658602152292, \"\", 0.3716852069914238, 1.5035217982103986, \"\", 0.7299650136524416, 0.09307660805532203, \"\", 4.291370808938948, \"\", \"\", 1.8312560922978893, 0.4418636630620329, 0.7258456937112004, 1.4511348330372267, \"\", \"\", \"\", 0.4504834887310374, 0.014493585040972645, 1.690079038511265, \"\", 2.127233120537381, 1.2815682891194846, \"\", \"\", 1.297199115052111, \"\", 1.9387251155576308, \"\", \"\", \"\", 1.607661120519456, 0.39697838193938634, \"\", \"\", 2.751269856213902, 2.142014413127956, 0.20010842611672697, 0.9510099079721457, 0.6925233724483737, \"\", 0.6229168612398344, 0.5098295280944631, \"\", 0.04972998168298348, 0.33026248453393625, 2.6714201567657256, \"\", \"\", 1.1655896609186105, \"\"], \"yaxis\": \"y2\"}, {\"connectgaps\": false, \"fill\": \"tozeroy\", \"line\": {\"color\": \"red\", \"dash\": \"solid\", \"shape\": \"linear\", \"width\": 0.5}, \"mode\": \"lines\", \"name\": \"Spread\", \"showlegend\": false, \"type\": \"scatter\", \"x\": [0, 1, 2, 3, 4, 5, 6, 7, 8, 9, 10, 11, 12, 13, 14, 15, 16, 17, 18, 19, 20, 21, 22, 23, 24, 25, 26, 27, 28, 29, 30, 31, 32, 33, 34, 35, 36, 37, 38, 39, 40, 41, 42, 43, 44, 45, 46, 47, 48, 49, 50, 51, 52, 53, 54, 55, 56, 57, 58, 59, 60, 61, 62, 63, 64, 65, 66, 67, 68, 69, 70, 71, 72, 73, 74, 75, 76, 77, 78, 79, 80, 81, 82, 83, 84, 85, 86, 87, 88, 89, 90, 91, 92, 93, 94, 95, 96, 97, 98, 99], \"xaxis\": \"x2\", \"y\": [-1.1935656750786898, \"\", -2.640280747907304, \"\", -0.09678913406531797, -0.24635780092474535, \"\", -1.5265806188441333, \"\", -2.384810785889696, \"\", \"\", -0.6355463337410158, -0.7322604875344367, \"\", -2.546844499825685, \"\", -1.5609785635340767, \"\", \"\", \"\", -0.391854906978352, \"\", \"\", \"\", -0.12420768677212032, -0.8032077433919751, \"\", \"\", -1.604446201432768, \"\", -0.7745454469752758, \"\", -2.8271139314347566, \"\", -0.05717634716290332, -1.1942687840472934, -1.9222015408297333, \"\", -0.2628067939945117, \"\", -1.1029105629569023, \"\", -0.040454602776982235, -1.7803060904951842, -2.032014186044552, -0.331766774080726, \"\", \"\", -0.4076078160749532, \"\", \"\", -0.828804085602136, \"\", \"\", -0.37153120736082496, \"\", -1.2693910134712691, -0.7899330007711314, \"\", \"\", \"\", \"\", -0.5699516126474198, -1.5382569338549132, -0.25199856786133057, \"\", \"\", \"\", -2.2447693149943477, \"\", \"\", -0.192525762488084, -0.3594578750169902, \"\", -1.8050571982272188, \"\", -0.9850650378849892, -2.800756113745397, -0.10685690409127813, \"\", \"\", -1.0146249006948123, -1.430621361530372, \"\", \"\", \"\", \"\", \"\", -0.34450721605184587, \"\", \"\", -1.570224966925569, \"\", \"\", \"\", -1.355741220148821, -0.40292338827187046, \"\", -0.9734865065289093], \"yaxis\": \"y2\"}],                        {\"hovermode\": \"x\", \"legend\": {\"bgcolor\": \"#F5F6F9\", \"font\": {\"color\": \"#4D5663\"}}, \"paper_bgcolor\": \"#F5F6F9\", \"plot_bgcolor\": \"#F5F6F9\", \"template\": {\"data\": {\"bar\": [{\"error_x\": {\"color\": \"#2a3f5f\"}, \"error_y\": {\"color\": \"#2a3f5f\"}, \"marker\": {\"line\": {\"color\": \"#E5ECF6\", \"width\": 0.5}}, \"type\": \"bar\"}], \"barpolar\": [{\"marker\": {\"line\": {\"color\": \"#E5ECF6\", \"width\": 0.5}}, \"type\": \"barpolar\"}], \"carpet\": [{\"aaxis\": {\"endlinecolor\": \"#2a3f5f\", \"gridcolor\": \"white\", \"linecolor\": \"white\", \"minorgridcolor\": \"white\", \"startlinecolor\": \"#2a3f5f\"}, \"baxis\": {\"endlinecolor\": \"#2a3f5f\", \"gridcolor\": \"white\", \"linecolor\": \"white\", \"minorgridcolor\": \"white\", \"startlinecolor\": \"#2a3f5f\"}, \"type\": \"carpet\"}], \"choropleth\": [{\"colorbar\": {\"outlinewidth\": 0, \"ticks\": \"\"}, \"type\": \"choropleth\"}], \"contour\": [{\"colorbar\": {\"outlinewidth\": 0, \"ticks\": \"\"}, \"colorscale\": [[0.0, \"#0d0887\"], [0.1111111111111111, \"#46039f\"], [0.2222222222222222, \"#7201a8\"], [0.3333333333333333, \"#9c179e\"], [0.4444444444444444, \"#bd3786\"], [0.5555555555555556, \"#d8576b\"], [0.6666666666666666, \"#ed7953\"], [0.7777777777777778, \"#fb9f3a\"], [0.8888888888888888, \"#fdca26\"], [1.0, \"#f0f921\"]], \"type\": \"contour\"}], \"contourcarpet\": [{\"colorbar\": {\"outlinewidth\": 0, \"ticks\": \"\"}, \"type\": \"contourcarpet\"}], \"heatmap\": [{\"colorbar\": {\"outlinewidth\": 0, \"ticks\": \"\"}, \"colorscale\": [[0.0, \"#0d0887\"], [0.1111111111111111, \"#46039f\"], [0.2222222222222222, \"#7201a8\"], [0.3333333333333333, \"#9c179e\"], [0.4444444444444444, \"#bd3786\"], [0.5555555555555556, \"#d8576b\"], [0.6666666666666666, \"#ed7953\"], [0.7777777777777778, \"#fb9f3a\"], [0.8888888888888888, \"#fdca26\"], [1.0, \"#f0f921\"]], \"type\": \"heatmap\"}], \"heatmapgl\": [{\"colorbar\": {\"outlinewidth\": 0, \"ticks\": \"\"}, \"colorscale\": [[0.0, \"#0d0887\"], [0.1111111111111111, \"#46039f\"], [0.2222222222222222, \"#7201a8\"], [0.3333333333333333, \"#9c179e\"], [0.4444444444444444, \"#bd3786\"], [0.5555555555555556, \"#d8576b\"], [0.6666666666666666, \"#ed7953\"], [0.7777777777777778, \"#fb9f3a\"], [0.8888888888888888, \"#fdca26\"], [1.0, \"#f0f921\"]], \"type\": \"heatmapgl\"}], \"histogram\": [{\"marker\": {\"colorbar\": {\"outlinewidth\": 0, \"ticks\": \"\"}}, \"type\": \"histogram\"}], \"histogram2d\": [{\"colorbar\": {\"outlinewidth\": 0, \"ticks\": \"\"}, \"colorscale\": [[0.0, \"#0d0887\"], [0.1111111111111111, \"#46039f\"], [0.2222222222222222, \"#7201a8\"], [0.3333333333333333, \"#9c179e\"], [0.4444444444444444, \"#bd3786\"], [0.5555555555555556, \"#d8576b\"], [0.6666666666666666, \"#ed7953\"], [0.7777777777777778, \"#fb9f3a\"], [0.8888888888888888, \"#fdca26\"], [1.0, \"#f0f921\"]], \"type\": \"histogram2d\"}], \"histogram2dcontour\": [{\"colorbar\": {\"outlinewidth\": 0, \"ticks\": \"\"}, \"colorscale\": [[0.0, \"#0d0887\"], [0.1111111111111111, \"#46039f\"], [0.2222222222222222, \"#7201a8\"], [0.3333333333333333, \"#9c179e\"], [0.4444444444444444, \"#bd3786\"], [0.5555555555555556, \"#d8576b\"], [0.6666666666666666, \"#ed7953\"], [0.7777777777777778, \"#fb9f3a\"], [0.8888888888888888, \"#fdca26\"], [1.0, \"#f0f921\"]], \"type\": \"histogram2dcontour\"}], \"mesh3d\": [{\"colorbar\": {\"outlinewidth\": 0, \"ticks\": \"\"}, \"type\": \"mesh3d\"}], \"parcoords\": [{\"line\": {\"colorbar\": {\"outlinewidth\": 0, \"ticks\": \"\"}}, \"type\": \"parcoords\"}], \"pie\": [{\"automargin\": true, \"type\": \"pie\"}], \"scatter\": [{\"marker\": {\"colorbar\": {\"outlinewidth\": 0, \"ticks\": \"\"}}, \"type\": \"scatter\"}], \"scatter3d\": [{\"line\": {\"colorbar\": {\"outlinewidth\": 0, \"ticks\": \"\"}}, \"marker\": {\"colorbar\": {\"outlinewidth\": 0, \"ticks\": \"\"}}, \"type\": \"scatter3d\"}], \"scattercarpet\": [{\"marker\": {\"colorbar\": {\"outlinewidth\": 0, \"ticks\": \"\"}}, \"type\": \"scattercarpet\"}], \"scattergeo\": [{\"marker\": {\"colorbar\": {\"outlinewidth\": 0, \"ticks\": \"\"}}, \"type\": \"scattergeo\"}], \"scattergl\": [{\"marker\": {\"colorbar\": {\"outlinewidth\": 0, \"ticks\": \"\"}}, \"type\": \"scattergl\"}], \"scattermapbox\": [{\"marker\": {\"colorbar\": {\"outlinewidth\": 0, \"ticks\": \"\"}}, \"type\": \"scattermapbox\"}], \"scatterpolar\": [{\"marker\": {\"colorbar\": {\"outlinewidth\": 0, \"ticks\": \"\"}}, \"type\": \"scatterpolar\"}], \"scatterpolargl\": [{\"marker\": {\"colorbar\": {\"outlinewidth\": 0, \"ticks\": \"\"}}, \"type\": \"scatterpolargl\"}], \"scatterternary\": [{\"marker\": {\"colorbar\": {\"outlinewidth\": 0, \"ticks\": \"\"}}, \"type\": \"scatterternary\"}], \"surface\": [{\"colorbar\": {\"outlinewidth\": 0, \"ticks\": \"\"}, \"colorscale\": [[0.0, \"#0d0887\"], [0.1111111111111111, \"#46039f\"], [0.2222222222222222, \"#7201a8\"], [0.3333333333333333, \"#9c179e\"], [0.4444444444444444, \"#bd3786\"], [0.5555555555555556, \"#d8576b\"], [0.6666666666666666, \"#ed7953\"], [0.7777777777777778, \"#fb9f3a\"], [0.8888888888888888, \"#fdca26\"], [1.0, \"#f0f921\"]], \"type\": \"surface\"}], \"table\": [{\"cells\": {\"fill\": {\"color\": \"#EBF0F8\"}, \"line\": {\"color\": \"white\"}}, \"header\": {\"fill\": {\"color\": \"#C8D4E3\"}, \"line\": {\"color\": \"white\"}}, \"type\": \"table\"}]}, \"layout\": {\"annotationdefaults\": {\"arrowcolor\": \"#2a3f5f\", \"arrowhead\": 0, \"arrowwidth\": 1}, \"autotypenumbers\": \"strict\", \"coloraxis\": {\"colorbar\": {\"outlinewidth\": 0, \"ticks\": \"\"}}, \"colorscale\": {\"diverging\": [[0, \"#8e0152\"], [0.1, \"#c51b7d\"], [0.2, \"#de77ae\"], [0.3, \"#f1b6da\"], [0.4, \"#fde0ef\"], [0.5, \"#f7f7f7\"], [0.6, \"#e6f5d0\"], [0.7, \"#b8e186\"], [0.8, \"#7fbc41\"], [0.9, \"#4d9221\"], [1, \"#276419\"]], \"sequential\": [[0.0, \"#0d0887\"], [0.1111111111111111, \"#46039f\"], [0.2222222222222222, \"#7201a8\"], [0.3333333333333333, \"#9c179e\"], [0.4444444444444444, \"#bd3786\"], [0.5555555555555556, \"#d8576b\"], [0.6666666666666666, \"#ed7953\"], [0.7777777777777778, \"#fb9f3a\"], [0.8888888888888888, \"#fdca26\"], [1.0, \"#f0f921\"]], \"sequentialminus\": [[0.0, \"#0d0887\"], [0.1111111111111111, \"#46039f\"], [0.2222222222222222, \"#7201a8\"], [0.3333333333333333, \"#9c179e\"], [0.4444444444444444, \"#bd3786\"], [0.5555555555555556, \"#d8576b\"], [0.6666666666666666, \"#ed7953\"], [0.7777777777777778, \"#fb9f3a\"], [0.8888888888888888, \"#fdca26\"], [1.0, \"#f0f921\"]]}, \"colorway\": [\"#636efa\", \"#EF553B\", \"#00cc96\", \"#ab63fa\", \"#FFA15A\", \"#19d3f3\", \"#FF6692\", \"#B6E880\", \"#FF97FF\", \"#FECB52\"], \"font\": {\"color\": \"#2a3f5f\"}, \"geo\": {\"bgcolor\": \"white\", \"lakecolor\": \"white\", \"landcolor\": \"#E5ECF6\", \"showlakes\": true, \"showland\": true, \"subunitcolor\": \"white\"}, \"hoverlabel\": {\"align\": \"left\"}, \"hovermode\": \"closest\", \"mapbox\": {\"style\": \"light\"}, \"paper_bgcolor\": \"white\", \"plot_bgcolor\": \"#E5ECF6\", \"polar\": {\"angularaxis\": {\"gridcolor\": \"white\", \"linecolor\": \"white\", \"ticks\": \"\"}, \"bgcolor\": \"#E5ECF6\", \"radialaxis\": {\"gridcolor\": \"white\", \"linecolor\": \"white\", \"ticks\": \"\"}}, \"scene\": {\"xaxis\": {\"backgroundcolor\": \"#E5ECF6\", \"gridcolor\": \"white\", \"gridwidth\": 2, \"linecolor\": \"white\", \"showbackground\": true, \"ticks\": \"\", \"zerolinecolor\": \"white\"}, \"yaxis\": {\"backgroundcolor\": \"#E5ECF6\", \"gridcolor\": \"white\", \"gridwidth\": 2, \"linecolor\": \"white\", \"showbackground\": true, \"ticks\": \"\", \"zerolinecolor\": \"white\"}, \"zaxis\": {\"backgroundcolor\": \"#E5ECF6\", \"gridcolor\": \"white\", \"gridwidth\": 2, \"linecolor\": \"white\", \"showbackground\": true, \"ticks\": \"\", \"zerolinecolor\": \"white\"}}, \"shapedefaults\": {\"line\": {\"color\": \"#2a3f5f\"}}, \"ternary\": {\"aaxis\": {\"gridcolor\": \"white\", \"linecolor\": \"white\", \"ticks\": \"\"}, \"baxis\": {\"gridcolor\": \"white\", \"linecolor\": \"white\", \"ticks\": \"\"}, \"bgcolor\": \"#E5ECF6\", \"caxis\": {\"gridcolor\": \"white\", \"linecolor\": \"white\", \"ticks\": \"\"}}, \"title\": {\"x\": 0.05}, \"xaxis\": {\"automargin\": true, \"gridcolor\": \"white\", \"linecolor\": \"white\", \"ticks\": \"\", \"title\": {\"standoff\": 15}, \"zerolinecolor\": \"white\", \"zerolinewidth\": 2}, \"yaxis\": {\"automargin\": true, \"gridcolor\": \"white\", \"linecolor\": \"white\", \"ticks\": \"\", \"title\": {\"standoff\": 15}, \"zerolinecolor\": \"white\", \"zerolinewidth\": 2}}}, \"title\": {\"font\": {\"color\": \"#4D5663\"}}, \"xaxis\": {\"gridcolor\": \"#E1E5ED\", \"showgrid\": true, \"tickfont\": {\"color\": \"#4D5663\"}, \"title\": {\"font\": {\"color\": \"#4D5663\"}, \"text\": \"\"}, \"zerolinecolor\": \"#E1E5ED\"}, \"xaxis2\": {\"anchor\": \"y2\", \"gridcolor\": \"#E1E5ED\", \"showgrid\": true, \"showticklabels\": false, \"tickfont\": {\"color\": \"#4D5663\"}, \"title\": {\"font\": {\"color\": \"#4D5663\"}, \"text\": \"\"}, \"zerolinecolor\": \"#E1E5ED\"}, \"yaxis\": {\"domain\": [0.3, 1], \"gridcolor\": \"#E1E5ED\", \"showgrid\": true, \"tickfont\": {\"color\": \"#4D5663\"}, \"title\": {\"font\": {\"color\": \"#4D5663\"}, \"text\": \"\"}, \"zerolinecolor\": \"#E1E5ED\"}, \"yaxis2\": {\"domain\": [0, 0.25], \"gridcolor\": \"#E1E5ED\", \"showgrid\": true, \"tickfont\": {\"color\": \"#4D5663\"}, \"title\": {\"font\": {\"color\": \"#4D5663\"}, \"text\": \"Spread\"}, \"zerolinecolor\": \"#E1E5ED\"}},                        {\"showLink\": true, \"linkText\": \"Export to plot.ly\", \"plotlyServerURL\": \"https://plot.ly\", \"responsive\": true}                    ).then(function(){\n",
       "                            \n",
       "var gd = document.getElementById('7025de52-3dac-40b6-89ca-2e5ada7d2bcf');\n",
       "var x = new MutationObserver(function (mutations, observer) {{\n",
       "        var display = window.getComputedStyle(gd).display;\n",
       "        if (!display || display === 'none') {{\n",
       "            console.log([gd, 'removed!']);\n",
       "            Plotly.purge(gd);\n",
       "            observer.disconnect();\n",
       "        }}\n",
       "}});\n",
       "\n",
       "// Listen for the removal of the full notebook cells\n",
       "var notebookContainer = gd.closest('#notebook-container');\n",
       "if (notebookContainer) {{\n",
       "    x.observe(notebookContainer, {childList: true});\n",
       "}}\n",
       "\n",
       "// Listen for the clearing of the current output cell\n",
       "var outputEl = gd.closest('.output');\n",
       "if (outputEl) {{\n",
       "    x.observe(outputEl, {childList: true});\n",
       "}}\n",
       "\n",
       "                        })                };                });            </script>        </div>"
      ]
     },
     "metadata": {},
     "output_type": "display_data"
    }
   ],
   "source": [
    "df[['A', 'B']].iplot(kind='spread')"
   ]
  },
  {
   "cell_type": "code",
   "execution_count": 45,
   "metadata": {},
   "outputs": [
    {
     "data": {
      "application/vnd.plotly.v1+json": {
       "config": {
        "linkText": "Export to plot.ly",
        "plotlyServerURL": "https://plot.ly",
        "showLink": true
       },
       "data": [
        {
         "histfunc": "count",
         "histnorm": "",
         "marker": {
          "color": "rgba(255, 153, 51, 1.0)",
          "line": {
           "color": "#4D5663",
           "width": 1.3
          }
         },
         "name": "A",
         "nbinsx": 50,
         "opacity": 0.8,
         "orientation": "v",
         "type": "histogram",
         "x": [
          -0.08246222777140658,
          0.7173230319183161,
          -1.4831462800247348,
          0.6007188011403605,
          1.289075599445904,
          0.4686184185783867,
          0.9861225102722071,
          -0.46912667007143066,
          1.7361292929950078,
          0.04365889119250256,
          1.2341316458674847,
          0.821179261753058,
          0.510361491783725,
          -0.16508037667801448,
          0.7577534273104339,
          -0.8667901941733359,
          1.3594944902287593,
          -1.1685993739916176,
          1.1105441176779236,
          2.179116305512871,
          -1.0669303473380523,
          -0.4865054709776041,
          2.123010480961304,
          1.122915995141616,
          0.8927499392112277,
          -0.10340193631007873,
          0.40433819829483225,
          1.2572964981158954,
          0.11700900125746119,
          -0.7026845863976289,
          0.44657856814521074,
          -1.1023149498936338,
          -0.14181716320340942,
          -2.203822075626207,
          2.1060253516626544,
          0.16448217726557168,
          -0.6887885110479985,
          -1.5297766193899487,
          0.7306152486007272,
          0.5582213127690169,
          0.7805847071266674,
          -0.4138262329473763,
          0.43877421762173396,
          -0.17113281260598195,
          -0.7723643087741576,
          -0.44972702786652147,
          -0.295278673235866,
          0.17472053263719536,
          -0.07084006961141828,
          0.5598408246345813,
          -0.26184496480996333,
          0.15783441901398237,
          0.31583156191644834,
          0.45716192750797735,
          -1.0532192491323207,
          -0.1131779568506202,
          2.5616936250228277,
          0.19009419833845465,
          -0.5984275457623431,
          0.4745933715997644,
          0.6960874097842701,
          0.626694260308462,
          1.4892579489991618,
          -0.05117752075617346,
          0.4250907181303993,
          0.9739273103422872,
          0.6362806675655954,
          -1.0162423232433264,
          0.9066631371828433,
          -1.679535026651661,
          0.9869659281108462,
          1.3453703943728241,
          0.343490665154001,
          -0.2853841697384442,
          1.6779939042723648,
          -1.4846430813013987,
          1.5382370758376722,
          -0.9330596295665243,
          -1.9920517428997413,
          -0.9116729322213409,
          2.049708236088764,
          0.35325947359296905,
          -1.035379152347821,
          -0.13083975048816482,
          0.691709526438699,
          0.5417778168132682,
          -0.804558538375137,
          -0.08890127612875974,
          0.07238988424715156,
          -1.4480553614844163,
          1.6305803770755345,
          0.23771832739327292,
          -0.24686337911028947,
          0.5418021381378408,
          -0.29289376146775437,
          0.5140535966322717,
          -1.0431412319656117,
          0.9133882773462815,
          1.0012785109207942,
          -0.49528847444847685
         ]
        }
       ],
       "layout": {
        "barmode": "overlay",
        "legend": {
         "bgcolor": "#F5F6F9",
         "font": {
          "color": "#4D5663"
         }
        },
        "paper_bgcolor": "#F5F6F9",
        "plot_bgcolor": "#F5F6F9",
        "template": {
         "data": {
          "bar": [
           {
            "error_x": {
             "color": "#2a3f5f"
            },
            "error_y": {
             "color": "#2a3f5f"
            },
            "marker": {
             "line": {
              "color": "#E5ECF6",
              "width": 0.5
             }
            },
            "type": "bar"
           }
          ],
          "barpolar": [
           {
            "marker": {
             "line": {
              "color": "#E5ECF6",
              "width": 0.5
             }
            },
            "type": "barpolar"
           }
          ],
          "carpet": [
           {
            "aaxis": {
             "endlinecolor": "#2a3f5f",
             "gridcolor": "white",
             "linecolor": "white",
             "minorgridcolor": "white",
             "startlinecolor": "#2a3f5f"
            },
            "baxis": {
             "endlinecolor": "#2a3f5f",
             "gridcolor": "white",
             "linecolor": "white",
             "minorgridcolor": "white",
             "startlinecolor": "#2a3f5f"
            },
            "type": "carpet"
           }
          ],
          "choropleth": [
           {
            "colorbar": {
             "outlinewidth": 0,
             "ticks": ""
            },
            "type": "choropleth"
           }
          ],
          "contour": [
           {
            "colorbar": {
             "outlinewidth": 0,
             "ticks": ""
            },
            "colorscale": [
             [
              0,
              "#0d0887"
             ],
             [
              0.1111111111111111,
              "#46039f"
             ],
             [
              0.2222222222222222,
              "#7201a8"
             ],
             [
              0.3333333333333333,
              "#9c179e"
             ],
             [
              0.4444444444444444,
              "#bd3786"
             ],
             [
              0.5555555555555556,
              "#d8576b"
             ],
             [
              0.6666666666666666,
              "#ed7953"
             ],
             [
              0.7777777777777778,
              "#fb9f3a"
             ],
             [
              0.8888888888888888,
              "#fdca26"
             ],
             [
              1,
              "#f0f921"
             ]
            ],
            "type": "contour"
           }
          ],
          "contourcarpet": [
           {
            "colorbar": {
             "outlinewidth": 0,
             "ticks": ""
            },
            "type": "contourcarpet"
           }
          ],
          "heatmap": [
           {
            "colorbar": {
             "outlinewidth": 0,
             "ticks": ""
            },
            "colorscale": [
             [
              0,
              "#0d0887"
             ],
             [
              0.1111111111111111,
              "#46039f"
             ],
             [
              0.2222222222222222,
              "#7201a8"
             ],
             [
              0.3333333333333333,
              "#9c179e"
             ],
             [
              0.4444444444444444,
              "#bd3786"
             ],
             [
              0.5555555555555556,
              "#d8576b"
             ],
             [
              0.6666666666666666,
              "#ed7953"
             ],
             [
              0.7777777777777778,
              "#fb9f3a"
             ],
             [
              0.8888888888888888,
              "#fdca26"
             ],
             [
              1,
              "#f0f921"
             ]
            ],
            "type": "heatmap"
           }
          ],
          "heatmapgl": [
           {
            "colorbar": {
             "outlinewidth": 0,
             "ticks": ""
            },
            "colorscale": [
             [
              0,
              "#0d0887"
             ],
             [
              0.1111111111111111,
              "#46039f"
             ],
             [
              0.2222222222222222,
              "#7201a8"
             ],
             [
              0.3333333333333333,
              "#9c179e"
             ],
             [
              0.4444444444444444,
              "#bd3786"
             ],
             [
              0.5555555555555556,
              "#d8576b"
             ],
             [
              0.6666666666666666,
              "#ed7953"
             ],
             [
              0.7777777777777778,
              "#fb9f3a"
             ],
             [
              0.8888888888888888,
              "#fdca26"
             ],
             [
              1,
              "#f0f921"
             ]
            ],
            "type": "heatmapgl"
           }
          ],
          "histogram": [
           {
            "marker": {
             "colorbar": {
              "outlinewidth": 0,
              "ticks": ""
             }
            },
            "type": "histogram"
           }
          ],
          "histogram2d": [
           {
            "colorbar": {
             "outlinewidth": 0,
             "ticks": ""
            },
            "colorscale": [
             [
              0,
              "#0d0887"
             ],
             [
              0.1111111111111111,
              "#46039f"
             ],
             [
              0.2222222222222222,
              "#7201a8"
             ],
             [
              0.3333333333333333,
              "#9c179e"
             ],
             [
              0.4444444444444444,
              "#bd3786"
             ],
             [
              0.5555555555555556,
              "#d8576b"
             ],
             [
              0.6666666666666666,
              "#ed7953"
             ],
             [
              0.7777777777777778,
              "#fb9f3a"
             ],
             [
              0.8888888888888888,
              "#fdca26"
             ],
             [
              1,
              "#f0f921"
             ]
            ],
            "type": "histogram2d"
           }
          ],
          "histogram2dcontour": [
           {
            "colorbar": {
             "outlinewidth": 0,
             "ticks": ""
            },
            "colorscale": [
             [
              0,
              "#0d0887"
             ],
             [
              0.1111111111111111,
              "#46039f"
             ],
             [
              0.2222222222222222,
              "#7201a8"
             ],
             [
              0.3333333333333333,
              "#9c179e"
             ],
             [
              0.4444444444444444,
              "#bd3786"
             ],
             [
              0.5555555555555556,
              "#d8576b"
             ],
             [
              0.6666666666666666,
              "#ed7953"
             ],
             [
              0.7777777777777778,
              "#fb9f3a"
             ],
             [
              0.8888888888888888,
              "#fdca26"
             ],
             [
              1,
              "#f0f921"
             ]
            ],
            "type": "histogram2dcontour"
           }
          ],
          "mesh3d": [
           {
            "colorbar": {
             "outlinewidth": 0,
             "ticks": ""
            },
            "type": "mesh3d"
           }
          ],
          "parcoords": [
           {
            "line": {
             "colorbar": {
              "outlinewidth": 0,
              "ticks": ""
             }
            },
            "type": "parcoords"
           }
          ],
          "pie": [
           {
            "automargin": true,
            "type": "pie"
           }
          ],
          "scatter": [
           {
            "marker": {
             "colorbar": {
              "outlinewidth": 0,
              "ticks": ""
             }
            },
            "type": "scatter"
           }
          ],
          "scatter3d": [
           {
            "line": {
             "colorbar": {
              "outlinewidth": 0,
              "ticks": ""
             }
            },
            "marker": {
             "colorbar": {
              "outlinewidth": 0,
              "ticks": ""
             }
            },
            "type": "scatter3d"
           }
          ],
          "scattercarpet": [
           {
            "marker": {
             "colorbar": {
              "outlinewidth": 0,
              "ticks": ""
             }
            },
            "type": "scattercarpet"
           }
          ],
          "scattergeo": [
           {
            "marker": {
             "colorbar": {
              "outlinewidth": 0,
              "ticks": ""
             }
            },
            "type": "scattergeo"
           }
          ],
          "scattergl": [
           {
            "marker": {
             "colorbar": {
              "outlinewidth": 0,
              "ticks": ""
             }
            },
            "type": "scattergl"
           }
          ],
          "scattermapbox": [
           {
            "marker": {
             "colorbar": {
              "outlinewidth": 0,
              "ticks": ""
             }
            },
            "type": "scattermapbox"
           }
          ],
          "scatterpolar": [
           {
            "marker": {
             "colorbar": {
              "outlinewidth": 0,
              "ticks": ""
             }
            },
            "type": "scatterpolar"
           }
          ],
          "scatterpolargl": [
           {
            "marker": {
             "colorbar": {
              "outlinewidth": 0,
              "ticks": ""
             }
            },
            "type": "scatterpolargl"
           }
          ],
          "scatterternary": [
           {
            "marker": {
             "colorbar": {
              "outlinewidth": 0,
              "ticks": ""
             }
            },
            "type": "scatterternary"
           }
          ],
          "surface": [
           {
            "colorbar": {
             "outlinewidth": 0,
             "ticks": ""
            },
            "colorscale": [
             [
              0,
              "#0d0887"
             ],
             [
              0.1111111111111111,
              "#46039f"
             ],
             [
              0.2222222222222222,
              "#7201a8"
             ],
             [
              0.3333333333333333,
              "#9c179e"
             ],
             [
              0.4444444444444444,
              "#bd3786"
             ],
             [
              0.5555555555555556,
              "#d8576b"
             ],
             [
              0.6666666666666666,
              "#ed7953"
             ],
             [
              0.7777777777777778,
              "#fb9f3a"
             ],
             [
              0.8888888888888888,
              "#fdca26"
             ],
             [
              1,
              "#f0f921"
             ]
            ],
            "type": "surface"
           }
          ],
          "table": [
           {
            "cells": {
             "fill": {
              "color": "#EBF0F8"
             },
             "line": {
              "color": "white"
             }
            },
            "header": {
             "fill": {
              "color": "#C8D4E3"
             },
             "line": {
              "color": "white"
             }
            },
            "type": "table"
           }
          ]
         },
         "layout": {
          "annotationdefaults": {
           "arrowcolor": "#2a3f5f",
           "arrowhead": 0,
           "arrowwidth": 1
          },
          "autotypenumbers": "strict",
          "coloraxis": {
           "colorbar": {
            "outlinewidth": 0,
            "ticks": ""
           }
          },
          "colorscale": {
           "diverging": [
            [
             0,
             "#8e0152"
            ],
            [
             0.1,
             "#c51b7d"
            ],
            [
             0.2,
             "#de77ae"
            ],
            [
             0.3,
             "#f1b6da"
            ],
            [
             0.4,
             "#fde0ef"
            ],
            [
             0.5,
             "#f7f7f7"
            ],
            [
             0.6,
             "#e6f5d0"
            ],
            [
             0.7,
             "#b8e186"
            ],
            [
             0.8,
             "#7fbc41"
            ],
            [
             0.9,
             "#4d9221"
            ],
            [
             1,
             "#276419"
            ]
           ],
           "sequential": [
            [
             0,
             "#0d0887"
            ],
            [
             0.1111111111111111,
             "#46039f"
            ],
            [
             0.2222222222222222,
             "#7201a8"
            ],
            [
             0.3333333333333333,
             "#9c179e"
            ],
            [
             0.4444444444444444,
             "#bd3786"
            ],
            [
             0.5555555555555556,
             "#d8576b"
            ],
            [
             0.6666666666666666,
             "#ed7953"
            ],
            [
             0.7777777777777778,
             "#fb9f3a"
            ],
            [
             0.8888888888888888,
             "#fdca26"
            ],
            [
             1,
             "#f0f921"
            ]
           ],
           "sequentialminus": [
            [
             0,
             "#0d0887"
            ],
            [
             0.1111111111111111,
             "#46039f"
            ],
            [
             0.2222222222222222,
             "#7201a8"
            ],
            [
             0.3333333333333333,
             "#9c179e"
            ],
            [
             0.4444444444444444,
             "#bd3786"
            ],
            [
             0.5555555555555556,
             "#d8576b"
            ],
            [
             0.6666666666666666,
             "#ed7953"
            ],
            [
             0.7777777777777778,
             "#fb9f3a"
            ],
            [
             0.8888888888888888,
             "#fdca26"
            ],
            [
             1,
             "#f0f921"
            ]
           ]
          },
          "colorway": [
           "#636efa",
           "#EF553B",
           "#00cc96",
           "#ab63fa",
           "#FFA15A",
           "#19d3f3",
           "#FF6692",
           "#B6E880",
           "#FF97FF",
           "#FECB52"
          ],
          "font": {
           "color": "#2a3f5f"
          },
          "geo": {
           "bgcolor": "white",
           "lakecolor": "white",
           "landcolor": "#E5ECF6",
           "showlakes": true,
           "showland": true,
           "subunitcolor": "white"
          },
          "hoverlabel": {
           "align": "left"
          },
          "hovermode": "closest",
          "mapbox": {
           "style": "light"
          },
          "paper_bgcolor": "white",
          "plot_bgcolor": "#E5ECF6",
          "polar": {
           "angularaxis": {
            "gridcolor": "white",
            "linecolor": "white",
            "ticks": ""
           },
           "bgcolor": "#E5ECF6",
           "radialaxis": {
            "gridcolor": "white",
            "linecolor": "white",
            "ticks": ""
           }
          },
          "scene": {
           "xaxis": {
            "backgroundcolor": "#E5ECF6",
            "gridcolor": "white",
            "gridwidth": 2,
            "linecolor": "white",
            "showbackground": true,
            "ticks": "",
            "zerolinecolor": "white"
           },
           "yaxis": {
            "backgroundcolor": "#E5ECF6",
            "gridcolor": "white",
            "gridwidth": 2,
            "linecolor": "white",
            "showbackground": true,
            "ticks": "",
            "zerolinecolor": "white"
           },
           "zaxis": {
            "backgroundcolor": "#E5ECF6",
            "gridcolor": "white",
            "gridwidth": 2,
            "linecolor": "white",
            "showbackground": true,
            "ticks": "",
            "zerolinecolor": "white"
           }
          },
          "shapedefaults": {
           "line": {
            "color": "#2a3f5f"
           }
          },
          "ternary": {
           "aaxis": {
            "gridcolor": "white",
            "linecolor": "white",
            "ticks": ""
           },
           "baxis": {
            "gridcolor": "white",
            "linecolor": "white",
            "ticks": ""
           },
           "bgcolor": "#E5ECF6",
           "caxis": {
            "gridcolor": "white",
            "linecolor": "white",
            "ticks": ""
           }
          },
          "title": {
           "x": 0.05
          },
          "xaxis": {
           "automargin": true,
           "gridcolor": "white",
           "linecolor": "white",
           "ticks": "",
           "title": {
            "standoff": 15
           },
           "zerolinecolor": "white",
           "zerolinewidth": 2
          },
          "yaxis": {
           "automargin": true,
           "gridcolor": "white",
           "linecolor": "white",
           "ticks": "",
           "title": {
            "standoff": 15
           },
           "zerolinecolor": "white",
           "zerolinewidth": 2
          }
         }
        },
        "title": {
         "font": {
          "color": "#4D5663"
         }
        },
        "xaxis": {
         "gridcolor": "#E1E5ED",
         "showgrid": true,
         "tickfont": {
          "color": "#4D5663"
         },
         "title": {
          "font": {
           "color": "#4D5663"
          },
          "text": ""
         },
         "zerolinecolor": "#E1E5ED"
        },
        "yaxis": {
         "gridcolor": "#E1E5ED",
         "showgrid": true,
         "tickfont": {
          "color": "#4D5663"
         },
         "title": {
          "font": {
           "color": "#4D5663"
          },
          "text": ""
         },
         "zerolinecolor": "#E1E5ED"
        }
       }
      },
      "text/html": [
       "<div>                            <div id=\"b473105e-ad41-437a-8b11-b4704d5ca771\" class=\"plotly-graph-div\" style=\"height:525px; width:100%;\"></div>            <script type=\"text/javascript\">                require([\"plotly\"], function(Plotly) {                    window.PLOTLYENV=window.PLOTLYENV || {};\n",
       "                    window.PLOTLYENV.BASE_URL='https://plot.ly';                                    if (document.getElementById(\"b473105e-ad41-437a-8b11-b4704d5ca771\")) {                    Plotly.newPlot(                        \"b473105e-ad41-437a-8b11-b4704d5ca771\",                        [{\"histfunc\": \"count\", \"histnorm\": \"\", \"marker\": {\"color\": \"rgba(255, 153, 51, 1.0)\", \"line\": {\"color\": \"#4D5663\", \"width\": 1.3}}, \"name\": \"A\", \"nbinsx\": 50, \"opacity\": 0.8, \"orientation\": \"v\", \"type\": \"histogram\", \"x\": [-0.08246222777140658, 0.7173230319183161, -1.4831462800247348, 0.6007188011403605, 1.289075599445904, 0.4686184185783867, 0.9861225102722071, -0.46912667007143066, 1.7361292929950078, 0.04365889119250256, 1.2341316458674847, 0.821179261753058, 0.510361491783725, -0.16508037667801448, 0.7577534273104339, -0.8667901941733359, 1.3594944902287593, -1.1685993739916176, 1.1105441176779236, 2.179116305512871, -1.0669303473380523, -0.4865054709776041, 2.123010480961304, 1.122915995141616, 0.8927499392112277, -0.10340193631007873, 0.40433819829483225, 1.2572964981158954, 0.11700900125746119, -0.7026845863976289, 0.44657856814521074, -1.1023149498936338, -0.14181716320340942, -2.203822075626207, 2.1060253516626544, 0.16448217726557168, -0.6887885110479985, -1.5297766193899487, 0.7306152486007272, 0.5582213127690169, 0.7805847071266674, -0.4138262329473763, 0.43877421762173396, -0.17113281260598195, -0.7723643087741576, -0.44972702786652147, -0.295278673235866, 0.17472053263719536, -0.07084006961141828, 0.5598408246345813, -0.26184496480996333, 0.15783441901398237, 0.31583156191644834, 0.45716192750797735, -1.0532192491323207, -0.1131779568506202, 2.5616936250228277, 0.19009419833845465, -0.5984275457623431, 0.4745933715997644, 0.6960874097842701, 0.626694260308462, 1.4892579489991618, -0.05117752075617346, 0.4250907181303993, 0.9739273103422872, 0.6362806675655954, -1.0162423232433264, 0.9066631371828433, -1.679535026651661, 0.9869659281108462, 1.3453703943728241, 0.343490665154001, -0.2853841697384442, 1.6779939042723648, -1.4846430813013987, 1.5382370758376722, -0.9330596295665243, -1.9920517428997413, -0.9116729322213409, 2.049708236088764, 0.35325947359296905, -1.035379152347821, -0.13083975048816482, 0.691709526438699, 0.5417778168132682, -0.804558538375137, -0.08890127612875974, 0.07238988424715156, -1.4480553614844163, 1.6305803770755345, 0.23771832739327292, -0.24686337911028947, 0.5418021381378408, -0.29289376146775437, 0.5140535966322717, -1.0431412319656117, 0.9133882773462815, 1.0012785109207942, -0.49528847444847685]}],                        {\"barmode\": \"overlay\", \"legend\": {\"bgcolor\": \"#F5F6F9\", \"font\": {\"color\": \"#4D5663\"}}, \"paper_bgcolor\": \"#F5F6F9\", \"plot_bgcolor\": \"#F5F6F9\", \"template\": {\"data\": {\"bar\": [{\"error_x\": {\"color\": \"#2a3f5f\"}, \"error_y\": {\"color\": \"#2a3f5f\"}, \"marker\": {\"line\": {\"color\": \"#E5ECF6\", \"width\": 0.5}}, \"type\": \"bar\"}], \"barpolar\": [{\"marker\": {\"line\": {\"color\": \"#E5ECF6\", \"width\": 0.5}}, \"type\": \"barpolar\"}], \"carpet\": [{\"aaxis\": {\"endlinecolor\": \"#2a3f5f\", \"gridcolor\": \"white\", \"linecolor\": \"white\", \"minorgridcolor\": \"white\", \"startlinecolor\": \"#2a3f5f\"}, \"baxis\": {\"endlinecolor\": \"#2a3f5f\", \"gridcolor\": \"white\", \"linecolor\": \"white\", \"minorgridcolor\": \"white\", \"startlinecolor\": \"#2a3f5f\"}, \"type\": \"carpet\"}], \"choropleth\": [{\"colorbar\": {\"outlinewidth\": 0, \"ticks\": \"\"}, \"type\": \"choropleth\"}], \"contour\": [{\"colorbar\": {\"outlinewidth\": 0, \"ticks\": \"\"}, \"colorscale\": [[0.0, \"#0d0887\"], [0.1111111111111111, \"#46039f\"], [0.2222222222222222, \"#7201a8\"], [0.3333333333333333, \"#9c179e\"], [0.4444444444444444, \"#bd3786\"], [0.5555555555555556, \"#d8576b\"], [0.6666666666666666, \"#ed7953\"], [0.7777777777777778, \"#fb9f3a\"], [0.8888888888888888, \"#fdca26\"], [1.0, \"#f0f921\"]], \"type\": \"contour\"}], \"contourcarpet\": [{\"colorbar\": {\"outlinewidth\": 0, \"ticks\": \"\"}, \"type\": \"contourcarpet\"}], \"heatmap\": [{\"colorbar\": {\"outlinewidth\": 0, \"ticks\": \"\"}, \"colorscale\": [[0.0, \"#0d0887\"], [0.1111111111111111, \"#46039f\"], [0.2222222222222222, \"#7201a8\"], [0.3333333333333333, \"#9c179e\"], [0.4444444444444444, \"#bd3786\"], [0.5555555555555556, \"#d8576b\"], [0.6666666666666666, \"#ed7953\"], [0.7777777777777778, \"#fb9f3a\"], [0.8888888888888888, \"#fdca26\"], [1.0, \"#f0f921\"]], \"type\": \"heatmap\"}], \"heatmapgl\": [{\"colorbar\": {\"outlinewidth\": 0, \"ticks\": \"\"}, \"colorscale\": [[0.0, \"#0d0887\"], [0.1111111111111111, \"#46039f\"], [0.2222222222222222, \"#7201a8\"], [0.3333333333333333, \"#9c179e\"], [0.4444444444444444, \"#bd3786\"], [0.5555555555555556, \"#d8576b\"], [0.6666666666666666, \"#ed7953\"], [0.7777777777777778, \"#fb9f3a\"], [0.8888888888888888, \"#fdca26\"], [1.0, \"#f0f921\"]], \"type\": \"heatmapgl\"}], \"histogram\": [{\"marker\": {\"colorbar\": {\"outlinewidth\": 0, \"ticks\": \"\"}}, \"type\": \"histogram\"}], \"histogram2d\": [{\"colorbar\": {\"outlinewidth\": 0, \"ticks\": \"\"}, \"colorscale\": [[0.0, \"#0d0887\"], [0.1111111111111111, \"#46039f\"], [0.2222222222222222, \"#7201a8\"], [0.3333333333333333, \"#9c179e\"], [0.4444444444444444, \"#bd3786\"], [0.5555555555555556, \"#d8576b\"], [0.6666666666666666, \"#ed7953\"], [0.7777777777777778, \"#fb9f3a\"], [0.8888888888888888, \"#fdca26\"], [1.0, \"#f0f921\"]], \"type\": \"histogram2d\"}], \"histogram2dcontour\": [{\"colorbar\": {\"outlinewidth\": 0, \"ticks\": \"\"}, \"colorscale\": [[0.0, \"#0d0887\"], [0.1111111111111111, \"#46039f\"], [0.2222222222222222, \"#7201a8\"], [0.3333333333333333, \"#9c179e\"], [0.4444444444444444, \"#bd3786\"], [0.5555555555555556, \"#d8576b\"], [0.6666666666666666, \"#ed7953\"], [0.7777777777777778, \"#fb9f3a\"], [0.8888888888888888, \"#fdca26\"], [1.0, \"#f0f921\"]], \"type\": \"histogram2dcontour\"}], \"mesh3d\": [{\"colorbar\": {\"outlinewidth\": 0, \"ticks\": \"\"}, \"type\": \"mesh3d\"}], \"parcoords\": [{\"line\": {\"colorbar\": {\"outlinewidth\": 0, \"ticks\": \"\"}}, \"type\": \"parcoords\"}], \"pie\": [{\"automargin\": true, \"type\": \"pie\"}], \"scatter\": [{\"marker\": {\"colorbar\": {\"outlinewidth\": 0, \"ticks\": \"\"}}, \"type\": \"scatter\"}], \"scatter3d\": [{\"line\": {\"colorbar\": {\"outlinewidth\": 0, \"ticks\": \"\"}}, \"marker\": {\"colorbar\": {\"outlinewidth\": 0, \"ticks\": \"\"}}, \"type\": \"scatter3d\"}], \"scattercarpet\": [{\"marker\": {\"colorbar\": {\"outlinewidth\": 0, \"ticks\": \"\"}}, \"type\": \"scattercarpet\"}], \"scattergeo\": [{\"marker\": {\"colorbar\": {\"outlinewidth\": 0, \"ticks\": \"\"}}, \"type\": \"scattergeo\"}], \"scattergl\": [{\"marker\": {\"colorbar\": {\"outlinewidth\": 0, \"ticks\": \"\"}}, \"type\": \"scattergl\"}], \"scattermapbox\": [{\"marker\": {\"colorbar\": {\"outlinewidth\": 0, \"ticks\": \"\"}}, \"type\": \"scattermapbox\"}], \"scatterpolar\": [{\"marker\": {\"colorbar\": {\"outlinewidth\": 0, \"ticks\": \"\"}}, \"type\": \"scatterpolar\"}], \"scatterpolargl\": [{\"marker\": {\"colorbar\": {\"outlinewidth\": 0, \"ticks\": \"\"}}, \"type\": \"scatterpolargl\"}], \"scatterternary\": [{\"marker\": {\"colorbar\": {\"outlinewidth\": 0, \"ticks\": \"\"}}, \"type\": \"scatterternary\"}], \"surface\": [{\"colorbar\": {\"outlinewidth\": 0, \"ticks\": \"\"}, \"colorscale\": [[0.0, \"#0d0887\"], [0.1111111111111111, \"#46039f\"], [0.2222222222222222, \"#7201a8\"], [0.3333333333333333, \"#9c179e\"], [0.4444444444444444, \"#bd3786\"], [0.5555555555555556, \"#d8576b\"], [0.6666666666666666, \"#ed7953\"], [0.7777777777777778, \"#fb9f3a\"], [0.8888888888888888, \"#fdca26\"], [1.0, \"#f0f921\"]], \"type\": \"surface\"}], \"table\": [{\"cells\": {\"fill\": {\"color\": \"#EBF0F8\"}, \"line\": {\"color\": \"white\"}}, \"header\": {\"fill\": {\"color\": \"#C8D4E3\"}, \"line\": {\"color\": \"white\"}}, \"type\": \"table\"}]}, \"layout\": {\"annotationdefaults\": {\"arrowcolor\": \"#2a3f5f\", \"arrowhead\": 0, \"arrowwidth\": 1}, \"autotypenumbers\": \"strict\", \"coloraxis\": {\"colorbar\": {\"outlinewidth\": 0, \"ticks\": \"\"}}, \"colorscale\": {\"diverging\": [[0, \"#8e0152\"], [0.1, \"#c51b7d\"], [0.2, \"#de77ae\"], [0.3, \"#f1b6da\"], [0.4, \"#fde0ef\"], [0.5, \"#f7f7f7\"], [0.6, \"#e6f5d0\"], [0.7, \"#b8e186\"], [0.8, \"#7fbc41\"], [0.9, \"#4d9221\"], [1, \"#276419\"]], \"sequential\": [[0.0, \"#0d0887\"], [0.1111111111111111, \"#46039f\"], [0.2222222222222222, \"#7201a8\"], [0.3333333333333333, \"#9c179e\"], [0.4444444444444444, \"#bd3786\"], [0.5555555555555556, \"#d8576b\"], [0.6666666666666666, \"#ed7953\"], [0.7777777777777778, \"#fb9f3a\"], [0.8888888888888888, \"#fdca26\"], [1.0, \"#f0f921\"]], \"sequentialminus\": [[0.0, \"#0d0887\"], [0.1111111111111111, \"#46039f\"], [0.2222222222222222, \"#7201a8\"], [0.3333333333333333, \"#9c179e\"], [0.4444444444444444, \"#bd3786\"], [0.5555555555555556, \"#d8576b\"], [0.6666666666666666, \"#ed7953\"], [0.7777777777777778, \"#fb9f3a\"], [0.8888888888888888, \"#fdca26\"], [1.0, \"#f0f921\"]]}, \"colorway\": [\"#636efa\", \"#EF553B\", \"#00cc96\", \"#ab63fa\", \"#FFA15A\", \"#19d3f3\", \"#FF6692\", \"#B6E880\", \"#FF97FF\", \"#FECB52\"], \"font\": {\"color\": \"#2a3f5f\"}, \"geo\": {\"bgcolor\": \"white\", \"lakecolor\": \"white\", \"landcolor\": \"#E5ECF6\", \"showlakes\": true, \"showland\": true, \"subunitcolor\": \"white\"}, \"hoverlabel\": {\"align\": \"left\"}, \"hovermode\": \"closest\", \"mapbox\": {\"style\": \"light\"}, \"paper_bgcolor\": \"white\", \"plot_bgcolor\": \"#E5ECF6\", \"polar\": {\"angularaxis\": {\"gridcolor\": \"white\", \"linecolor\": \"white\", \"ticks\": \"\"}, \"bgcolor\": \"#E5ECF6\", \"radialaxis\": {\"gridcolor\": \"white\", \"linecolor\": \"white\", \"ticks\": \"\"}}, \"scene\": {\"xaxis\": {\"backgroundcolor\": \"#E5ECF6\", \"gridcolor\": \"white\", \"gridwidth\": 2, \"linecolor\": \"white\", \"showbackground\": true, \"ticks\": \"\", \"zerolinecolor\": \"white\"}, \"yaxis\": {\"backgroundcolor\": \"#E5ECF6\", \"gridcolor\": \"white\", \"gridwidth\": 2, \"linecolor\": \"white\", \"showbackground\": true, \"ticks\": \"\", \"zerolinecolor\": \"white\"}, \"zaxis\": {\"backgroundcolor\": \"#E5ECF6\", \"gridcolor\": \"white\", \"gridwidth\": 2, \"linecolor\": \"white\", \"showbackground\": true, \"ticks\": \"\", \"zerolinecolor\": \"white\"}}, \"shapedefaults\": {\"line\": {\"color\": \"#2a3f5f\"}}, \"ternary\": {\"aaxis\": {\"gridcolor\": \"white\", \"linecolor\": \"white\", \"ticks\": \"\"}, \"baxis\": {\"gridcolor\": \"white\", \"linecolor\": \"white\", \"ticks\": \"\"}, \"bgcolor\": \"#E5ECF6\", \"caxis\": {\"gridcolor\": \"white\", \"linecolor\": \"white\", \"ticks\": \"\"}}, \"title\": {\"x\": 0.05}, \"xaxis\": {\"automargin\": true, \"gridcolor\": \"white\", \"linecolor\": \"white\", \"ticks\": \"\", \"title\": {\"standoff\": 15}, \"zerolinecolor\": \"white\", \"zerolinewidth\": 2}, \"yaxis\": {\"automargin\": true, \"gridcolor\": \"white\", \"linecolor\": \"white\", \"ticks\": \"\", \"title\": {\"standoff\": 15}, \"zerolinecolor\": \"white\", \"zerolinewidth\": 2}}}, \"title\": {\"font\": {\"color\": \"#4D5663\"}}, \"xaxis\": {\"gridcolor\": \"#E1E5ED\", \"showgrid\": true, \"tickfont\": {\"color\": \"#4D5663\"}, \"title\": {\"font\": {\"color\": \"#4D5663\"}, \"text\": \"\"}, \"zerolinecolor\": \"#E1E5ED\"}, \"yaxis\": {\"gridcolor\": \"#E1E5ED\", \"showgrid\": true, \"tickfont\": {\"color\": \"#4D5663\"}, \"title\": {\"font\": {\"color\": \"#4D5663\"}, \"text\": \"\"}, \"zerolinecolor\": \"#E1E5ED\"}},                        {\"showLink\": true, \"linkText\": \"Export to plot.ly\", \"plotlyServerURL\": \"https://plot.ly\", \"responsive\": true}                    ).then(function(){\n",
       "                            \n",
       "var gd = document.getElementById('b473105e-ad41-437a-8b11-b4704d5ca771');\n",
       "var x = new MutationObserver(function (mutations, observer) {{\n",
       "        var display = window.getComputedStyle(gd).display;\n",
       "        if (!display || display === 'none') {{\n",
       "            console.log([gd, 'removed!']);\n",
       "            Plotly.purge(gd);\n",
       "            observer.disconnect();\n",
       "        }}\n",
       "}});\n",
       "\n",
       "// Listen for the removal of the full notebook cells\n",
       "var notebookContainer = gd.closest('#notebook-container');\n",
       "if (notebookContainer) {{\n",
       "    x.observe(notebookContainer, {childList: true});\n",
       "}}\n",
       "\n",
       "// Listen for the clearing of the current output cell\n",
       "var outputEl = gd.closest('.output');\n",
       "if (outputEl) {{\n",
       "    x.observe(outputEl, {childList: true});\n",
       "}}\n",
       "\n",
       "                        })                };                });            </script>        </div>"
      ]
     },
     "metadata": {},
     "output_type": "display_data"
    }
   ],
   "source": [
    "df['A'].iplot(kind='hist', bins=50)"
   ]
  },
  {
   "cell_type": "code",
   "execution_count": 46,
   "metadata": {},
   "outputs": [
    {
     "data": {
      "application/vnd.plotly.v1+json": {
       "config": {
        "linkText": "Export to plot.ly",
        "plotlyServerURL": "https://plot.ly",
        "showLink": true
       },
       "data": [
        {
         "marker": {
          "color": [
           "rgb(255, 153, 51)",
           "rgb(55, 128, 191)",
           "rgb(50, 171, 96)",
           "rgb(128, 0, 128)",
           "rgb(219, 64, 82)",
           "rgb(0, 128, 128)",
           "rgb(255, 255, 51)",
           "rgb(128, 128, 0)",
           "rgb(251, 128, 114)",
           "rgb(128, 177, 211)"
          ],
          "line": {
           "width": 1.3
          },
          "size": [
           62,
           72,
           74,
           82,
           20,
           73,
           62,
           17,
           60,
           45,
           72,
           81,
           30,
           58,
           48,
           38,
           86,
           26,
           92,
           82,
           53,
           64,
           67,
           85,
           27,
           23,
           55,
           55,
           67,
           25,
           63,
           44,
           59,
           44,
           65,
           60,
           55,
           26,
           44,
           55,
           66,
           76,
           65,
           86,
           17,
           28,
           88,
           62,
           61,
           39,
           71,
           60,
           43,
           46,
           105,
           63,
           76,
           12,
           65,
           97,
           60,
           91,
           81,
           103,
           75,
           73,
           74,
           54,
           34,
           87,
           60,
           63,
           49,
           41,
           79,
           60,
           103,
           67,
           78,
           103,
           60,
           15,
           112,
           71,
           65,
           93,
           46,
           54,
           64,
           43,
           44,
           74,
           62,
           71,
           53,
           74,
           60,
           104,
           41,
           54
          ],
          "symbol": "circle"
         },
         "mode": "markers",
         "text": "",
         "type": "scatter",
         "x": [
          -0.08246222777140658,
          0.7173230319183161,
          -1.4831462800247348,
          0.6007188011403605,
          1.289075599445904,
          0.4686184185783867,
          0.9861225102722071,
          -0.46912667007143066,
          1.7361292929950078,
          0.04365889119250256,
          1.2341316458674847,
          0.821179261753058,
          0.510361491783725,
          -0.16508037667801448,
          0.7577534273104339,
          -0.8667901941733359,
          1.3594944902287593,
          -1.1685993739916176,
          1.1105441176779236,
          2.179116305512871,
          -1.0669303473380523,
          -0.4865054709776041,
          2.123010480961304,
          1.122915995141616,
          0.8927499392112277,
          -0.10340193631007873,
          0.40433819829483225,
          1.2572964981158954,
          0.11700900125746119,
          -0.7026845863976289,
          0.44657856814521074,
          -1.1023149498936338,
          -0.14181716320340942,
          -2.203822075626207,
          2.1060253516626544,
          0.16448217726557168,
          -0.6887885110479985,
          -1.5297766193899487,
          0.7306152486007272,
          0.5582213127690169,
          0.7805847071266674,
          -0.4138262329473763,
          0.43877421762173396,
          -0.17113281260598195,
          -0.7723643087741576,
          -0.44972702786652147,
          -0.295278673235866,
          0.17472053263719536,
          -0.07084006961141828,
          0.5598408246345813,
          -0.26184496480996333,
          0.15783441901398237,
          0.31583156191644834,
          0.45716192750797735,
          -1.0532192491323207,
          -0.1131779568506202,
          2.5616936250228277,
          0.19009419833845465,
          -0.5984275457623431,
          0.4745933715997644,
          0.6960874097842701,
          0.626694260308462,
          1.4892579489991618,
          -0.05117752075617346,
          0.4250907181303993,
          0.9739273103422872,
          0.6362806675655954,
          -1.0162423232433264,
          0.9066631371828433,
          -1.679535026651661,
          0.9869659281108462,
          1.3453703943728241,
          0.343490665154001,
          -0.2853841697384442,
          1.6779939042723648,
          -1.4846430813013987,
          1.5382370758376722,
          -0.9330596295665243,
          -1.9920517428997413,
          -0.9116729322213409,
          2.049708236088764,
          0.35325947359296905,
          -1.035379152347821,
          -0.13083975048816482,
          0.691709526438699,
          0.5417778168132682,
          -0.804558538375137,
          -0.08890127612875974,
          0.07238988424715156,
          -1.4480553614844163,
          1.6305803770755345,
          0.23771832739327292,
          -0.24686337911028947,
          0.5418021381378408,
          -0.29289376146775437,
          0.5140535966322717,
          -1.0431412319656117,
          0.9133882773462815,
          1.0012785109207942,
          -0.49528847444847685
         ],
         "y": [
          1.1111034473072832,
          -0.1448844431557348,
          1.1571344678825692,
          -0.10626240679408508,
          1.385864733511222,
          0.7149762195031321,
          -1.0573758968740425,
          1.0574539487727026,
          -2.222754474072913,
          2.4284696770821985,
          1.0720742151354865,
          -0.5569630085600444,
          1.1459078255247408,
          0.5671801108564223,
          0.33437965352964705,
          1.6800543056523491,
          0.8130184539498939,
          0.3923791895424591,
          -0.1478109051442373,
          -0.27264250534607903,
          -2.3603070752410926,
          -0.09465056399925209,
          -0.16768695429951153,
          0.6005046467753621,
          -1.4606720388756242,
          0.020805750462041604,
          1.2075459416868073,
          -0.6242906813930785,
          -0.7358803768729599,
          0.9017616150351392,
          -0.3991437537388995,
          -0.32776950291835794,
          -0.22438021907887182,
          0.6232918558085496,
          1.6581071653903812,
          0.221658524428475,
          0.5054802729992948,
          0.3924249214397845,
          -0.3834916104630957,
          0.8210281067635286,
          -0.6795537047745717,
          0.689084330009526,
          -0.3509889870700068,
          -0.13067820982899972,
          1.0079417817210266,
          1.5822871581780307,
          0.03648810084486005,
          -0.20144946009057205,
          -0.46530592982664754,
          0.9674486407095345,
          -0.6335301718013872,
          -1.3456873791964161,
          1.1446356475185844,
          -0.2728030861444642,
          -1.1462958571876427,
          0.25835325051020475,
          -1.7296771839161211,
          1.4594852118097237,
          0.1915054550087883,
          -1.356662720698125,
          0.2542237467222372,
          -0.09915143340273849,
          0.03812311596193516,
          0.5187740918912463,
          1.9633476519853126,
          1.2259258782036178,
          0.18579717883455807,
          -1.030735908284299,
          -0.7834159013284216,
          0.5652342883426867,
          -1.1402671924265346,
          0.0638021052533395,
          0.536016427642085,
          0.07407370527854598,
          0.3807947892202538,
          0.3204141169258202,
          -0.4004880397199586,
          0.0520054083184649,
          0.8087043708456557,
          -0.8048160281300628,
          0.442047115569308,
          -0.0437189083464173,
          -0.02075425165300876,
          1.2997816110422071,
          -2.059560329775203,
          -1.6002365963146876,
          -1.004666964491864,
          -1.0399111841009054,
          -0.6201334882012222,
          -1.1035481454325704,
          1.0076635158357001,
          -0.27211120070119027,
          1.3233615878152796,
          0.49207215645485736,
          -0.6231562460016906,
          -2.157366560133454,
          0.31259998818320933,
          1.316311665618152,
          -0.1643111499978162,
          0.47819803208043254
         ]
        }
       ],
       "layout": {
        "legend": {
         "bgcolor": "#F5F6F9",
         "font": {
          "color": "#4D5663"
         }
        },
        "paper_bgcolor": "#F5F6F9",
        "plot_bgcolor": "#F5F6F9",
        "template": {
         "data": {
          "bar": [
           {
            "error_x": {
             "color": "#2a3f5f"
            },
            "error_y": {
             "color": "#2a3f5f"
            },
            "marker": {
             "line": {
              "color": "#E5ECF6",
              "width": 0.5
             }
            },
            "type": "bar"
           }
          ],
          "barpolar": [
           {
            "marker": {
             "line": {
              "color": "#E5ECF6",
              "width": 0.5
             }
            },
            "type": "barpolar"
           }
          ],
          "carpet": [
           {
            "aaxis": {
             "endlinecolor": "#2a3f5f",
             "gridcolor": "white",
             "linecolor": "white",
             "minorgridcolor": "white",
             "startlinecolor": "#2a3f5f"
            },
            "baxis": {
             "endlinecolor": "#2a3f5f",
             "gridcolor": "white",
             "linecolor": "white",
             "minorgridcolor": "white",
             "startlinecolor": "#2a3f5f"
            },
            "type": "carpet"
           }
          ],
          "choropleth": [
           {
            "colorbar": {
             "outlinewidth": 0,
             "ticks": ""
            },
            "type": "choropleth"
           }
          ],
          "contour": [
           {
            "colorbar": {
             "outlinewidth": 0,
             "ticks": ""
            },
            "colorscale": [
             [
              0,
              "#0d0887"
             ],
             [
              0.1111111111111111,
              "#46039f"
             ],
             [
              0.2222222222222222,
              "#7201a8"
             ],
             [
              0.3333333333333333,
              "#9c179e"
             ],
             [
              0.4444444444444444,
              "#bd3786"
             ],
             [
              0.5555555555555556,
              "#d8576b"
             ],
             [
              0.6666666666666666,
              "#ed7953"
             ],
             [
              0.7777777777777778,
              "#fb9f3a"
             ],
             [
              0.8888888888888888,
              "#fdca26"
             ],
             [
              1,
              "#f0f921"
             ]
            ],
            "type": "contour"
           }
          ],
          "contourcarpet": [
           {
            "colorbar": {
             "outlinewidth": 0,
             "ticks": ""
            },
            "type": "contourcarpet"
           }
          ],
          "heatmap": [
           {
            "colorbar": {
             "outlinewidth": 0,
             "ticks": ""
            },
            "colorscale": [
             [
              0,
              "#0d0887"
             ],
             [
              0.1111111111111111,
              "#46039f"
             ],
             [
              0.2222222222222222,
              "#7201a8"
             ],
             [
              0.3333333333333333,
              "#9c179e"
             ],
             [
              0.4444444444444444,
              "#bd3786"
             ],
             [
              0.5555555555555556,
              "#d8576b"
             ],
             [
              0.6666666666666666,
              "#ed7953"
             ],
             [
              0.7777777777777778,
              "#fb9f3a"
             ],
             [
              0.8888888888888888,
              "#fdca26"
             ],
             [
              1,
              "#f0f921"
             ]
            ],
            "type": "heatmap"
           }
          ],
          "heatmapgl": [
           {
            "colorbar": {
             "outlinewidth": 0,
             "ticks": ""
            },
            "colorscale": [
             [
              0,
              "#0d0887"
             ],
             [
              0.1111111111111111,
              "#46039f"
             ],
             [
              0.2222222222222222,
              "#7201a8"
             ],
             [
              0.3333333333333333,
              "#9c179e"
             ],
             [
              0.4444444444444444,
              "#bd3786"
             ],
             [
              0.5555555555555556,
              "#d8576b"
             ],
             [
              0.6666666666666666,
              "#ed7953"
             ],
             [
              0.7777777777777778,
              "#fb9f3a"
             ],
             [
              0.8888888888888888,
              "#fdca26"
             ],
             [
              1,
              "#f0f921"
             ]
            ],
            "type": "heatmapgl"
           }
          ],
          "histogram": [
           {
            "marker": {
             "colorbar": {
              "outlinewidth": 0,
              "ticks": ""
             }
            },
            "type": "histogram"
           }
          ],
          "histogram2d": [
           {
            "colorbar": {
             "outlinewidth": 0,
             "ticks": ""
            },
            "colorscale": [
             [
              0,
              "#0d0887"
             ],
             [
              0.1111111111111111,
              "#46039f"
             ],
             [
              0.2222222222222222,
              "#7201a8"
             ],
             [
              0.3333333333333333,
              "#9c179e"
             ],
             [
              0.4444444444444444,
              "#bd3786"
             ],
             [
              0.5555555555555556,
              "#d8576b"
             ],
             [
              0.6666666666666666,
              "#ed7953"
             ],
             [
              0.7777777777777778,
              "#fb9f3a"
             ],
             [
              0.8888888888888888,
              "#fdca26"
             ],
             [
              1,
              "#f0f921"
             ]
            ],
            "type": "histogram2d"
           }
          ],
          "histogram2dcontour": [
           {
            "colorbar": {
             "outlinewidth": 0,
             "ticks": ""
            },
            "colorscale": [
             [
              0,
              "#0d0887"
             ],
             [
              0.1111111111111111,
              "#46039f"
             ],
             [
              0.2222222222222222,
              "#7201a8"
             ],
             [
              0.3333333333333333,
              "#9c179e"
             ],
             [
              0.4444444444444444,
              "#bd3786"
             ],
             [
              0.5555555555555556,
              "#d8576b"
             ],
             [
              0.6666666666666666,
              "#ed7953"
             ],
             [
              0.7777777777777778,
              "#fb9f3a"
             ],
             [
              0.8888888888888888,
              "#fdca26"
             ],
             [
              1,
              "#f0f921"
             ]
            ],
            "type": "histogram2dcontour"
           }
          ],
          "mesh3d": [
           {
            "colorbar": {
             "outlinewidth": 0,
             "ticks": ""
            },
            "type": "mesh3d"
           }
          ],
          "parcoords": [
           {
            "line": {
             "colorbar": {
              "outlinewidth": 0,
              "ticks": ""
             }
            },
            "type": "parcoords"
           }
          ],
          "pie": [
           {
            "automargin": true,
            "type": "pie"
           }
          ],
          "scatter": [
           {
            "marker": {
             "colorbar": {
              "outlinewidth": 0,
              "ticks": ""
             }
            },
            "type": "scatter"
           }
          ],
          "scatter3d": [
           {
            "line": {
             "colorbar": {
              "outlinewidth": 0,
              "ticks": ""
             }
            },
            "marker": {
             "colorbar": {
              "outlinewidth": 0,
              "ticks": ""
             }
            },
            "type": "scatter3d"
           }
          ],
          "scattercarpet": [
           {
            "marker": {
             "colorbar": {
              "outlinewidth": 0,
              "ticks": ""
             }
            },
            "type": "scattercarpet"
           }
          ],
          "scattergeo": [
           {
            "marker": {
             "colorbar": {
              "outlinewidth": 0,
              "ticks": ""
             }
            },
            "type": "scattergeo"
           }
          ],
          "scattergl": [
           {
            "marker": {
             "colorbar": {
              "outlinewidth": 0,
              "ticks": ""
             }
            },
            "type": "scattergl"
           }
          ],
          "scattermapbox": [
           {
            "marker": {
             "colorbar": {
              "outlinewidth": 0,
              "ticks": ""
             }
            },
            "type": "scattermapbox"
           }
          ],
          "scatterpolar": [
           {
            "marker": {
             "colorbar": {
              "outlinewidth": 0,
              "ticks": ""
             }
            },
            "type": "scatterpolar"
           }
          ],
          "scatterpolargl": [
           {
            "marker": {
             "colorbar": {
              "outlinewidth": 0,
              "ticks": ""
             }
            },
            "type": "scatterpolargl"
           }
          ],
          "scatterternary": [
           {
            "marker": {
             "colorbar": {
              "outlinewidth": 0,
              "ticks": ""
             }
            },
            "type": "scatterternary"
           }
          ],
          "surface": [
           {
            "colorbar": {
             "outlinewidth": 0,
             "ticks": ""
            },
            "colorscale": [
             [
              0,
              "#0d0887"
             ],
             [
              0.1111111111111111,
              "#46039f"
             ],
             [
              0.2222222222222222,
              "#7201a8"
             ],
             [
              0.3333333333333333,
              "#9c179e"
             ],
             [
              0.4444444444444444,
              "#bd3786"
             ],
             [
              0.5555555555555556,
              "#d8576b"
             ],
             [
              0.6666666666666666,
              "#ed7953"
             ],
             [
              0.7777777777777778,
              "#fb9f3a"
             ],
             [
              0.8888888888888888,
              "#fdca26"
             ],
             [
              1,
              "#f0f921"
             ]
            ],
            "type": "surface"
           }
          ],
          "table": [
           {
            "cells": {
             "fill": {
              "color": "#EBF0F8"
             },
             "line": {
              "color": "white"
             }
            },
            "header": {
             "fill": {
              "color": "#C8D4E3"
             },
             "line": {
              "color": "white"
             }
            },
            "type": "table"
           }
          ]
         },
         "layout": {
          "annotationdefaults": {
           "arrowcolor": "#2a3f5f",
           "arrowhead": 0,
           "arrowwidth": 1
          },
          "autotypenumbers": "strict",
          "coloraxis": {
           "colorbar": {
            "outlinewidth": 0,
            "ticks": ""
           }
          },
          "colorscale": {
           "diverging": [
            [
             0,
             "#8e0152"
            ],
            [
             0.1,
             "#c51b7d"
            ],
            [
             0.2,
             "#de77ae"
            ],
            [
             0.3,
             "#f1b6da"
            ],
            [
             0.4,
             "#fde0ef"
            ],
            [
             0.5,
             "#f7f7f7"
            ],
            [
             0.6,
             "#e6f5d0"
            ],
            [
             0.7,
             "#b8e186"
            ],
            [
             0.8,
             "#7fbc41"
            ],
            [
             0.9,
             "#4d9221"
            ],
            [
             1,
             "#276419"
            ]
           ],
           "sequential": [
            [
             0,
             "#0d0887"
            ],
            [
             0.1111111111111111,
             "#46039f"
            ],
            [
             0.2222222222222222,
             "#7201a8"
            ],
            [
             0.3333333333333333,
             "#9c179e"
            ],
            [
             0.4444444444444444,
             "#bd3786"
            ],
            [
             0.5555555555555556,
             "#d8576b"
            ],
            [
             0.6666666666666666,
             "#ed7953"
            ],
            [
             0.7777777777777778,
             "#fb9f3a"
            ],
            [
             0.8888888888888888,
             "#fdca26"
            ],
            [
             1,
             "#f0f921"
            ]
           ],
           "sequentialminus": [
            [
             0,
             "#0d0887"
            ],
            [
             0.1111111111111111,
             "#46039f"
            ],
            [
             0.2222222222222222,
             "#7201a8"
            ],
            [
             0.3333333333333333,
             "#9c179e"
            ],
            [
             0.4444444444444444,
             "#bd3786"
            ],
            [
             0.5555555555555556,
             "#d8576b"
            ],
            [
             0.6666666666666666,
             "#ed7953"
            ],
            [
             0.7777777777777778,
             "#fb9f3a"
            ],
            [
             0.8888888888888888,
             "#fdca26"
            ],
            [
             1,
             "#f0f921"
            ]
           ]
          },
          "colorway": [
           "#636efa",
           "#EF553B",
           "#00cc96",
           "#ab63fa",
           "#FFA15A",
           "#19d3f3",
           "#FF6692",
           "#B6E880",
           "#FF97FF",
           "#FECB52"
          ],
          "font": {
           "color": "#2a3f5f"
          },
          "geo": {
           "bgcolor": "white",
           "lakecolor": "white",
           "landcolor": "#E5ECF6",
           "showlakes": true,
           "showland": true,
           "subunitcolor": "white"
          },
          "hoverlabel": {
           "align": "left"
          },
          "hovermode": "closest",
          "mapbox": {
           "style": "light"
          },
          "paper_bgcolor": "white",
          "plot_bgcolor": "#E5ECF6",
          "polar": {
           "angularaxis": {
            "gridcolor": "white",
            "linecolor": "white",
            "ticks": ""
           },
           "bgcolor": "#E5ECF6",
           "radialaxis": {
            "gridcolor": "white",
            "linecolor": "white",
            "ticks": ""
           }
          },
          "scene": {
           "xaxis": {
            "backgroundcolor": "#E5ECF6",
            "gridcolor": "white",
            "gridwidth": 2,
            "linecolor": "white",
            "showbackground": true,
            "ticks": "",
            "zerolinecolor": "white"
           },
           "yaxis": {
            "backgroundcolor": "#E5ECF6",
            "gridcolor": "white",
            "gridwidth": 2,
            "linecolor": "white",
            "showbackground": true,
            "ticks": "",
            "zerolinecolor": "white"
           },
           "zaxis": {
            "backgroundcolor": "#E5ECF6",
            "gridcolor": "white",
            "gridwidth": 2,
            "linecolor": "white",
            "showbackground": true,
            "ticks": "",
            "zerolinecolor": "white"
           }
          },
          "shapedefaults": {
           "line": {
            "color": "#2a3f5f"
           }
          },
          "ternary": {
           "aaxis": {
            "gridcolor": "white",
            "linecolor": "white",
            "ticks": ""
           },
           "baxis": {
            "gridcolor": "white",
            "linecolor": "white",
            "ticks": ""
           },
           "bgcolor": "#E5ECF6",
           "caxis": {
            "gridcolor": "white",
            "linecolor": "white",
            "ticks": ""
           }
          },
          "title": {
           "x": 0.05
          },
          "xaxis": {
           "automargin": true,
           "gridcolor": "white",
           "linecolor": "white",
           "ticks": "",
           "title": {
            "standoff": 15
           },
           "zerolinecolor": "white",
           "zerolinewidth": 2
          },
          "yaxis": {
           "automargin": true,
           "gridcolor": "white",
           "linecolor": "white",
           "ticks": "",
           "title": {
            "standoff": 15
           },
           "zerolinecolor": "white",
           "zerolinewidth": 2
          }
         }
        },
        "title": {
         "font": {
          "color": "#4D5663"
         }
        },
        "xaxis": {
         "gridcolor": "#E1E5ED",
         "showgrid": true,
         "tickfont": {
          "color": "#4D5663"
         },
         "title": {
          "font": {
           "color": "#4D5663"
          },
          "text": ""
         },
         "zerolinecolor": "#E1E5ED"
        },
        "yaxis": {
         "gridcolor": "#E1E5ED",
         "showgrid": true,
         "tickfont": {
          "color": "#4D5663"
         },
         "title": {
          "font": {
           "color": "#4D5663"
          },
          "text": ""
         },
         "zerolinecolor": "#E1E5ED"
        }
       }
      },
      "text/html": [
       "<div>                            <div id=\"8f0c2d75-a8ad-41b2-aad5-7341d0089705\" class=\"plotly-graph-div\" style=\"height:525px; width:100%;\"></div>            <script type=\"text/javascript\">                require([\"plotly\"], function(Plotly) {                    window.PLOTLYENV=window.PLOTLYENV || {};\n",
       "                    window.PLOTLYENV.BASE_URL='https://plot.ly';                                    if (document.getElementById(\"8f0c2d75-a8ad-41b2-aad5-7341d0089705\")) {                    Plotly.newPlot(                        \"8f0c2d75-a8ad-41b2-aad5-7341d0089705\",                        [{\"marker\": {\"color\": [\"rgb(255, 153, 51)\", \"rgb(55, 128, 191)\", \"rgb(50, 171, 96)\", \"rgb(128, 0, 128)\", \"rgb(219, 64, 82)\", \"rgb(0, 128, 128)\", \"rgb(255, 255, 51)\", \"rgb(128, 128, 0)\", \"rgb(251, 128, 114)\", \"rgb(128, 177, 211)\"], \"line\": {\"width\": 1.3}, \"size\": [62, 72, 74, 82, 20, 73, 62, 17, 60, 45, 72, 81, 30, 58, 48, 38, 86, 26, 92, 82, 53, 64, 67, 85, 27, 23, 55, 55, 67, 25, 63, 44, 59, 44, 65, 60, 55, 26, 44, 55, 66, 76, 65, 86, 17, 28, 88, 62, 61, 39, 71, 60, 43, 46, 105, 63, 76, 12, 65, 97, 60, 91, 81, 103, 75, 73, 74, 54, 34, 87, 60, 63, 49, 41, 79, 60, 103, 67, 78, 103, 60, 15, 112, 71, 65, 93, 46, 54, 64, 43, 44, 74, 62, 71, 53, 74, 60, 104, 41, 54], \"symbol\": \"circle\"}, \"mode\": \"markers\", \"text\": \"\", \"type\": \"scatter\", \"x\": [-0.08246222777140658, 0.7173230319183161, -1.4831462800247348, 0.6007188011403605, 1.289075599445904, 0.4686184185783867, 0.9861225102722071, -0.46912667007143066, 1.7361292929950078, 0.04365889119250256, 1.2341316458674847, 0.821179261753058, 0.510361491783725, -0.16508037667801448, 0.7577534273104339, -0.8667901941733359, 1.3594944902287593, -1.1685993739916176, 1.1105441176779236, 2.179116305512871, -1.0669303473380523, -0.4865054709776041, 2.123010480961304, 1.122915995141616, 0.8927499392112277, -0.10340193631007873, 0.40433819829483225, 1.2572964981158954, 0.11700900125746119, -0.7026845863976289, 0.44657856814521074, -1.1023149498936338, -0.14181716320340942, -2.203822075626207, 2.1060253516626544, 0.16448217726557168, -0.6887885110479985, -1.5297766193899487, 0.7306152486007272, 0.5582213127690169, 0.7805847071266674, -0.4138262329473763, 0.43877421762173396, -0.17113281260598195, -0.7723643087741576, -0.44972702786652147, -0.295278673235866, 0.17472053263719536, -0.07084006961141828, 0.5598408246345813, -0.26184496480996333, 0.15783441901398237, 0.31583156191644834, 0.45716192750797735, -1.0532192491323207, -0.1131779568506202, 2.5616936250228277, 0.19009419833845465, -0.5984275457623431, 0.4745933715997644, 0.6960874097842701, 0.626694260308462, 1.4892579489991618, -0.05117752075617346, 0.4250907181303993, 0.9739273103422872, 0.6362806675655954, -1.0162423232433264, 0.9066631371828433, -1.679535026651661, 0.9869659281108462, 1.3453703943728241, 0.343490665154001, -0.2853841697384442, 1.6779939042723648, -1.4846430813013987, 1.5382370758376722, -0.9330596295665243, -1.9920517428997413, -0.9116729322213409, 2.049708236088764, 0.35325947359296905, -1.035379152347821, -0.13083975048816482, 0.691709526438699, 0.5417778168132682, -0.804558538375137, -0.08890127612875974, 0.07238988424715156, -1.4480553614844163, 1.6305803770755345, 0.23771832739327292, -0.24686337911028947, 0.5418021381378408, -0.29289376146775437, 0.5140535966322717, -1.0431412319656117, 0.9133882773462815, 1.0012785109207942, -0.49528847444847685], \"y\": [1.1111034473072832, -0.1448844431557348, 1.1571344678825692, -0.10626240679408508, 1.385864733511222, 0.7149762195031321, -1.0573758968740425, 1.0574539487727026, -2.222754474072913, 2.4284696770821985, 1.0720742151354865, -0.5569630085600444, 1.1459078255247408, 0.5671801108564223, 0.33437965352964705, 1.6800543056523491, 0.8130184539498939, 0.3923791895424591, -0.1478109051442373, -0.27264250534607903, -2.3603070752410926, -0.09465056399925209, -0.16768695429951153, 0.6005046467753621, -1.4606720388756242, 0.020805750462041604, 1.2075459416868073, -0.6242906813930785, -0.7358803768729599, 0.9017616150351392, -0.3991437537388995, -0.32776950291835794, -0.22438021907887182, 0.6232918558085496, 1.6581071653903812, 0.221658524428475, 0.5054802729992948, 0.3924249214397845, -0.3834916104630957, 0.8210281067635286, -0.6795537047745717, 0.689084330009526, -0.3509889870700068, -0.13067820982899972, 1.0079417817210266, 1.5822871581780307, 0.03648810084486005, -0.20144946009057205, -0.46530592982664754, 0.9674486407095345, -0.6335301718013872, -1.3456873791964161, 1.1446356475185844, -0.2728030861444642, -1.1462958571876427, 0.25835325051020475, -1.7296771839161211, 1.4594852118097237, 0.1915054550087883, -1.356662720698125, 0.2542237467222372, -0.09915143340273849, 0.03812311596193516, 0.5187740918912463, 1.9633476519853126, 1.2259258782036178, 0.18579717883455807, -1.030735908284299, -0.7834159013284216, 0.5652342883426867, -1.1402671924265346, 0.0638021052533395, 0.536016427642085, 0.07407370527854598, 0.3807947892202538, 0.3204141169258202, -0.4004880397199586, 0.0520054083184649, 0.8087043708456557, -0.8048160281300628, 0.442047115569308, -0.0437189083464173, -0.02075425165300876, 1.2997816110422071, -2.059560329775203, -1.6002365963146876, -1.004666964491864, -1.0399111841009054, -0.6201334882012222, -1.1035481454325704, 1.0076635158357001, -0.27211120070119027, 1.3233615878152796, 0.49207215645485736, -0.6231562460016906, -2.157366560133454, 0.31259998818320933, 1.316311665618152, -0.1643111499978162, 0.47819803208043254]}],                        {\"legend\": {\"bgcolor\": \"#F5F6F9\", \"font\": {\"color\": \"#4D5663\"}}, \"paper_bgcolor\": \"#F5F6F9\", \"plot_bgcolor\": \"#F5F6F9\", \"template\": {\"data\": {\"bar\": [{\"error_x\": {\"color\": \"#2a3f5f\"}, \"error_y\": {\"color\": \"#2a3f5f\"}, \"marker\": {\"line\": {\"color\": \"#E5ECF6\", \"width\": 0.5}}, \"type\": \"bar\"}], \"barpolar\": [{\"marker\": {\"line\": {\"color\": \"#E5ECF6\", \"width\": 0.5}}, \"type\": \"barpolar\"}], \"carpet\": [{\"aaxis\": {\"endlinecolor\": \"#2a3f5f\", \"gridcolor\": \"white\", \"linecolor\": \"white\", \"minorgridcolor\": \"white\", \"startlinecolor\": \"#2a3f5f\"}, \"baxis\": {\"endlinecolor\": \"#2a3f5f\", \"gridcolor\": \"white\", \"linecolor\": \"white\", \"minorgridcolor\": \"white\", \"startlinecolor\": \"#2a3f5f\"}, \"type\": \"carpet\"}], \"choropleth\": [{\"colorbar\": {\"outlinewidth\": 0, \"ticks\": \"\"}, \"type\": \"choropleth\"}], \"contour\": [{\"colorbar\": {\"outlinewidth\": 0, \"ticks\": \"\"}, \"colorscale\": [[0.0, \"#0d0887\"], [0.1111111111111111, \"#46039f\"], [0.2222222222222222, \"#7201a8\"], [0.3333333333333333, \"#9c179e\"], [0.4444444444444444, \"#bd3786\"], [0.5555555555555556, \"#d8576b\"], [0.6666666666666666, \"#ed7953\"], [0.7777777777777778, \"#fb9f3a\"], [0.8888888888888888, \"#fdca26\"], [1.0, \"#f0f921\"]], \"type\": \"contour\"}], \"contourcarpet\": [{\"colorbar\": {\"outlinewidth\": 0, \"ticks\": \"\"}, \"type\": \"contourcarpet\"}], \"heatmap\": [{\"colorbar\": {\"outlinewidth\": 0, \"ticks\": \"\"}, \"colorscale\": [[0.0, \"#0d0887\"], [0.1111111111111111, \"#46039f\"], [0.2222222222222222, \"#7201a8\"], [0.3333333333333333, \"#9c179e\"], [0.4444444444444444, \"#bd3786\"], [0.5555555555555556, \"#d8576b\"], [0.6666666666666666, \"#ed7953\"], [0.7777777777777778, \"#fb9f3a\"], [0.8888888888888888, \"#fdca26\"], [1.0, \"#f0f921\"]], \"type\": \"heatmap\"}], \"heatmapgl\": [{\"colorbar\": {\"outlinewidth\": 0, \"ticks\": \"\"}, \"colorscale\": [[0.0, \"#0d0887\"], [0.1111111111111111, \"#46039f\"], [0.2222222222222222, \"#7201a8\"], [0.3333333333333333, \"#9c179e\"], [0.4444444444444444, \"#bd3786\"], [0.5555555555555556, \"#d8576b\"], [0.6666666666666666, \"#ed7953\"], [0.7777777777777778, \"#fb9f3a\"], [0.8888888888888888, \"#fdca26\"], [1.0, \"#f0f921\"]], \"type\": \"heatmapgl\"}], \"histogram\": [{\"marker\": {\"colorbar\": {\"outlinewidth\": 0, \"ticks\": \"\"}}, \"type\": \"histogram\"}], \"histogram2d\": [{\"colorbar\": {\"outlinewidth\": 0, \"ticks\": \"\"}, \"colorscale\": [[0.0, \"#0d0887\"], [0.1111111111111111, \"#46039f\"], [0.2222222222222222, \"#7201a8\"], [0.3333333333333333, \"#9c179e\"], [0.4444444444444444, \"#bd3786\"], [0.5555555555555556, \"#d8576b\"], [0.6666666666666666, \"#ed7953\"], [0.7777777777777778, \"#fb9f3a\"], [0.8888888888888888, \"#fdca26\"], [1.0, \"#f0f921\"]], \"type\": \"histogram2d\"}], \"histogram2dcontour\": [{\"colorbar\": {\"outlinewidth\": 0, \"ticks\": \"\"}, \"colorscale\": [[0.0, \"#0d0887\"], [0.1111111111111111, \"#46039f\"], [0.2222222222222222, \"#7201a8\"], [0.3333333333333333, \"#9c179e\"], [0.4444444444444444, \"#bd3786\"], [0.5555555555555556, \"#d8576b\"], [0.6666666666666666, \"#ed7953\"], [0.7777777777777778, \"#fb9f3a\"], [0.8888888888888888, \"#fdca26\"], [1.0, \"#f0f921\"]], \"type\": \"histogram2dcontour\"}], \"mesh3d\": [{\"colorbar\": {\"outlinewidth\": 0, \"ticks\": \"\"}, \"type\": \"mesh3d\"}], \"parcoords\": [{\"line\": {\"colorbar\": {\"outlinewidth\": 0, \"ticks\": \"\"}}, \"type\": \"parcoords\"}], \"pie\": [{\"automargin\": true, \"type\": \"pie\"}], \"scatter\": [{\"marker\": {\"colorbar\": {\"outlinewidth\": 0, \"ticks\": \"\"}}, \"type\": \"scatter\"}], \"scatter3d\": [{\"line\": {\"colorbar\": {\"outlinewidth\": 0, \"ticks\": \"\"}}, \"marker\": {\"colorbar\": {\"outlinewidth\": 0, \"ticks\": \"\"}}, \"type\": \"scatter3d\"}], \"scattercarpet\": [{\"marker\": {\"colorbar\": {\"outlinewidth\": 0, \"ticks\": \"\"}}, \"type\": \"scattercarpet\"}], \"scattergeo\": [{\"marker\": {\"colorbar\": {\"outlinewidth\": 0, \"ticks\": \"\"}}, \"type\": \"scattergeo\"}], \"scattergl\": [{\"marker\": {\"colorbar\": {\"outlinewidth\": 0, \"ticks\": \"\"}}, \"type\": \"scattergl\"}], \"scattermapbox\": [{\"marker\": {\"colorbar\": {\"outlinewidth\": 0, \"ticks\": \"\"}}, \"type\": \"scattermapbox\"}], \"scatterpolar\": [{\"marker\": {\"colorbar\": {\"outlinewidth\": 0, \"ticks\": \"\"}}, \"type\": \"scatterpolar\"}], \"scatterpolargl\": [{\"marker\": {\"colorbar\": {\"outlinewidth\": 0, \"ticks\": \"\"}}, \"type\": \"scatterpolargl\"}], \"scatterternary\": [{\"marker\": {\"colorbar\": {\"outlinewidth\": 0, \"ticks\": \"\"}}, \"type\": \"scatterternary\"}], \"surface\": [{\"colorbar\": {\"outlinewidth\": 0, \"ticks\": \"\"}, \"colorscale\": [[0.0, \"#0d0887\"], [0.1111111111111111, \"#46039f\"], [0.2222222222222222, \"#7201a8\"], [0.3333333333333333, \"#9c179e\"], [0.4444444444444444, \"#bd3786\"], [0.5555555555555556, \"#d8576b\"], [0.6666666666666666, \"#ed7953\"], [0.7777777777777778, \"#fb9f3a\"], [0.8888888888888888, \"#fdca26\"], [1.0, \"#f0f921\"]], \"type\": \"surface\"}], \"table\": [{\"cells\": {\"fill\": {\"color\": \"#EBF0F8\"}, \"line\": {\"color\": \"white\"}}, \"header\": {\"fill\": {\"color\": \"#C8D4E3\"}, \"line\": {\"color\": \"white\"}}, \"type\": \"table\"}]}, \"layout\": {\"annotationdefaults\": {\"arrowcolor\": \"#2a3f5f\", \"arrowhead\": 0, \"arrowwidth\": 1}, \"autotypenumbers\": \"strict\", \"coloraxis\": {\"colorbar\": {\"outlinewidth\": 0, \"ticks\": \"\"}}, \"colorscale\": {\"diverging\": [[0, \"#8e0152\"], [0.1, \"#c51b7d\"], [0.2, \"#de77ae\"], [0.3, \"#f1b6da\"], [0.4, \"#fde0ef\"], [0.5, \"#f7f7f7\"], [0.6, \"#e6f5d0\"], [0.7, \"#b8e186\"], [0.8, \"#7fbc41\"], [0.9, \"#4d9221\"], [1, \"#276419\"]], \"sequential\": [[0.0, \"#0d0887\"], [0.1111111111111111, \"#46039f\"], [0.2222222222222222, \"#7201a8\"], [0.3333333333333333, \"#9c179e\"], [0.4444444444444444, \"#bd3786\"], [0.5555555555555556, \"#d8576b\"], [0.6666666666666666, \"#ed7953\"], [0.7777777777777778, \"#fb9f3a\"], [0.8888888888888888, \"#fdca26\"], [1.0, \"#f0f921\"]], \"sequentialminus\": [[0.0, \"#0d0887\"], [0.1111111111111111, \"#46039f\"], [0.2222222222222222, \"#7201a8\"], [0.3333333333333333, \"#9c179e\"], [0.4444444444444444, \"#bd3786\"], [0.5555555555555556, \"#d8576b\"], [0.6666666666666666, \"#ed7953\"], [0.7777777777777778, \"#fb9f3a\"], [0.8888888888888888, \"#fdca26\"], [1.0, \"#f0f921\"]]}, \"colorway\": [\"#636efa\", \"#EF553B\", \"#00cc96\", \"#ab63fa\", \"#FFA15A\", \"#19d3f3\", \"#FF6692\", \"#B6E880\", \"#FF97FF\", \"#FECB52\"], \"font\": {\"color\": \"#2a3f5f\"}, \"geo\": {\"bgcolor\": \"white\", \"lakecolor\": \"white\", \"landcolor\": \"#E5ECF6\", \"showlakes\": true, \"showland\": true, \"subunitcolor\": \"white\"}, \"hoverlabel\": {\"align\": \"left\"}, \"hovermode\": \"closest\", \"mapbox\": {\"style\": \"light\"}, \"paper_bgcolor\": \"white\", \"plot_bgcolor\": \"#E5ECF6\", \"polar\": {\"angularaxis\": {\"gridcolor\": \"white\", \"linecolor\": \"white\", \"ticks\": \"\"}, \"bgcolor\": \"#E5ECF6\", \"radialaxis\": {\"gridcolor\": \"white\", \"linecolor\": \"white\", \"ticks\": \"\"}}, \"scene\": {\"xaxis\": {\"backgroundcolor\": \"#E5ECF6\", \"gridcolor\": \"white\", \"gridwidth\": 2, \"linecolor\": \"white\", \"showbackground\": true, \"ticks\": \"\", \"zerolinecolor\": \"white\"}, \"yaxis\": {\"backgroundcolor\": \"#E5ECF6\", \"gridcolor\": \"white\", \"gridwidth\": 2, \"linecolor\": \"white\", \"showbackground\": true, \"ticks\": \"\", \"zerolinecolor\": \"white\"}, \"zaxis\": {\"backgroundcolor\": \"#E5ECF6\", \"gridcolor\": \"white\", \"gridwidth\": 2, \"linecolor\": \"white\", \"showbackground\": true, \"ticks\": \"\", \"zerolinecolor\": \"white\"}}, \"shapedefaults\": {\"line\": {\"color\": \"#2a3f5f\"}}, \"ternary\": {\"aaxis\": {\"gridcolor\": \"white\", \"linecolor\": \"white\", \"ticks\": \"\"}, \"baxis\": {\"gridcolor\": \"white\", \"linecolor\": \"white\", \"ticks\": \"\"}, \"bgcolor\": \"#E5ECF6\", \"caxis\": {\"gridcolor\": \"white\", \"linecolor\": \"white\", \"ticks\": \"\"}}, \"title\": {\"x\": 0.05}, \"xaxis\": {\"automargin\": true, \"gridcolor\": \"white\", \"linecolor\": \"white\", \"ticks\": \"\", \"title\": {\"standoff\": 15}, \"zerolinecolor\": \"white\", \"zerolinewidth\": 2}, \"yaxis\": {\"automargin\": true, \"gridcolor\": \"white\", \"linecolor\": \"white\", \"ticks\": \"\", \"title\": {\"standoff\": 15}, \"zerolinecolor\": \"white\", \"zerolinewidth\": 2}}}, \"title\": {\"font\": {\"color\": \"#4D5663\"}}, \"xaxis\": {\"gridcolor\": \"#E1E5ED\", \"showgrid\": true, \"tickfont\": {\"color\": \"#4D5663\"}, \"title\": {\"font\": {\"color\": \"#4D5663\"}, \"text\": \"\"}, \"zerolinecolor\": \"#E1E5ED\"}, \"yaxis\": {\"gridcolor\": \"#E1E5ED\", \"showgrid\": true, \"tickfont\": {\"color\": \"#4D5663\"}, \"title\": {\"font\": {\"color\": \"#4D5663\"}, \"text\": \"\"}, \"zerolinecolor\": \"#E1E5ED\"}},                        {\"showLink\": true, \"linkText\": \"Export to plot.ly\", \"plotlyServerURL\": \"https://plot.ly\", \"responsive\": true}                    ).then(function(){\n",
       "                            \n",
       "var gd = document.getElementById('8f0c2d75-a8ad-41b2-aad5-7341d0089705');\n",
       "var x = new MutationObserver(function (mutations, observer) {{\n",
       "        var display = window.getComputedStyle(gd).display;\n",
       "        if (!display || display === 'none') {{\n",
       "            console.log([gd, 'removed!']);\n",
       "            Plotly.purge(gd);\n",
       "            observer.disconnect();\n",
       "        }}\n",
       "}});\n",
       "\n",
       "// Listen for the removal of the full notebook cells\n",
       "var notebookContainer = gd.closest('#notebook-container');\n",
       "if (notebookContainer) {{\n",
       "    x.observe(notebookContainer, {childList: true});\n",
       "}}\n",
       "\n",
       "// Listen for the clearing of the current output cell\n",
       "var outputEl = gd.closest('.output');\n",
       "if (outputEl) {{\n",
       "    x.observe(outputEl, {childList: true});\n",
       "}}\n",
       "\n",
       "                        })                };                });            </script>        </div>"
      ]
     },
     "metadata": {},
     "output_type": "display_data"
    }
   ],
   "source": [
    "df.iplot(kind='bubble', x='A', y='B', size='C')"
   ]
  },
  {
   "cell_type": "code",
   "execution_count": 47,
   "metadata": {},
   "outputs": [
    {
     "data": {
      "application/vnd.plotly.v1+json": {
       "config": {
        "linkText": "Export to plot.ly",
        "plotlyServerURL": "https://plot.ly",
        "showLink": true
       },
       "data": [
        {
         "histfunc": "count",
         "histnorm": "",
         "marker": {
          "color": "rgba(255, 153, 51, 1.0)",
          "line": {
           "color": "#4D5663",
           "width": 1.3
          }
         },
         "name": "A",
         "nbinsx": 10,
         "opacity": 0.8,
         "orientation": "v",
         "type": "histogram",
         "x": [
          -0.08246222777140658,
          0.7173230319183161,
          -1.4831462800247348,
          0.6007188011403605,
          1.289075599445904,
          0.4686184185783867,
          0.9861225102722071,
          -0.46912667007143066,
          1.7361292929950078,
          0.04365889119250256,
          1.2341316458674847,
          0.821179261753058,
          0.510361491783725,
          -0.16508037667801448,
          0.7577534273104339,
          -0.8667901941733359,
          1.3594944902287593,
          -1.1685993739916176,
          1.1105441176779236,
          2.179116305512871,
          -1.0669303473380523,
          -0.4865054709776041,
          2.123010480961304,
          1.122915995141616,
          0.8927499392112277,
          -0.10340193631007873,
          0.40433819829483225,
          1.2572964981158954,
          0.11700900125746119,
          -0.7026845863976289,
          0.44657856814521074,
          -1.1023149498936338,
          -0.14181716320340942,
          -2.203822075626207,
          2.1060253516626544,
          0.16448217726557168,
          -0.6887885110479985,
          -1.5297766193899487,
          0.7306152486007272,
          0.5582213127690169,
          0.7805847071266674,
          -0.4138262329473763,
          0.43877421762173396,
          -0.17113281260598195,
          -0.7723643087741576,
          -0.44972702786652147,
          -0.295278673235866,
          0.17472053263719536,
          -0.07084006961141828,
          0.5598408246345813,
          -0.26184496480996333,
          0.15783441901398237,
          0.31583156191644834,
          0.45716192750797735,
          -1.0532192491323207,
          -0.1131779568506202,
          2.5616936250228277,
          0.19009419833845465,
          -0.5984275457623431,
          0.4745933715997644,
          0.6960874097842701,
          0.626694260308462,
          1.4892579489991618,
          -0.05117752075617346,
          0.4250907181303993,
          0.9739273103422872,
          0.6362806675655954,
          -1.0162423232433264,
          0.9066631371828433,
          -1.679535026651661,
          0.9869659281108462,
          1.3453703943728241,
          0.343490665154001,
          -0.2853841697384442,
          1.6779939042723648,
          -1.4846430813013987,
          1.5382370758376722,
          -0.9330596295665243,
          -1.9920517428997413,
          -0.9116729322213409,
          2.049708236088764,
          0.35325947359296905,
          -1.035379152347821,
          -0.13083975048816482,
          0.691709526438699,
          0.5417778168132682,
          -0.804558538375137,
          -0.08890127612875974,
          0.07238988424715156,
          -1.4480553614844163,
          1.6305803770755345,
          0.23771832739327292,
          -0.24686337911028947,
          0.5418021381378408,
          -0.29289376146775437,
          0.5140535966322717,
          -1.0431412319656117,
          0.9133882773462815,
          1.0012785109207942,
          -0.49528847444847685
         ],
         "xaxis": "x",
         "yaxis": "y"
        },
        {
         "line": {
          "color": "rgba(128, 128, 128, 1.0)",
          "dash": "solid",
          "shape": "linear",
          "width": 1.3
         },
         "marker": {
          "size": 2,
          "symbol": "circle"
         },
         "mode": "markers",
         "name": "A",
         "text": "",
         "type": "scatter",
         "x": [
          1.1111034473072832,
          -0.1448844431557348,
          1.1571344678825692,
          -0.10626240679408508,
          1.385864733511222,
          0.7149762195031321,
          -1.0573758968740425,
          1.0574539487727026,
          -2.222754474072913,
          2.4284696770821985,
          1.0720742151354865,
          -0.5569630085600444,
          1.1459078255247408,
          0.5671801108564223,
          0.33437965352964705,
          1.6800543056523491,
          0.8130184539498939,
          0.3923791895424591,
          -0.1478109051442373,
          -0.27264250534607903,
          -2.3603070752410926,
          -0.09465056399925209,
          -0.16768695429951153,
          0.6005046467753621,
          -1.4606720388756242,
          0.020805750462041604,
          1.2075459416868073,
          -0.6242906813930785,
          -0.7358803768729599,
          0.9017616150351392,
          -0.3991437537388995,
          -0.32776950291835794,
          -0.22438021907887182,
          0.6232918558085496,
          1.6581071653903812,
          0.221658524428475,
          0.5054802729992948,
          0.3924249214397845,
          -0.3834916104630957,
          0.8210281067635286,
          -0.6795537047745717,
          0.689084330009526,
          -0.3509889870700068,
          -0.13067820982899972,
          1.0079417817210266,
          1.5822871581780307,
          0.03648810084486005,
          -0.20144946009057205,
          -0.46530592982664754,
          0.9674486407095345,
          -0.6335301718013872,
          -1.3456873791964161,
          1.1446356475185844,
          -0.2728030861444642,
          -1.1462958571876427,
          0.25835325051020475,
          -1.7296771839161211,
          1.4594852118097237,
          0.1915054550087883,
          -1.356662720698125,
          0.2542237467222372,
          -0.09915143340273849,
          0.03812311596193516,
          0.5187740918912463,
          1.9633476519853126,
          1.2259258782036178,
          0.18579717883455807,
          -1.030735908284299,
          -0.7834159013284216,
          0.5652342883426867,
          -1.1402671924265346,
          0.0638021052533395,
          0.536016427642085,
          0.07407370527854598,
          0.3807947892202538,
          0.3204141169258202,
          -0.4004880397199586,
          0.0520054083184649,
          0.8087043708456557,
          -0.8048160281300628,
          0.442047115569308,
          -0.0437189083464173,
          -0.02075425165300876,
          1.2997816110422071,
          -2.059560329775203,
          -1.6002365963146876,
          -1.004666964491864,
          -1.0399111841009054,
          -0.6201334882012222,
          -1.1035481454325704,
          1.0076635158357001,
          -0.27211120070119027,
          1.3233615878152796,
          0.49207215645485736,
          -0.6231562460016906,
          -2.157366560133454,
          0.31259998818320933,
          1.316311665618152,
          -0.1643111499978162,
          0.47819803208043254
         ],
         "xaxis": "x2",
         "y": [
          -0.08246222777140658,
          0.7173230319183161,
          -1.4831462800247348,
          0.6007188011403605,
          1.289075599445904,
          0.4686184185783867,
          0.9861225102722071,
          -0.46912667007143066,
          1.7361292929950078,
          0.04365889119250256,
          1.2341316458674847,
          0.821179261753058,
          0.510361491783725,
          -0.16508037667801448,
          0.7577534273104339,
          -0.8667901941733359,
          1.3594944902287593,
          -1.1685993739916176,
          1.1105441176779236,
          2.179116305512871,
          -1.0669303473380523,
          -0.4865054709776041,
          2.123010480961304,
          1.122915995141616,
          0.8927499392112277,
          -0.10340193631007873,
          0.40433819829483225,
          1.2572964981158954,
          0.11700900125746119,
          -0.7026845863976289,
          0.44657856814521074,
          -1.1023149498936338,
          -0.14181716320340942,
          -2.203822075626207,
          2.1060253516626544,
          0.16448217726557168,
          -0.6887885110479985,
          -1.5297766193899487,
          0.7306152486007272,
          0.5582213127690169,
          0.7805847071266674,
          -0.4138262329473763,
          0.43877421762173396,
          -0.17113281260598195,
          -0.7723643087741576,
          -0.44972702786652147,
          -0.295278673235866,
          0.17472053263719536,
          -0.07084006961141828,
          0.5598408246345813,
          -0.26184496480996333,
          0.15783441901398237,
          0.31583156191644834,
          0.45716192750797735,
          -1.0532192491323207,
          -0.1131779568506202,
          2.5616936250228277,
          0.19009419833845465,
          -0.5984275457623431,
          0.4745933715997644,
          0.6960874097842701,
          0.626694260308462,
          1.4892579489991618,
          -0.05117752075617346,
          0.4250907181303993,
          0.9739273103422872,
          0.6362806675655954,
          -1.0162423232433264,
          0.9066631371828433,
          -1.679535026651661,
          0.9869659281108462,
          1.3453703943728241,
          0.343490665154001,
          -0.2853841697384442,
          1.6779939042723648,
          -1.4846430813013987,
          1.5382370758376722,
          -0.9330596295665243,
          -1.9920517428997413,
          -0.9116729322213409,
          2.049708236088764,
          0.35325947359296905,
          -1.035379152347821,
          -0.13083975048816482,
          0.691709526438699,
          0.5417778168132682,
          -0.804558538375137,
          -0.08890127612875974,
          0.07238988424715156,
          -1.4480553614844163,
          1.6305803770755345,
          0.23771832739327292,
          -0.24686337911028947,
          0.5418021381378408,
          -0.29289376146775437,
          0.5140535966322717,
          -1.0431412319656117,
          0.9133882773462815,
          1.0012785109207942,
          -0.49528847444847685
         ],
         "yaxis": "y2"
        },
        {
         "line": {
          "color": "rgba(128, 128, 128, 1.0)",
          "dash": "solid",
          "shape": "linear",
          "width": 1.3
         },
         "marker": {
          "size": 2,
          "symbol": "circle"
         },
         "mode": "markers",
         "name": "A",
         "text": "",
         "type": "scatter",
         "x": [
          -0.040721755590267625,
          0.4845141078568383,
          0.5552865204452764,
          0.9894307742262647,
          -2.0905541525014075,
          0.5307941490125307,
          -0.017570997133324374,
          -2.2627308003070796,
          -0.1374052764526477,
          -0.8828442616004598,
          0.49694631927718247,
          0.9277362048260372,
          -1.6122633618108535,
          -0.24078759359434268,
          -0.7179782433046924,
          -1.2035624756547316,
          1.1705828461614898,
          -1.781460868686437,
          1.4602509670087895,
          0.9595348366810558,
          -0.4878818104702032,
          0.05668394756523284,
          0.25050102327780377,
          1.1256494378007131,
          -1.737428170361979,
          -1.941193704069804,
          -0.3495901857266525,
          -0.3670591970577454,
          0.23938375271249307,
          -1.871945296898776,
          0.03442507030246463,
          -0.9317620374287533,
          -0.15566872544649396,
          -0.910405984156538,
          0.13926839875980687,
          -0.1415354359893636,
          -0.36607615729278936,
          -1.7933891102681134,
          -0.9093873562543733,
          -0.38743230819428426,
          0.19200855279259407,
          0.6834369507348941,
          0.10709815058062394,
          1.1713809096279486,
          -2.251623623728285,
          -1.722464994585591,
          1.249237806539529,
          -0.033637926895588595,
          -0.07834586686128041,
          -1.1503478012738484,
          0.4502187187758,
          -0.13018697405443186,
          -0.9799098291087905,
          -0.8031150350232693,
          2.1354275216358594,
          0.026737097406338943,
          0.6661586297256185,
          -2.5238276959178876,
          0.10873699221215909,
          1.7110852575489799,
          -0.13830138999521324,
          1.4324385555449606,
          0.9456261856347842,
          1.998793269243896,
          0.6055018707891223,
          0.5121343441097476,
          0.5697006829514698,
          -0.405202704358376,
          -1.3871725574937979,
          1.20188846104042,
          -0.12384142363187112,
          0.027535394475638332,
          -0.6589856088323701,
          -1.0376982233410539,
          0.800481905525968,
          -0.13716365692928184,
          2.0326240292311106,
          0.2398312754412681,
          0.762097334950555,
          1.9906582255488978,
          -0.11104118046803331,
          -2.354491237143944,
          2.43428933342693,
          0.4284846800935323,
          0.13641677019091114,
          1.5000310075196113,
          -0.813017243679552,
          -0.41384018368479075,
          0.08833905550302587,
          -0.9494763494057143,
          -0.9013313316938716,
          0.5968161745025338,
          -0.039600246063192984,
          0.42546249578022644,
          -0.4602347022596428,
          0.5943026124417444,
          -0.11024284676490688,
          2.0503169539927213,
          -1.0543468988419165,
          -0.42533381032547174
         ],
         "xaxis": "x3",
         "y": [
          -0.08246222777140658,
          0.7173230319183161,
          -1.4831462800247348,
          0.6007188011403605,
          1.289075599445904,
          0.4686184185783867,
          0.9861225102722071,
          -0.46912667007143066,
          1.7361292929950078,
          0.04365889119250256,
          1.2341316458674847,
          0.821179261753058,
          0.510361491783725,
          -0.16508037667801448,
          0.7577534273104339,
          -0.8667901941733359,
          1.3594944902287593,
          -1.1685993739916176,
          1.1105441176779236,
          2.179116305512871,
          -1.0669303473380523,
          -0.4865054709776041,
          2.123010480961304,
          1.122915995141616,
          0.8927499392112277,
          -0.10340193631007873,
          0.40433819829483225,
          1.2572964981158954,
          0.11700900125746119,
          -0.7026845863976289,
          0.44657856814521074,
          -1.1023149498936338,
          -0.14181716320340942,
          -2.203822075626207,
          2.1060253516626544,
          0.16448217726557168,
          -0.6887885110479985,
          -1.5297766193899487,
          0.7306152486007272,
          0.5582213127690169,
          0.7805847071266674,
          -0.4138262329473763,
          0.43877421762173396,
          -0.17113281260598195,
          -0.7723643087741576,
          -0.44972702786652147,
          -0.295278673235866,
          0.17472053263719536,
          -0.07084006961141828,
          0.5598408246345813,
          -0.26184496480996333,
          0.15783441901398237,
          0.31583156191644834,
          0.45716192750797735,
          -1.0532192491323207,
          -0.1131779568506202,
          2.5616936250228277,
          0.19009419833845465,
          -0.5984275457623431,
          0.4745933715997644,
          0.6960874097842701,
          0.626694260308462,
          1.4892579489991618,
          -0.05117752075617346,
          0.4250907181303993,
          0.9739273103422872,
          0.6362806675655954,
          -1.0162423232433264,
          0.9066631371828433,
          -1.679535026651661,
          0.9869659281108462,
          1.3453703943728241,
          0.343490665154001,
          -0.2853841697384442,
          1.6779939042723648,
          -1.4846430813013987,
          1.5382370758376722,
          -0.9330596295665243,
          -1.9920517428997413,
          -0.9116729322213409,
          2.049708236088764,
          0.35325947359296905,
          -1.035379152347821,
          -0.13083975048816482,
          0.691709526438699,
          0.5417778168132682,
          -0.804558538375137,
          -0.08890127612875974,
          0.07238988424715156,
          -1.4480553614844163,
          1.6305803770755345,
          0.23771832739327292,
          -0.24686337911028947,
          0.5418021381378408,
          -0.29289376146775437,
          0.5140535966322717,
          -1.0431412319656117,
          0.9133882773462815,
          1.0012785109207942,
          -0.49528847444847685
         ],
         "yaxis": "y3"
        },
        {
         "line": {
          "color": "rgba(128, 128, 128, 1.0)",
          "dash": "solid",
          "shape": "linear",
          "width": 1.3
         },
         "marker": {
          "size": 2,
          "symbol": "circle"
         },
         "mode": "markers",
         "name": "A",
         "text": "",
         "type": "scatter",
         "x": [
          -1.3822368504999412,
          1.1868921380110964,
          3.074761922057887,
          0.6540470561513829,
          -1.791791593655064,
          0.560742603250269,
          -1.4192752050961865,
          -0.07356911786947963,
          0.8560868506281443,
          0.40268234637334405,
          0.2579031984268933,
          -1.1014982965828208,
          0.4997557701926453,
          0.41841755514124523,
          -0.19761611341064317,
          0.46471581313170546,
          0.34097916455729455,
          -1.1173191126252282,
          1.441133067744915,
          0.4660328484069177,
          0.35593492154998285,
          0.610117909111755,
          1.0268496129800764,
          -2.9227928066592384,
          -0.5967255509752472,
          1.0342804210809968,
          -0.4369280226100989,
          -1.2991911538445367,
          -1.1876670300330503,
          -0.1835734359135624,
          0.3258136874027073,
          0.7111705737861701,
          1.0081355334655215,
          -1.091077015455357,
          -0.9084221800041059,
          -0.39580505017480055,
          0.9669185555538452,
          -0.8834410349699046,
          2.58778499239981,
          -2.4851983097159387,
          -2.08849700135936,
          1.5950602841576778,
          -2.320627232160421,
          0.630804084149663,
          -1.3019168885464065,
          1.3570017649169208,
          0.11129458404963655,
          1.5658311472324207,
          -0.8574692603698083,
          -0.2643829163575508,
          0.8103650456969996,
          -0.9868405385838823,
          1.6215543514643018,
          0.014887673144812354,
          -1.9679798218578608,
          -1.0776880417529018,
          -0.9319694113611366,
          -0.6172828302871782,
          0.8073887199728892,
          0.7617046149941203,
          0.7529700251474125,
          -1.75765858663306,
          -0.642874697054324,
          1.201995473158109,
          -0.5776229530465018,
          -1.9176814261321877,
          0.7956223680538879,
          -0.41222793316853795,
          -0.3352847562532673,
          1.187230576748085,
          0.5431470299260086,
          1.0559384588551326,
          -1.5345436818328146,
          1.2408082317346376,
          -0.7559510230912563,
          -0.7854321827995201,
          -2.4466752084523407,
          0.7414199574973891,
          0.5570636845652269,
          -0.3859514970677254,
          -0.7904716621009474,
          1.9900732220256936,
          1.215862391756408,
          0.5575457528024911,
          -0.37361692195887153,
          -0.41199029195145637,
          0.5460412202751002,
          -0.9316380331023384,
          -1.48471169031649,
          1.6334663040131474,
          1.0759191036963602,
          -1.5351979025198073,
          -0.8057809769713714,
          0.6833694199645926,
          0.5388580292449436,
          -0.11306345005345213,
          -0.0832325570929657,
          1.0000639539599987,
          -0.2937640023000087,
          0.4564399782737193
         ],
         "xaxis": "x4",
         "y": [
          -0.08246222777140658,
          0.7173230319183161,
          -1.4831462800247348,
          0.6007188011403605,
          1.289075599445904,
          0.4686184185783867,
          0.9861225102722071,
          -0.46912667007143066,
          1.7361292929950078,
          0.04365889119250256,
          1.2341316458674847,
          0.821179261753058,
          0.510361491783725,
          -0.16508037667801448,
          0.7577534273104339,
          -0.8667901941733359,
          1.3594944902287593,
          -1.1685993739916176,
          1.1105441176779236,
          2.179116305512871,
          -1.0669303473380523,
          -0.4865054709776041,
          2.123010480961304,
          1.122915995141616,
          0.8927499392112277,
          -0.10340193631007873,
          0.40433819829483225,
          1.2572964981158954,
          0.11700900125746119,
          -0.7026845863976289,
          0.44657856814521074,
          -1.1023149498936338,
          -0.14181716320340942,
          -2.203822075626207,
          2.1060253516626544,
          0.16448217726557168,
          -0.6887885110479985,
          -1.5297766193899487,
          0.7306152486007272,
          0.5582213127690169,
          0.7805847071266674,
          -0.4138262329473763,
          0.43877421762173396,
          -0.17113281260598195,
          -0.7723643087741576,
          -0.44972702786652147,
          -0.295278673235866,
          0.17472053263719536,
          -0.07084006961141828,
          0.5598408246345813,
          -0.26184496480996333,
          0.15783441901398237,
          0.31583156191644834,
          0.45716192750797735,
          -1.0532192491323207,
          -0.1131779568506202,
          2.5616936250228277,
          0.19009419833845465,
          -0.5984275457623431,
          0.4745933715997644,
          0.6960874097842701,
          0.626694260308462,
          1.4892579489991618,
          -0.05117752075617346,
          0.4250907181303993,
          0.9739273103422872,
          0.6362806675655954,
          -1.0162423232433264,
          0.9066631371828433,
          -1.679535026651661,
          0.9869659281108462,
          1.3453703943728241,
          0.343490665154001,
          -0.2853841697384442,
          1.6779939042723648,
          -1.4846430813013987,
          1.5382370758376722,
          -0.9330596295665243,
          -1.9920517428997413,
          -0.9116729322213409,
          2.049708236088764,
          0.35325947359296905,
          -1.035379152347821,
          -0.13083975048816482,
          0.691709526438699,
          0.5417778168132682,
          -0.804558538375137,
          -0.08890127612875974,
          0.07238988424715156,
          -1.4480553614844163,
          1.6305803770755345,
          0.23771832739327292,
          -0.24686337911028947,
          0.5418021381378408,
          -0.29289376146775437,
          0.5140535966322717,
          -1.0431412319656117,
          0.9133882773462815,
          1.0012785109207942,
          -0.49528847444847685
         ],
         "yaxis": "y4"
        },
        {
         "line": {
          "color": "rgba(128, 128, 128, 1.0)",
          "dash": "solid",
          "shape": "linear",
          "width": 1.3
         },
         "marker": {
          "size": 2,
          "symbol": "circle"
         },
         "mode": "markers",
         "name": "B",
         "text": "",
         "type": "scatter",
         "x": [
          -0.08246222777140658,
          0.7173230319183161,
          -1.4831462800247348,
          0.6007188011403605,
          1.289075599445904,
          0.4686184185783867,
          0.9861225102722071,
          -0.46912667007143066,
          1.7361292929950078,
          0.04365889119250256,
          1.2341316458674847,
          0.821179261753058,
          0.510361491783725,
          -0.16508037667801448,
          0.7577534273104339,
          -0.8667901941733359,
          1.3594944902287593,
          -1.1685993739916176,
          1.1105441176779236,
          2.179116305512871,
          -1.0669303473380523,
          -0.4865054709776041,
          2.123010480961304,
          1.122915995141616,
          0.8927499392112277,
          -0.10340193631007873,
          0.40433819829483225,
          1.2572964981158954,
          0.11700900125746119,
          -0.7026845863976289,
          0.44657856814521074,
          -1.1023149498936338,
          -0.14181716320340942,
          -2.203822075626207,
          2.1060253516626544,
          0.16448217726557168,
          -0.6887885110479985,
          -1.5297766193899487,
          0.7306152486007272,
          0.5582213127690169,
          0.7805847071266674,
          -0.4138262329473763,
          0.43877421762173396,
          -0.17113281260598195,
          -0.7723643087741576,
          -0.44972702786652147,
          -0.295278673235866,
          0.17472053263719536,
          -0.07084006961141828,
          0.5598408246345813,
          -0.26184496480996333,
          0.15783441901398237,
          0.31583156191644834,
          0.45716192750797735,
          -1.0532192491323207,
          -0.1131779568506202,
          2.5616936250228277,
          0.19009419833845465,
          -0.5984275457623431,
          0.4745933715997644,
          0.6960874097842701,
          0.626694260308462,
          1.4892579489991618,
          -0.05117752075617346,
          0.4250907181303993,
          0.9739273103422872,
          0.6362806675655954,
          -1.0162423232433264,
          0.9066631371828433,
          -1.679535026651661,
          0.9869659281108462,
          1.3453703943728241,
          0.343490665154001,
          -0.2853841697384442,
          1.6779939042723648,
          -1.4846430813013987,
          1.5382370758376722,
          -0.9330596295665243,
          -1.9920517428997413,
          -0.9116729322213409,
          2.049708236088764,
          0.35325947359296905,
          -1.035379152347821,
          -0.13083975048816482,
          0.691709526438699,
          0.5417778168132682,
          -0.804558538375137,
          -0.08890127612875974,
          0.07238988424715156,
          -1.4480553614844163,
          1.6305803770755345,
          0.23771832739327292,
          -0.24686337911028947,
          0.5418021381378408,
          -0.29289376146775437,
          0.5140535966322717,
          -1.0431412319656117,
          0.9133882773462815,
          1.0012785109207942,
          -0.49528847444847685
         ],
         "xaxis": "x5",
         "y": [
          1.1111034473072832,
          -0.1448844431557348,
          1.1571344678825692,
          -0.10626240679408508,
          1.385864733511222,
          0.7149762195031321,
          -1.0573758968740425,
          1.0574539487727026,
          -2.222754474072913,
          2.4284696770821985,
          1.0720742151354865,
          -0.5569630085600444,
          1.1459078255247408,
          0.5671801108564223,
          0.33437965352964705,
          1.6800543056523491,
          0.8130184539498939,
          0.3923791895424591,
          -0.1478109051442373,
          -0.27264250534607903,
          -2.3603070752410926,
          -0.09465056399925209,
          -0.16768695429951153,
          0.6005046467753621,
          -1.4606720388756242,
          0.020805750462041604,
          1.2075459416868073,
          -0.6242906813930785,
          -0.7358803768729599,
          0.9017616150351392,
          -0.3991437537388995,
          -0.32776950291835794,
          -0.22438021907887182,
          0.6232918558085496,
          1.6581071653903812,
          0.221658524428475,
          0.5054802729992948,
          0.3924249214397845,
          -0.3834916104630957,
          0.8210281067635286,
          -0.6795537047745717,
          0.689084330009526,
          -0.3509889870700068,
          -0.13067820982899972,
          1.0079417817210266,
          1.5822871581780307,
          0.03648810084486005,
          -0.20144946009057205,
          -0.46530592982664754,
          0.9674486407095345,
          -0.6335301718013872,
          -1.3456873791964161,
          1.1446356475185844,
          -0.2728030861444642,
          -1.1462958571876427,
          0.25835325051020475,
          -1.7296771839161211,
          1.4594852118097237,
          0.1915054550087883,
          -1.356662720698125,
          0.2542237467222372,
          -0.09915143340273849,
          0.03812311596193516,
          0.5187740918912463,
          1.9633476519853126,
          1.2259258782036178,
          0.18579717883455807,
          -1.030735908284299,
          -0.7834159013284216,
          0.5652342883426867,
          -1.1402671924265346,
          0.0638021052533395,
          0.536016427642085,
          0.07407370527854598,
          0.3807947892202538,
          0.3204141169258202,
          -0.4004880397199586,
          0.0520054083184649,
          0.8087043708456557,
          -0.8048160281300628,
          0.442047115569308,
          -0.0437189083464173,
          -0.02075425165300876,
          1.2997816110422071,
          -2.059560329775203,
          -1.6002365963146876,
          -1.004666964491864,
          -1.0399111841009054,
          -0.6201334882012222,
          -1.1035481454325704,
          1.0076635158357001,
          -0.27211120070119027,
          1.3233615878152796,
          0.49207215645485736,
          -0.6231562460016906,
          -2.157366560133454,
          0.31259998818320933,
          1.316311665618152,
          -0.1643111499978162,
          0.47819803208043254
         ],
         "yaxis": "y5"
        },
        {
         "histfunc": "count",
         "histnorm": "",
         "marker": {
          "color": "rgba(55, 128, 191, 1.0)",
          "line": {
           "color": "#4D5663",
           "width": 1.3
          }
         },
         "name": "B",
         "nbinsx": 10,
         "opacity": 0.8,
         "orientation": "v",
         "type": "histogram",
         "x": [
          1.1111034473072832,
          -0.1448844431557348,
          1.1571344678825692,
          -0.10626240679408508,
          1.385864733511222,
          0.7149762195031321,
          -1.0573758968740425,
          1.0574539487727026,
          -2.222754474072913,
          2.4284696770821985,
          1.0720742151354865,
          -0.5569630085600444,
          1.1459078255247408,
          0.5671801108564223,
          0.33437965352964705,
          1.6800543056523491,
          0.8130184539498939,
          0.3923791895424591,
          -0.1478109051442373,
          -0.27264250534607903,
          -2.3603070752410926,
          -0.09465056399925209,
          -0.16768695429951153,
          0.6005046467753621,
          -1.4606720388756242,
          0.020805750462041604,
          1.2075459416868073,
          -0.6242906813930785,
          -0.7358803768729599,
          0.9017616150351392,
          -0.3991437537388995,
          -0.32776950291835794,
          -0.22438021907887182,
          0.6232918558085496,
          1.6581071653903812,
          0.221658524428475,
          0.5054802729992948,
          0.3924249214397845,
          -0.3834916104630957,
          0.8210281067635286,
          -0.6795537047745717,
          0.689084330009526,
          -0.3509889870700068,
          -0.13067820982899972,
          1.0079417817210266,
          1.5822871581780307,
          0.03648810084486005,
          -0.20144946009057205,
          -0.46530592982664754,
          0.9674486407095345,
          -0.6335301718013872,
          -1.3456873791964161,
          1.1446356475185844,
          -0.2728030861444642,
          -1.1462958571876427,
          0.25835325051020475,
          -1.7296771839161211,
          1.4594852118097237,
          0.1915054550087883,
          -1.356662720698125,
          0.2542237467222372,
          -0.09915143340273849,
          0.03812311596193516,
          0.5187740918912463,
          1.9633476519853126,
          1.2259258782036178,
          0.18579717883455807,
          -1.030735908284299,
          -0.7834159013284216,
          0.5652342883426867,
          -1.1402671924265346,
          0.0638021052533395,
          0.536016427642085,
          0.07407370527854598,
          0.3807947892202538,
          0.3204141169258202,
          -0.4004880397199586,
          0.0520054083184649,
          0.8087043708456557,
          -0.8048160281300628,
          0.442047115569308,
          -0.0437189083464173,
          -0.02075425165300876,
          1.2997816110422071,
          -2.059560329775203,
          -1.6002365963146876,
          -1.004666964491864,
          -1.0399111841009054,
          -0.6201334882012222,
          -1.1035481454325704,
          1.0076635158357001,
          -0.27211120070119027,
          1.3233615878152796,
          0.49207215645485736,
          -0.6231562460016906,
          -2.157366560133454,
          0.31259998818320933,
          1.316311665618152,
          -0.1643111499978162,
          0.47819803208043254
         ],
         "xaxis": "x6",
         "yaxis": "y6"
        },
        {
         "line": {
          "color": "rgba(128, 128, 128, 1.0)",
          "dash": "solid",
          "shape": "linear",
          "width": 1.3
         },
         "marker": {
          "size": 2,
          "symbol": "circle"
         },
         "mode": "markers",
         "name": "B",
         "text": "",
         "type": "scatter",
         "x": [
          -0.040721755590267625,
          0.4845141078568383,
          0.5552865204452764,
          0.9894307742262647,
          -2.0905541525014075,
          0.5307941490125307,
          -0.017570997133324374,
          -2.2627308003070796,
          -0.1374052764526477,
          -0.8828442616004598,
          0.49694631927718247,
          0.9277362048260372,
          -1.6122633618108535,
          -0.24078759359434268,
          -0.7179782433046924,
          -1.2035624756547316,
          1.1705828461614898,
          -1.781460868686437,
          1.4602509670087895,
          0.9595348366810558,
          -0.4878818104702032,
          0.05668394756523284,
          0.25050102327780377,
          1.1256494378007131,
          -1.737428170361979,
          -1.941193704069804,
          -0.3495901857266525,
          -0.3670591970577454,
          0.23938375271249307,
          -1.871945296898776,
          0.03442507030246463,
          -0.9317620374287533,
          -0.15566872544649396,
          -0.910405984156538,
          0.13926839875980687,
          -0.1415354359893636,
          -0.36607615729278936,
          -1.7933891102681134,
          -0.9093873562543733,
          -0.38743230819428426,
          0.19200855279259407,
          0.6834369507348941,
          0.10709815058062394,
          1.1713809096279486,
          -2.251623623728285,
          -1.722464994585591,
          1.249237806539529,
          -0.033637926895588595,
          -0.07834586686128041,
          -1.1503478012738484,
          0.4502187187758,
          -0.13018697405443186,
          -0.9799098291087905,
          -0.8031150350232693,
          2.1354275216358594,
          0.026737097406338943,
          0.6661586297256185,
          -2.5238276959178876,
          0.10873699221215909,
          1.7110852575489799,
          -0.13830138999521324,
          1.4324385555449606,
          0.9456261856347842,
          1.998793269243896,
          0.6055018707891223,
          0.5121343441097476,
          0.5697006829514698,
          -0.405202704358376,
          -1.3871725574937979,
          1.20188846104042,
          -0.12384142363187112,
          0.027535394475638332,
          -0.6589856088323701,
          -1.0376982233410539,
          0.800481905525968,
          -0.13716365692928184,
          2.0326240292311106,
          0.2398312754412681,
          0.762097334950555,
          1.9906582255488978,
          -0.11104118046803331,
          -2.354491237143944,
          2.43428933342693,
          0.4284846800935323,
          0.13641677019091114,
          1.5000310075196113,
          -0.813017243679552,
          -0.41384018368479075,
          0.08833905550302587,
          -0.9494763494057143,
          -0.9013313316938716,
          0.5968161745025338,
          -0.039600246063192984,
          0.42546249578022644,
          -0.4602347022596428,
          0.5943026124417444,
          -0.11024284676490688,
          2.0503169539927213,
          -1.0543468988419165,
          -0.42533381032547174
         ],
         "xaxis": "x7",
         "y": [
          1.1111034473072832,
          -0.1448844431557348,
          1.1571344678825692,
          -0.10626240679408508,
          1.385864733511222,
          0.7149762195031321,
          -1.0573758968740425,
          1.0574539487727026,
          -2.222754474072913,
          2.4284696770821985,
          1.0720742151354865,
          -0.5569630085600444,
          1.1459078255247408,
          0.5671801108564223,
          0.33437965352964705,
          1.6800543056523491,
          0.8130184539498939,
          0.3923791895424591,
          -0.1478109051442373,
          -0.27264250534607903,
          -2.3603070752410926,
          -0.09465056399925209,
          -0.16768695429951153,
          0.6005046467753621,
          -1.4606720388756242,
          0.020805750462041604,
          1.2075459416868073,
          -0.6242906813930785,
          -0.7358803768729599,
          0.9017616150351392,
          -0.3991437537388995,
          -0.32776950291835794,
          -0.22438021907887182,
          0.6232918558085496,
          1.6581071653903812,
          0.221658524428475,
          0.5054802729992948,
          0.3924249214397845,
          -0.3834916104630957,
          0.8210281067635286,
          -0.6795537047745717,
          0.689084330009526,
          -0.3509889870700068,
          -0.13067820982899972,
          1.0079417817210266,
          1.5822871581780307,
          0.03648810084486005,
          -0.20144946009057205,
          -0.46530592982664754,
          0.9674486407095345,
          -0.6335301718013872,
          -1.3456873791964161,
          1.1446356475185844,
          -0.2728030861444642,
          -1.1462958571876427,
          0.25835325051020475,
          -1.7296771839161211,
          1.4594852118097237,
          0.1915054550087883,
          -1.356662720698125,
          0.2542237467222372,
          -0.09915143340273849,
          0.03812311596193516,
          0.5187740918912463,
          1.9633476519853126,
          1.2259258782036178,
          0.18579717883455807,
          -1.030735908284299,
          -0.7834159013284216,
          0.5652342883426867,
          -1.1402671924265346,
          0.0638021052533395,
          0.536016427642085,
          0.07407370527854598,
          0.3807947892202538,
          0.3204141169258202,
          -0.4004880397199586,
          0.0520054083184649,
          0.8087043708456557,
          -0.8048160281300628,
          0.442047115569308,
          -0.0437189083464173,
          -0.02075425165300876,
          1.2997816110422071,
          -2.059560329775203,
          -1.6002365963146876,
          -1.004666964491864,
          -1.0399111841009054,
          -0.6201334882012222,
          -1.1035481454325704,
          1.0076635158357001,
          -0.27211120070119027,
          1.3233615878152796,
          0.49207215645485736,
          -0.6231562460016906,
          -2.157366560133454,
          0.31259998818320933,
          1.316311665618152,
          -0.1643111499978162,
          0.47819803208043254
         ],
         "yaxis": "y7"
        },
        {
         "line": {
          "color": "rgba(128, 128, 128, 1.0)",
          "dash": "solid",
          "shape": "linear",
          "width": 1.3
         },
         "marker": {
          "size": 2,
          "symbol": "circle"
         },
         "mode": "markers",
         "name": "B",
         "text": "",
         "type": "scatter",
         "x": [
          -1.3822368504999412,
          1.1868921380110964,
          3.074761922057887,
          0.6540470561513829,
          -1.791791593655064,
          0.560742603250269,
          -1.4192752050961865,
          -0.07356911786947963,
          0.8560868506281443,
          0.40268234637334405,
          0.2579031984268933,
          -1.1014982965828208,
          0.4997557701926453,
          0.41841755514124523,
          -0.19761611341064317,
          0.46471581313170546,
          0.34097916455729455,
          -1.1173191126252282,
          1.441133067744915,
          0.4660328484069177,
          0.35593492154998285,
          0.610117909111755,
          1.0268496129800764,
          -2.9227928066592384,
          -0.5967255509752472,
          1.0342804210809968,
          -0.4369280226100989,
          -1.2991911538445367,
          -1.1876670300330503,
          -0.1835734359135624,
          0.3258136874027073,
          0.7111705737861701,
          1.0081355334655215,
          -1.091077015455357,
          -0.9084221800041059,
          -0.39580505017480055,
          0.9669185555538452,
          -0.8834410349699046,
          2.58778499239981,
          -2.4851983097159387,
          -2.08849700135936,
          1.5950602841576778,
          -2.320627232160421,
          0.630804084149663,
          -1.3019168885464065,
          1.3570017649169208,
          0.11129458404963655,
          1.5658311472324207,
          -0.8574692603698083,
          -0.2643829163575508,
          0.8103650456969996,
          -0.9868405385838823,
          1.6215543514643018,
          0.014887673144812354,
          -1.9679798218578608,
          -1.0776880417529018,
          -0.9319694113611366,
          -0.6172828302871782,
          0.8073887199728892,
          0.7617046149941203,
          0.7529700251474125,
          -1.75765858663306,
          -0.642874697054324,
          1.201995473158109,
          -0.5776229530465018,
          -1.9176814261321877,
          0.7956223680538879,
          -0.41222793316853795,
          -0.3352847562532673,
          1.187230576748085,
          0.5431470299260086,
          1.0559384588551326,
          -1.5345436818328146,
          1.2408082317346376,
          -0.7559510230912563,
          -0.7854321827995201,
          -2.4466752084523407,
          0.7414199574973891,
          0.5570636845652269,
          -0.3859514970677254,
          -0.7904716621009474,
          1.9900732220256936,
          1.215862391756408,
          0.5575457528024911,
          -0.37361692195887153,
          -0.41199029195145637,
          0.5460412202751002,
          -0.9316380331023384,
          -1.48471169031649,
          1.6334663040131474,
          1.0759191036963602,
          -1.5351979025198073,
          -0.8057809769713714,
          0.6833694199645926,
          0.5388580292449436,
          -0.11306345005345213,
          -0.0832325570929657,
          1.0000639539599987,
          -0.2937640023000087,
          0.4564399782737193
         ],
         "xaxis": "x8",
         "y": [
          1.1111034473072832,
          -0.1448844431557348,
          1.1571344678825692,
          -0.10626240679408508,
          1.385864733511222,
          0.7149762195031321,
          -1.0573758968740425,
          1.0574539487727026,
          -2.222754474072913,
          2.4284696770821985,
          1.0720742151354865,
          -0.5569630085600444,
          1.1459078255247408,
          0.5671801108564223,
          0.33437965352964705,
          1.6800543056523491,
          0.8130184539498939,
          0.3923791895424591,
          -0.1478109051442373,
          -0.27264250534607903,
          -2.3603070752410926,
          -0.09465056399925209,
          -0.16768695429951153,
          0.6005046467753621,
          -1.4606720388756242,
          0.020805750462041604,
          1.2075459416868073,
          -0.6242906813930785,
          -0.7358803768729599,
          0.9017616150351392,
          -0.3991437537388995,
          -0.32776950291835794,
          -0.22438021907887182,
          0.6232918558085496,
          1.6581071653903812,
          0.221658524428475,
          0.5054802729992948,
          0.3924249214397845,
          -0.3834916104630957,
          0.8210281067635286,
          -0.6795537047745717,
          0.689084330009526,
          -0.3509889870700068,
          -0.13067820982899972,
          1.0079417817210266,
          1.5822871581780307,
          0.03648810084486005,
          -0.20144946009057205,
          -0.46530592982664754,
          0.9674486407095345,
          -0.6335301718013872,
          -1.3456873791964161,
          1.1446356475185844,
          -0.2728030861444642,
          -1.1462958571876427,
          0.25835325051020475,
          -1.7296771839161211,
          1.4594852118097237,
          0.1915054550087883,
          -1.356662720698125,
          0.2542237467222372,
          -0.09915143340273849,
          0.03812311596193516,
          0.5187740918912463,
          1.9633476519853126,
          1.2259258782036178,
          0.18579717883455807,
          -1.030735908284299,
          -0.7834159013284216,
          0.5652342883426867,
          -1.1402671924265346,
          0.0638021052533395,
          0.536016427642085,
          0.07407370527854598,
          0.3807947892202538,
          0.3204141169258202,
          -0.4004880397199586,
          0.0520054083184649,
          0.8087043708456557,
          -0.8048160281300628,
          0.442047115569308,
          -0.0437189083464173,
          -0.02075425165300876,
          1.2997816110422071,
          -2.059560329775203,
          -1.6002365963146876,
          -1.004666964491864,
          -1.0399111841009054,
          -0.6201334882012222,
          -1.1035481454325704,
          1.0076635158357001,
          -0.27211120070119027,
          1.3233615878152796,
          0.49207215645485736,
          -0.6231562460016906,
          -2.157366560133454,
          0.31259998818320933,
          1.316311665618152,
          -0.1643111499978162,
          0.47819803208043254
         ],
         "yaxis": "y8"
        },
        {
         "line": {
          "color": "rgba(128, 128, 128, 1.0)",
          "dash": "solid",
          "shape": "linear",
          "width": 1.3
         },
         "marker": {
          "size": 2,
          "symbol": "circle"
         },
         "mode": "markers",
         "name": "C",
         "text": "",
         "type": "scatter",
         "x": [
          -0.08246222777140658,
          0.7173230319183161,
          -1.4831462800247348,
          0.6007188011403605,
          1.289075599445904,
          0.4686184185783867,
          0.9861225102722071,
          -0.46912667007143066,
          1.7361292929950078,
          0.04365889119250256,
          1.2341316458674847,
          0.821179261753058,
          0.510361491783725,
          -0.16508037667801448,
          0.7577534273104339,
          -0.8667901941733359,
          1.3594944902287593,
          -1.1685993739916176,
          1.1105441176779236,
          2.179116305512871,
          -1.0669303473380523,
          -0.4865054709776041,
          2.123010480961304,
          1.122915995141616,
          0.8927499392112277,
          -0.10340193631007873,
          0.40433819829483225,
          1.2572964981158954,
          0.11700900125746119,
          -0.7026845863976289,
          0.44657856814521074,
          -1.1023149498936338,
          -0.14181716320340942,
          -2.203822075626207,
          2.1060253516626544,
          0.16448217726557168,
          -0.6887885110479985,
          -1.5297766193899487,
          0.7306152486007272,
          0.5582213127690169,
          0.7805847071266674,
          -0.4138262329473763,
          0.43877421762173396,
          -0.17113281260598195,
          -0.7723643087741576,
          -0.44972702786652147,
          -0.295278673235866,
          0.17472053263719536,
          -0.07084006961141828,
          0.5598408246345813,
          -0.26184496480996333,
          0.15783441901398237,
          0.31583156191644834,
          0.45716192750797735,
          -1.0532192491323207,
          -0.1131779568506202,
          2.5616936250228277,
          0.19009419833845465,
          -0.5984275457623431,
          0.4745933715997644,
          0.6960874097842701,
          0.626694260308462,
          1.4892579489991618,
          -0.05117752075617346,
          0.4250907181303993,
          0.9739273103422872,
          0.6362806675655954,
          -1.0162423232433264,
          0.9066631371828433,
          -1.679535026651661,
          0.9869659281108462,
          1.3453703943728241,
          0.343490665154001,
          -0.2853841697384442,
          1.6779939042723648,
          -1.4846430813013987,
          1.5382370758376722,
          -0.9330596295665243,
          -1.9920517428997413,
          -0.9116729322213409,
          2.049708236088764,
          0.35325947359296905,
          -1.035379152347821,
          -0.13083975048816482,
          0.691709526438699,
          0.5417778168132682,
          -0.804558538375137,
          -0.08890127612875974,
          0.07238988424715156,
          -1.4480553614844163,
          1.6305803770755345,
          0.23771832739327292,
          -0.24686337911028947,
          0.5418021381378408,
          -0.29289376146775437,
          0.5140535966322717,
          -1.0431412319656117,
          0.9133882773462815,
          1.0012785109207942,
          -0.49528847444847685
         ],
         "xaxis": "x9",
         "y": [
          -0.040721755590267625,
          0.4845141078568383,
          0.5552865204452764,
          0.9894307742262647,
          -2.0905541525014075,
          0.5307941490125307,
          -0.017570997133324374,
          -2.2627308003070796,
          -0.1374052764526477,
          -0.8828442616004598,
          0.49694631927718247,
          0.9277362048260372,
          -1.6122633618108535,
          -0.24078759359434268,
          -0.7179782433046924,
          -1.2035624756547316,
          1.1705828461614898,
          -1.781460868686437,
          1.4602509670087895,
          0.9595348366810558,
          -0.4878818104702032,
          0.05668394756523284,
          0.25050102327780377,
          1.1256494378007131,
          -1.737428170361979,
          -1.941193704069804,
          -0.3495901857266525,
          -0.3670591970577454,
          0.23938375271249307,
          -1.871945296898776,
          0.03442507030246463,
          -0.9317620374287533,
          -0.15566872544649396,
          -0.910405984156538,
          0.13926839875980687,
          -0.1415354359893636,
          -0.36607615729278936,
          -1.7933891102681134,
          -0.9093873562543733,
          -0.38743230819428426,
          0.19200855279259407,
          0.6834369507348941,
          0.10709815058062394,
          1.1713809096279486,
          -2.251623623728285,
          -1.722464994585591,
          1.249237806539529,
          -0.033637926895588595,
          -0.07834586686128041,
          -1.1503478012738484,
          0.4502187187758,
          -0.13018697405443186,
          -0.9799098291087905,
          -0.8031150350232693,
          2.1354275216358594,
          0.026737097406338943,
          0.6661586297256185,
          -2.5238276959178876,
          0.10873699221215909,
          1.7110852575489799,
          -0.13830138999521324,
          1.4324385555449606,
          0.9456261856347842,
          1.998793269243896,
          0.6055018707891223,
          0.5121343441097476,
          0.5697006829514698,
          -0.405202704358376,
          -1.3871725574937979,
          1.20188846104042,
          -0.12384142363187112,
          0.027535394475638332,
          -0.6589856088323701,
          -1.0376982233410539,
          0.800481905525968,
          -0.13716365692928184,
          2.0326240292311106,
          0.2398312754412681,
          0.762097334950555,
          1.9906582255488978,
          -0.11104118046803331,
          -2.354491237143944,
          2.43428933342693,
          0.4284846800935323,
          0.13641677019091114,
          1.5000310075196113,
          -0.813017243679552,
          -0.41384018368479075,
          0.08833905550302587,
          -0.9494763494057143,
          -0.9013313316938716,
          0.5968161745025338,
          -0.039600246063192984,
          0.42546249578022644,
          -0.4602347022596428,
          0.5943026124417444,
          -0.11024284676490688,
          2.0503169539927213,
          -1.0543468988419165,
          -0.42533381032547174
         ],
         "yaxis": "y9"
        },
        {
         "line": {
          "color": "rgba(128, 128, 128, 1.0)",
          "dash": "solid",
          "shape": "linear",
          "width": 1.3
         },
         "marker": {
          "size": 2,
          "symbol": "circle"
         },
         "mode": "markers",
         "name": "C",
         "text": "",
         "type": "scatter",
         "x": [
          1.1111034473072832,
          -0.1448844431557348,
          1.1571344678825692,
          -0.10626240679408508,
          1.385864733511222,
          0.7149762195031321,
          -1.0573758968740425,
          1.0574539487727026,
          -2.222754474072913,
          2.4284696770821985,
          1.0720742151354865,
          -0.5569630085600444,
          1.1459078255247408,
          0.5671801108564223,
          0.33437965352964705,
          1.6800543056523491,
          0.8130184539498939,
          0.3923791895424591,
          -0.1478109051442373,
          -0.27264250534607903,
          -2.3603070752410926,
          -0.09465056399925209,
          -0.16768695429951153,
          0.6005046467753621,
          -1.4606720388756242,
          0.020805750462041604,
          1.2075459416868073,
          -0.6242906813930785,
          -0.7358803768729599,
          0.9017616150351392,
          -0.3991437537388995,
          -0.32776950291835794,
          -0.22438021907887182,
          0.6232918558085496,
          1.6581071653903812,
          0.221658524428475,
          0.5054802729992948,
          0.3924249214397845,
          -0.3834916104630957,
          0.8210281067635286,
          -0.6795537047745717,
          0.689084330009526,
          -0.3509889870700068,
          -0.13067820982899972,
          1.0079417817210266,
          1.5822871581780307,
          0.03648810084486005,
          -0.20144946009057205,
          -0.46530592982664754,
          0.9674486407095345,
          -0.6335301718013872,
          -1.3456873791964161,
          1.1446356475185844,
          -0.2728030861444642,
          -1.1462958571876427,
          0.25835325051020475,
          -1.7296771839161211,
          1.4594852118097237,
          0.1915054550087883,
          -1.356662720698125,
          0.2542237467222372,
          -0.09915143340273849,
          0.03812311596193516,
          0.5187740918912463,
          1.9633476519853126,
          1.2259258782036178,
          0.18579717883455807,
          -1.030735908284299,
          -0.7834159013284216,
          0.5652342883426867,
          -1.1402671924265346,
          0.0638021052533395,
          0.536016427642085,
          0.07407370527854598,
          0.3807947892202538,
          0.3204141169258202,
          -0.4004880397199586,
          0.0520054083184649,
          0.8087043708456557,
          -0.8048160281300628,
          0.442047115569308,
          -0.0437189083464173,
          -0.02075425165300876,
          1.2997816110422071,
          -2.059560329775203,
          -1.6002365963146876,
          -1.004666964491864,
          -1.0399111841009054,
          -0.6201334882012222,
          -1.1035481454325704,
          1.0076635158357001,
          -0.27211120070119027,
          1.3233615878152796,
          0.49207215645485736,
          -0.6231562460016906,
          -2.157366560133454,
          0.31259998818320933,
          1.316311665618152,
          -0.1643111499978162,
          0.47819803208043254
         ],
         "xaxis": "x10",
         "y": [
          -0.040721755590267625,
          0.4845141078568383,
          0.5552865204452764,
          0.9894307742262647,
          -2.0905541525014075,
          0.5307941490125307,
          -0.017570997133324374,
          -2.2627308003070796,
          -0.1374052764526477,
          -0.8828442616004598,
          0.49694631927718247,
          0.9277362048260372,
          -1.6122633618108535,
          -0.24078759359434268,
          -0.7179782433046924,
          -1.2035624756547316,
          1.1705828461614898,
          -1.781460868686437,
          1.4602509670087895,
          0.9595348366810558,
          -0.4878818104702032,
          0.05668394756523284,
          0.25050102327780377,
          1.1256494378007131,
          -1.737428170361979,
          -1.941193704069804,
          -0.3495901857266525,
          -0.3670591970577454,
          0.23938375271249307,
          -1.871945296898776,
          0.03442507030246463,
          -0.9317620374287533,
          -0.15566872544649396,
          -0.910405984156538,
          0.13926839875980687,
          -0.1415354359893636,
          -0.36607615729278936,
          -1.7933891102681134,
          -0.9093873562543733,
          -0.38743230819428426,
          0.19200855279259407,
          0.6834369507348941,
          0.10709815058062394,
          1.1713809096279486,
          -2.251623623728285,
          -1.722464994585591,
          1.249237806539529,
          -0.033637926895588595,
          -0.07834586686128041,
          -1.1503478012738484,
          0.4502187187758,
          -0.13018697405443186,
          -0.9799098291087905,
          -0.8031150350232693,
          2.1354275216358594,
          0.026737097406338943,
          0.6661586297256185,
          -2.5238276959178876,
          0.10873699221215909,
          1.7110852575489799,
          -0.13830138999521324,
          1.4324385555449606,
          0.9456261856347842,
          1.998793269243896,
          0.6055018707891223,
          0.5121343441097476,
          0.5697006829514698,
          -0.405202704358376,
          -1.3871725574937979,
          1.20188846104042,
          -0.12384142363187112,
          0.027535394475638332,
          -0.6589856088323701,
          -1.0376982233410539,
          0.800481905525968,
          -0.13716365692928184,
          2.0326240292311106,
          0.2398312754412681,
          0.762097334950555,
          1.9906582255488978,
          -0.11104118046803331,
          -2.354491237143944,
          2.43428933342693,
          0.4284846800935323,
          0.13641677019091114,
          1.5000310075196113,
          -0.813017243679552,
          -0.41384018368479075,
          0.08833905550302587,
          -0.9494763494057143,
          -0.9013313316938716,
          0.5968161745025338,
          -0.039600246063192984,
          0.42546249578022644,
          -0.4602347022596428,
          0.5943026124417444,
          -0.11024284676490688,
          2.0503169539927213,
          -1.0543468988419165,
          -0.42533381032547174
         ],
         "yaxis": "y10"
        },
        {
         "histfunc": "count",
         "histnorm": "",
         "marker": {
          "color": "rgba(50, 171, 96, 1.0)",
          "line": {
           "color": "#4D5663",
           "width": 1.3
          }
         },
         "name": "C",
         "nbinsx": 10,
         "opacity": 0.8,
         "orientation": "v",
         "type": "histogram",
         "x": [
          -0.040721755590267625,
          0.4845141078568383,
          0.5552865204452764,
          0.9894307742262647,
          -2.0905541525014075,
          0.5307941490125307,
          -0.017570997133324374,
          -2.2627308003070796,
          -0.1374052764526477,
          -0.8828442616004598,
          0.49694631927718247,
          0.9277362048260372,
          -1.6122633618108535,
          -0.24078759359434268,
          -0.7179782433046924,
          -1.2035624756547316,
          1.1705828461614898,
          -1.781460868686437,
          1.4602509670087895,
          0.9595348366810558,
          -0.4878818104702032,
          0.05668394756523284,
          0.25050102327780377,
          1.1256494378007131,
          -1.737428170361979,
          -1.941193704069804,
          -0.3495901857266525,
          -0.3670591970577454,
          0.23938375271249307,
          -1.871945296898776,
          0.03442507030246463,
          -0.9317620374287533,
          -0.15566872544649396,
          -0.910405984156538,
          0.13926839875980687,
          -0.1415354359893636,
          -0.36607615729278936,
          -1.7933891102681134,
          -0.9093873562543733,
          -0.38743230819428426,
          0.19200855279259407,
          0.6834369507348941,
          0.10709815058062394,
          1.1713809096279486,
          -2.251623623728285,
          -1.722464994585591,
          1.249237806539529,
          -0.033637926895588595,
          -0.07834586686128041,
          -1.1503478012738484,
          0.4502187187758,
          -0.13018697405443186,
          -0.9799098291087905,
          -0.8031150350232693,
          2.1354275216358594,
          0.026737097406338943,
          0.6661586297256185,
          -2.5238276959178876,
          0.10873699221215909,
          1.7110852575489799,
          -0.13830138999521324,
          1.4324385555449606,
          0.9456261856347842,
          1.998793269243896,
          0.6055018707891223,
          0.5121343441097476,
          0.5697006829514698,
          -0.405202704358376,
          -1.3871725574937979,
          1.20188846104042,
          -0.12384142363187112,
          0.027535394475638332,
          -0.6589856088323701,
          -1.0376982233410539,
          0.800481905525968,
          -0.13716365692928184,
          2.0326240292311106,
          0.2398312754412681,
          0.762097334950555,
          1.9906582255488978,
          -0.11104118046803331,
          -2.354491237143944,
          2.43428933342693,
          0.4284846800935323,
          0.13641677019091114,
          1.5000310075196113,
          -0.813017243679552,
          -0.41384018368479075,
          0.08833905550302587,
          -0.9494763494057143,
          -0.9013313316938716,
          0.5968161745025338,
          -0.039600246063192984,
          0.42546249578022644,
          -0.4602347022596428,
          0.5943026124417444,
          -0.11024284676490688,
          2.0503169539927213,
          -1.0543468988419165,
          -0.42533381032547174
         ],
         "xaxis": "x11",
         "yaxis": "y11"
        },
        {
         "line": {
          "color": "rgba(128, 128, 128, 1.0)",
          "dash": "solid",
          "shape": "linear",
          "width": 1.3
         },
         "marker": {
          "size": 2,
          "symbol": "circle"
         },
         "mode": "markers",
         "name": "C",
         "text": "",
         "type": "scatter",
         "x": [
          -1.3822368504999412,
          1.1868921380110964,
          3.074761922057887,
          0.6540470561513829,
          -1.791791593655064,
          0.560742603250269,
          -1.4192752050961865,
          -0.07356911786947963,
          0.8560868506281443,
          0.40268234637334405,
          0.2579031984268933,
          -1.1014982965828208,
          0.4997557701926453,
          0.41841755514124523,
          -0.19761611341064317,
          0.46471581313170546,
          0.34097916455729455,
          -1.1173191126252282,
          1.441133067744915,
          0.4660328484069177,
          0.35593492154998285,
          0.610117909111755,
          1.0268496129800764,
          -2.9227928066592384,
          -0.5967255509752472,
          1.0342804210809968,
          -0.4369280226100989,
          -1.2991911538445367,
          -1.1876670300330503,
          -0.1835734359135624,
          0.3258136874027073,
          0.7111705737861701,
          1.0081355334655215,
          -1.091077015455357,
          -0.9084221800041059,
          -0.39580505017480055,
          0.9669185555538452,
          -0.8834410349699046,
          2.58778499239981,
          -2.4851983097159387,
          -2.08849700135936,
          1.5950602841576778,
          -2.320627232160421,
          0.630804084149663,
          -1.3019168885464065,
          1.3570017649169208,
          0.11129458404963655,
          1.5658311472324207,
          -0.8574692603698083,
          -0.2643829163575508,
          0.8103650456969996,
          -0.9868405385838823,
          1.6215543514643018,
          0.014887673144812354,
          -1.9679798218578608,
          -1.0776880417529018,
          -0.9319694113611366,
          -0.6172828302871782,
          0.8073887199728892,
          0.7617046149941203,
          0.7529700251474125,
          -1.75765858663306,
          -0.642874697054324,
          1.201995473158109,
          -0.5776229530465018,
          -1.9176814261321877,
          0.7956223680538879,
          -0.41222793316853795,
          -0.3352847562532673,
          1.187230576748085,
          0.5431470299260086,
          1.0559384588551326,
          -1.5345436818328146,
          1.2408082317346376,
          -0.7559510230912563,
          -0.7854321827995201,
          -2.4466752084523407,
          0.7414199574973891,
          0.5570636845652269,
          -0.3859514970677254,
          -0.7904716621009474,
          1.9900732220256936,
          1.215862391756408,
          0.5575457528024911,
          -0.37361692195887153,
          -0.41199029195145637,
          0.5460412202751002,
          -0.9316380331023384,
          -1.48471169031649,
          1.6334663040131474,
          1.0759191036963602,
          -1.5351979025198073,
          -0.8057809769713714,
          0.6833694199645926,
          0.5388580292449436,
          -0.11306345005345213,
          -0.0832325570929657,
          1.0000639539599987,
          -0.2937640023000087,
          0.4564399782737193
         ],
         "xaxis": "x12",
         "y": [
          -0.040721755590267625,
          0.4845141078568383,
          0.5552865204452764,
          0.9894307742262647,
          -2.0905541525014075,
          0.5307941490125307,
          -0.017570997133324374,
          -2.2627308003070796,
          -0.1374052764526477,
          -0.8828442616004598,
          0.49694631927718247,
          0.9277362048260372,
          -1.6122633618108535,
          -0.24078759359434268,
          -0.7179782433046924,
          -1.2035624756547316,
          1.1705828461614898,
          -1.781460868686437,
          1.4602509670087895,
          0.9595348366810558,
          -0.4878818104702032,
          0.05668394756523284,
          0.25050102327780377,
          1.1256494378007131,
          -1.737428170361979,
          -1.941193704069804,
          -0.3495901857266525,
          -0.3670591970577454,
          0.23938375271249307,
          -1.871945296898776,
          0.03442507030246463,
          -0.9317620374287533,
          -0.15566872544649396,
          -0.910405984156538,
          0.13926839875980687,
          -0.1415354359893636,
          -0.36607615729278936,
          -1.7933891102681134,
          -0.9093873562543733,
          -0.38743230819428426,
          0.19200855279259407,
          0.6834369507348941,
          0.10709815058062394,
          1.1713809096279486,
          -2.251623623728285,
          -1.722464994585591,
          1.249237806539529,
          -0.033637926895588595,
          -0.07834586686128041,
          -1.1503478012738484,
          0.4502187187758,
          -0.13018697405443186,
          -0.9799098291087905,
          -0.8031150350232693,
          2.1354275216358594,
          0.026737097406338943,
          0.6661586297256185,
          -2.5238276959178876,
          0.10873699221215909,
          1.7110852575489799,
          -0.13830138999521324,
          1.4324385555449606,
          0.9456261856347842,
          1.998793269243896,
          0.6055018707891223,
          0.5121343441097476,
          0.5697006829514698,
          -0.405202704358376,
          -1.3871725574937979,
          1.20188846104042,
          -0.12384142363187112,
          0.027535394475638332,
          -0.6589856088323701,
          -1.0376982233410539,
          0.800481905525968,
          -0.13716365692928184,
          2.0326240292311106,
          0.2398312754412681,
          0.762097334950555,
          1.9906582255488978,
          -0.11104118046803331,
          -2.354491237143944,
          2.43428933342693,
          0.4284846800935323,
          0.13641677019091114,
          1.5000310075196113,
          -0.813017243679552,
          -0.41384018368479075,
          0.08833905550302587,
          -0.9494763494057143,
          -0.9013313316938716,
          0.5968161745025338,
          -0.039600246063192984,
          0.42546249578022644,
          -0.4602347022596428,
          0.5943026124417444,
          -0.11024284676490688,
          2.0503169539927213,
          -1.0543468988419165,
          -0.42533381032547174
         ],
         "yaxis": "y12"
        },
        {
         "line": {
          "color": "rgba(128, 128, 128, 1.0)",
          "dash": "solid",
          "shape": "linear",
          "width": 1.3
         },
         "marker": {
          "size": 2,
          "symbol": "circle"
         },
         "mode": "markers",
         "name": "D",
         "text": "",
         "type": "scatter",
         "x": [
          -0.08246222777140658,
          0.7173230319183161,
          -1.4831462800247348,
          0.6007188011403605,
          1.289075599445904,
          0.4686184185783867,
          0.9861225102722071,
          -0.46912667007143066,
          1.7361292929950078,
          0.04365889119250256,
          1.2341316458674847,
          0.821179261753058,
          0.510361491783725,
          -0.16508037667801448,
          0.7577534273104339,
          -0.8667901941733359,
          1.3594944902287593,
          -1.1685993739916176,
          1.1105441176779236,
          2.179116305512871,
          -1.0669303473380523,
          -0.4865054709776041,
          2.123010480961304,
          1.122915995141616,
          0.8927499392112277,
          -0.10340193631007873,
          0.40433819829483225,
          1.2572964981158954,
          0.11700900125746119,
          -0.7026845863976289,
          0.44657856814521074,
          -1.1023149498936338,
          -0.14181716320340942,
          -2.203822075626207,
          2.1060253516626544,
          0.16448217726557168,
          -0.6887885110479985,
          -1.5297766193899487,
          0.7306152486007272,
          0.5582213127690169,
          0.7805847071266674,
          -0.4138262329473763,
          0.43877421762173396,
          -0.17113281260598195,
          -0.7723643087741576,
          -0.44972702786652147,
          -0.295278673235866,
          0.17472053263719536,
          -0.07084006961141828,
          0.5598408246345813,
          -0.26184496480996333,
          0.15783441901398237,
          0.31583156191644834,
          0.45716192750797735,
          -1.0532192491323207,
          -0.1131779568506202,
          2.5616936250228277,
          0.19009419833845465,
          -0.5984275457623431,
          0.4745933715997644,
          0.6960874097842701,
          0.626694260308462,
          1.4892579489991618,
          -0.05117752075617346,
          0.4250907181303993,
          0.9739273103422872,
          0.6362806675655954,
          -1.0162423232433264,
          0.9066631371828433,
          -1.679535026651661,
          0.9869659281108462,
          1.3453703943728241,
          0.343490665154001,
          -0.2853841697384442,
          1.6779939042723648,
          -1.4846430813013987,
          1.5382370758376722,
          -0.9330596295665243,
          -1.9920517428997413,
          -0.9116729322213409,
          2.049708236088764,
          0.35325947359296905,
          -1.035379152347821,
          -0.13083975048816482,
          0.691709526438699,
          0.5417778168132682,
          -0.804558538375137,
          -0.08890127612875974,
          0.07238988424715156,
          -1.4480553614844163,
          1.6305803770755345,
          0.23771832739327292,
          -0.24686337911028947,
          0.5418021381378408,
          -0.29289376146775437,
          0.5140535966322717,
          -1.0431412319656117,
          0.9133882773462815,
          1.0012785109207942,
          -0.49528847444847685
         ],
         "xaxis": "x13",
         "y": [
          -1.3822368504999412,
          1.1868921380110964,
          3.074761922057887,
          0.6540470561513829,
          -1.791791593655064,
          0.560742603250269,
          -1.4192752050961865,
          -0.07356911786947963,
          0.8560868506281443,
          0.40268234637334405,
          0.2579031984268933,
          -1.1014982965828208,
          0.4997557701926453,
          0.41841755514124523,
          -0.19761611341064317,
          0.46471581313170546,
          0.34097916455729455,
          -1.1173191126252282,
          1.441133067744915,
          0.4660328484069177,
          0.35593492154998285,
          0.610117909111755,
          1.0268496129800764,
          -2.9227928066592384,
          -0.5967255509752472,
          1.0342804210809968,
          -0.4369280226100989,
          -1.2991911538445367,
          -1.1876670300330503,
          -0.1835734359135624,
          0.3258136874027073,
          0.7111705737861701,
          1.0081355334655215,
          -1.091077015455357,
          -0.9084221800041059,
          -0.39580505017480055,
          0.9669185555538452,
          -0.8834410349699046,
          2.58778499239981,
          -2.4851983097159387,
          -2.08849700135936,
          1.5950602841576778,
          -2.320627232160421,
          0.630804084149663,
          -1.3019168885464065,
          1.3570017649169208,
          0.11129458404963655,
          1.5658311472324207,
          -0.8574692603698083,
          -0.2643829163575508,
          0.8103650456969996,
          -0.9868405385838823,
          1.6215543514643018,
          0.014887673144812354,
          -1.9679798218578608,
          -1.0776880417529018,
          -0.9319694113611366,
          -0.6172828302871782,
          0.8073887199728892,
          0.7617046149941203,
          0.7529700251474125,
          -1.75765858663306,
          -0.642874697054324,
          1.201995473158109,
          -0.5776229530465018,
          -1.9176814261321877,
          0.7956223680538879,
          -0.41222793316853795,
          -0.3352847562532673,
          1.187230576748085,
          0.5431470299260086,
          1.0559384588551326,
          -1.5345436818328146,
          1.2408082317346376,
          -0.7559510230912563,
          -0.7854321827995201,
          -2.4466752084523407,
          0.7414199574973891,
          0.5570636845652269,
          -0.3859514970677254,
          -0.7904716621009474,
          1.9900732220256936,
          1.215862391756408,
          0.5575457528024911,
          -0.37361692195887153,
          -0.41199029195145637,
          0.5460412202751002,
          -0.9316380331023384,
          -1.48471169031649,
          1.6334663040131474,
          1.0759191036963602,
          -1.5351979025198073,
          -0.8057809769713714,
          0.6833694199645926,
          0.5388580292449436,
          -0.11306345005345213,
          -0.0832325570929657,
          1.0000639539599987,
          -0.2937640023000087,
          0.4564399782737193
         ],
         "yaxis": "y13"
        },
        {
         "line": {
          "color": "rgba(128, 128, 128, 1.0)",
          "dash": "solid",
          "shape": "linear",
          "width": 1.3
         },
         "marker": {
          "size": 2,
          "symbol": "circle"
         },
         "mode": "markers",
         "name": "D",
         "text": "",
         "type": "scatter",
         "x": [
          1.1111034473072832,
          -0.1448844431557348,
          1.1571344678825692,
          -0.10626240679408508,
          1.385864733511222,
          0.7149762195031321,
          -1.0573758968740425,
          1.0574539487727026,
          -2.222754474072913,
          2.4284696770821985,
          1.0720742151354865,
          -0.5569630085600444,
          1.1459078255247408,
          0.5671801108564223,
          0.33437965352964705,
          1.6800543056523491,
          0.8130184539498939,
          0.3923791895424591,
          -0.1478109051442373,
          -0.27264250534607903,
          -2.3603070752410926,
          -0.09465056399925209,
          -0.16768695429951153,
          0.6005046467753621,
          -1.4606720388756242,
          0.020805750462041604,
          1.2075459416868073,
          -0.6242906813930785,
          -0.7358803768729599,
          0.9017616150351392,
          -0.3991437537388995,
          -0.32776950291835794,
          -0.22438021907887182,
          0.6232918558085496,
          1.6581071653903812,
          0.221658524428475,
          0.5054802729992948,
          0.3924249214397845,
          -0.3834916104630957,
          0.8210281067635286,
          -0.6795537047745717,
          0.689084330009526,
          -0.3509889870700068,
          -0.13067820982899972,
          1.0079417817210266,
          1.5822871581780307,
          0.03648810084486005,
          -0.20144946009057205,
          -0.46530592982664754,
          0.9674486407095345,
          -0.6335301718013872,
          -1.3456873791964161,
          1.1446356475185844,
          -0.2728030861444642,
          -1.1462958571876427,
          0.25835325051020475,
          -1.7296771839161211,
          1.4594852118097237,
          0.1915054550087883,
          -1.356662720698125,
          0.2542237467222372,
          -0.09915143340273849,
          0.03812311596193516,
          0.5187740918912463,
          1.9633476519853126,
          1.2259258782036178,
          0.18579717883455807,
          -1.030735908284299,
          -0.7834159013284216,
          0.5652342883426867,
          -1.1402671924265346,
          0.0638021052533395,
          0.536016427642085,
          0.07407370527854598,
          0.3807947892202538,
          0.3204141169258202,
          -0.4004880397199586,
          0.0520054083184649,
          0.8087043708456557,
          -0.8048160281300628,
          0.442047115569308,
          -0.0437189083464173,
          -0.02075425165300876,
          1.2997816110422071,
          -2.059560329775203,
          -1.6002365963146876,
          -1.004666964491864,
          -1.0399111841009054,
          -0.6201334882012222,
          -1.1035481454325704,
          1.0076635158357001,
          -0.27211120070119027,
          1.3233615878152796,
          0.49207215645485736,
          -0.6231562460016906,
          -2.157366560133454,
          0.31259998818320933,
          1.316311665618152,
          -0.1643111499978162,
          0.47819803208043254
         ],
         "xaxis": "x14",
         "y": [
          -1.3822368504999412,
          1.1868921380110964,
          3.074761922057887,
          0.6540470561513829,
          -1.791791593655064,
          0.560742603250269,
          -1.4192752050961865,
          -0.07356911786947963,
          0.8560868506281443,
          0.40268234637334405,
          0.2579031984268933,
          -1.1014982965828208,
          0.4997557701926453,
          0.41841755514124523,
          -0.19761611341064317,
          0.46471581313170546,
          0.34097916455729455,
          -1.1173191126252282,
          1.441133067744915,
          0.4660328484069177,
          0.35593492154998285,
          0.610117909111755,
          1.0268496129800764,
          -2.9227928066592384,
          -0.5967255509752472,
          1.0342804210809968,
          -0.4369280226100989,
          -1.2991911538445367,
          -1.1876670300330503,
          -0.1835734359135624,
          0.3258136874027073,
          0.7111705737861701,
          1.0081355334655215,
          -1.091077015455357,
          -0.9084221800041059,
          -0.39580505017480055,
          0.9669185555538452,
          -0.8834410349699046,
          2.58778499239981,
          -2.4851983097159387,
          -2.08849700135936,
          1.5950602841576778,
          -2.320627232160421,
          0.630804084149663,
          -1.3019168885464065,
          1.3570017649169208,
          0.11129458404963655,
          1.5658311472324207,
          -0.8574692603698083,
          -0.2643829163575508,
          0.8103650456969996,
          -0.9868405385838823,
          1.6215543514643018,
          0.014887673144812354,
          -1.9679798218578608,
          -1.0776880417529018,
          -0.9319694113611366,
          -0.6172828302871782,
          0.8073887199728892,
          0.7617046149941203,
          0.7529700251474125,
          -1.75765858663306,
          -0.642874697054324,
          1.201995473158109,
          -0.5776229530465018,
          -1.9176814261321877,
          0.7956223680538879,
          -0.41222793316853795,
          -0.3352847562532673,
          1.187230576748085,
          0.5431470299260086,
          1.0559384588551326,
          -1.5345436818328146,
          1.2408082317346376,
          -0.7559510230912563,
          -0.7854321827995201,
          -2.4466752084523407,
          0.7414199574973891,
          0.5570636845652269,
          -0.3859514970677254,
          -0.7904716621009474,
          1.9900732220256936,
          1.215862391756408,
          0.5575457528024911,
          -0.37361692195887153,
          -0.41199029195145637,
          0.5460412202751002,
          -0.9316380331023384,
          -1.48471169031649,
          1.6334663040131474,
          1.0759191036963602,
          -1.5351979025198073,
          -0.8057809769713714,
          0.6833694199645926,
          0.5388580292449436,
          -0.11306345005345213,
          -0.0832325570929657,
          1.0000639539599987,
          -0.2937640023000087,
          0.4564399782737193
         ],
         "yaxis": "y14"
        },
        {
         "line": {
          "color": "rgba(128, 128, 128, 1.0)",
          "dash": "solid",
          "shape": "linear",
          "width": 1.3
         },
         "marker": {
          "size": 2,
          "symbol": "circle"
         },
         "mode": "markers",
         "name": "D",
         "text": "",
         "type": "scatter",
         "x": [
          -0.040721755590267625,
          0.4845141078568383,
          0.5552865204452764,
          0.9894307742262647,
          -2.0905541525014075,
          0.5307941490125307,
          -0.017570997133324374,
          -2.2627308003070796,
          -0.1374052764526477,
          -0.8828442616004598,
          0.49694631927718247,
          0.9277362048260372,
          -1.6122633618108535,
          -0.24078759359434268,
          -0.7179782433046924,
          -1.2035624756547316,
          1.1705828461614898,
          -1.781460868686437,
          1.4602509670087895,
          0.9595348366810558,
          -0.4878818104702032,
          0.05668394756523284,
          0.25050102327780377,
          1.1256494378007131,
          -1.737428170361979,
          -1.941193704069804,
          -0.3495901857266525,
          -0.3670591970577454,
          0.23938375271249307,
          -1.871945296898776,
          0.03442507030246463,
          -0.9317620374287533,
          -0.15566872544649396,
          -0.910405984156538,
          0.13926839875980687,
          -0.1415354359893636,
          -0.36607615729278936,
          -1.7933891102681134,
          -0.9093873562543733,
          -0.38743230819428426,
          0.19200855279259407,
          0.6834369507348941,
          0.10709815058062394,
          1.1713809096279486,
          -2.251623623728285,
          -1.722464994585591,
          1.249237806539529,
          -0.033637926895588595,
          -0.07834586686128041,
          -1.1503478012738484,
          0.4502187187758,
          -0.13018697405443186,
          -0.9799098291087905,
          -0.8031150350232693,
          2.1354275216358594,
          0.026737097406338943,
          0.6661586297256185,
          -2.5238276959178876,
          0.10873699221215909,
          1.7110852575489799,
          -0.13830138999521324,
          1.4324385555449606,
          0.9456261856347842,
          1.998793269243896,
          0.6055018707891223,
          0.5121343441097476,
          0.5697006829514698,
          -0.405202704358376,
          -1.3871725574937979,
          1.20188846104042,
          -0.12384142363187112,
          0.027535394475638332,
          -0.6589856088323701,
          -1.0376982233410539,
          0.800481905525968,
          -0.13716365692928184,
          2.0326240292311106,
          0.2398312754412681,
          0.762097334950555,
          1.9906582255488978,
          -0.11104118046803331,
          -2.354491237143944,
          2.43428933342693,
          0.4284846800935323,
          0.13641677019091114,
          1.5000310075196113,
          -0.813017243679552,
          -0.41384018368479075,
          0.08833905550302587,
          -0.9494763494057143,
          -0.9013313316938716,
          0.5968161745025338,
          -0.039600246063192984,
          0.42546249578022644,
          -0.4602347022596428,
          0.5943026124417444,
          -0.11024284676490688,
          2.0503169539927213,
          -1.0543468988419165,
          -0.42533381032547174
         ],
         "xaxis": "x15",
         "y": [
          -1.3822368504999412,
          1.1868921380110964,
          3.074761922057887,
          0.6540470561513829,
          -1.791791593655064,
          0.560742603250269,
          -1.4192752050961865,
          -0.07356911786947963,
          0.8560868506281443,
          0.40268234637334405,
          0.2579031984268933,
          -1.1014982965828208,
          0.4997557701926453,
          0.41841755514124523,
          -0.19761611341064317,
          0.46471581313170546,
          0.34097916455729455,
          -1.1173191126252282,
          1.441133067744915,
          0.4660328484069177,
          0.35593492154998285,
          0.610117909111755,
          1.0268496129800764,
          -2.9227928066592384,
          -0.5967255509752472,
          1.0342804210809968,
          -0.4369280226100989,
          -1.2991911538445367,
          -1.1876670300330503,
          -0.1835734359135624,
          0.3258136874027073,
          0.7111705737861701,
          1.0081355334655215,
          -1.091077015455357,
          -0.9084221800041059,
          -0.39580505017480055,
          0.9669185555538452,
          -0.8834410349699046,
          2.58778499239981,
          -2.4851983097159387,
          -2.08849700135936,
          1.5950602841576778,
          -2.320627232160421,
          0.630804084149663,
          -1.3019168885464065,
          1.3570017649169208,
          0.11129458404963655,
          1.5658311472324207,
          -0.8574692603698083,
          -0.2643829163575508,
          0.8103650456969996,
          -0.9868405385838823,
          1.6215543514643018,
          0.014887673144812354,
          -1.9679798218578608,
          -1.0776880417529018,
          -0.9319694113611366,
          -0.6172828302871782,
          0.8073887199728892,
          0.7617046149941203,
          0.7529700251474125,
          -1.75765858663306,
          -0.642874697054324,
          1.201995473158109,
          -0.5776229530465018,
          -1.9176814261321877,
          0.7956223680538879,
          -0.41222793316853795,
          -0.3352847562532673,
          1.187230576748085,
          0.5431470299260086,
          1.0559384588551326,
          -1.5345436818328146,
          1.2408082317346376,
          -0.7559510230912563,
          -0.7854321827995201,
          -2.4466752084523407,
          0.7414199574973891,
          0.5570636845652269,
          -0.3859514970677254,
          -0.7904716621009474,
          1.9900732220256936,
          1.215862391756408,
          0.5575457528024911,
          -0.37361692195887153,
          -0.41199029195145637,
          0.5460412202751002,
          -0.9316380331023384,
          -1.48471169031649,
          1.6334663040131474,
          1.0759191036963602,
          -1.5351979025198073,
          -0.8057809769713714,
          0.6833694199645926,
          0.5388580292449436,
          -0.11306345005345213,
          -0.0832325570929657,
          1.0000639539599987,
          -0.2937640023000087,
          0.4564399782737193
         ],
         "yaxis": "y15"
        },
        {
         "histfunc": "count",
         "histnorm": "",
         "marker": {
          "color": "rgba(128, 0, 128, 1.0)",
          "line": {
           "color": "#4D5663",
           "width": 1.3
          }
         },
         "name": "D",
         "nbinsx": 10,
         "opacity": 0.8,
         "orientation": "v",
         "type": "histogram",
         "x": [
          -1.3822368504999412,
          1.1868921380110964,
          3.074761922057887,
          0.6540470561513829,
          -1.791791593655064,
          0.560742603250269,
          -1.4192752050961865,
          -0.07356911786947963,
          0.8560868506281443,
          0.40268234637334405,
          0.2579031984268933,
          -1.1014982965828208,
          0.4997557701926453,
          0.41841755514124523,
          -0.19761611341064317,
          0.46471581313170546,
          0.34097916455729455,
          -1.1173191126252282,
          1.441133067744915,
          0.4660328484069177,
          0.35593492154998285,
          0.610117909111755,
          1.0268496129800764,
          -2.9227928066592384,
          -0.5967255509752472,
          1.0342804210809968,
          -0.4369280226100989,
          -1.2991911538445367,
          -1.1876670300330503,
          -0.1835734359135624,
          0.3258136874027073,
          0.7111705737861701,
          1.0081355334655215,
          -1.091077015455357,
          -0.9084221800041059,
          -0.39580505017480055,
          0.9669185555538452,
          -0.8834410349699046,
          2.58778499239981,
          -2.4851983097159387,
          -2.08849700135936,
          1.5950602841576778,
          -2.320627232160421,
          0.630804084149663,
          -1.3019168885464065,
          1.3570017649169208,
          0.11129458404963655,
          1.5658311472324207,
          -0.8574692603698083,
          -0.2643829163575508,
          0.8103650456969996,
          -0.9868405385838823,
          1.6215543514643018,
          0.014887673144812354,
          -1.9679798218578608,
          -1.0776880417529018,
          -0.9319694113611366,
          -0.6172828302871782,
          0.8073887199728892,
          0.7617046149941203,
          0.7529700251474125,
          -1.75765858663306,
          -0.642874697054324,
          1.201995473158109,
          -0.5776229530465018,
          -1.9176814261321877,
          0.7956223680538879,
          -0.41222793316853795,
          -0.3352847562532673,
          1.187230576748085,
          0.5431470299260086,
          1.0559384588551326,
          -1.5345436818328146,
          1.2408082317346376,
          -0.7559510230912563,
          -0.7854321827995201,
          -2.4466752084523407,
          0.7414199574973891,
          0.5570636845652269,
          -0.3859514970677254,
          -0.7904716621009474,
          1.9900732220256936,
          1.215862391756408,
          0.5575457528024911,
          -0.37361692195887153,
          -0.41199029195145637,
          0.5460412202751002,
          -0.9316380331023384,
          -1.48471169031649,
          1.6334663040131474,
          1.0759191036963602,
          -1.5351979025198073,
          -0.8057809769713714,
          0.6833694199645926,
          0.5388580292449436,
          -0.11306345005345213,
          -0.0832325570929657,
          1.0000639539599987,
          -0.2937640023000087,
          0.4564399782737193
         ],
         "xaxis": "x16",
         "yaxis": "y16"
        }
       ],
       "layout": {
        "bargap": 0.02,
        "legend": {
         "bgcolor": "#F5F6F9",
         "font": {
          "color": "#4D5663"
         }
        },
        "paper_bgcolor": "#F5F6F9",
        "plot_bgcolor": "#F5F6F9",
        "showlegend": false,
        "template": {
         "data": {
          "bar": [
           {
            "error_x": {
             "color": "#2a3f5f"
            },
            "error_y": {
             "color": "#2a3f5f"
            },
            "marker": {
             "line": {
              "color": "#E5ECF6",
              "width": 0.5
             }
            },
            "type": "bar"
           }
          ],
          "barpolar": [
           {
            "marker": {
             "line": {
              "color": "#E5ECF6",
              "width": 0.5
             }
            },
            "type": "barpolar"
           }
          ],
          "carpet": [
           {
            "aaxis": {
             "endlinecolor": "#2a3f5f",
             "gridcolor": "white",
             "linecolor": "white",
             "minorgridcolor": "white",
             "startlinecolor": "#2a3f5f"
            },
            "baxis": {
             "endlinecolor": "#2a3f5f",
             "gridcolor": "white",
             "linecolor": "white",
             "minorgridcolor": "white",
             "startlinecolor": "#2a3f5f"
            },
            "type": "carpet"
           }
          ],
          "choropleth": [
           {
            "colorbar": {
             "outlinewidth": 0,
             "ticks": ""
            },
            "type": "choropleth"
           }
          ],
          "contour": [
           {
            "colorbar": {
             "outlinewidth": 0,
             "ticks": ""
            },
            "colorscale": [
             [
              0,
              "#0d0887"
             ],
             [
              0.1111111111111111,
              "#46039f"
             ],
             [
              0.2222222222222222,
              "#7201a8"
             ],
             [
              0.3333333333333333,
              "#9c179e"
             ],
             [
              0.4444444444444444,
              "#bd3786"
             ],
             [
              0.5555555555555556,
              "#d8576b"
             ],
             [
              0.6666666666666666,
              "#ed7953"
             ],
             [
              0.7777777777777778,
              "#fb9f3a"
             ],
             [
              0.8888888888888888,
              "#fdca26"
             ],
             [
              1,
              "#f0f921"
             ]
            ],
            "type": "contour"
           }
          ],
          "contourcarpet": [
           {
            "colorbar": {
             "outlinewidth": 0,
             "ticks": ""
            },
            "type": "contourcarpet"
           }
          ],
          "heatmap": [
           {
            "colorbar": {
             "outlinewidth": 0,
             "ticks": ""
            },
            "colorscale": [
             [
              0,
              "#0d0887"
             ],
             [
              0.1111111111111111,
              "#46039f"
             ],
             [
              0.2222222222222222,
              "#7201a8"
             ],
             [
              0.3333333333333333,
              "#9c179e"
             ],
             [
              0.4444444444444444,
              "#bd3786"
             ],
             [
              0.5555555555555556,
              "#d8576b"
             ],
             [
              0.6666666666666666,
              "#ed7953"
             ],
             [
              0.7777777777777778,
              "#fb9f3a"
             ],
             [
              0.8888888888888888,
              "#fdca26"
             ],
             [
              1,
              "#f0f921"
             ]
            ],
            "type": "heatmap"
           }
          ],
          "heatmapgl": [
           {
            "colorbar": {
             "outlinewidth": 0,
             "ticks": ""
            },
            "colorscale": [
             [
              0,
              "#0d0887"
             ],
             [
              0.1111111111111111,
              "#46039f"
             ],
             [
              0.2222222222222222,
              "#7201a8"
             ],
             [
              0.3333333333333333,
              "#9c179e"
             ],
             [
              0.4444444444444444,
              "#bd3786"
             ],
             [
              0.5555555555555556,
              "#d8576b"
             ],
             [
              0.6666666666666666,
              "#ed7953"
             ],
             [
              0.7777777777777778,
              "#fb9f3a"
             ],
             [
              0.8888888888888888,
              "#fdca26"
             ],
             [
              1,
              "#f0f921"
             ]
            ],
            "type": "heatmapgl"
           }
          ],
          "histogram": [
           {
            "marker": {
             "colorbar": {
              "outlinewidth": 0,
              "ticks": ""
             }
            },
            "type": "histogram"
           }
          ],
          "histogram2d": [
           {
            "colorbar": {
             "outlinewidth": 0,
             "ticks": ""
            },
            "colorscale": [
             [
              0,
              "#0d0887"
             ],
             [
              0.1111111111111111,
              "#46039f"
             ],
             [
              0.2222222222222222,
              "#7201a8"
             ],
             [
              0.3333333333333333,
              "#9c179e"
             ],
             [
              0.4444444444444444,
              "#bd3786"
             ],
             [
              0.5555555555555556,
              "#d8576b"
             ],
             [
              0.6666666666666666,
              "#ed7953"
             ],
             [
              0.7777777777777778,
              "#fb9f3a"
             ],
             [
              0.8888888888888888,
              "#fdca26"
             ],
             [
              1,
              "#f0f921"
             ]
            ],
            "type": "histogram2d"
           }
          ],
          "histogram2dcontour": [
           {
            "colorbar": {
             "outlinewidth": 0,
             "ticks": ""
            },
            "colorscale": [
             [
              0,
              "#0d0887"
             ],
             [
              0.1111111111111111,
              "#46039f"
             ],
             [
              0.2222222222222222,
              "#7201a8"
             ],
             [
              0.3333333333333333,
              "#9c179e"
             ],
             [
              0.4444444444444444,
              "#bd3786"
             ],
             [
              0.5555555555555556,
              "#d8576b"
             ],
             [
              0.6666666666666666,
              "#ed7953"
             ],
             [
              0.7777777777777778,
              "#fb9f3a"
             ],
             [
              0.8888888888888888,
              "#fdca26"
             ],
             [
              1,
              "#f0f921"
             ]
            ],
            "type": "histogram2dcontour"
           }
          ],
          "mesh3d": [
           {
            "colorbar": {
             "outlinewidth": 0,
             "ticks": ""
            },
            "type": "mesh3d"
           }
          ],
          "parcoords": [
           {
            "line": {
             "colorbar": {
              "outlinewidth": 0,
              "ticks": ""
             }
            },
            "type": "parcoords"
           }
          ],
          "pie": [
           {
            "automargin": true,
            "type": "pie"
           }
          ],
          "scatter": [
           {
            "marker": {
             "colorbar": {
              "outlinewidth": 0,
              "ticks": ""
             }
            },
            "type": "scatter"
           }
          ],
          "scatter3d": [
           {
            "line": {
             "colorbar": {
              "outlinewidth": 0,
              "ticks": ""
             }
            },
            "marker": {
             "colorbar": {
              "outlinewidth": 0,
              "ticks": ""
             }
            },
            "type": "scatter3d"
           }
          ],
          "scattercarpet": [
           {
            "marker": {
             "colorbar": {
              "outlinewidth": 0,
              "ticks": ""
             }
            },
            "type": "scattercarpet"
           }
          ],
          "scattergeo": [
           {
            "marker": {
             "colorbar": {
              "outlinewidth": 0,
              "ticks": ""
             }
            },
            "type": "scattergeo"
           }
          ],
          "scattergl": [
           {
            "marker": {
             "colorbar": {
              "outlinewidth": 0,
              "ticks": ""
             }
            },
            "type": "scattergl"
           }
          ],
          "scattermapbox": [
           {
            "marker": {
             "colorbar": {
              "outlinewidth": 0,
              "ticks": ""
             }
            },
            "type": "scattermapbox"
           }
          ],
          "scatterpolar": [
           {
            "marker": {
             "colorbar": {
              "outlinewidth": 0,
              "ticks": ""
             }
            },
            "type": "scatterpolar"
           }
          ],
          "scatterpolargl": [
           {
            "marker": {
             "colorbar": {
              "outlinewidth": 0,
              "ticks": ""
             }
            },
            "type": "scatterpolargl"
           }
          ],
          "scatterternary": [
           {
            "marker": {
             "colorbar": {
              "outlinewidth": 0,
              "ticks": ""
             }
            },
            "type": "scatterternary"
           }
          ],
          "surface": [
           {
            "colorbar": {
             "outlinewidth": 0,
             "ticks": ""
            },
            "colorscale": [
             [
              0,
              "#0d0887"
             ],
             [
              0.1111111111111111,
              "#46039f"
             ],
             [
              0.2222222222222222,
              "#7201a8"
             ],
             [
              0.3333333333333333,
              "#9c179e"
             ],
             [
              0.4444444444444444,
              "#bd3786"
             ],
             [
              0.5555555555555556,
              "#d8576b"
             ],
             [
              0.6666666666666666,
              "#ed7953"
             ],
             [
              0.7777777777777778,
              "#fb9f3a"
             ],
             [
              0.8888888888888888,
              "#fdca26"
             ],
             [
              1,
              "#f0f921"
             ]
            ],
            "type": "surface"
           }
          ],
          "table": [
           {
            "cells": {
             "fill": {
              "color": "#EBF0F8"
             },
             "line": {
              "color": "white"
             }
            },
            "header": {
             "fill": {
              "color": "#C8D4E3"
             },
             "line": {
              "color": "white"
             }
            },
            "type": "table"
           }
          ]
         },
         "layout": {
          "annotationdefaults": {
           "arrowcolor": "#2a3f5f",
           "arrowhead": 0,
           "arrowwidth": 1
          },
          "autotypenumbers": "strict",
          "coloraxis": {
           "colorbar": {
            "outlinewidth": 0,
            "ticks": ""
           }
          },
          "colorscale": {
           "diverging": [
            [
             0,
             "#8e0152"
            ],
            [
             0.1,
             "#c51b7d"
            ],
            [
             0.2,
             "#de77ae"
            ],
            [
             0.3,
             "#f1b6da"
            ],
            [
             0.4,
             "#fde0ef"
            ],
            [
             0.5,
             "#f7f7f7"
            ],
            [
             0.6,
             "#e6f5d0"
            ],
            [
             0.7,
             "#b8e186"
            ],
            [
             0.8,
             "#7fbc41"
            ],
            [
             0.9,
             "#4d9221"
            ],
            [
             1,
             "#276419"
            ]
           ],
           "sequential": [
            [
             0,
             "#0d0887"
            ],
            [
             0.1111111111111111,
             "#46039f"
            ],
            [
             0.2222222222222222,
             "#7201a8"
            ],
            [
             0.3333333333333333,
             "#9c179e"
            ],
            [
             0.4444444444444444,
             "#bd3786"
            ],
            [
             0.5555555555555556,
             "#d8576b"
            ],
            [
             0.6666666666666666,
             "#ed7953"
            ],
            [
             0.7777777777777778,
             "#fb9f3a"
            ],
            [
             0.8888888888888888,
             "#fdca26"
            ],
            [
             1,
             "#f0f921"
            ]
           ],
           "sequentialminus": [
            [
             0,
             "#0d0887"
            ],
            [
             0.1111111111111111,
             "#46039f"
            ],
            [
             0.2222222222222222,
             "#7201a8"
            ],
            [
             0.3333333333333333,
             "#9c179e"
            ],
            [
             0.4444444444444444,
             "#bd3786"
            ],
            [
             0.5555555555555556,
             "#d8576b"
            ],
            [
             0.6666666666666666,
             "#ed7953"
            ],
            [
             0.7777777777777778,
             "#fb9f3a"
            ],
            [
             0.8888888888888888,
             "#fdca26"
            ],
            [
             1,
             "#f0f921"
            ]
           ]
          },
          "colorway": [
           "#636efa",
           "#EF553B",
           "#00cc96",
           "#ab63fa",
           "#FFA15A",
           "#19d3f3",
           "#FF6692",
           "#B6E880",
           "#FF97FF",
           "#FECB52"
          ],
          "font": {
           "color": "#2a3f5f"
          },
          "geo": {
           "bgcolor": "white",
           "lakecolor": "white",
           "landcolor": "#E5ECF6",
           "showlakes": true,
           "showland": true,
           "subunitcolor": "white"
          },
          "hoverlabel": {
           "align": "left"
          },
          "hovermode": "closest",
          "mapbox": {
           "style": "light"
          },
          "paper_bgcolor": "white",
          "plot_bgcolor": "#E5ECF6",
          "polar": {
           "angularaxis": {
            "gridcolor": "white",
            "linecolor": "white",
            "ticks": ""
           },
           "bgcolor": "#E5ECF6",
           "radialaxis": {
            "gridcolor": "white",
            "linecolor": "white",
            "ticks": ""
           }
          },
          "scene": {
           "xaxis": {
            "backgroundcolor": "#E5ECF6",
            "gridcolor": "white",
            "gridwidth": 2,
            "linecolor": "white",
            "showbackground": true,
            "ticks": "",
            "zerolinecolor": "white"
           },
           "yaxis": {
            "backgroundcolor": "#E5ECF6",
            "gridcolor": "white",
            "gridwidth": 2,
            "linecolor": "white",
            "showbackground": true,
            "ticks": "",
            "zerolinecolor": "white"
           },
           "zaxis": {
            "backgroundcolor": "#E5ECF6",
            "gridcolor": "white",
            "gridwidth": 2,
            "linecolor": "white",
            "showbackground": true,
            "ticks": "",
            "zerolinecolor": "white"
           }
          },
          "shapedefaults": {
           "line": {
            "color": "#2a3f5f"
           }
          },
          "ternary": {
           "aaxis": {
            "gridcolor": "white",
            "linecolor": "white",
            "ticks": ""
           },
           "baxis": {
            "gridcolor": "white",
            "linecolor": "white",
            "ticks": ""
           },
           "bgcolor": "#E5ECF6",
           "caxis": {
            "gridcolor": "white",
            "linecolor": "white",
            "ticks": ""
           }
          },
          "title": {
           "x": 0.05
          },
          "xaxis": {
           "automargin": true,
           "gridcolor": "white",
           "linecolor": "white",
           "ticks": "",
           "title": {
            "standoff": 15
           },
           "zerolinecolor": "white",
           "zerolinewidth": 2
          },
          "yaxis": {
           "automargin": true,
           "gridcolor": "white",
           "linecolor": "white",
           "ticks": "",
           "title": {
            "standoff": 15
           },
           "zerolinecolor": "white",
           "zerolinewidth": 2
          }
         }
        },
        "title": {
         "font": {
          "color": "#4D5663"
         }
        },
        "xaxis": {
         "anchor": "y",
         "domain": [
          0,
          0.2125
         ],
         "gridcolor": "#E1E5ED",
         "showgrid": false,
         "tickfont": {
          "color": "#4D5663"
         },
         "title": {
          "font": {
           "color": "#4D5663"
          },
          "text": ""
         },
         "zerolinecolor": "#E1E5ED"
        },
        "xaxis10": {
         "anchor": "y10",
         "domain": [
          0.2625,
          0.475
         ],
         "gridcolor": "#E1E5ED",
         "showgrid": false,
         "tickfont": {
          "color": "#4D5663"
         },
         "title": {
          "font": {
           "color": "#4D5663"
          },
          "text": ""
         },
         "zerolinecolor": "#E1E5ED"
        },
        "xaxis11": {
         "anchor": "y11",
         "domain": [
          0.525,
          0.7375
         ],
         "gridcolor": "#E1E5ED",
         "showgrid": false,
         "tickfont": {
          "color": "#4D5663"
         },
         "title": {
          "font": {
           "color": "#4D5663"
          },
          "text": ""
         },
         "zerolinecolor": "#E1E5ED"
        },
        "xaxis12": {
         "anchor": "y12",
         "domain": [
          0.7875,
          1
         ],
         "gridcolor": "#E1E5ED",
         "showgrid": false,
         "tickfont": {
          "color": "#4D5663"
         },
         "title": {
          "font": {
           "color": "#4D5663"
          },
          "text": ""
         },
         "zerolinecolor": "#E1E5ED"
        },
        "xaxis13": {
         "anchor": "y13",
         "domain": [
          0,
          0.2125
         ],
         "gridcolor": "#E1E5ED",
         "showgrid": false,
         "tickfont": {
          "color": "#4D5663"
         },
         "title": {
          "font": {
           "color": "#4D5663"
          },
          "text": ""
         },
         "zerolinecolor": "#E1E5ED"
        },
        "xaxis14": {
         "anchor": "y14",
         "domain": [
          0.2625,
          0.475
         ],
         "gridcolor": "#E1E5ED",
         "showgrid": false,
         "tickfont": {
          "color": "#4D5663"
         },
         "title": {
          "font": {
           "color": "#4D5663"
          },
          "text": ""
         },
         "zerolinecolor": "#E1E5ED"
        },
        "xaxis15": {
         "anchor": "y15",
         "domain": [
          0.525,
          0.7375
         ],
         "gridcolor": "#E1E5ED",
         "showgrid": false,
         "tickfont": {
          "color": "#4D5663"
         },
         "title": {
          "font": {
           "color": "#4D5663"
          },
          "text": ""
         },
         "zerolinecolor": "#E1E5ED"
        },
        "xaxis16": {
         "anchor": "y16",
         "domain": [
          0.7875,
          1
         ],
         "gridcolor": "#E1E5ED",
         "showgrid": false,
         "tickfont": {
          "color": "#4D5663"
         },
         "title": {
          "font": {
           "color": "#4D5663"
          },
          "text": ""
         },
         "zerolinecolor": "#E1E5ED"
        },
        "xaxis2": {
         "anchor": "y2",
         "domain": [
          0.2625,
          0.475
         ],
         "gridcolor": "#E1E5ED",
         "showgrid": false,
         "tickfont": {
          "color": "#4D5663"
         },
         "title": {
          "font": {
           "color": "#4D5663"
          },
          "text": ""
         },
         "zerolinecolor": "#E1E5ED"
        },
        "xaxis3": {
         "anchor": "y3",
         "domain": [
          0.525,
          0.7375
         ],
         "gridcolor": "#E1E5ED",
         "showgrid": false,
         "tickfont": {
          "color": "#4D5663"
         },
         "title": {
          "font": {
           "color": "#4D5663"
          },
          "text": ""
         },
         "zerolinecolor": "#E1E5ED"
        },
        "xaxis4": {
         "anchor": "y4",
         "domain": [
          0.7875,
          1
         ],
         "gridcolor": "#E1E5ED",
         "showgrid": false,
         "tickfont": {
          "color": "#4D5663"
         },
         "title": {
          "font": {
           "color": "#4D5663"
          },
          "text": ""
         },
         "zerolinecolor": "#E1E5ED"
        },
        "xaxis5": {
         "anchor": "y5",
         "domain": [
          0,
          0.2125
         ],
         "gridcolor": "#E1E5ED",
         "showgrid": false,
         "tickfont": {
          "color": "#4D5663"
         },
         "title": {
          "font": {
           "color": "#4D5663"
          },
          "text": ""
         },
         "zerolinecolor": "#E1E5ED"
        },
        "xaxis6": {
         "anchor": "y6",
         "domain": [
          0.2625,
          0.475
         ],
         "gridcolor": "#E1E5ED",
         "showgrid": false,
         "tickfont": {
          "color": "#4D5663"
         },
         "title": {
          "font": {
           "color": "#4D5663"
          },
          "text": ""
         },
         "zerolinecolor": "#E1E5ED"
        },
        "xaxis7": {
         "anchor": "y7",
         "domain": [
          0.525,
          0.7375
         ],
         "gridcolor": "#E1E5ED",
         "showgrid": false,
         "tickfont": {
          "color": "#4D5663"
         },
         "title": {
          "font": {
           "color": "#4D5663"
          },
          "text": ""
         },
         "zerolinecolor": "#E1E5ED"
        },
        "xaxis8": {
         "anchor": "y8",
         "domain": [
          0.7875,
          1
         ],
         "gridcolor": "#E1E5ED",
         "showgrid": false,
         "tickfont": {
          "color": "#4D5663"
         },
         "title": {
          "font": {
           "color": "#4D5663"
          },
          "text": ""
         },
         "zerolinecolor": "#E1E5ED"
        },
        "xaxis9": {
         "anchor": "y9",
         "domain": [
          0,
          0.2125
         ],
         "gridcolor": "#E1E5ED",
         "showgrid": false,
         "tickfont": {
          "color": "#4D5663"
         },
         "title": {
          "font": {
           "color": "#4D5663"
          },
          "text": ""
         },
         "zerolinecolor": "#E1E5ED"
        },
        "yaxis": {
         "anchor": "x",
         "domain": [
          0.8025,
          1
         ],
         "gridcolor": "#E1E5ED",
         "showgrid": false,
         "tickfont": {
          "color": "#4D5663"
         },
         "title": {
          "font": {
           "color": "#4D5663"
          },
          "text": ""
         },
         "zerolinecolor": "#E1E5ED"
        },
        "yaxis10": {
         "anchor": "x10",
         "domain": [
          0.2675,
          0.465
         ],
         "gridcolor": "#E1E5ED",
         "showgrid": false,
         "tickfont": {
          "color": "#4D5663"
         },
         "title": {
          "font": {
           "color": "#4D5663"
          },
          "text": ""
         },
         "zerolinecolor": "#E1E5ED"
        },
        "yaxis11": {
         "anchor": "x11",
         "domain": [
          0.2675,
          0.465
         ],
         "gridcolor": "#E1E5ED",
         "showgrid": false,
         "tickfont": {
          "color": "#4D5663"
         },
         "title": {
          "font": {
           "color": "#4D5663"
          },
          "text": ""
         },
         "zerolinecolor": "#E1E5ED"
        },
        "yaxis12": {
         "anchor": "x12",
         "domain": [
          0.2675,
          0.465
         ],
         "gridcolor": "#E1E5ED",
         "showgrid": false,
         "tickfont": {
          "color": "#4D5663"
         },
         "title": {
          "font": {
           "color": "#4D5663"
          },
          "text": ""
         },
         "zerolinecolor": "#E1E5ED"
        },
        "yaxis13": {
         "anchor": "x13",
         "domain": [
          0,
          0.1975
         ],
         "gridcolor": "#E1E5ED",
         "showgrid": false,
         "tickfont": {
          "color": "#4D5663"
         },
         "title": {
          "font": {
           "color": "#4D5663"
          },
          "text": ""
         },
         "zerolinecolor": "#E1E5ED"
        },
        "yaxis14": {
         "anchor": "x14",
         "domain": [
          0,
          0.1975
         ],
         "gridcolor": "#E1E5ED",
         "showgrid": false,
         "tickfont": {
          "color": "#4D5663"
         },
         "title": {
          "font": {
           "color": "#4D5663"
          },
          "text": ""
         },
         "zerolinecolor": "#E1E5ED"
        },
        "yaxis15": {
         "anchor": "x15",
         "domain": [
          0,
          0.1975
         ],
         "gridcolor": "#E1E5ED",
         "showgrid": false,
         "tickfont": {
          "color": "#4D5663"
         },
         "title": {
          "font": {
           "color": "#4D5663"
          },
          "text": ""
         },
         "zerolinecolor": "#E1E5ED"
        },
        "yaxis16": {
         "anchor": "x16",
         "domain": [
          0,
          0.1975
         ],
         "gridcolor": "#E1E5ED",
         "showgrid": false,
         "tickfont": {
          "color": "#4D5663"
         },
         "title": {
          "font": {
           "color": "#4D5663"
          },
          "text": ""
         },
         "zerolinecolor": "#E1E5ED"
        },
        "yaxis2": {
         "anchor": "x2",
         "domain": [
          0.8025,
          1
         ],
         "gridcolor": "#E1E5ED",
         "showgrid": false,
         "tickfont": {
          "color": "#4D5663"
         },
         "title": {
          "font": {
           "color": "#4D5663"
          },
          "text": ""
         },
         "zerolinecolor": "#E1E5ED"
        },
        "yaxis3": {
         "anchor": "x3",
         "domain": [
          0.8025,
          1
         ],
         "gridcolor": "#E1E5ED",
         "showgrid": false,
         "tickfont": {
          "color": "#4D5663"
         },
         "title": {
          "font": {
           "color": "#4D5663"
          },
          "text": ""
         },
         "zerolinecolor": "#E1E5ED"
        },
        "yaxis4": {
         "anchor": "x4",
         "domain": [
          0.8025,
          1
         ],
         "gridcolor": "#E1E5ED",
         "showgrid": false,
         "tickfont": {
          "color": "#4D5663"
         },
         "title": {
          "font": {
           "color": "#4D5663"
          },
          "text": ""
         },
         "zerolinecolor": "#E1E5ED"
        },
        "yaxis5": {
         "anchor": "x5",
         "domain": [
          0.535,
          0.7325
         ],
         "gridcolor": "#E1E5ED",
         "showgrid": false,
         "tickfont": {
          "color": "#4D5663"
         },
         "title": {
          "font": {
           "color": "#4D5663"
          },
          "text": ""
         },
         "zerolinecolor": "#E1E5ED"
        },
        "yaxis6": {
         "anchor": "x6",
         "domain": [
          0.535,
          0.7325
         ],
         "gridcolor": "#E1E5ED",
         "showgrid": false,
         "tickfont": {
          "color": "#4D5663"
         },
         "title": {
          "font": {
           "color": "#4D5663"
          },
          "text": ""
         },
         "zerolinecolor": "#E1E5ED"
        },
        "yaxis7": {
         "anchor": "x7",
         "domain": [
          0.535,
          0.7325
         ],
         "gridcolor": "#E1E5ED",
         "showgrid": false,
         "tickfont": {
          "color": "#4D5663"
         },
         "title": {
          "font": {
           "color": "#4D5663"
          },
          "text": ""
         },
         "zerolinecolor": "#E1E5ED"
        },
        "yaxis8": {
         "anchor": "x8",
         "domain": [
          0.535,
          0.7325
         ],
         "gridcolor": "#E1E5ED",
         "showgrid": false,
         "tickfont": {
          "color": "#4D5663"
         },
         "title": {
          "font": {
           "color": "#4D5663"
          },
          "text": ""
         },
         "zerolinecolor": "#E1E5ED"
        },
        "yaxis9": {
         "anchor": "x9",
         "domain": [
          0.2675,
          0.465
         ],
         "gridcolor": "#E1E5ED",
         "showgrid": false,
         "tickfont": {
          "color": "#4D5663"
         },
         "title": {
          "font": {
           "color": "#4D5663"
          },
          "text": ""
         },
         "zerolinecolor": "#E1E5ED"
        }
       }
      },
      "text/html": [
       "<div>                            <div id=\"4b9390b3-aaf4-4bee-9981-4818158c1e71\" class=\"plotly-graph-div\" style=\"height:525px; width:100%;\"></div>            <script type=\"text/javascript\">                require([\"plotly\"], function(Plotly) {                    window.PLOTLYENV=window.PLOTLYENV || {};\n",
       "                    window.PLOTLYENV.BASE_URL='https://plot.ly';                                    if (document.getElementById(\"4b9390b3-aaf4-4bee-9981-4818158c1e71\")) {                    Plotly.newPlot(                        \"4b9390b3-aaf4-4bee-9981-4818158c1e71\",                        [{\"histfunc\": \"count\", \"histnorm\": \"\", \"marker\": {\"color\": \"rgba(255, 153, 51, 1.0)\", \"line\": {\"color\": \"#4D5663\", \"width\": 1.3}}, \"name\": \"A\", \"nbinsx\": 10, \"opacity\": 0.8, \"orientation\": \"v\", \"type\": \"histogram\", \"x\": [-0.08246222777140658, 0.7173230319183161, -1.4831462800247348, 0.6007188011403605, 1.289075599445904, 0.4686184185783867, 0.9861225102722071, -0.46912667007143066, 1.7361292929950078, 0.04365889119250256, 1.2341316458674847, 0.821179261753058, 0.510361491783725, -0.16508037667801448, 0.7577534273104339, -0.8667901941733359, 1.3594944902287593, -1.1685993739916176, 1.1105441176779236, 2.179116305512871, -1.0669303473380523, -0.4865054709776041, 2.123010480961304, 1.122915995141616, 0.8927499392112277, -0.10340193631007873, 0.40433819829483225, 1.2572964981158954, 0.11700900125746119, -0.7026845863976289, 0.44657856814521074, -1.1023149498936338, -0.14181716320340942, -2.203822075626207, 2.1060253516626544, 0.16448217726557168, -0.6887885110479985, -1.5297766193899487, 0.7306152486007272, 0.5582213127690169, 0.7805847071266674, -0.4138262329473763, 0.43877421762173396, -0.17113281260598195, -0.7723643087741576, -0.44972702786652147, -0.295278673235866, 0.17472053263719536, -0.07084006961141828, 0.5598408246345813, -0.26184496480996333, 0.15783441901398237, 0.31583156191644834, 0.45716192750797735, -1.0532192491323207, -0.1131779568506202, 2.5616936250228277, 0.19009419833845465, -0.5984275457623431, 0.4745933715997644, 0.6960874097842701, 0.626694260308462, 1.4892579489991618, -0.05117752075617346, 0.4250907181303993, 0.9739273103422872, 0.6362806675655954, -1.0162423232433264, 0.9066631371828433, -1.679535026651661, 0.9869659281108462, 1.3453703943728241, 0.343490665154001, -0.2853841697384442, 1.6779939042723648, -1.4846430813013987, 1.5382370758376722, -0.9330596295665243, -1.9920517428997413, -0.9116729322213409, 2.049708236088764, 0.35325947359296905, -1.035379152347821, -0.13083975048816482, 0.691709526438699, 0.5417778168132682, -0.804558538375137, -0.08890127612875974, 0.07238988424715156, -1.4480553614844163, 1.6305803770755345, 0.23771832739327292, -0.24686337911028947, 0.5418021381378408, -0.29289376146775437, 0.5140535966322717, -1.0431412319656117, 0.9133882773462815, 1.0012785109207942, -0.49528847444847685], \"xaxis\": \"x\", \"yaxis\": \"y\"}, {\"line\": {\"color\": \"rgba(128, 128, 128, 1.0)\", \"dash\": \"solid\", \"shape\": \"linear\", \"width\": 1.3}, \"marker\": {\"size\": 2, \"symbol\": \"circle\"}, \"mode\": \"markers\", \"name\": \"A\", \"text\": \"\", \"type\": \"scatter\", \"x\": [1.1111034473072832, -0.1448844431557348, 1.1571344678825692, -0.10626240679408508, 1.385864733511222, 0.7149762195031321, -1.0573758968740425, 1.0574539487727026, -2.222754474072913, 2.4284696770821985, 1.0720742151354865, -0.5569630085600444, 1.1459078255247408, 0.5671801108564223, 0.33437965352964705, 1.6800543056523491, 0.8130184539498939, 0.3923791895424591, -0.1478109051442373, -0.27264250534607903, -2.3603070752410926, -0.09465056399925209, -0.16768695429951153, 0.6005046467753621, -1.4606720388756242, 0.020805750462041604, 1.2075459416868073, -0.6242906813930785, -0.7358803768729599, 0.9017616150351392, -0.3991437537388995, -0.32776950291835794, -0.22438021907887182, 0.6232918558085496, 1.6581071653903812, 0.221658524428475, 0.5054802729992948, 0.3924249214397845, -0.3834916104630957, 0.8210281067635286, -0.6795537047745717, 0.689084330009526, -0.3509889870700068, -0.13067820982899972, 1.0079417817210266, 1.5822871581780307, 0.03648810084486005, -0.20144946009057205, -0.46530592982664754, 0.9674486407095345, -0.6335301718013872, -1.3456873791964161, 1.1446356475185844, -0.2728030861444642, -1.1462958571876427, 0.25835325051020475, -1.7296771839161211, 1.4594852118097237, 0.1915054550087883, -1.356662720698125, 0.2542237467222372, -0.09915143340273849, 0.03812311596193516, 0.5187740918912463, 1.9633476519853126, 1.2259258782036178, 0.18579717883455807, -1.030735908284299, -0.7834159013284216, 0.5652342883426867, -1.1402671924265346, 0.0638021052533395, 0.536016427642085, 0.07407370527854598, 0.3807947892202538, 0.3204141169258202, -0.4004880397199586, 0.0520054083184649, 0.8087043708456557, -0.8048160281300628, 0.442047115569308, -0.0437189083464173, -0.02075425165300876, 1.2997816110422071, -2.059560329775203, -1.6002365963146876, -1.004666964491864, -1.0399111841009054, -0.6201334882012222, -1.1035481454325704, 1.0076635158357001, -0.27211120070119027, 1.3233615878152796, 0.49207215645485736, -0.6231562460016906, -2.157366560133454, 0.31259998818320933, 1.316311665618152, -0.1643111499978162, 0.47819803208043254], \"xaxis\": \"x2\", \"y\": [-0.08246222777140658, 0.7173230319183161, -1.4831462800247348, 0.6007188011403605, 1.289075599445904, 0.4686184185783867, 0.9861225102722071, -0.46912667007143066, 1.7361292929950078, 0.04365889119250256, 1.2341316458674847, 0.821179261753058, 0.510361491783725, -0.16508037667801448, 0.7577534273104339, -0.8667901941733359, 1.3594944902287593, -1.1685993739916176, 1.1105441176779236, 2.179116305512871, -1.0669303473380523, -0.4865054709776041, 2.123010480961304, 1.122915995141616, 0.8927499392112277, -0.10340193631007873, 0.40433819829483225, 1.2572964981158954, 0.11700900125746119, -0.7026845863976289, 0.44657856814521074, -1.1023149498936338, -0.14181716320340942, -2.203822075626207, 2.1060253516626544, 0.16448217726557168, -0.6887885110479985, -1.5297766193899487, 0.7306152486007272, 0.5582213127690169, 0.7805847071266674, -0.4138262329473763, 0.43877421762173396, -0.17113281260598195, -0.7723643087741576, -0.44972702786652147, -0.295278673235866, 0.17472053263719536, -0.07084006961141828, 0.5598408246345813, -0.26184496480996333, 0.15783441901398237, 0.31583156191644834, 0.45716192750797735, -1.0532192491323207, -0.1131779568506202, 2.5616936250228277, 0.19009419833845465, -0.5984275457623431, 0.4745933715997644, 0.6960874097842701, 0.626694260308462, 1.4892579489991618, -0.05117752075617346, 0.4250907181303993, 0.9739273103422872, 0.6362806675655954, -1.0162423232433264, 0.9066631371828433, -1.679535026651661, 0.9869659281108462, 1.3453703943728241, 0.343490665154001, -0.2853841697384442, 1.6779939042723648, -1.4846430813013987, 1.5382370758376722, -0.9330596295665243, -1.9920517428997413, -0.9116729322213409, 2.049708236088764, 0.35325947359296905, -1.035379152347821, -0.13083975048816482, 0.691709526438699, 0.5417778168132682, -0.804558538375137, -0.08890127612875974, 0.07238988424715156, -1.4480553614844163, 1.6305803770755345, 0.23771832739327292, -0.24686337911028947, 0.5418021381378408, -0.29289376146775437, 0.5140535966322717, -1.0431412319656117, 0.9133882773462815, 1.0012785109207942, -0.49528847444847685], \"yaxis\": \"y2\"}, {\"line\": {\"color\": \"rgba(128, 128, 128, 1.0)\", \"dash\": \"solid\", \"shape\": \"linear\", \"width\": 1.3}, \"marker\": {\"size\": 2, \"symbol\": \"circle\"}, \"mode\": \"markers\", \"name\": \"A\", \"text\": \"\", \"type\": \"scatter\", \"x\": [-0.040721755590267625, 0.4845141078568383, 0.5552865204452764, 0.9894307742262647, -2.0905541525014075, 0.5307941490125307, -0.017570997133324374, -2.2627308003070796, -0.1374052764526477, -0.8828442616004598, 0.49694631927718247, 0.9277362048260372, -1.6122633618108535, -0.24078759359434268, -0.7179782433046924, -1.2035624756547316, 1.1705828461614898, -1.781460868686437, 1.4602509670087895, 0.9595348366810558, -0.4878818104702032, 0.05668394756523284, 0.25050102327780377, 1.1256494378007131, -1.737428170361979, -1.941193704069804, -0.3495901857266525, -0.3670591970577454, 0.23938375271249307, -1.871945296898776, 0.03442507030246463, -0.9317620374287533, -0.15566872544649396, -0.910405984156538, 0.13926839875980687, -0.1415354359893636, -0.36607615729278936, -1.7933891102681134, -0.9093873562543733, -0.38743230819428426, 0.19200855279259407, 0.6834369507348941, 0.10709815058062394, 1.1713809096279486, -2.251623623728285, -1.722464994585591, 1.249237806539529, -0.033637926895588595, -0.07834586686128041, -1.1503478012738484, 0.4502187187758, -0.13018697405443186, -0.9799098291087905, -0.8031150350232693, 2.1354275216358594, 0.026737097406338943, 0.6661586297256185, -2.5238276959178876, 0.10873699221215909, 1.7110852575489799, -0.13830138999521324, 1.4324385555449606, 0.9456261856347842, 1.998793269243896, 0.6055018707891223, 0.5121343441097476, 0.5697006829514698, -0.405202704358376, -1.3871725574937979, 1.20188846104042, -0.12384142363187112, 0.027535394475638332, -0.6589856088323701, -1.0376982233410539, 0.800481905525968, -0.13716365692928184, 2.0326240292311106, 0.2398312754412681, 0.762097334950555, 1.9906582255488978, -0.11104118046803331, -2.354491237143944, 2.43428933342693, 0.4284846800935323, 0.13641677019091114, 1.5000310075196113, -0.813017243679552, -0.41384018368479075, 0.08833905550302587, -0.9494763494057143, -0.9013313316938716, 0.5968161745025338, -0.039600246063192984, 0.42546249578022644, -0.4602347022596428, 0.5943026124417444, -0.11024284676490688, 2.0503169539927213, -1.0543468988419165, -0.42533381032547174], \"xaxis\": \"x3\", \"y\": [-0.08246222777140658, 0.7173230319183161, -1.4831462800247348, 0.6007188011403605, 1.289075599445904, 0.4686184185783867, 0.9861225102722071, -0.46912667007143066, 1.7361292929950078, 0.04365889119250256, 1.2341316458674847, 0.821179261753058, 0.510361491783725, -0.16508037667801448, 0.7577534273104339, -0.8667901941733359, 1.3594944902287593, -1.1685993739916176, 1.1105441176779236, 2.179116305512871, -1.0669303473380523, -0.4865054709776041, 2.123010480961304, 1.122915995141616, 0.8927499392112277, -0.10340193631007873, 0.40433819829483225, 1.2572964981158954, 0.11700900125746119, -0.7026845863976289, 0.44657856814521074, -1.1023149498936338, -0.14181716320340942, -2.203822075626207, 2.1060253516626544, 0.16448217726557168, -0.6887885110479985, -1.5297766193899487, 0.7306152486007272, 0.5582213127690169, 0.7805847071266674, -0.4138262329473763, 0.43877421762173396, -0.17113281260598195, -0.7723643087741576, -0.44972702786652147, -0.295278673235866, 0.17472053263719536, -0.07084006961141828, 0.5598408246345813, -0.26184496480996333, 0.15783441901398237, 0.31583156191644834, 0.45716192750797735, -1.0532192491323207, -0.1131779568506202, 2.5616936250228277, 0.19009419833845465, -0.5984275457623431, 0.4745933715997644, 0.6960874097842701, 0.626694260308462, 1.4892579489991618, -0.05117752075617346, 0.4250907181303993, 0.9739273103422872, 0.6362806675655954, -1.0162423232433264, 0.9066631371828433, -1.679535026651661, 0.9869659281108462, 1.3453703943728241, 0.343490665154001, -0.2853841697384442, 1.6779939042723648, -1.4846430813013987, 1.5382370758376722, -0.9330596295665243, -1.9920517428997413, -0.9116729322213409, 2.049708236088764, 0.35325947359296905, -1.035379152347821, -0.13083975048816482, 0.691709526438699, 0.5417778168132682, -0.804558538375137, -0.08890127612875974, 0.07238988424715156, -1.4480553614844163, 1.6305803770755345, 0.23771832739327292, -0.24686337911028947, 0.5418021381378408, -0.29289376146775437, 0.5140535966322717, -1.0431412319656117, 0.9133882773462815, 1.0012785109207942, -0.49528847444847685], \"yaxis\": \"y3\"}, {\"line\": {\"color\": \"rgba(128, 128, 128, 1.0)\", \"dash\": \"solid\", \"shape\": \"linear\", \"width\": 1.3}, \"marker\": {\"size\": 2, \"symbol\": \"circle\"}, \"mode\": \"markers\", \"name\": \"A\", \"text\": \"\", \"type\": \"scatter\", \"x\": [-1.3822368504999412, 1.1868921380110964, 3.074761922057887, 0.6540470561513829, -1.791791593655064, 0.560742603250269, -1.4192752050961865, -0.07356911786947963, 0.8560868506281443, 0.40268234637334405, 0.2579031984268933, -1.1014982965828208, 0.4997557701926453, 0.41841755514124523, -0.19761611341064317, 0.46471581313170546, 0.34097916455729455, -1.1173191126252282, 1.441133067744915, 0.4660328484069177, 0.35593492154998285, 0.610117909111755, 1.0268496129800764, -2.9227928066592384, -0.5967255509752472, 1.0342804210809968, -0.4369280226100989, -1.2991911538445367, -1.1876670300330503, -0.1835734359135624, 0.3258136874027073, 0.7111705737861701, 1.0081355334655215, -1.091077015455357, -0.9084221800041059, -0.39580505017480055, 0.9669185555538452, -0.8834410349699046, 2.58778499239981, -2.4851983097159387, -2.08849700135936, 1.5950602841576778, -2.320627232160421, 0.630804084149663, -1.3019168885464065, 1.3570017649169208, 0.11129458404963655, 1.5658311472324207, -0.8574692603698083, -0.2643829163575508, 0.8103650456969996, -0.9868405385838823, 1.6215543514643018, 0.014887673144812354, -1.9679798218578608, -1.0776880417529018, -0.9319694113611366, -0.6172828302871782, 0.8073887199728892, 0.7617046149941203, 0.7529700251474125, -1.75765858663306, -0.642874697054324, 1.201995473158109, -0.5776229530465018, -1.9176814261321877, 0.7956223680538879, -0.41222793316853795, -0.3352847562532673, 1.187230576748085, 0.5431470299260086, 1.0559384588551326, -1.5345436818328146, 1.2408082317346376, -0.7559510230912563, -0.7854321827995201, -2.4466752084523407, 0.7414199574973891, 0.5570636845652269, -0.3859514970677254, -0.7904716621009474, 1.9900732220256936, 1.215862391756408, 0.5575457528024911, -0.37361692195887153, -0.41199029195145637, 0.5460412202751002, -0.9316380331023384, -1.48471169031649, 1.6334663040131474, 1.0759191036963602, -1.5351979025198073, -0.8057809769713714, 0.6833694199645926, 0.5388580292449436, -0.11306345005345213, -0.0832325570929657, 1.0000639539599987, -0.2937640023000087, 0.4564399782737193], \"xaxis\": \"x4\", \"y\": [-0.08246222777140658, 0.7173230319183161, -1.4831462800247348, 0.6007188011403605, 1.289075599445904, 0.4686184185783867, 0.9861225102722071, -0.46912667007143066, 1.7361292929950078, 0.04365889119250256, 1.2341316458674847, 0.821179261753058, 0.510361491783725, -0.16508037667801448, 0.7577534273104339, -0.8667901941733359, 1.3594944902287593, -1.1685993739916176, 1.1105441176779236, 2.179116305512871, -1.0669303473380523, -0.4865054709776041, 2.123010480961304, 1.122915995141616, 0.8927499392112277, -0.10340193631007873, 0.40433819829483225, 1.2572964981158954, 0.11700900125746119, -0.7026845863976289, 0.44657856814521074, -1.1023149498936338, -0.14181716320340942, -2.203822075626207, 2.1060253516626544, 0.16448217726557168, -0.6887885110479985, -1.5297766193899487, 0.7306152486007272, 0.5582213127690169, 0.7805847071266674, -0.4138262329473763, 0.43877421762173396, -0.17113281260598195, -0.7723643087741576, -0.44972702786652147, -0.295278673235866, 0.17472053263719536, -0.07084006961141828, 0.5598408246345813, -0.26184496480996333, 0.15783441901398237, 0.31583156191644834, 0.45716192750797735, -1.0532192491323207, -0.1131779568506202, 2.5616936250228277, 0.19009419833845465, -0.5984275457623431, 0.4745933715997644, 0.6960874097842701, 0.626694260308462, 1.4892579489991618, -0.05117752075617346, 0.4250907181303993, 0.9739273103422872, 0.6362806675655954, -1.0162423232433264, 0.9066631371828433, -1.679535026651661, 0.9869659281108462, 1.3453703943728241, 0.343490665154001, -0.2853841697384442, 1.6779939042723648, -1.4846430813013987, 1.5382370758376722, -0.9330596295665243, -1.9920517428997413, -0.9116729322213409, 2.049708236088764, 0.35325947359296905, -1.035379152347821, -0.13083975048816482, 0.691709526438699, 0.5417778168132682, -0.804558538375137, -0.08890127612875974, 0.07238988424715156, -1.4480553614844163, 1.6305803770755345, 0.23771832739327292, -0.24686337911028947, 0.5418021381378408, -0.29289376146775437, 0.5140535966322717, -1.0431412319656117, 0.9133882773462815, 1.0012785109207942, -0.49528847444847685], \"yaxis\": \"y4\"}, {\"line\": {\"color\": \"rgba(128, 128, 128, 1.0)\", \"dash\": \"solid\", \"shape\": \"linear\", \"width\": 1.3}, \"marker\": {\"size\": 2, \"symbol\": \"circle\"}, \"mode\": \"markers\", \"name\": \"B\", \"text\": \"\", \"type\": \"scatter\", \"x\": [-0.08246222777140658, 0.7173230319183161, -1.4831462800247348, 0.6007188011403605, 1.289075599445904, 0.4686184185783867, 0.9861225102722071, -0.46912667007143066, 1.7361292929950078, 0.04365889119250256, 1.2341316458674847, 0.821179261753058, 0.510361491783725, -0.16508037667801448, 0.7577534273104339, -0.8667901941733359, 1.3594944902287593, -1.1685993739916176, 1.1105441176779236, 2.179116305512871, -1.0669303473380523, -0.4865054709776041, 2.123010480961304, 1.122915995141616, 0.8927499392112277, -0.10340193631007873, 0.40433819829483225, 1.2572964981158954, 0.11700900125746119, -0.7026845863976289, 0.44657856814521074, -1.1023149498936338, -0.14181716320340942, -2.203822075626207, 2.1060253516626544, 0.16448217726557168, -0.6887885110479985, -1.5297766193899487, 0.7306152486007272, 0.5582213127690169, 0.7805847071266674, -0.4138262329473763, 0.43877421762173396, -0.17113281260598195, -0.7723643087741576, -0.44972702786652147, -0.295278673235866, 0.17472053263719536, -0.07084006961141828, 0.5598408246345813, -0.26184496480996333, 0.15783441901398237, 0.31583156191644834, 0.45716192750797735, -1.0532192491323207, -0.1131779568506202, 2.5616936250228277, 0.19009419833845465, -0.5984275457623431, 0.4745933715997644, 0.6960874097842701, 0.626694260308462, 1.4892579489991618, -0.05117752075617346, 0.4250907181303993, 0.9739273103422872, 0.6362806675655954, -1.0162423232433264, 0.9066631371828433, -1.679535026651661, 0.9869659281108462, 1.3453703943728241, 0.343490665154001, -0.2853841697384442, 1.6779939042723648, -1.4846430813013987, 1.5382370758376722, -0.9330596295665243, -1.9920517428997413, -0.9116729322213409, 2.049708236088764, 0.35325947359296905, -1.035379152347821, -0.13083975048816482, 0.691709526438699, 0.5417778168132682, -0.804558538375137, -0.08890127612875974, 0.07238988424715156, -1.4480553614844163, 1.6305803770755345, 0.23771832739327292, -0.24686337911028947, 0.5418021381378408, -0.29289376146775437, 0.5140535966322717, -1.0431412319656117, 0.9133882773462815, 1.0012785109207942, -0.49528847444847685], \"xaxis\": \"x5\", \"y\": [1.1111034473072832, -0.1448844431557348, 1.1571344678825692, -0.10626240679408508, 1.385864733511222, 0.7149762195031321, -1.0573758968740425, 1.0574539487727026, -2.222754474072913, 2.4284696770821985, 1.0720742151354865, -0.5569630085600444, 1.1459078255247408, 0.5671801108564223, 0.33437965352964705, 1.6800543056523491, 0.8130184539498939, 0.3923791895424591, -0.1478109051442373, -0.27264250534607903, -2.3603070752410926, -0.09465056399925209, -0.16768695429951153, 0.6005046467753621, -1.4606720388756242, 0.020805750462041604, 1.2075459416868073, -0.6242906813930785, -0.7358803768729599, 0.9017616150351392, -0.3991437537388995, -0.32776950291835794, -0.22438021907887182, 0.6232918558085496, 1.6581071653903812, 0.221658524428475, 0.5054802729992948, 0.3924249214397845, -0.3834916104630957, 0.8210281067635286, -0.6795537047745717, 0.689084330009526, -0.3509889870700068, -0.13067820982899972, 1.0079417817210266, 1.5822871581780307, 0.03648810084486005, -0.20144946009057205, -0.46530592982664754, 0.9674486407095345, -0.6335301718013872, -1.3456873791964161, 1.1446356475185844, -0.2728030861444642, -1.1462958571876427, 0.25835325051020475, -1.7296771839161211, 1.4594852118097237, 0.1915054550087883, -1.356662720698125, 0.2542237467222372, -0.09915143340273849, 0.03812311596193516, 0.5187740918912463, 1.9633476519853126, 1.2259258782036178, 0.18579717883455807, -1.030735908284299, -0.7834159013284216, 0.5652342883426867, -1.1402671924265346, 0.0638021052533395, 0.536016427642085, 0.07407370527854598, 0.3807947892202538, 0.3204141169258202, -0.4004880397199586, 0.0520054083184649, 0.8087043708456557, -0.8048160281300628, 0.442047115569308, -0.0437189083464173, -0.02075425165300876, 1.2997816110422071, -2.059560329775203, -1.6002365963146876, -1.004666964491864, -1.0399111841009054, -0.6201334882012222, -1.1035481454325704, 1.0076635158357001, -0.27211120070119027, 1.3233615878152796, 0.49207215645485736, -0.6231562460016906, -2.157366560133454, 0.31259998818320933, 1.316311665618152, -0.1643111499978162, 0.47819803208043254], \"yaxis\": \"y5\"}, {\"histfunc\": \"count\", \"histnorm\": \"\", \"marker\": {\"color\": \"rgba(55, 128, 191, 1.0)\", \"line\": {\"color\": \"#4D5663\", \"width\": 1.3}}, \"name\": \"B\", \"nbinsx\": 10, \"opacity\": 0.8, \"orientation\": \"v\", \"type\": \"histogram\", \"x\": [1.1111034473072832, -0.1448844431557348, 1.1571344678825692, -0.10626240679408508, 1.385864733511222, 0.7149762195031321, -1.0573758968740425, 1.0574539487727026, -2.222754474072913, 2.4284696770821985, 1.0720742151354865, -0.5569630085600444, 1.1459078255247408, 0.5671801108564223, 0.33437965352964705, 1.6800543056523491, 0.8130184539498939, 0.3923791895424591, -0.1478109051442373, -0.27264250534607903, -2.3603070752410926, -0.09465056399925209, -0.16768695429951153, 0.6005046467753621, -1.4606720388756242, 0.020805750462041604, 1.2075459416868073, -0.6242906813930785, -0.7358803768729599, 0.9017616150351392, -0.3991437537388995, -0.32776950291835794, -0.22438021907887182, 0.6232918558085496, 1.6581071653903812, 0.221658524428475, 0.5054802729992948, 0.3924249214397845, -0.3834916104630957, 0.8210281067635286, -0.6795537047745717, 0.689084330009526, -0.3509889870700068, -0.13067820982899972, 1.0079417817210266, 1.5822871581780307, 0.03648810084486005, -0.20144946009057205, -0.46530592982664754, 0.9674486407095345, -0.6335301718013872, -1.3456873791964161, 1.1446356475185844, -0.2728030861444642, -1.1462958571876427, 0.25835325051020475, -1.7296771839161211, 1.4594852118097237, 0.1915054550087883, -1.356662720698125, 0.2542237467222372, -0.09915143340273849, 0.03812311596193516, 0.5187740918912463, 1.9633476519853126, 1.2259258782036178, 0.18579717883455807, -1.030735908284299, -0.7834159013284216, 0.5652342883426867, -1.1402671924265346, 0.0638021052533395, 0.536016427642085, 0.07407370527854598, 0.3807947892202538, 0.3204141169258202, -0.4004880397199586, 0.0520054083184649, 0.8087043708456557, -0.8048160281300628, 0.442047115569308, -0.0437189083464173, -0.02075425165300876, 1.2997816110422071, -2.059560329775203, -1.6002365963146876, -1.004666964491864, -1.0399111841009054, -0.6201334882012222, -1.1035481454325704, 1.0076635158357001, -0.27211120070119027, 1.3233615878152796, 0.49207215645485736, -0.6231562460016906, -2.157366560133454, 0.31259998818320933, 1.316311665618152, -0.1643111499978162, 0.47819803208043254], \"xaxis\": \"x6\", \"yaxis\": \"y6\"}, {\"line\": {\"color\": \"rgba(128, 128, 128, 1.0)\", \"dash\": \"solid\", \"shape\": \"linear\", \"width\": 1.3}, \"marker\": {\"size\": 2, \"symbol\": \"circle\"}, \"mode\": \"markers\", \"name\": \"B\", \"text\": \"\", \"type\": \"scatter\", \"x\": [-0.040721755590267625, 0.4845141078568383, 0.5552865204452764, 0.9894307742262647, -2.0905541525014075, 0.5307941490125307, -0.017570997133324374, -2.2627308003070796, -0.1374052764526477, -0.8828442616004598, 0.49694631927718247, 0.9277362048260372, -1.6122633618108535, -0.24078759359434268, -0.7179782433046924, -1.2035624756547316, 1.1705828461614898, -1.781460868686437, 1.4602509670087895, 0.9595348366810558, -0.4878818104702032, 0.05668394756523284, 0.25050102327780377, 1.1256494378007131, -1.737428170361979, -1.941193704069804, -0.3495901857266525, -0.3670591970577454, 0.23938375271249307, -1.871945296898776, 0.03442507030246463, -0.9317620374287533, -0.15566872544649396, -0.910405984156538, 0.13926839875980687, -0.1415354359893636, -0.36607615729278936, -1.7933891102681134, -0.9093873562543733, -0.38743230819428426, 0.19200855279259407, 0.6834369507348941, 0.10709815058062394, 1.1713809096279486, -2.251623623728285, -1.722464994585591, 1.249237806539529, -0.033637926895588595, -0.07834586686128041, -1.1503478012738484, 0.4502187187758, -0.13018697405443186, -0.9799098291087905, -0.8031150350232693, 2.1354275216358594, 0.026737097406338943, 0.6661586297256185, -2.5238276959178876, 0.10873699221215909, 1.7110852575489799, -0.13830138999521324, 1.4324385555449606, 0.9456261856347842, 1.998793269243896, 0.6055018707891223, 0.5121343441097476, 0.5697006829514698, -0.405202704358376, -1.3871725574937979, 1.20188846104042, -0.12384142363187112, 0.027535394475638332, -0.6589856088323701, -1.0376982233410539, 0.800481905525968, -0.13716365692928184, 2.0326240292311106, 0.2398312754412681, 0.762097334950555, 1.9906582255488978, -0.11104118046803331, -2.354491237143944, 2.43428933342693, 0.4284846800935323, 0.13641677019091114, 1.5000310075196113, -0.813017243679552, -0.41384018368479075, 0.08833905550302587, -0.9494763494057143, -0.9013313316938716, 0.5968161745025338, -0.039600246063192984, 0.42546249578022644, -0.4602347022596428, 0.5943026124417444, -0.11024284676490688, 2.0503169539927213, -1.0543468988419165, -0.42533381032547174], \"xaxis\": \"x7\", \"y\": [1.1111034473072832, -0.1448844431557348, 1.1571344678825692, -0.10626240679408508, 1.385864733511222, 0.7149762195031321, -1.0573758968740425, 1.0574539487727026, -2.222754474072913, 2.4284696770821985, 1.0720742151354865, -0.5569630085600444, 1.1459078255247408, 0.5671801108564223, 0.33437965352964705, 1.6800543056523491, 0.8130184539498939, 0.3923791895424591, -0.1478109051442373, -0.27264250534607903, -2.3603070752410926, -0.09465056399925209, -0.16768695429951153, 0.6005046467753621, -1.4606720388756242, 0.020805750462041604, 1.2075459416868073, -0.6242906813930785, -0.7358803768729599, 0.9017616150351392, -0.3991437537388995, -0.32776950291835794, -0.22438021907887182, 0.6232918558085496, 1.6581071653903812, 0.221658524428475, 0.5054802729992948, 0.3924249214397845, -0.3834916104630957, 0.8210281067635286, -0.6795537047745717, 0.689084330009526, -0.3509889870700068, -0.13067820982899972, 1.0079417817210266, 1.5822871581780307, 0.03648810084486005, -0.20144946009057205, -0.46530592982664754, 0.9674486407095345, -0.6335301718013872, -1.3456873791964161, 1.1446356475185844, -0.2728030861444642, -1.1462958571876427, 0.25835325051020475, -1.7296771839161211, 1.4594852118097237, 0.1915054550087883, -1.356662720698125, 0.2542237467222372, -0.09915143340273849, 0.03812311596193516, 0.5187740918912463, 1.9633476519853126, 1.2259258782036178, 0.18579717883455807, -1.030735908284299, -0.7834159013284216, 0.5652342883426867, -1.1402671924265346, 0.0638021052533395, 0.536016427642085, 0.07407370527854598, 0.3807947892202538, 0.3204141169258202, -0.4004880397199586, 0.0520054083184649, 0.8087043708456557, -0.8048160281300628, 0.442047115569308, -0.0437189083464173, -0.02075425165300876, 1.2997816110422071, -2.059560329775203, -1.6002365963146876, -1.004666964491864, -1.0399111841009054, -0.6201334882012222, -1.1035481454325704, 1.0076635158357001, -0.27211120070119027, 1.3233615878152796, 0.49207215645485736, -0.6231562460016906, -2.157366560133454, 0.31259998818320933, 1.316311665618152, -0.1643111499978162, 0.47819803208043254], \"yaxis\": \"y7\"}, {\"line\": {\"color\": \"rgba(128, 128, 128, 1.0)\", \"dash\": \"solid\", \"shape\": \"linear\", \"width\": 1.3}, \"marker\": {\"size\": 2, \"symbol\": \"circle\"}, \"mode\": \"markers\", \"name\": \"B\", \"text\": \"\", \"type\": \"scatter\", \"x\": [-1.3822368504999412, 1.1868921380110964, 3.074761922057887, 0.6540470561513829, -1.791791593655064, 0.560742603250269, -1.4192752050961865, -0.07356911786947963, 0.8560868506281443, 0.40268234637334405, 0.2579031984268933, -1.1014982965828208, 0.4997557701926453, 0.41841755514124523, -0.19761611341064317, 0.46471581313170546, 0.34097916455729455, -1.1173191126252282, 1.441133067744915, 0.4660328484069177, 0.35593492154998285, 0.610117909111755, 1.0268496129800764, -2.9227928066592384, -0.5967255509752472, 1.0342804210809968, -0.4369280226100989, -1.2991911538445367, -1.1876670300330503, -0.1835734359135624, 0.3258136874027073, 0.7111705737861701, 1.0081355334655215, -1.091077015455357, -0.9084221800041059, -0.39580505017480055, 0.9669185555538452, -0.8834410349699046, 2.58778499239981, -2.4851983097159387, -2.08849700135936, 1.5950602841576778, -2.320627232160421, 0.630804084149663, -1.3019168885464065, 1.3570017649169208, 0.11129458404963655, 1.5658311472324207, -0.8574692603698083, -0.2643829163575508, 0.8103650456969996, -0.9868405385838823, 1.6215543514643018, 0.014887673144812354, -1.9679798218578608, -1.0776880417529018, -0.9319694113611366, -0.6172828302871782, 0.8073887199728892, 0.7617046149941203, 0.7529700251474125, -1.75765858663306, -0.642874697054324, 1.201995473158109, -0.5776229530465018, -1.9176814261321877, 0.7956223680538879, -0.41222793316853795, -0.3352847562532673, 1.187230576748085, 0.5431470299260086, 1.0559384588551326, -1.5345436818328146, 1.2408082317346376, -0.7559510230912563, -0.7854321827995201, -2.4466752084523407, 0.7414199574973891, 0.5570636845652269, -0.3859514970677254, -0.7904716621009474, 1.9900732220256936, 1.215862391756408, 0.5575457528024911, -0.37361692195887153, -0.41199029195145637, 0.5460412202751002, -0.9316380331023384, -1.48471169031649, 1.6334663040131474, 1.0759191036963602, -1.5351979025198073, -0.8057809769713714, 0.6833694199645926, 0.5388580292449436, -0.11306345005345213, -0.0832325570929657, 1.0000639539599987, -0.2937640023000087, 0.4564399782737193], \"xaxis\": \"x8\", \"y\": [1.1111034473072832, -0.1448844431557348, 1.1571344678825692, -0.10626240679408508, 1.385864733511222, 0.7149762195031321, -1.0573758968740425, 1.0574539487727026, -2.222754474072913, 2.4284696770821985, 1.0720742151354865, -0.5569630085600444, 1.1459078255247408, 0.5671801108564223, 0.33437965352964705, 1.6800543056523491, 0.8130184539498939, 0.3923791895424591, -0.1478109051442373, -0.27264250534607903, -2.3603070752410926, -0.09465056399925209, -0.16768695429951153, 0.6005046467753621, -1.4606720388756242, 0.020805750462041604, 1.2075459416868073, -0.6242906813930785, -0.7358803768729599, 0.9017616150351392, -0.3991437537388995, -0.32776950291835794, -0.22438021907887182, 0.6232918558085496, 1.6581071653903812, 0.221658524428475, 0.5054802729992948, 0.3924249214397845, -0.3834916104630957, 0.8210281067635286, -0.6795537047745717, 0.689084330009526, -0.3509889870700068, -0.13067820982899972, 1.0079417817210266, 1.5822871581780307, 0.03648810084486005, -0.20144946009057205, -0.46530592982664754, 0.9674486407095345, -0.6335301718013872, -1.3456873791964161, 1.1446356475185844, -0.2728030861444642, -1.1462958571876427, 0.25835325051020475, -1.7296771839161211, 1.4594852118097237, 0.1915054550087883, -1.356662720698125, 0.2542237467222372, -0.09915143340273849, 0.03812311596193516, 0.5187740918912463, 1.9633476519853126, 1.2259258782036178, 0.18579717883455807, -1.030735908284299, -0.7834159013284216, 0.5652342883426867, -1.1402671924265346, 0.0638021052533395, 0.536016427642085, 0.07407370527854598, 0.3807947892202538, 0.3204141169258202, -0.4004880397199586, 0.0520054083184649, 0.8087043708456557, -0.8048160281300628, 0.442047115569308, -0.0437189083464173, -0.02075425165300876, 1.2997816110422071, -2.059560329775203, -1.6002365963146876, -1.004666964491864, -1.0399111841009054, -0.6201334882012222, -1.1035481454325704, 1.0076635158357001, -0.27211120070119027, 1.3233615878152796, 0.49207215645485736, -0.6231562460016906, -2.157366560133454, 0.31259998818320933, 1.316311665618152, -0.1643111499978162, 0.47819803208043254], \"yaxis\": \"y8\"}, {\"line\": {\"color\": \"rgba(128, 128, 128, 1.0)\", \"dash\": \"solid\", \"shape\": \"linear\", \"width\": 1.3}, \"marker\": {\"size\": 2, \"symbol\": \"circle\"}, \"mode\": \"markers\", \"name\": \"C\", \"text\": \"\", \"type\": \"scatter\", \"x\": [-0.08246222777140658, 0.7173230319183161, -1.4831462800247348, 0.6007188011403605, 1.289075599445904, 0.4686184185783867, 0.9861225102722071, -0.46912667007143066, 1.7361292929950078, 0.04365889119250256, 1.2341316458674847, 0.821179261753058, 0.510361491783725, -0.16508037667801448, 0.7577534273104339, -0.8667901941733359, 1.3594944902287593, -1.1685993739916176, 1.1105441176779236, 2.179116305512871, -1.0669303473380523, -0.4865054709776041, 2.123010480961304, 1.122915995141616, 0.8927499392112277, -0.10340193631007873, 0.40433819829483225, 1.2572964981158954, 0.11700900125746119, -0.7026845863976289, 0.44657856814521074, -1.1023149498936338, -0.14181716320340942, -2.203822075626207, 2.1060253516626544, 0.16448217726557168, -0.6887885110479985, -1.5297766193899487, 0.7306152486007272, 0.5582213127690169, 0.7805847071266674, -0.4138262329473763, 0.43877421762173396, -0.17113281260598195, -0.7723643087741576, -0.44972702786652147, -0.295278673235866, 0.17472053263719536, -0.07084006961141828, 0.5598408246345813, -0.26184496480996333, 0.15783441901398237, 0.31583156191644834, 0.45716192750797735, -1.0532192491323207, -0.1131779568506202, 2.5616936250228277, 0.19009419833845465, -0.5984275457623431, 0.4745933715997644, 0.6960874097842701, 0.626694260308462, 1.4892579489991618, -0.05117752075617346, 0.4250907181303993, 0.9739273103422872, 0.6362806675655954, -1.0162423232433264, 0.9066631371828433, -1.679535026651661, 0.9869659281108462, 1.3453703943728241, 0.343490665154001, -0.2853841697384442, 1.6779939042723648, -1.4846430813013987, 1.5382370758376722, -0.9330596295665243, -1.9920517428997413, -0.9116729322213409, 2.049708236088764, 0.35325947359296905, -1.035379152347821, -0.13083975048816482, 0.691709526438699, 0.5417778168132682, -0.804558538375137, -0.08890127612875974, 0.07238988424715156, -1.4480553614844163, 1.6305803770755345, 0.23771832739327292, -0.24686337911028947, 0.5418021381378408, -0.29289376146775437, 0.5140535966322717, -1.0431412319656117, 0.9133882773462815, 1.0012785109207942, -0.49528847444847685], \"xaxis\": \"x9\", \"y\": [-0.040721755590267625, 0.4845141078568383, 0.5552865204452764, 0.9894307742262647, -2.0905541525014075, 0.5307941490125307, -0.017570997133324374, -2.2627308003070796, -0.1374052764526477, -0.8828442616004598, 0.49694631927718247, 0.9277362048260372, -1.6122633618108535, -0.24078759359434268, -0.7179782433046924, -1.2035624756547316, 1.1705828461614898, -1.781460868686437, 1.4602509670087895, 0.9595348366810558, -0.4878818104702032, 0.05668394756523284, 0.25050102327780377, 1.1256494378007131, -1.737428170361979, -1.941193704069804, -0.3495901857266525, -0.3670591970577454, 0.23938375271249307, -1.871945296898776, 0.03442507030246463, -0.9317620374287533, -0.15566872544649396, -0.910405984156538, 0.13926839875980687, -0.1415354359893636, -0.36607615729278936, -1.7933891102681134, -0.9093873562543733, -0.38743230819428426, 0.19200855279259407, 0.6834369507348941, 0.10709815058062394, 1.1713809096279486, -2.251623623728285, -1.722464994585591, 1.249237806539529, -0.033637926895588595, -0.07834586686128041, -1.1503478012738484, 0.4502187187758, -0.13018697405443186, -0.9799098291087905, -0.8031150350232693, 2.1354275216358594, 0.026737097406338943, 0.6661586297256185, -2.5238276959178876, 0.10873699221215909, 1.7110852575489799, -0.13830138999521324, 1.4324385555449606, 0.9456261856347842, 1.998793269243896, 0.6055018707891223, 0.5121343441097476, 0.5697006829514698, -0.405202704358376, -1.3871725574937979, 1.20188846104042, -0.12384142363187112, 0.027535394475638332, -0.6589856088323701, -1.0376982233410539, 0.800481905525968, -0.13716365692928184, 2.0326240292311106, 0.2398312754412681, 0.762097334950555, 1.9906582255488978, -0.11104118046803331, -2.354491237143944, 2.43428933342693, 0.4284846800935323, 0.13641677019091114, 1.5000310075196113, -0.813017243679552, -0.41384018368479075, 0.08833905550302587, -0.9494763494057143, -0.9013313316938716, 0.5968161745025338, -0.039600246063192984, 0.42546249578022644, -0.4602347022596428, 0.5943026124417444, -0.11024284676490688, 2.0503169539927213, -1.0543468988419165, -0.42533381032547174], \"yaxis\": \"y9\"}, {\"line\": {\"color\": \"rgba(128, 128, 128, 1.0)\", \"dash\": \"solid\", \"shape\": \"linear\", \"width\": 1.3}, \"marker\": {\"size\": 2, \"symbol\": \"circle\"}, \"mode\": \"markers\", \"name\": \"C\", \"text\": \"\", \"type\": \"scatter\", \"x\": [1.1111034473072832, -0.1448844431557348, 1.1571344678825692, -0.10626240679408508, 1.385864733511222, 0.7149762195031321, -1.0573758968740425, 1.0574539487727026, -2.222754474072913, 2.4284696770821985, 1.0720742151354865, -0.5569630085600444, 1.1459078255247408, 0.5671801108564223, 0.33437965352964705, 1.6800543056523491, 0.8130184539498939, 0.3923791895424591, -0.1478109051442373, -0.27264250534607903, -2.3603070752410926, -0.09465056399925209, -0.16768695429951153, 0.6005046467753621, -1.4606720388756242, 0.020805750462041604, 1.2075459416868073, -0.6242906813930785, -0.7358803768729599, 0.9017616150351392, -0.3991437537388995, -0.32776950291835794, -0.22438021907887182, 0.6232918558085496, 1.6581071653903812, 0.221658524428475, 0.5054802729992948, 0.3924249214397845, -0.3834916104630957, 0.8210281067635286, -0.6795537047745717, 0.689084330009526, -0.3509889870700068, -0.13067820982899972, 1.0079417817210266, 1.5822871581780307, 0.03648810084486005, -0.20144946009057205, -0.46530592982664754, 0.9674486407095345, -0.6335301718013872, -1.3456873791964161, 1.1446356475185844, -0.2728030861444642, -1.1462958571876427, 0.25835325051020475, -1.7296771839161211, 1.4594852118097237, 0.1915054550087883, -1.356662720698125, 0.2542237467222372, -0.09915143340273849, 0.03812311596193516, 0.5187740918912463, 1.9633476519853126, 1.2259258782036178, 0.18579717883455807, -1.030735908284299, -0.7834159013284216, 0.5652342883426867, -1.1402671924265346, 0.0638021052533395, 0.536016427642085, 0.07407370527854598, 0.3807947892202538, 0.3204141169258202, -0.4004880397199586, 0.0520054083184649, 0.8087043708456557, -0.8048160281300628, 0.442047115569308, -0.0437189083464173, -0.02075425165300876, 1.2997816110422071, -2.059560329775203, -1.6002365963146876, -1.004666964491864, -1.0399111841009054, -0.6201334882012222, -1.1035481454325704, 1.0076635158357001, -0.27211120070119027, 1.3233615878152796, 0.49207215645485736, -0.6231562460016906, -2.157366560133454, 0.31259998818320933, 1.316311665618152, -0.1643111499978162, 0.47819803208043254], \"xaxis\": \"x10\", \"y\": [-0.040721755590267625, 0.4845141078568383, 0.5552865204452764, 0.9894307742262647, -2.0905541525014075, 0.5307941490125307, -0.017570997133324374, -2.2627308003070796, -0.1374052764526477, -0.8828442616004598, 0.49694631927718247, 0.9277362048260372, -1.6122633618108535, -0.24078759359434268, -0.7179782433046924, -1.2035624756547316, 1.1705828461614898, -1.781460868686437, 1.4602509670087895, 0.9595348366810558, -0.4878818104702032, 0.05668394756523284, 0.25050102327780377, 1.1256494378007131, -1.737428170361979, -1.941193704069804, -0.3495901857266525, -0.3670591970577454, 0.23938375271249307, -1.871945296898776, 0.03442507030246463, -0.9317620374287533, -0.15566872544649396, -0.910405984156538, 0.13926839875980687, -0.1415354359893636, -0.36607615729278936, -1.7933891102681134, -0.9093873562543733, -0.38743230819428426, 0.19200855279259407, 0.6834369507348941, 0.10709815058062394, 1.1713809096279486, -2.251623623728285, -1.722464994585591, 1.249237806539529, -0.033637926895588595, -0.07834586686128041, -1.1503478012738484, 0.4502187187758, -0.13018697405443186, -0.9799098291087905, -0.8031150350232693, 2.1354275216358594, 0.026737097406338943, 0.6661586297256185, -2.5238276959178876, 0.10873699221215909, 1.7110852575489799, -0.13830138999521324, 1.4324385555449606, 0.9456261856347842, 1.998793269243896, 0.6055018707891223, 0.5121343441097476, 0.5697006829514698, -0.405202704358376, -1.3871725574937979, 1.20188846104042, -0.12384142363187112, 0.027535394475638332, -0.6589856088323701, -1.0376982233410539, 0.800481905525968, -0.13716365692928184, 2.0326240292311106, 0.2398312754412681, 0.762097334950555, 1.9906582255488978, -0.11104118046803331, -2.354491237143944, 2.43428933342693, 0.4284846800935323, 0.13641677019091114, 1.5000310075196113, -0.813017243679552, -0.41384018368479075, 0.08833905550302587, -0.9494763494057143, -0.9013313316938716, 0.5968161745025338, -0.039600246063192984, 0.42546249578022644, -0.4602347022596428, 0.5943026124417444, -0.11024284676490688, 2.0503169539927213, -1.0543468988419165, -0.42533381032547174], \"yaxis\": \"y10\"}, {\"histfunc\": \"count\", \"histnorm\": \"\", \"marker\": {\"color\": \"rgba(50, 171, 96, 1.0)\", \"line\": {\"color\": \"#4D5663\", \"width\": 1.3}}, \"name\": \"C\", \"nbinsx\": 10, \"opacity\": 0.8, \"orientation\": \"v\", \"type\": \"histogram\", \"x\": [-0.040721755590267625, 0.4845141078568383, 0.5552865204452764, 0.9894307742262647, -2.0905541525014075, 0.5307941490125307, -0.017570997133324374, -2.2627308003070796, -0.1374052764526477, -0.8828442616004598, 0.49694631927718247, 0.9277362048260372, -1.6122633618108535, -0.24078759359434268, -0.7179782433046924, -1.2035624756547316, 1.1705828461614898, -1.781460868686437, 1.4602509670087895, 0.9595348366810558, -0.4878818104702032, 0.05668394756523284, 0.25050102327780377, 1.1256494378007131, -1.737428170361979, -1.941193704069804, -0.3495901857266525, -0.3670591970577454, 0.23938375271249307, -1.871945296898776, 0.03442507030246463, -0.9317620374287533, -0.15566872544649396, -0.910405984156538, 0.13926839875980687, -0.1415354359893636, -0.36607615729278936, -1.7933891102681134, -0.9093873562543733, -0.38743230819428426, 0.19200855279259407, 0.6834369507348941, 0.10709815058062394, 1.1713809096279486, -2.251623623728285, -1.722464994585591, 1.249237806539529, -0.033637926895588595, -0.07834586686128041, -1.1503478012738484, 0.4502187187758, -0.13018697405443186, -0.9799098291087905, -0.8031150350232693, 2.1354275216358594, 0.026737097406338943, 0.6661586297256185, -2.5238276959178876, 0.10873699221215909, 1.7110852575489799, -0.13830138999521324, 1.4324385555449606, 0.9456261856347842, 1.998793269243896, 0.6055018707891223, 0.5121343441097476, 0.5697006829514698, -0.405202704358376, -1.3871725574937979, 1.20188846104042, -0.12384142363187112, 0.027535394475638332, -0.6589856088323701, -1.0376982233410539, 0.800481905525968, -0.13716365692928184, 2.0326240292311106, 0.2398312754412681, 0.762097334950555, 1.9906582255488978, -0.11104118046803331, -2.354491237143944, 2.43428933342693, 0.4284846800935323, 0.13641677019091114, 1.5000310075196113, -0.813017243679552, -0.41384018368479075, 0.08833905550302587, -0.9494763494057143, -0.9013313316938716, 0.5968161745025338, -0.039600246063192984, 0.42546249578022644, -0.4602347022596428, 0.5943026124417444, -0.11024284676490688, 2.0503169539927213, -1.0543468988419165, -0.42533381032547174], \"xaxis\": \"x11\", \"yaxis\": \"y11\"}, {\"line\": {\"color\": \"rgba(128, 128, 128, 1.0)\", \"dash\": \"solid\", \"shape\": \"linear\", \"width\": 1.3}, \"marker\": {\"size\": 2, \"symbol\": \"circle\"}, \"mode\": \"markers\", \"name\": \"C\", \"text\": \"\", \"type\": \"scatter\", \"x\": [-1.3822368504999412, 1.1868921380110964, 3.074761922057887, 0.6540470561513829, -1.791791593655064, 0.560742603250269, -1.4192752050961865, -0.07356911786947963, 0.8560868506281443, 0.40268234637334405, 0.2579031984268933, -1.1014982965828208, 0.4997557701926453, 0.41841755514124523, -0.19761611341064317, 0.46471581313170546, 0.34097916455729455, -1.1173191126252282, 1.441133067744915, 0.4660328484069177, 0.35593492154998285, 0.610117909111755, 1.0268496129800764, -2.9227928066592384, -0.5967255509752472, 1.0342804210809968, -0.4369280226100989, -1.2991911538445367, -1.1876670300330503, -0.1835734359135624, 0.3258136874027073, 0.7111705737861701, 1.0081355334655215, -1.091077015455357, -0.9084221800041059, -0.39580505017480055, 0.9669185555538452, -0.8834410349699046, 2.58778499239981, -2.4851983097159387, -2.08849700135936, 1.5950602841576778, -2.320627232160421, 0.630804084149663, -1.3019168885464065, 1.3570017649169208, 0.11129458404963655, 1.5658311472324207, -0.8574692603698083, -0.2643829163575508, 0.8103650456969996, -0.9868405385838823, 1.6215543514643018, 0.014887673144812354, -1.9679798218578608, -1.0776880417529018, -0.9319694113611366, -0.6172828302871782, 0.8073887199728892, 0.7617046149941203, 0.7529700251474125, -1.75765858663306, -0.642874697054324, 1.201995473158109, -0.5776229530465018, -1.9176814261321877, 0.7956223680538879, -0.41222793316853795, -0.3352847562532673, 1.187230576748085, 0.5431470299260086, 1.0559384588551326, -1.5345436818328146, 1.2408082317346376, -0.7559510230912563, -0.7854321827995201, -2.4466752084523407, 0.7414199574973891, 0.5570636845652269, -0.3859514970677254, -0.7904716621009474, 1.9900732220256936, 1.215862391756408, 0.5575457528024911, -0.37361692195887153, -0.41199029195145637, 0.5460412202751002, -0.9316380331023384, -1.48471169031649, 1.6334663040131474, 1.0759191036963602, -1.5351979025198073, -0.8057809769713714, 0.6833694199645926, 0.5388580292449436, -0.11306345005345213, -0.0832325570929657, 1.0000639539599987, -0.2937640023000087, 0.4564399782737193], \"xaxis\": \"x12\", \"y\": [-0.040721755590267625, 0.4845141078568383, 0.5552865204452764, 0.9894307742262647, -2.0905541525014075, 0.5307941490125307, -0.017570997133324374, -2.2627308003070796, -0.1374052764526477, -0.8828442616004598, 0.49694631927718247, 0.9277362048260372, -1.6122633618108535, -0.24078759359434268, -0.7179782433046924, -1.2035624756547316, 1.1705828461614898, -1.781460868686437, 1.4602509670087895, 0.9595348366810558, -0.4878818104702032, 0.05668394756523284, 0.25050102327780377, 1.1256494378007131, -1.737428170361979, -1.941193704069804, -0.3495901857266525, -0.3670591970577454, 0.23938375271249307, -1.871945296898776, 0.03442507030246463, -0.9317620374287533, -0.15566872544649396, -0.910405984156538, 0.13926839875980687, -0.1415354359893636, -0.36607615729278936, -1.7933891102681134, -0.9093873562543733, -0.38743230819428426, 0.19200855279259407, 0.6834369507348941, 0.10709815058062394, 1.1713809096279486, -2.251623623728285, -1.722464994585591, 1.249237806539529, -0.033637926895588595, -0.07834586686128041, -1.1503478012738484, 0.4502187187758, -0.13018697405443186, -0.9799098291087905, -0.8031150350232693, 2.1354275216358594, 0.026737097406338943, 0.6661586297256185, -2.5238276959178876, 0.10873699221215909, 1.7110852575489799, -0.13830138999521324, 1.4324385555449606, 0.9456261856347842, 1.998793269243896, 0.6055018707891223, 0.5121343441097476, 0.5697006829514698, -0.405202704358376, -1.3871725574937979, 1.20188846104042, -0.12384142363187112, 0.027535394475638332, -0.6589856088323701, -1.0376982233410539, 0.800481905525968, -0.13716365692928184, 2.0326240292311106, 0.2398312754412681, 0.762097334950555, 1.9906582255488978, -0.11104118046803331, -2.354491237143944, 2.43428933342693, 0.4284846800935323, 0.13641677019091114, 1.5000310075196113, -0.813017243679552, -0.41384018368479075, 0.08833905550302587, -0.9494763494057143, -0.9013313316938716, 0.5968161745025338, -0.039600246063192984, 0.42546249578022644, -0.4602347022596428, 0.5943026124417444, -0.11024284676490688, 2.0503169539927213, -1.0543468988419165, -0.42533381032547174], \"yaxis\": \"y12\"}, {\"line\": {\"color\": \"rgba(128, 128, 128, 1.0)\", \"dash\": \"solid\", \"shape\": \"linear\", \"width\": 1.3}, \"marker\": {\"size\": 2, \"symbol\": \"circle\"}, \"mode\": \"markers\", \"name\": \"D\", \"text\": \"\", \"type\": \"scatter\", \"x\": [-0.08246222777140658, 0.7173230319183161, -1.4831462800247348, 0.6007188011403605, 1.289075599445904, 0.4686184185783867, 0.9861225102722071, -0.46912667007143066, 1.7361292929950078, 0.04365889119250256, 1.2341316458674847, 0.821179261753058, 0.510361491783725, -0.16508037667801448, 0.7577534273104339, -0.8667901941733359, 1.3594944902287593, -1.1685993739916176, 1.1105441176779236, 2.179116305512871, -1.0669303473380523, -0.4865054709776041, 2.123010480961304, 1.122915995141616, 0.8927499392112277, -0.10340193631007873, 0.40433819829483225, 1.2572964981158954, 0.11700900125746119, -0.7026845863976289, 0.44657856814521074, -1.1023149498936338, -0.14181716320340942, -2.203822075626207, 2.1060253516626544, 0.16448217726557168, -0.6887885110479985, -1.5297766193899487, 0.7306152486007272, 0.5582213127690169, 0.7805847071266674, -0.4138262329473763, 0.43877421762173396, -0.17113281260598195, -0.7723643087741576, -0.44972702786652147, -0.295278673235866, 0.17472053263719536, -0.07084006961141828, 0.5598408246345813, -0.26184496480996333, 0.15783441901398237, 0.31583156191644834, 0.45716192750797735, -1.0532192491323207, -0.1131779568506202, 2.5616936250228277, 0.19009419833845465, -0.5984275457623431, 0.4745933715997644, 0.6960874097842701, 0.626694260308462, 1.4892579489991618, -0.05117752075617346, 0.4250907181303993, 0.9739273103422872, 0.6362806675655954, -1.0162423232433264, 0.9066631371828433, -1.679535026651661, 0.9869659281108462, 1.3453703943728241, 0.343490665154001, -0.2853841697384442, 1.6779939042723648, -1.4846430813013987, 1.5382370758376722, -0.9330596295665243, -1.9920517428997413, -0.9116729322213409, 2.049708236088764, 0.35325947359296905, -1.035379152347821, -0.13083975048816482, 0.691709526438699, 0.5417778168132682, -0.804558538375137, -0.08890127612875974, 0.07238988424715156, -1.4480553614844163, 1.6305803770755345, 0.23771832739327292, -0.24686337911028947, 0.5418021381378408, -0.29289376146775437, 0.5140535966322717, -1.0431412319656117, 0.9133882773462815, 1.0012785109207942, -0.49528847444847685], \"xaxis\": \"x13\", \"y\": [-1.3822368504999412, 1.1868921380110964, 3.074761922057887, 0.6540470561513829, -1.791791593655064, 0.560742603250269, -1.4192752050961865, -0.07356911786947963, 0.8560868506281443, 0.40268234637334405, 0.2579031984268933, -1.1014982965828208, 0.4997557701926453, 0.41841755514124523, -0.19761611341064317, 0.46471581313170546, 0.34097916455729455, -1.1173191126252282, 1.441133067744915, 0.4660328484069177, 0.35593492154998285, 0.610117909111755, 1.0268496129800764, -2.9227928066592384, -0.5967255509752472, 1.0342804210809968, -0.4369280226100989, -1.2991911538445367, -1.1876670300330503, -0.1835734359135624, 0.3258136874027073, 0.7111705737861701, 1.0081355334655215, -1.091077015455357, -0.9084221800041059, -0.39580505017480055, 0.9669185555538452, -0.8834410349699046, 2.58778499239981, -2.4851983097159387, -2.08849700135936, 1.5950602841576778, -2.320627232160421, 0.630804084149663, -1.3019168885464065, 1.3570017649169208, 0.11129458404963655, 1.5658311472324207, -0.8574692603698083, -0.2643829163575508, 0.8103650456969996, -0.9868405385838823, 1.6215543514643018, 0.014887673144812354, -1.9679798218578608, -1.0776880417529018, -0.9319694113611366, -0.6172828302871782, 0.8073887199728892, 0.7617046149941203, 0.7529700251474125, -1.75765858663306, -0.642874697054324, 1.201995473158109, -0.5776229530465018, -1.9176814261321877, 0.7956223680538879, -0.41222793316853795, -0.3352847562532673, 1.187230576748085, 0.5431470299260086, 1.0559384588551326, -1.5345436818328146, 1.2408082317346376, -0.7559510230912563, -0.7854321827995201, -2.4466752084523407, 0.7414199574973891, 0.5570636845652269, -0.3859514970677254, -0.7904716621009474, 1.9900732220256936, 1.215862391756408, 0.5575457528024911, -0.37361692195887153, -0.41199029195145637, 0.5460412202751002, -0.9316380331023384, -1.48471169031649, 1.6334663040131474, 1.0759191036963602, -1.5351979025198073, -0.8057809769713714, 0.6833694199645926, 0.5388580292449436, -0.11306345005345213, -0.0832325570929657, 1.0000639539599987, -0.2937640023000087, 0.4564399782737193], \"yaxis\": \"y13\"}, {\"line\": {\"color\": \"rgba(128, 128, 128, 1.0)\", \"dash\": \"solid\", \"shape\": \"linear\", \"width\": 1.3}, \"marker\": {\"size\": 2, \"symbol\": \"circle\"}, \"mode\": \"markers\", \"name\": \"D\", \"text\": \"\", \"type\": \"scatter\", \"x\": [1.1111034473072832, -0.1448844431557348, 1.1571344678825692, -0.10626240679408508, 1.385864733511222, 0.7149762195031321, -1.0573758968740425, 1.0574539487727026, -2.222754474072913, 2.4284696770821985, 1.0720742151354865, -0.5569630085600444, 1.1459078255247408, 0.5671801108564223, 0.33437965352964705, 1.6800543056523491, 0.8130184539498939, 0.3923791895424591, -0.1478109051442373, -0.27264250534607903, -2.3603070752410926, -0.09465056399925209, -0.16768695429951153, 0.6005046467753621, -1.4606720388756242, 0.020805750462041604, 1.2075459416868073, -0.6242906813930785, -0.7358803768729599, 0.9017616150351392, -0.3991437537388995, -0.32776950291835794, -0.22438021907887182, 0.6232918558085496, 1.6581071653903812, 0.221658524428475, 0.5054802729992948, 0.3924249214397845, -0.3834916104630957, 0.8210281067635286, -0.6795537047745717, 0.689084330009526, -0.3509889870700068, -0.13067820982899972, 1.0079417817210266, 1.5822871581780307, 0.03648810084486005, -0.20144946009057205, -0.46530592982664754, 0.9674486407095345, -0.6335301718013872, -1.3456873791964161, 1.1446356475185844, -0.2728030861444642, -1.1462958571876427, 0.25835325051020475, -1.7296771839161211, 1.4594852118097237, 0.1915054550087883, -1.356662720698125, 0.2542237467222372, -0.09915143340273849, 0.03812311596193516, 0.5187740918912463, 1.9633476519853126, 1.2259258782036178, 0.18579717883455807, -1.030735908284299, -0.7834159013284216, 0.5652342883426867, -1.1402671924265346, 0.0638021052533395, 0.536016427642085, 0.07407370527854598, 0.3807947892202538, 0.3204141169258202, -0.4004880397199586, 0.0520054083184649, 0.8087043708456557, -0.8048160281300628, 0.442047115569308, -0.0437189083464173, -0.02075425165300876, 1.2997816110422071, -2.059560329775203, -1.6002365963146876, -1.004666964491864, -1.0399111841009054, -0.6201334882012222, -1.1035481454325704, 1.0076635158357001, -0.27211120070119027, 1.3233615878152796, 0.49207215645485736, -0.6231562460016906, -2.157366560133454, 0.31259998818320933, 1.316311665618152, -0.1643111499978162, 0.47819803208043254], \"xaxis\": \"x14\", \"y\": [-1.3822368504999412, 1.1868921380110964, 3.074761922057887, 0.6540470561513829, -1.791791593655064, 0.560742603250269, -1.4192752050961865, -0.07356911786947963, 0.8560868506281443, 0.40268234637334405, 0.2579031984268933, -1.1014982965828208, 0.4997557701926453, 0.41841755514124523, -0.19761611341064317, 0.46471581313170546, 0.34097916455729455, -1.1173191126252282, 1.441133067744915, 0.4660328484069177, 0.35593492154998285, 0.610117909111755, 1.0268496129800764, -2.9227928066592384, -0.5967255509752472, 1.0342804210809968, -0.4369280226100989, -1.2991911538445367, -1.1876670300330503, -0.1835734359135624, 0.3258136874027073, 0.7111705737861701, 1.0081355334655215, -1.091077015455357, -0.9084221800041059, -0.39580505017480055, 0.9669185555538452, -0.8834410349699046, 2.58778499239981, -2.4851983097159387, -2.08849700135936, 1.5950602841576778, -2.320627232160421, 0.630804084149663, -1.3019168885464065, 1.3570017649169208, 0.11129458404963655, 1.5658311472324207, -0.8574692603698083, -0.2643829163575508, 0.8103650456969996, -0.9868405385838823, 1.6215543514643018, 0.014887673144812354, -1.9679798218578608, -1.0776880417529018, -0.9319694113611366, -0.6172828302871782, 0.8073887199728892, 0.7617046149941203, 0.7529700251474125, -1.75765858663306, -0.642874697054324, 1.201995473158109, -0.5776229530465018, -1.9176814261321877, 0.7956223680538879, -0.41222793316853795, -0.3352847562532673, 1.187230576748085, 0.5431470299260086, 1.0559384588551326, -1.5345436818328146, 1.2408082317346376, -0.7559510230912563, -0.7854321827995201, -2.4466752084523407, 0.7414199574973891, 0.5570636845652269, -0.3859514970677254, -0.7904716621009474, 1.9900732220256936, 1.215862391756408, 0.5575457528024911, -0.37361692195887153, -0.41199029195145637, 0.5460412202751002, -0.9316380331023384, -1.48471169031649, 1.6334663040131474, 1.0759191036963602, -1.5351979025198073, -0.8057809769713714, 0.6833694199645926, 0.5388580292449436, -0.11306345005345213, -0.0832325570929657, 1.0000639539599987, -0.2937640023000087, 0.4564399782737193], \"yaxis\": \"y14\"}, {\"line\": {\"color\": \"rgba(128, 128, 128, 1.0)\", \"dash\": \"solid\", \"shape\": \"linear\", \"width\": 1.3}, \"marker\": {\"size\": 2, \"symbol\": \"circle\"}, \"mode\": \"markers\", \"name\": \"D\", \"text\": \"\", \"type\": \"scatter\", \"x\": [-0.040721755590267625, 0.4845141078568383, 0.5552865204452764, 0.9894307742262647, -2.0905541525014075, 0.5307941490125307, -0.017570997133324374, -2.2627308003070796, -0.1374052764526477, -0.8828442616004598, 0.49694631927718247, 0.9277362048260372, -1.6122633618108535, -0.24078759359434268, -0.7179782433046924, -1.2035624756547316, 1.1705828461614898, -1.781460868686437, 1.4602509670087895, 0.9595348366810558, -0.4878818104702032, 0.05668394756523284, 0.25050102327780377, 1.1256494378007131, -1.737428170361979, -1.941193704069804, -0.3495901857266525, -0.3670591970577454, 0.23938375271249307, -1.871945296898776, 0.03442507030246463, -0.9317620374287533, -0.15566872544649396, -0.910405984156538, 0.13926839875980687, -0.1415354359893636, -0.36607615729278936, -1.7933891102681134, -0.9093873562543733, -0.38743230819428426, 0.19200855279259407, 0.6834369507348941, 0.10709815058062394, 1.1713809096279486, -2.251623623728285, -1.722464994585591, 1.249237806539529, -0.033637926895588595, -0.07834586686128041, -1.1503478012738484, 0.4502187187758, -0.13018697405443186, -0.9799098291087905, -0.8031150350232693, 2.1354275216358594, 0.026737097406338943, 0.6661586297256185, -2.5238276959178876, 0.10873699221215909, 1.7110852575489799, -0.13830138999521324, 1.4324385555449606, 0.9456261856347842, 1.998793269243896, 0.6055018707891223, 0.5121343441097476, 0.5697006829514698, -0.405202704358376, -1.3871725574937979, 1.20188846104042, -0.12384142363187112, 0.027535394475638332, -0.6589856088323701, -1.0376982233410539, 0.800481905525968, -0.13716365692928184, 2.0326240292311106, 0.2398312754412681, 0.762097334950555, 1.9906582255488978, -0.11104118046803331, -2.354491237143944, 2.43428933342693, 0.4284846800935323, 0.13641677019091114, 1.5000310075196113, -0.813017243679552, -0.41384018368479075, 0.08833905550302587, -0.9494763494057143, -0.9013313316938716, 0.5968161745025338, -0.039600246063192984, 0.42546249578022644, -0.4602347022596428, 0.5943026124417444, -0.11024284676490688, 2.0503169539927213, -1.0543468988419165, -0.42533381032547174], \"xaxis\": \"x15\", \"y\": [-1.3822368504999412, 1.1868921380110964, 3.074761922057887, 0.6540470561513829, -1.791791593655064, 0.560742603250269, -1.4192752050961865, -0.07356911786947963, 0.8560868506281443, 0.40268234637334405, 0.2579031984268933, -1.1014982965828208, 0.4997557701926453, 0.41841755514124523, -0.19761611341064317, 0.46471581313170546, 0.34097916455729455, -1.1173191126252282, 1.441133067744915, 0.4660328484069177, 0.35593492154998285, 0.610117909111755, 1.0268496129800764, -2.9227928066592384, -0.5967255509752472, 1.0342804210809968, -0.4369280226100989, -1.2991911538445367, -1.1876670300330503, -0.1835734359135624, 0.3258136874027073, 0.7111705737861701, 1.0081355334655215, -1.091077015455357, -0.9084221800041059, -0.39580505017480055, 0.9669185555538452, -0.8834410349699046, 2.58778499239981, -2.4851983097159387, -2.08849700135936, 1.5950602841576778, -2.320627232160421, 0.630804084149663, -1.3019168885464065, 1.3570017649169208, 0.11129458404963655, 1.5658311472324207, -0.8574692603698083, -0.2643829163575508, 0.8103650456969996, -0.9868405385838823, 1.6215543514643018, 0.014887673144812354, -1.9679798218578608, -1.0776880417529018, -0.9319694113611366, -0.6172828302871782, 0.8073887199728892, 0.7617046149941203, 0.7529700251474125, -1.75765858663306, -0.642874697054324, 1.201995473158109, -0.5776229530465018, -1.9176814261321877, 0.7956223680538879, -0.41222793316853795, -0.3352847562532673, 1.187230576748085, 0.5431470299260086, 1.0559384588551326, -1.5345436818328146, 1.2408082317346376, -0.7559510230912563, -0.7854321827995201, -2.4466752084523407, 0.7414199574973891, 0.5570636845652269, -0.3859514970677254, -0.7904716621009474, 1.9900732220256936, 1.215862391756408, 0.5575457528024911, -0.37361692195887153, -0.41199029195145637, 0.5460412202751002, -0.9316380331023384, -1.48471169031649, 1.6334663040131474, 1.0759191036963602, -1.5351979025198073, -0.8057809769713714, 0.6833694199645926, 0.5388580292449436, -0.11306345005345213, -0.0832325570929657, 1.0000639539599987, -0.2937640023000087, 0.4564399782737193], \"yaxis\": \"y15\"}, {\"histfunc\": \"count\", \"histnorm\": \"\", \"marker\": {\"color\": \"rgba(128, 0, 128, 1.0)\", \"line\": {\"color\": \"#4D5663\", \"width\": 1.3}}, \"name\": \"D\", \"nbinsx\": 10, \"opacity\": 0.8, \"orientation\": \"v\", \"type\": \"histogram\", \"x\": [-1.3822368504999412, 1.1868921380110964, 3.074761922057887, 0.6540470561513829, -1.791791593655064, 0.560742603250269, -1.4192752050961865, -0.07356911786947963, 0.8560868506281443, 0.40268234637334405, 0.2579031984268933, -1.1014982965828208, 0.4997557701926453, 0.41841755514124523, -0.19761611341064317, 0.46471581313170546, 0.34097916455729455, -1.1173191126252282, 1.441133067744915, 0.4660328484069177, 0.35593492154998285, 0.610117909111755, 1.0268496129800764, -2.9227928066592384, -0.5967255509752472, 1.0342804210809968, -0.4369280226100989, -1.2991911538445367, -1.1876670300330503, -0.1835734359135624, 0.3258136874027073, 0.7111705737861701, 1.0081355334655215, -1.091077015455357, -0.9084221800041059, -0.39580505017480055, 0.9669185555538452, -0.8834410349699046, 2.58778499239981, -2.4851983097159387, -2.08849700135936, 1.5950602841576778, -2.320627232160421, 0.630804084149663, -1.3019168885464065, 1.3570017649169208, 0.11129458404963655, 1.5658311472324207, -0.8574692603698083, -0.2643829163575508, 0.8103650456969996, -0.9868405385838823, 1.6215543514643018, 0.014887673144812354, -1.9679798218578608, -1.0776880417529018, -0.9319694113611366, -0.6172828302871782, 0.8073887199728892, 0.7617046149941203, 0.7529700251474125, -1.75765858663306, -0.642874697054324, 1.201995473158109, -0.5776229530465018, -1.9176814261321877, 0.7956223680538879, -0.41222793316853795, -0.3352847562532673, 1.187230576748085, 0.5431470299260086, 1.0559384588551326, -1.5345436818328146, 1.2408082317346376, -0.7559510230912563, -0.7854321827995201, -2.4466752084523407, 0.7414199574973891, 0.5570636845652269, -0.3859514970677254, -0.7904716621009474, 1.9900732220256936, 1.215862391756408, 0.5575457528024911, -0.37361692195887153, -0.41199029195145637, 0.5460412202751002, -0.9316380331023384, -1.48471169031649, 1.6334663040131474, 1.0759191036963602, -1.5351979025198073, -0.8057809769713714, 0.6833694199645926, 0.5388580292449436, -0.11306345005345213, -0.0832325570929657, 1.0000639539599987, -0.2937640023000087, 0.4564399782737193], \"xaxis\": \"x16\", \"yaxis\": \"y16\"}],                        {\"bargap\": 0.02, \"legend\": {\"bgcolor\": \"#F5F6F9\", \"font\": {\"color\": \"#4D5663\"}}, \"paper_bgcolor\": \"#F5F6F9\", \"plot_bgcolor\": \"#F5F6F9\", \"showlegend\": false, \"template\": {\"data\": {\"bar\": [{\"error_x\": {\"color\": \"#2a3f5f\"}, \"error_y\": {\"color\": \"#2a3f5f\"}, \"marker\": {\"line\": {\"color\": \"#E5ECF6\", \"width\": 0.5}}, \"type\": \"bar\"}], \"barpolar\": [{\"marker\": {\"line\": {\"color\": \"#E5ECF6\", \"width\": 0.5}}, \"type\": \"barpolar\"}], \"carpet\": [{\"aaxis\": {\"endlinecolor\": \"#2a3f5f\", \"gridcolor\": \"white\", \"linecolor\": \"white\", \"minorgridcolor\": \"white\", \"startlinecolor\": \"#2a3f5f\"}, \"baxis\": {\"endlinecolor\": \"#2a3f5f\", \"gridcolor\": \"white\", \"linecolor\": \"white\", \"minorgridcolor\": \"white\", \"startlinecolor\": \"#2a3f5f\"}, \"type\": \"carpet\"}], \"choropleth\": [{\"colorbar\": {\"outlinewidth\": 0, \"ticks\": \"\"}, \"type\": \"choropleth\"}], \"contour\": [{\"colorbar\": {\"outlinewidth\": 0, \"ticks\": \"\"}, \"colorscale\": [[0.0, \"#0d0887\"], [0.1111111111111111, \"#46039f\"], [0.2222222222222222, \"#7201a8\"], [0.3333333333333333, \"#9c179e\"], [0.4444444444444444, \"#bd3786\"], [0.5555555555555556, \"#d8576b\"], [0.6666666666666666, \"#ed7953\"], [0.7777777777777778, \"#fb9f3a\"], [0.8888888888888888, \"#fdca26\"], [1.0, \"#f0f921\"]], \"type\": \"contour\"}], \"contourcarpet\": [{\"colorbar\": {\"outlinewidth\": 0, \"ticks\": \"\"}, \"type\": \"contourcarpet\"}], \"heatmap\": [{\"colorbar\": {\"outlinewidth\": 0, \"ticks\": \"\"}, \"colorscale\": [[0.0, \"#0d0887\"], [0.1111111111111111, \"#46039f\"], [0.2222222222222222, \"#7201a8\"], [0.3333333333333333, \"#9c179e\"], [0.4444444444444444, \"#bd3786\"], [0.5555555555555556, \"#d8576b\"], [0.6666666666666666, \"#ed7953\"], [0.7777777777777778, \"#fb9f3a\"], [0.8888888888888888, \"#fdca26\"], [1.0, \"#f0f921\"]], \"type\": \"heatmap\"}], \"heatmapgl\": [{\"colorbar\": {\"outlinewidth\": 0, \"ticks\": \"\"}, \"colorscale\": [[0.0, \"#0d0887\"], [0.1111111111111111, \"#46039f\"], [0.2222222222222222, \"#7201a8\"], [0.3333333333333333, \"#9c179e\"], [0.4444444444444444, \"#bd3786\"], [0.5555555555555556, \"#d8576b\"], [0.6666666666666666, \"#ed7953\"], [0.7777777777777778, \"#fb9f3a\"], [0.8888888888888888, \"#fdca26\"], [1.0, \"#f0f921\"]], \"type\": \"heatmapgl\"}], \"histogram\": [{\"marker\": {\"colorbar\": {\"outlinewidth\": 0, \"ticks\": \"\"}}, \"type\": \"histogram\"}], \"histogram2d\": [{\"colorbar\": {\"outlinewidth\": 0, \"ticks\": \"\"}, \"colorscale\": [[0.0, \"#0d0887\"], [0.1111111111111111, \"#46039f\"], [0.2222222222222222, \"#7201a8\"], [0.3333333333333333, \"#9c179e\"], [0.4444444444444444, \"#bd3786\"], [0.5555555555555556, \"#d8576b\"], [0.6666666666666666, \"#ed7953\"], [0.7777777777777778, \"#fb9f3a\"], [0.8888888888888888, \"#fdca26\"], [1.0, \"#f0f921\"]], \"type\": \"histogram2d\"}], \"histogram2dcontour\": [{\"colorbar\": {\"outlinewidth\": 0, \"ticks\": \"\"}, \"colorscale\": [[0.0, \"#0d0887\"], [0.1111111111111111, \"#46039f\"], [0.2222222222222222, \"#7201a8\"], [0.3333333333333333, \"#9c179e\"], [0.4444444444444444, \"#bd3786\"], [0.5555555555555556, \"#d8576b\"], [0.6666666666666666, \"#ed7953\"], [0.7777777777777778, \"#fb9f3a\"], [0.8888888888888888, \"#fdca26\"], [1.0, \"#f0f921\"]], \"type\": \"histogram2dcontour\"}], \"mesh3d\": [{\"colorbar\": {\"outlinewidth\": 0, \"ticks\": \"\"}, \"type\": \"mesh3d\"}], \"parcoords\": [{\"line\": {\"colorbar\": {\"outlinewidth\": 0, \"ticks\": \"\"}}, \"type\": \"parcoords\"}], \"pie\": [{\"automargin\": true, \"type\": \"pie\"}], \"scatter\": [{\"marker\": {\"colorbar\": {\"outlinewidth\": 0, \"ticks\": \"\"}}, \"type\": \"scatter\"}], \"scatter3d\": [{\"line\": {\"colorbar\": {\"outlinewidth\": 0, \"ticks\": \"\"}}, \"marker\": {\"colorbar\": {\"outlinewidth\": 0, \"ticks\": \"\"}}, \"type\": \"scatter3d\"}], \"scattercarpet\": [{\"marker\": {\"colorbar\": {\"outlinewidth\": 0, \"ticks\": \"\"}}, \"type\": \"scattercarpet\"}], \"scattergeo\": [{\"marker\": {\"colorbar\": {\"outlinewidth\": 0, \"ticks\": \"\"}}, \"type\": \"scattergeo\"}], \"scattergl\": [{\"marker\": {\"colorbar\": {\"outlinewidth\": 0, \"ticks\": \"\"}}, \"type\": \"scattergl\"}], \"scattermapbox\": [{\"marker\": {\"colorbar\": {\"outlinewidth\": 0, \"ticks\": \"\"}}, \"type\": \"scattermapbox\"}], \"scatterpolar\": [{\"marker\": {\"colorbar\": {\"outlinewidth\": 0, \"ticks\": \"\"}}, \"type\": \"scatterpolar\"}], \"scatterpolargl\": [{\"marker\": {\"colorbar\": {\"outlinewidth\": 0, \"ticks\": \"\"}}, \"type\": \"scatterpolargl\"}], \"scatterternary\": [{\"marker\": {\"colorbar\": {\"outlinewidth\": 0, \"ticks\": \"\"}}, \"type\": \"scatterternary\"}], \"surface\": [{\"colorbar\": {\"outlinewidth\": 0, \"ticks\": \"\"}, \"colorscale\": [[0.0, \"#0d0887\"], [0.1111111111111111, \"#46039f\"], [0.2222222222222222, \"#7201a8\"], [0.3333333333333333, \"#9c179e\"], [0.4444444444444444, \"#bd3786\"], [0.5555555555555556, \"#d8576b\"], [0.6666666666666666, \"#ed7953\"], [0.7777777777777778, \"#fb9f3a\"], [0.8888888888888888, \"#fdca26\"], [1.0, \"#f0f921\"]], \"type\": \"surface\"}], \"table\": [{\"cells\": {\"fill\": {\"color\": \"#EBF0F8\"}, \"line\": {\"color\": \"white\"}}, \"header\": {\"fill\": {\"color\": \"#C8D4E3\"}, \"line\": {\"color\": \"white\"}}, \"type\": \"table\"}]}, \"layout\": {\"annotationdefaults\": {\"arrowcolor\": \"#2a3f5f\", \"arrowhead\": 0, \"arrowwidth\": 1}, \"autotypenumbers\": \"strict\", \"coloraxis\": {\"colorbar\": {\"outlinewidth\": 0, \"ticks\": \"\"}}, \"colorscale\": {\"diverging\": [[0, \"#8e0152\"], [0.1, \"#c51b7d\"], [0.2, \"#de77ae\"], [0.3, \"#f1b6da\"], [0.4, \"#fde0ef\"], [0.5, \"#f7f7f7\"], [0.6, \"#e6f5d0\"], [0.7, \"#b8e186\"], [0.8, \"#7fbc41\"], [0.9, \"#4d9221\"], [1, \"#276419\"]], \"sequential\": [[0.0, \"#0d0887\"], [0.1111111111111111, \"#46039f\"], [0.2222222222222222, \"#7201a8\"], [0.3333333333333333, \"#9c179e\"], [0.4444444444444444, \"#bd3786\"], [0.5555555555555556, \"#d8576b\"], [0.6666666666666666, \"#ed7953\"], [0.7777777777777778, \"#fb9f3a\"], [0.8888888888888888, \"#fdca26\"], [1.0, \"#f0f921\"]], \"sequentialminus\": [[0.0, \"#0d0887\"], [0.1111111111111111, \"#46039f\"], [0.2222222222222222, \"#7201a8\"], [0.3333333333333333, \"#9c179e\"], [0.4444444444444444, \"#bd3786\"], [0.5555555555555556, \"#d8576b\"], [0.6666666666666666, \"#ed7953\"], [0.7777777777777778, \"#fb9f3a\"], [0.8888888888888888, \"#fdca26\"], [1.0, \"#f0f921\"]]}, \"colorway\": [\"#636efa\", \"#EF553B\", \"#00cc96\", \"#ab63fa\", \"#FFA15A\", \"#19d3f3\", \"#FF6692\", \"#B6E880\", \"#FF97FF\", \"#FECB52\"], \"font\": {\"color\": \"#2a3f5f\"}, \"geo\": {\"bgcolor\": \"white\", \"lakecolor\": \"white\", \"landcolor\": \"#E5ECF6\", \"showlakes\": true, \"showland\": true, \"subunitcolor\": \"white\"}, \"hoverlabel\": {\"align\": \"left\"}, \"hovermode\": \"closest\", \"mapbox\": {\"style\": \"light\"}, \"paper_bgcolor\": \"white\", \"plot_bgcolor\": \"#E5ECF6\", \"polar\": {\"angularaxis\": {\"gridcolor\": \"white\", \"linecolor\": \"white\", \"ticks\": \"\"}, \"bgcolor\": \"#E5ECF6\", \"radialaxis\": {\"gridcolor\": \"white\", \"linecolor\": \"white\", \"ticks\": \"\"}}, \"scene\": {\"xaxis\": {\"backgroundcolor\": \"#E5ECF6\", \"gridcolor\": \"white\", \"gridwidth\": 2, \"linecolor\": \"white\", \"showbackground\": true, \"ticks\": \"\", \"zerolinecolor\": \"white\"}, \"yaxis\": {\"backgroundcolor\": \"#E5ECF6\", \"gridcolor\": \"white\", \"gridwidth\": 2, \"linecolor\": \"white\", \"showbackground\": true, \"ticks\": \"\", \"zerolinecolor\": \"white\"}, \"zaxis\": {\"backgroundcolor\": \"#E5ECF6\", \"gridcolor\": \"white\", \"gridwidth\": 2, \"linecolor\": \"white\", \"showbackground\": true, \"ticks\": \"\", \"zerolinecolor\": \"white\"}}, \"shapedefaults\": {\"line\": {\"color\": \"#2a3f5f\"}}, \"ternary\": {\"aaxis\": {\"gridcolor\": \"white\", \"linecolor\": \"white\", \"ticks\": \"\"}, \"baxis\": {\"gridcolor\": \"white\", \"linecolor\": \"white\", \"ticks\": \"\"}, \"bgcolor\": \"#E5ECF6\", \"caxis\": {\"gridcolor\": \"white\", \"linecolor\": \"white\", \"ticks\": \"\"}}, \"title\": {\"x\": 0.05}, \"xaxis\": {\"automargin\": true, \"gridcolor\": \"white\", \"linecolor\": \"white\", \"ticks\": \"\", \"title\": {\"standoff\": 15}, \"zerolinecolor\": \"white\", \"zerolinewidth\": 2}, \"yaxis\": {\"automargin\": true, \"gridcolor\": \"white\", \"linecolor\": \"white\", \"ticks\": \"\", \"title\": {\"standoff\": 15}, \"zerolinecolor\": \"white\", \"zerolinewidth\": 2}}}, \"title\": {\"font\": {\"color\": \"#4D5663\"}}, \"xaxis\": {\"anchor\": \"y\", \"domain\": [0.0, 0.2125], \"gridcolor\": \"#E1E5ED\", \"showgrid\": false, \"tickfont\": {\"color\": \"#4D5663\"}, \"title\": {\"font\": {\"color\": \"#4D5663\"}, \"text\": \"\"}, \"zerolinecolor\": \"#E1E5ED\"}, \"xaxis10\": {\"anchor\": \"y10\", \"domain\": [0.2625, 0.475], \"gridcolor\": \"#E1E5ED\", \"showgrid\": false, \"tickfont\": {\"color\": \"#4D5663\"}, \"title\": {\"font\": {\"color\": \"#4D5663\"}, \"text\": \"\"}, \"zerolinecolor\": \"#E1E5ED\"}, \"xaxis11\": {\"anchor\": \"y11\", \"domain\": [0.525, 0.7375], \"gridcolor\": \"#E1E5ED\", \"showgrid\": false, \"tickfont\": {\"color\": \"#4D5663\"}, \"title\": {\"font\": {\"color\": \"#4D5663\"}, \"text\": \"\"}, \"zerolinecolor\": \"#E1E5ED\"}, \"xaxis12\": {\"anchor\": \"y12\", \"domain\": [0.7875, 1.0], \"gridcolor\": \"#E1E5ED\", \"showgrid\": false, \"tickfont\": {\"color\": \"#4D5663\"}, \"title\": {\"font\": {\"color\": \"#4D5663\"}, \"text\": \"\"}, \"zerolinecolor\": \"#E1E5ED\"}, \"xaxis13\": {\"anchor\": \"y13\", \"domain\": [0.0, 0.2125], \"gridcolor\": \"#E1E5ED\", \"showgrid\": false, \"tickfont\": {\"color\": \"#4D5663\"}, \"title\": {\"font\": {\"color\": \"#4D5663\"}, \"text\": \"\"}, \"zerolinecolor\": \"#E1E5ED\"}, \"xaxis14\": {\"anchor\": \"y14\", \"domain\": [0.2625, 0.475], \"gridcolor\": \"#E1E5ED\", \"showgrid\": false, \"tickfont\": {\"color\": \"#4D5663\"}, \"title\": {\"font\": {\"color\": \"#4D5663\"}, \"text\": \"\"}, \"zerolinecolor\": \"#E1E5ED\"}, \"xaxis15\": {\"anchor\": \"y15\", \"domain\": [0.525, 0.7375], \"gridcolor\": \"#E1E5ED\", \"showgrid\": false, \"tickfont\": {\"color\": \"#4D5663\"}, \"title\": {\"font\": {\"color\": \"#4D5663\"}, \"text\": \"\"}, \"zerolinecolor\": \"#E1E5ED\"}, \"xaxis16\": {\"anchor\": \"y16\", \"domain\": [0.7875, 1.0], \"gridcolor\": \"#E1E5ED\", \"showgrid\": false, \"tickfont\": {\"color\": \"#4D5663\"}, \"title\": {\"font\": {\"color\": \"#4D5663\"}, \"text\": \"\"}, \"zerolinecolor\": \"#E1E5ED\"}, \"xaxis2\": {\"anchor\": \"y2\", \"domain\": [0.2625, 0.475], \"gridcolor\": \"#E1E5ED\", \"showgrid\": false, \"tickfont\": {\"color\": \"#4D5663\"}, \"title\": {\"font\": {\"color\": \"#4D5663\"}, \"text\": \"\"}, \"zerolinecolor\": \"#E1E5ED\"}, \"xaxis3\": {\"anchor\": \"y3\", \"domain\": [0.525, 0.7375], \"gridcolor\": \"#E1E5ED\", \"showgrid\": false, \"tickfont\": {\"color\": \"#4D5663\"}, \"title\": {\"font\": {\"color\": \"#4D5663\"}, \"text\": \"\"}, \"zerolinecolor\": \"#E1E5ED\"}, \"xaxis4\": {\"anchor\": \"y4\", \"domain\": [0.7875, 1.0], \"gridcolor\": \"#E1E5ED\", \"showgrid\": false, \"tickfont\": {\"color\": \"#4D5663\"}, \"title\": {\"font\": {\"color\": \"#4D5663\"}, \"text\": \"\"}, \"zerolinecolor\": \"#E1E5ED\"}, \"xaxis5\": {\"anchor\": \"y5\", \"domain\": [0.0, 0.2125], \"gridcolor\": \"#E1E5ED\", \"showgrid\": false, \"tickfont\": {\"color\": \"#4D5663\"}, \"title\": {\"font\": {\"color\": \"#4D5663\"}, \"text\": \"\"}, \"zerolinecolor\": \"#E1E5ED\"}, \"xaxis6\": {\"anchor\": \"y6\", \"domain\": [0.2625, 0.475], \"gridcolor\": \"#E1E5ED\", \"showgrid\": false, \"tickfont\": {\"color\": \"#4D5663\"}, \"title\": {\"font\": {\"color\": \"#4D5663\"}, \"text\": \"\"}, \"zerolinecolor\": \"#E1E5ED\"}, \"xaxis7\": {\"anchor\": \"y7\", \"domain\": [0.525, 0.7375], \"gridcolor\": \"#E1E5ED\", \"showgrid\": false, \"tickfont\": {\"color\": \"#4D5663\"}, \"title\": {\"font\": {\"color\": \"#4D5663\"}, \"text\": \"\"}, \"zerolinecolor\": \"#E1E5ED\"}, \"xaxis8\": {\"anchor\": \"y8\", \"domain\": [0.7875, 1.0], \"gridcolor\": \"#E1E5ED\", \"showgrid\": false, \"tickfont\": {\"color\": \"#4D5663\"}, \"title\": {\"font\": {\"color\": \"#4D5663\"}, \"text\": \"\"}, \"zerolinecolor\": \"#E1E5ED\"}, \"xaxis9\": {\"anchor\": \"y9\", \"domain\": [0.0, 0.2125], \"gridcolor\": \"#E1E5ED\", \"showgrid\": false, \"tickfont\": {\"color\": \"#4D5663\"}, \"title\": {\"font\": {\"color\": \"#4D5663\"}, \"text\": \"\"}, \"zerolinecolor\": \"#E1E5ED\"}, \"yaxis\": {\"anchor\": \"x\", \"domain\": [0.8025, 1.0], \"gridcolor\": \"#E1E5ED\", \"showgrid\": false, \"tickfont\": {\"color\": \"#4D5663\"}, \"title\": {\"font\": {\"color\": \"#4D5663\"}, \"text\": \"\"}, \"zerolinecolor\": \"#E1E5ED\"}, \"yaxis10\": {\"anchor\": \"x10\", \"domain\": [0.2675, 0.465], \"gridcolor\": \"#E1E5ED\", \"showgrid\": false, \"tickfont\": {\"color\": \"#4D5663\"}, \"title\": {\"font\": {\"color\": \"#4D5663\"}, \"text\": \"\"}, \"zerolinecolor\": \"#E1E5ED\"}, \"yaxis11\": {\"anchor\": \"x11\", \"domain\": [0.2675, 0.465], \"gridcolor\": \"#E1E5ED\", \"showgrid\": false, \"tickfont\": {\"color\": \"#4D5663\"}, \"title\": {\"font\": {\"color\": \"#4D5663\"}, \"text\": \"\"}, \"zerolinecolor\": \"#E1E5ED\"}, \"yaxis12\": {\"anchor\": \"x12\", \"domain\": [0.2675, 0.465], \"gridcolor\": \"#E1E5ED\", \"showgrid\": false, \"tickfont\": {\"color\": \"#4D5663\"}, \"title\": {\"font\": {\"color\": \"#4D5663\"}, \"text\": \"\"}, \"zerolinecolor\": \"#E1E5ED\"}, \"yaxis13\": {\"anchor\": \"x13\", \"domain\": [0.0, 0.1975], \"gridcolor\": \"#E1E5ED\", \"showgrid\": false, \"tickfont\": {\"color\": \"#4D5663\"}, \"title\": {\"font\": {\"color\": \"#4D5663\"}, \"text\": \"\"}, \"zerolinecolor\": \"#E1E5ED\"}, \"yaxis14\": {\"anchor\": \"x14\", \"domain\": [0.0, 0.1975], \"gridcolor\": \"#E1E5ED\", \"showgrid\": false, \"tickfont\": {\"color\": \"#4D5663\"}, \"title\": {\"font\": {\"color\": \"#4D5663\"}, \"text\": \"\"}, \"zerolinecolor\": \"#E1E5ED\"}, \"yaxis15\": {\"anchor\": \"x15\", \"domain\": [0.0, 0.1975], \"gridcolor\": \"#E1E5ED\", \"showgrid\": false, \"tickfont\": {\"color\": \"#4D5663\"}, \"title\": {\"font\": {\"color\": \"#4D5663\"}, \"text\": \"\"}, \"zerolinecolor\": \"#E1E5ED\"}, \"yaxis16\": {\"anchor\": \"x16\", \"domain\": [0.0, 0.1975], \"gridcolor\": \"#E1E5ED\", \"showgrid\": false, \"tickfont\": {\"color\": \"#4D5663\"}, \"title\": {\"font\": {\"color\": \"#4D5663\"}, \"text\": \"\"}, \"zerolinecolor\": \"#E1E5ED\"}, \"yaxis2\": {\"anchor\": \"x2\", \"domain\": [0.8025, 1.0], \"gridcolor\": \"#E1E5ED\", \"showgrid\": false, \"tickfont\": {\"color\": \"#4D5663\"}, \"title\": {\"font\": {\"color\": \"#4D5663\"}, \"text\": \"\"}, \"zerolinecolor\": \"#E1E5ED\"}, \"yaxis3\": {\"anchor\": \"x3\", \"domain\": [0.8025, 1.0], \"gridcolor\": \"#E1E5ED\", \"showgrid\": false, \"tickfont\": {\"color\": \"#4D5663\"}, \"title\": {\"font\": {\"color\": \"#4D5663\"}, \"text\": \"\"}, \"zerolinecolor\": \"#E1E5ED\"}, \"yaxis4\": {\"anchor\": \"x4\", \"domain\": [0.8025, 1.0], \"gridcolor\": \"#E1E5ED\", \"showgrid\": false, \"tickfont\": {\"color\": \"#4D5663\"}, \"title\": {\"font\": {\"color\": \"#4D5663\"}, \"text\": \"\"}, \"zerolinecolor\": \"#E1E5ED\"}, \"yaxis5\": {\"anchor\": \"x5\", \"domain\": [0.535, 0.7325], \"gridcolor\": \"#E1E5ED\", \"showgrid\": false, \"tickfont\": {\"color\": \"#4D5663\"}, \"title\": {\"font\": {\"color\": \"#4D5663\"}, \"text\": \"\"}, \"zerolinecolor\": \"#E1E5ED\"}, \"yaxis6\": {\"anchor\": \"x6\", \"domain\": [0.535, 0.7325], \"gridcolor\": \"#E1E5ED\", \"showgrid\": false, \"tickfont\": {\"color\": \"#4D5663\"}, \"title\": {\"font\": {\"color\": \"#4D5663\"}, \"text\": \"\"}, \"zerolinecolor\": \"#E1E5ED\"}, \"yaxis7\": {\"anchor\": \"x7\", \"domain\": [0.535, 0.7325], \"gridcolor\": \"#E1E5ED\", \"showgrid\": false, \"tickfont\": {\"color\": \"#4D5663\"}, \"title\": {\"font\": {\"color\": \"#4D5663\"}, \"text\": \"\"}, \"zerolinecolor\": \"#E1E5ED\"}, \"yaxis8\": {\"anchor\": \"x8\", \"domain\": [0.535, 0.7325], \"gridcolor\": \"#E1E5ED\", \"showgrid\": false, \"tickfont\": {\"color\": \"#4D5663\"}, \"title\": {\"font\": {\"color\": \"#4D5663\"}, \"text\": \"\"}, \"zerolinecolor\": \"#E1E5ED\"}, \"yaxis9\": {\"anchor\": \"x9\", \"domain\": [0.2675, 0.465], \"gridcolor\": \"#E1E5ED\", \"showgrid\": false, \"tickfont\": {\"color\": \"#4D5663\"}, \"title\": {\"font\": {\"color\": \"#4D5663\"}, \"text\": \"\"}, \"zerolinecolor\": \"#E1E5ED\"}},                        {\"showLink\": true, \"linkText\": \"Export to plot.ly\", \"plotlyServerURL\": \"https://plot.ly\", \"responsive\": true}                    ).then(function(){\n",
       "                            \n",
       "var gd = document.getElementById('4b9390b3-aaf4-4bee-9981-4818158c1e71');\n",
       "var x = new MutationObserver(function (mutations, observer) {{\n",
       "        var display = window.getComputedStyle(gd).display;\n",
       "        if (!display || display === 'none') {{\n",
       "            console.log([gd, 'removed!']);\n",
       "            Plotly.purge(gd);\n",
       "            observer.disconnect();\n",
       "        }}\n",
       "}});\n",
       "\n",
       "// Listen for the removal of the full notebook cells\n",
       "var notebookContainer = gd.closest('#notebook-container');\n",
       "if (notebookContainer) {{\n",
       "    x.observe(notebookContainer, {childList: true});\n",
       "}}\n",
       "\n",
       "// Listen for the clearing of the current output cell\n",
       "var outputEl = gd.closest('.output');\n",
       "if (outputEl) {{\n",
       "    x.observe(outputEl, {childList: true});\n",
       "}}\n",
       "\n",
       "                        })                };                });            </script>        </div>"
      ]
     },
     "metadata": {},
     "output_type": "display_data"
    }
   ],
   "source": [
    "df.scatter_matrix()"
   ]
  }
 ],
 "metadata": {
  "kernelspec": {
   "display_name": "Python 3",
   "language": "python",
   "name": "python3"
  },
  "language_info": {
   "codemirror_mode": {
    "name": "ipython",
    "version": 3
   },
   "file_extension": ".py",
   "mimetype": "text/x-python",
   "name": "python",
   "nbconvert_exporter": "python",
   "pygments_lexer": "ipython3",
   "version": "3.7.4"
  }
 },
 "nbformat": 4,
 "nbformat_minor": 2
}
